{
 "cells": [
  {
   "cell_type": "markdown",
   "metadata": {},
   "source": [
    "**Nama** : Tegar Pribadi Putra  \n",
    "**Grup** : Prof. Suyanto"
   ]
  },
  {
   "cell_type": "markdown",
   "metadata": {},
   "source": [
    "# 1. Business & Data Understanding"
   ]
  },
  {
   "cell_type": "markdown",
   "metadata": {},
   "source": [
    "## 1.1 Business"
   ]
  },
  {
   "cell_type": "markdown",
   "metadata": {},
   "source": [
    "### 1.1.1 Seperti apa industri Real Estate di Indonesia?\n",
    "Industri real estate di Indonesia merupakan salah satu sektor strategis yang mendukung pertumbuhan ekonomi nasional. Ciri-cirinya:\n",
    "\n",
    "- Pertumbuhan pasar: Terus meningkat, khususnya di kota-kota besar seperti Jakarta, Surabaya, dan Bandung.\n",
    "\n",
    "- Pemain industri: Developer besar seperti Ciputra, Agung Podomoro, Summarecon, dan lainnya.\n",
    "\n",
    "- Faktor pendorong:\n",
    "\n",
    "    - Urbanisasi cepat.\n",
    "\n",
    "    - Permintaan tinggi untuk rumah tinggal, khususnya bagi kelas menengah.\n",
    "\n",
    "    - Dukungan kebijakan pemerintah (subsidi KPR, tax amnesty, dsb).\n",
    "\n",
    "- Tantangan:\n",
    "\n",
    "    - Ketidaksesuaian antara harga dan daya beli masyarakat.\n",
    "\n",
    "    - Fluktuasi suku bunga dan regulasi pajak."
   ]
  },
  {
   "cell_type": "markdown",
   "metadata": {},
   "source": [
    "### 1.1.2 Seberapa penting sistem prediksi harga rumah?\n",
    "Sistem prediksi harga rumah sangat penting, terutama untuk:\n",
    "\n",
    "- Developer & Agen Properti\n",
    "    - Menentukan harga jual optimal.\n",
    "    - Menilai proyek mana yang menguntungkan.\n",
    "- Pemberi Kredit (Bank)\n",
    "   - Menentukan nilai agunan rumah secara objektif.\n",
    "\n",
    "- Calon Pembeli / Investor\n",
    "   - Mengetahui apakah suatu rumah overpriced atau underpriced.\n",
    "\n",
    "- Pemerintah\n",
    "    - Menyusun kebijakan subsidi, perizinan, dan tata ruang.\n",
    "    - Dengan sistem ini, prediksi harga jadi berbasis data (data-driven), bukan intuisi."
   ]
  },
  {
   "cell_type": "markdown",
   "metadata": {},
   "source": [
    "### 1.1.3 Supervised atau Unsupervised Learning? Algoritma apa yang digunakan?\n",
    "\n",
    "Karena data yang kita miliki memiliki label target yaitu `SalePrice`, maka:\n",
    "\n",
    "- ✅ Gunakan: **Supervised Learning**\n",
    "\n",
    "- ✅ Tugas: **Regression Problem** (karena `SalePrice` adalah nilai kontinu yang ingin diprediksi)\n",
    "\n",
    "🔧 **Algoritma yang Digunakan:**\n",
    "- **Linear Models:**\n",
    "  - `Linear Regression`: sebagai baseline model sederhana untuk interpretabilitas awal.\n",
    "  - `Ridge Regression` dan `Lasso Regression`: untuk menangani regularisasi jika ada multikolinearitas antar fitur.\n",
    "\n",
    "- **Tree-Based Models:**\n",
    "  - `Decision Tree Regressor`: model pohon keputusan sederhana.\n",
    "  - `Random Forest Regressor`: untuk menangkap hubungan non-linear dan mengurangi overfitting lewat ensemble banyak pohon.\n",
    "  - `Gradient Boosting Regressor`: boosting berbasis pohon yang kuat dalam meningkatkan akurasi.\n",
    "\n",
    "- **Boosting Libraries:**\n",
    "  - `XGBoost Regressor`: boosting framework yang powerful dan efisien.\n",
    "  - `LightGBM Regressor`: boosting framework yang sangat cepat untuk dataset besar.\n",
    "  - `CatBoost Regressor`: boosting yang handal menangani data kategorikal langsung tanpa encoding manual yang berat.\n",
    "\n",
    "- **(Opsional)** Neural Network:\n",
    "  - Jika ingin lebih lanjut eksplorasi kompleksitas model, bisa dipertimbangkan **MLP (Multi Layer Perceptron)**, meskipun dalam baseline awal tidak digunakan.\n"
   ]
  },
  {
   "cell_type": "markdown",
   "metadata": {},
   "source": [
    "## 1.2 Data"
   ]
  },
  {
   "cell_type": "markdown",
   "metadata": {},
   "source": [
    "### Berikut adalah penjelasan lengkap untuk setiap fitur dalam dataset **AmesHousing**, disertai dengan:\n",
    "\n",
    "- **Deskripsi fitur**\n",
    "- **Tipe data** (Numerik/Kategorikal)\n",
    "- **Metode encoding** (jika kategorikal)\n",
    "- **Isi (kategori) dan cara encoding-nya** jika applicable\n",
    "\n",
    "---\n",
    "\n",
    "### 📦 DATA & IDENTITAS\n",
    "\n",
    "| Fitur | Deskripsi | Tipe Data | Encoding |\n",
    "|-------|-----------|-----------|----------|\n",
    "| `Order` | Nomor urut data | Numerical | - |\n",
    "| `PID` | Parcel ID unik | Categorical (Unique) | Drop / tidak dipakai |\n",
    "\n",
    "---\n",
    "\n",
    "### 🏠 INFORMASI UMUM RUMAH\n",
    "\n",
    "| Fitur | Deskripsi | Tipe Data | Encoding |\n",
    "|-------|-----------|-----------|----------|\n",
    "| `MS SubClass` | Tipe bangunan (numerik kategori) | Categorical | One-hot |\n",
    "| `MS Zoning` | Zona lahan (residensial, komersial, dll) | Categorical | One-hot |\n",
    "| `Lot Frontage` | Panjang lahan menghadap jalan (feet) | Numerical | - |\n",
    "| `Lot Area` | Luas tanah (sq feet) | Numerical | - |\n",
    "| `Street` | Tipe jalan akses | Categorical | One-hot (`Grvl`, `Pave`) |\n",
    "| `Alley` | Akses gang belakang | Categorical | One-hot (`Grvl`, `Pave`, `None`) |\n",
    "| `Lot Shape` | Bentuk lahan | Categorical | Ordinal: `IR3` < `IR2` < `IR1` < `Reg` |\n",
    "| `Land Contour` | Kontur lahan | Categorical | One-hot |\n",
    "| `Utilities` | Ketersediaan utilitas | Categorical | Drop (semua 'AllPub' / tidak variatif) |\n",
    "| `Lot Config` | Konfigurasi lahan | Categorical | One-hot |\n",
    "| `Land Slope` | Tingkat kemiringan lahan | Categorical | One-hot |\n",
    "\n",
    "---\n",
    "\n",
    "### 🌍 LINGKUNGAN & KONDISI\n",
    "\n",
    "| Fitur | Deskripsi | Tipe Data | Encoding |\n",
    "|-------|-----------|-----------|----------|\n",
    "| `Neighborhood` | Lokasi lingkungan | Categorical | One-hot |\n",
    "| `Condition 1`, `Condition 2` | Kedekatan dengan objek khusus (jalan besar, rel, dll) | Categorical | One-hot |\n",
    "\n",
    "---\n",
    "\n",
    "### 🏗️ STRUKTUR BANGUNAN\n",
    "\n",
    "| Fitur | Deskripsi | Tipe Data | Encoding |\n",
    "|-------|-----------|-----------|----------|\n",
    "| `Bldg Type` | Tipe bangunan (detached, duplex, dll) | Categorical | One-hot |\n",
    "| `House Style` | Gaya rumah (1,5, 2 lantai, split, dll) | Categorical | One-hot |\n",
    "| `Overall Qual` | Kualitas keseluruhan (1-10) | Numerical | - |\n",
    "| `Overall Cond` | Kondisi keseluruhan (1-10) | Numerical | - |\n",
    "| `Year Built` | Tahun dibangun | Numerical | - |\n",
    "| `Year Remod/Add` | Tahun renovasi | Numerical | - |\n",
    "\n",
    "---\n",
    "\n",
    "### 🏠 EKSTERIOR\n",
    "\n",
    "| Fitur | Deskripsi | Tipe Data | Encoding |\n",
    "|-------|-----------|-----------|----------|\n",
    "| `Roof Style` | Gaya atap | Categorical | One-hot |\n",
    "| `Roof Matl` | Material atap | Categorical | One-hot |\n",
    "| `Exterior 1st`, `Exterior 2nd` | Material dinding luar | Categorical | One-hot |\n",
    "| `Mas Vnr Type` | Tipe veneer batu | Categorical | One-hot |\n",
    "| `Mas Vnr Area` | Luas veneer batu | Numerical | - |\n",
    "| `Exter Qual` | Kualitas eksterior | Ordinal | `None` < `Po` < `Fa` < `TA` < `Gd` < `Ex` |\n",
    "| `Exter Cond` | Kondisi eksterior | Ordinal | Sama seperti `Exter Qual` |\n",
    "\n",
    "---\n",
    "\n",
    "### 🧱 FONDASI & BASEMENT\n",
    "\n",
    "| Fitur | Deskripsi | Tipe Data | Encoding |\n",
    "|-------|-----------|-----------|----------|\n",
    "| `Foundation` | Tipe pondasi | Categorical | One-hot |\n",
    "| `Bsmt Qual`, `Bsmt Cond`, `Bsmt Exposure`, `BsmtFin Type 1`, `BsmtFin Type 2` | Fitur basement | Ordinal | <ul><li>Qual/Cond: `None` < `Po` < `Fa` < `TA` < `Gd` < `Ex`</li><li>Exposure: `None` < `No` < `Mn` < `Av` < `Gd`</li><li>FinType: `None` < `Unf` < `LwQ` < `Rec` < `BLQ` < `ALQ` < `GLQ`</li></ul> |\n",
    "| `BsmtFin SF 1`, `BsmtFin SF 2`, `Bsmt Unf SF`, `Total Bsmt SF` | Luas basement | Numerical | - |\n",
    "\n",
    "---\n",
    "\n",
    "### 🔥 SISTEM & INTERIOR\n",
    "\n",
    "| Fitur | Deskripsi | Tipe Data | Encoding |\n",
    "|-------|-----------|-----------|----------|\n",
    "| `Heating` | Sistem pemanas | Categorical | One-hot |\n",
    "| `Heating QC` | Kualitas pemanas | Ordinal | `Po` < `Fa` < `TA` < `Gd` < `Ex` |\n",
    "| `Central Air` | Ada/tdk AC sentral | Categorical | Binary (`Y`=1, `N`=0) |\n",
    "| `Electrical` | Sistem listrik | Categorical | One-hot |\n",
    "\n",
    "---\n",
    "\n",
    "### 🏡 AREA TINGGAL\n",
    "\n",
    "| Fitur | Deskripsi | Tipe Data | Encoding |\n",
    "|-------|-----------|-----------|----------|\n",
    "| `1st Flr SF`, `2nd Flr SF`, `Low Qual Fin SF`, `Gr Liv Area` | Luas ruangan utama | Numerical | - |\n",
    "| `Bsmt Full Bath`, `Bsmt Half Bath`, `Full Bath`, `Half Bath`, `Bedroom AbvGr`, `Kitchen AbvGr` | Jumlah ruang | Numerical | - |\n",
    "| `Kitchen Qual` | Kualitas dapur | Ordinal | Sama seperti `Exter Qual` |\n",
    "| `TotRms AbvGrd` | Total ruangan (tidak termasuk kamar mandi) | Numerical | - |\n",
    "| `Functional` | Fungsionalitas rumah | Ordinal | `Sal` < `Sev` < `Maj2` < `Maj1` < `Mod` < `Min2` < `Min1` < `Typ` |\n",
    "| `Fireplaces`, `Fireplace Qu` | Jumlah & kualitas perapian | Numerical, Ordinal | `None` < `Po` < `Fa` < `TA` < `Gd` < `Ex` |\n",
    "\n",
    "---\n",
    "\n",
    "### 🚗 GARASI\n",
    "\n",
    "| Fitur | Deskripsi | Tipe Data | Encoding |\n",
    "|-------|-----------|-----------|----------|\n",
    "| `Garage Type` | Tipe garasi | Categorical | One-hot |\n",
    "| `Garage Yr Blt` | Tahun garasi dibangun | Numerical | - |\n",
    "| `Garage Finish` | Finishing interior garasi | Ordinal | `None` < `Unf` < `RFn` < `Fin` |\n",
    "| `Garage Cars`, `Garage Area` | Kapasitas dan luas garasi | Numerical | - |\n",
    "| `Garage Qual`, `Garage Cond` | Kualitas dan kondisi garasi | Ordinal | Sama seperti `Exter Qual` |\n",
    "\n",
    "---\n",
    "\n",
    "### 🌳 FITUR EKSTERIOR\n",
    "\n",
    "| Fitur | Deskripsi | Tipe Data | Encoding |\n",
    "|-------|-----------|-----------|----------|\n",
    "| `Paved Drive` | Jalan masuk beraspal? | Binary | `Y`=2, `P`=1, `N`=0 |\n",
    "| `Wood Deck SF`, `Open Porch SF`, `Enclosed Porch`, `3Ssn Porch`, `Screen Porch` | Luas fitur luar rumah | Numerical | - |\n",
    "| `Pool Area`, `Pool QC` | Luas & kualitas kolam | Numerical, Ordinal | `None` < `Fa` < `TA` < `Gd` < `Ex` |\n",
    "| `Fence` | Kualitas pagar | Ordinal | `None` < `MnWw` < `GdWo` < `MnPrv` < `GdPrv` |\n",
    "| `Misc Feature` | Fitur tambahan (shed, elevator, dll) | Categorical | One-hot |\n",
    "| `Misc Val` | Nilai fitur tambahan | Numerical | - |\n",
    "\n",
    "---\n",
    "\n",
    "### 🗓️ WAKTU & JUAL BELI\n",
    "\n",
    "| Fitur | Deskripsi | Tipe Data | Encoding |\n",
    "|-------|-----------|-----------|----------|\n",
    "| `Mo Sold`, `Yr Sold` | Bulan dan tahun penjualan | Numerical | - |\n",
    "| `Sale Type` | Jenis penjualan | Categorical | One-hot |\n",
    "| `Sale Condition` | Kondisi penjualan | Categorical | One-hot |\n",
    "| `SalePrice` | Target variabel (harga rumah) | Numerical | - |\n",
    "\n",
    "---"
   ]
  },
  {
   "cell_type": "markdown",
   "metadata": {},
   "source": [
    "# 2. Data Cleaning & Analysis"
   ]
  },
  {
   "cell_type": "code",
   "execution_count": 1,
   "metadata": {},
   "outputs": [],
   "source": [
    "import pandas as pd\n",
    "import numpy as np\n",
    "import seaborn as sns\n",
    "import matplotlib.pyplot as plt\n",
    "import pandas as pd\n",
    "from scipy.stats import skew\n",
    "\n",
    "from sklearn.model_selection import train_test_split\n",
    "\n",
    "from sklearn.pipeline import Pipeline\n",
    "from sklearn.preprocessing import RobustScaler, StandardScaler, MinMaxScaler, OrdinalEncoder, OneHotEncoder\n",
    "from sklearn.metrics import mean_absolute_error, mean_squared_error, r2_score\n",
    "from sklearn.impute import SimpleImputer\n",
    "\n",
    "from sklearn.compose import ColumnTransformer\n",
    "\n",
    "\n",
    "# Linear models\n",
    "from sklearn.linear_model import LinearRegression, Ridge, Lasso\n",
    "\n",
    "# Tree-based models\n",
    "from sklearn.tree import DecisionTreeRegressor\n",
    "from sklearn.ensemble import RandomForestRegressor, GradientBoostingRegressor\n",
    "\n",
    "# Boosting libraries\n",
    "from xgboost import XGBRegressor\n",
    "from lightgbm import LGBMRegressor\n",
    "from catboost import CatBoostRegressor\n",
    "\n",
    "# Pipeline\n",
    "from sklearn.pipeline import make_pipeline\n",
    "\n",
    "# metrik evaluasi\n",
    "from sklearn.metrics import mean_absolute_error, mean_squared_error, r2_score\n",
    "\n",
    "from sklearn.model_selection import GridSearchCV\n",
    "from sklearn.model_selection import RandomizedSearchCV\n",
    "from scipy.stats import randint, uniform\n",
    "from skopt import BayesSearchCV\n",
    "from skopt.space import Real, Integer\n",
    "\n",
    "# save the model\n",
    "import joblib"
   ]
  },
  {
   "cell_type": "markdown",
   "metadata": {},
   "source": [
    "## 2.1 Data Analysis"
   ]
  },
  {
   "cell_type": "markdown",
   "metadata": {},
   "source": [
    "### 2.1.1 Muat data & preview awal, Pisahkan label SalePrice"
   ]
  },
  {
   "cell_type": "code",
   "execution_count": 2,
   "metadata": {},
   "outputs": [
    {
     "data": {
      "text/html": [
       "<div>\n",
       "<style scoped>\n",
       "    .dataframe tbody tr th:only-of-type {\n",
       "        vertical-align: middle;\n",
       "    }\n",
       "\n",
       "    .dataframe tbody tr th {\n",
       "        vertical-align: top;\n",
       "    }\n",
       "\n",
       "    .dataframe thead th {\n",
       "        text-align: right;\n",
       "    }\n",
       "</style>\n",
       "<table border=\"1\" class=\"dataframe\">\n",
       "  <thead>\n",
       "    <tr style=\"text-align: right;\">\n",
       "      <th></th>\n",
       "      <th>Order</th>\n",
       "      <th>PID</th>\n",
       "      <th>MS SubClass</th>\n",
       "      <th>MS Zoning</th>\n",
       "      <th>Lot Frontage</th>\n",
       "      <th>Lot Area</th>\n",
       "      <th>Street</th>\n",
       "      <th>Alley</th>\n",
       "      <th>Lot Shape</th>\n",
       "      <th>Land Contour</th>\n",
       "      <th>...</th>\n",
       "      <th>Pool Area</th>\n",
       "      <th>Pool QC</th>\n",
       "      <th>Fence</th>\n",
       "      <th>Misc Feature</th>\n",
       "      <th>Misc Val</th>\n",
       "      <th>Mo Sold</th>\n",
       "      <th>Yr Sold</th>\n",
       "      <th>Sale Type</th>\n",
       "      <th>Sale Condition</th>\n",
       "      <th>SalePrice</th>\n",
       "    </tr>\n",
       "  </thead>\n",
       "  <tbody>\n",
       "    <tr>\n",
       "      <th>0</th>\n",
       "      <td>1</td>\n",
       "      <td>526301100</td>\n",
       "      <td>20</td>\n",
       "      <td>RL</td>\n",
       "      <td>141.0</td>\n",
       "      <td>31770</td>\n",
       "      <td>Pave</td>\n",
       "      <td>NaN</td>\n",
       "      <td>IR1</td>\n",
       "      <td>Lvl</td>\n",
       "      <td>...</td>\n",
       "      <td>0</td>\n",
       "      <td>NaN</td>\n",
       "      <td>NaN</td>\n",
       "      <td>NaN</td>\n",
       "      <td>0</td>\n",
       "      <td>5</td>\n",
       "      <td>2010</td>\n",
       "      <td>WD</td>\n",
       "      <td>Normal</td>\n",
       "      <td>215000</td>\n",
       "    </tr>\n",
       "    <tr>\n",
       "      <th>1</th>\n",
       "      <td>2</td>\n",
       "      <td>526350040</td>\n",
       "      <td>20</td>\n",
       "      <td>RH</td>\n",
       "      <td>80.0</td>\n",
       "      <td>11622</td>\n",
       "      <td>Pave</td>\n",
       "      <td>NaN</td>\n",
       "      <td>Reg</td>\n",
       "      <td>Lvl</td>\n",
       "      <td>...</td>\n",
       "      <td>0</td>\n",
       "      <td>NaN</td>\n",
       "      <td>MnPrv</td>\n",
       "      <td>NaN</td>\n",
       "      <td>0</td>\n",
       "      <td>6</td>\n",
       "      <td>2010</td>\n",
       "      <td>WD</td>\n",
       "      <td>Normal</td>\n",
       "      <td>105000</td>\n",
       "    </tr>\n",
       "    <tr>\n",
       "      <th>2</th>\n",
       "      <td>3</td>\n",
       "      <td>526351010</td>\n",
       "      <td>20</td>\n",
       "      <td>RL</td>\n",
       "      <td>81.0</td>\n",
       "      <td>14267</td>\n",
       "      <td>Pave</td>\n",
       "      <td>NaN</td>\n",
       "      <td>IR1</td>\n",
       "      <td>Lvl</td>\n",
       "      <td>...</td>\n",
       "      <td>0</td>\n",
       "      <td>NaN</td>\n",
       "      <td>NaN</td>\n",
       "      <td>Gar2</td>\n",
       "      <td>12500</td>\n",
       "      <td>6</td>\n",
       "      <td>2010</td>\n",
       "      <td>WD</td>\n",
       "      <td>Normal</td>\n",
       "      <td>172000</td>\n",
       "    </tr>\n",
       "    <tr>\n",
       "      <th>3</th>\n",
       "      <td>4</td>\n",
       "      <td>526353030</td>\n",
       "      <td>20</td>\n",
       "      <td>RL</td>\n",
       "      <td>93.0</td>\n",
       "      <td>11160</td>\n",
       "      <td>Pave</td>\n",
       "      <td>NaN</td>\n",
       "      <td>Reg</td>\n",
       "      <td>Lvl</td>\n",
       "      <td>...</td>\n",
       "      <td>0</td>\n",
       "      <td>NaN</td>\n",
       "      <td>NaN</td>\n",
       "      <td>NaN</td>\n",
       "      <td>0</td>\n",
       "      <td>4</td>\n",
       "      <td>2010</td>\n",
       "      <td>WD</td>\n",
       "      <td>Normal</td>\n",
       "      <td>244000</td>\n",
       "    </tr>\n",
       "    <tr>\n",
       "      <th>4</th>\n",
       "      <td>5</td>\n",
       "      <td>527105010</td>\n",
       "      <td>60</td>\n",
       "      <td>RL</td>\n",
       "      <td>74.0</td>\n",
       "      <td>13830</td>\n",
       "      <td>Pave</td>\n",
       "      <td>NaN</td>\n",
       "      <td>IR1</td>\n",
       "      <td>Lvl</td>\n",
       "      <td>...</td>\n",
       "      <td>0</td>\n",
       "      <td>NaN</td>\n",
       "      <td>MnPrv</td>\n",
       "      <td>NaN</td>\n",
       "      <td>0</td>\n",
       "      <td>3</td>\n",
       "      <td>2010</td>\n",
       "      <td>WD</td>\n",
       "      <td>Normal</td>\n",
       "      <td>189900</td>\n",
       "    </tr>\n",
       "  </tbody>\n",
       "</table>\n",
       "<p>5 rows × 82 columns</p>\n",
       "</div>"
      ],
      "text/plain": [
       "   Order        PID  MS SubClass MS Zoning  Lot Frontage  Lot Area Street  \\\n",
       "0      1  526301100           20        RL         141.0     31770   Pave   \n",
       "1      2  526350040           20        RH          80.0     11622   Pave   \n",
       "2      3  526351010           20        RL          81.0     14267   Pave   \n",
       "3      4  526353030           20        RL          93.0     11160   Pave   \n",
       "4      5  527105010           60        RL          74.0     13830   Pave   \n",
       "\n",
       "  Alley Lot Shape Land Contour  ... Pool Area Pool QC  Fence Misc Feature  \\\n",
       "0   NaN       IR1          Lvl  ...         0     NaN    NaN          NaN   \n",
       "1   NaN       Reg          Lvl  ...         0     NaN  MnPrv          NaN   \n",
       "2   NaN       IR1          Lvl  ...         0     NaN    NaN         Gar2   \n",
       "3   NaN       Reg          Lvl  ...         0     NaN    NaN          NaN   \n",
       "4   NaN       IR1          Lvl  ...         0     NaN  MnPrv          NaN   \n",
       "\n",
       "  Misc Val Mo Sold Yr Sold Sale Type  Sale Condition  SalePrice  \n",
       "0        0       5    2010       WD           Normal     215000  \n",
       "1        0       6    2010       WD           Normal     105000  \n",
       "2    12500       6    2010       WD           Normal     172000  \n",
       "3        0       4    2010       WD           Normal     244000  \n",
       "4        0       3    2010       WD           Normal     189900  \n",
       "\n",
       "[5 rows x 82 columns]"
      ]
     },
     "execution_count": 2,
     "metadata": {},
     "output_type": "execute_result"
    }
   ],
   "source": [
    "# Load dataset\n",
    "df = pd.read_csv(\"./AmesHousing.csv\")\n",
    "df.head()"
   ]
  },
  {
   "cell_type": "code",
   "execution_count": 3,
   "metadata": {},
   "outputs": [
    {
     "name": "stdout",
     "output_type": "stream",
     "text": [
      "<class 'pandas.core.frame.DataFrame'>\n",
      "RangeIndex: 2930 entries, 0 to 2929\n",
      "Data columns (total 82 columns):\n",
      " #   Column           Non-Null Count  Dtype  \n",
      "---  ------           --------------  -----  \n",
      " 0   Order            2930 non-null   int64  \n",
      " 1   PID              2930 non-null   int64  \n",
      " 2   MS SubClass      2930 non-null   int64  \n",
      " 3   MS Zoning        2930 non-null   object \n",
      " 4   Lot Frontage     2440 non-null   float64\n",
      " 5   Lot Area         2930 non-null   int64  \n",
      " 6   Street           2930 non-null   object \n",
      " 7   Alley            198 non-null    object \n",
      " 8   Lot Shape        2930 non-null   object \n",
      " 9   Land Contour     2930 non-null   object \n",
      " 10  Utilities        2930 non-null   object \n",
      " 11  Lot Config       2930 non-null   object \n",
      " 12  Land Slope       2930 non-null   object \n",
      " 13  Neighborhood     2930 non-null   object \n",
      " 14  Condition 1      2930 non-null   object \n",
      " 15  Condition 2      2930 non-null   object \n",
      " 16  Bldg Type        2930 non-null   object \n",
      " 17  House Style      2930 non-null   object \n",
      " 18  Overall Qual     2930 non-null   int64  \n",
      " 19  Overall Cond     2930 non-null   int64  \n",
      " 20  Year Built       2930 non-null   int64  \n",
      " 21  Year Remod/Add   2930 non-null   int64  \n",
      " 22  Roof Style       2930 non-null   object \n",
      " 23  Roof Matl        2930 non-null   object \n",
      " 24  Exterior 1st     2930 non-null   object \n",
      " 25  Exterior 2nd     2930 non-null   object \n",
      " 26  Mas Vnr Type     1155 non-null   object \n",
      " 27  Mas Vnr Area     2907 non-null   float64\n",
      " 28  Exter Qual       2930 non-null   object \n",
      " 29  Exter Cond       2930 non-null   object \n",
      " 30  Foundation       2930 non-null   object \n",
      " 31  Bsmt Qual        2850 non-null   object \n",
      " 32  Bsmt Cond        2850 non-null   object \n",
      " 33  Bsmt Exposure    2847 non-null   object \n",
      " 34  BsmtFin Type 1   2850 non-null   object \n",
      " 35  BsmtFin SF 1     2929 non-null   float64\n",
      " 36  BsmtFin Type 2   2849 non-null   object \n",
      " 37  BsmtFin SF 2     2929 non-null   float64\n",
      " 38  Bsmt Unf SF      2929 non-null   float64\n",
      " 39  Total Bsmt SF    2929 non-null   float64\n",
      " 40  Heating          2930 non-null   object \n",
      " 41  Heating QC       2930 non-null   object \n",
      " 42  Central Air      2930 non-null   object \n",
      " 43  Electrical       2929 non-null   object \n",
      " 44  1st Flr SF       2930 non-null   int64  \n",
      " 45  2nd Flr SF       2930 non-null   int64  \n",
      " 46  Low Qual Fin SF  2930 non-null   int64  \n",
      " 47  Gr Liv Area      2930 non-null   int64  \n",
      " 48  Bsmt Full Bath   2928 non-null   float64\n",
      " 49  Bsmt Half Bath   2928 non-null   float64\n",
      " 50  Full Bath        2930 non-null   int64  \n",
      " 51  Half Bath        2930 non-null   int64  \n",
      " 52  Bedroom AbvGr    2930 non-null   int64  \n",
      " 53  Kitchen AbvGr    2930 non-null   int64  \n",
      " 54  Kitchen Qual     2930 non-null   object \n",
      " 55  TotRms AbvGrd    2930 non-null   int64  \n",
      " 56  Functional       2930 non-null   object \n",
      " 57  Fireplaces       2930 non-null   int64  \n",
      " 58  Fireplace Qu     1508 non-null   object \n",
      " 59  Garage Type      2773 non-null   object \n",
      " 60  Garage Yr Blt    2771 non-null   float64\n",
      " 61  Garage Finish    2771 non-null   object \n",
      " 62  Garage Cars      2929 non-null   float64\n",
      " 63  Garage Area      2929 non-null   float64\n",
      " 64  Garage Qual      2771 non-null   object \n",
      " 65  Garage Cond      2771 non-null   object \n",
      " 66  Paved Drive      2930 non-null   object \n",
      " 67  Wood Deck SF     2930 non-null   int64  \n",
      " 68  Open Porch SF    2930 non-null   int64  \n",
      " 69  Enclosed Porch   2930 non-null   int64  \n",
      " 70  3Ssn Porch       2930 non-null   int64  \n",
      " 71  Screen Porch     2930 non-null   int64  \n",
      " 72  Pool Area        2930 non-null   int64  \n",
      " 73  Pool QC          13 non-null     object \n",
      " 74  Fence            572 non-null    object \n",
      " 75  Misc Feature     106 non-null    object \n",
      " 76  Misc Val         2930 non-null   int64  \n",
      " 77  Mo Sold          2930 non-null   int64  \n",
      " 78  Yr Sold          2930 non-null   int64  \n",
      " 79  Sale Type        2930 non-null   object \n",
      " 80  Sale Condition   2930 non-null   object \n",
      " 81  SalePrice        2930 non-null   int64  \n",
      "dtypes: float64(11), int64(28), object(43)\n",
      "memory usage: 1.8+ MB\n"
     ]
    }
   ],
   "source": [
    "df.info()"
   ]
  },
  {
   "cell_type": "code",
   "execution_count": 4,
   "metadata": {},
   "outputs": [],
   "source": [
    "# Pisahkan kolom target terlebih dahulu\n",
    "target_column = \"SalePrice\"\n",
    "features_df = df.drop(columns=[target_column])\n",
    "target_series = df[target_column]"
   ]
  },
  {
   "cell_type": "markdown",
   "metadata": {},
   "source": [
    "### 2.1.2 Identifikasi fitur numerik vs kategorikal"
   ]
  },
  {
   "cell_type": "code",
   "execution_count": 5,
   "metadata": {},
   "outputs": [
    {
     "data": {
      "text/plain": [
       "{'Jumlah fitur numerik (tanpa target)': 38,\n",
       " 'Jumlah fitur kategorikal': 43,\n",
       " 'Total fitur (tanpa target)': 81}"
      ]
     },
     "execution_count": 5,
     "metadata": {},
     "output_type": "execute_result"
    }
   ],
   "source": [
    "# Pisahkan fitur numerik dan kategorikal dari fitur saja (tanpa target)\n",
    "numeric_cols = features_df.select_dtypes(include=['int64', 'float64']).columns.tolist()\n",
    "categorical_cols = features_df.select_dtypes(include=['object']).columns.tolist()\n",
    "\n",
    "# Hitung ulang jumlah fitur\n",
    "summary_counts_clean = {\n",
    "    \"Jumlah fitur numerik (tanpa target)\": len(numeric_cols),\n",
    "    \"Jumlah fitur kategorikal\": len(categorical_cols),\n",
    "    \"Total fitur (tanpa target)\": len(numeric_cols) + len(categorical_cols)\n",
    "}\n",
    "summary_counts_clean"
   ]
  },
  {
   "cell_type": "markdown",
   "metadata": {},
   "source": [
    "#### 🔍 **Analisis Tipe Fitur**\n",
    "- 📈 **Fitur Numerik**: 38 kolom  \n",
    "- 🔤 **Fitur Kategorikal (Object/String)**: 43 kolom  \n",
    "➡️ Total : 81 kolom"
   ]
  },
  {
   "cell_type": "markdown",
   "metadata": {},
   "source": [
    "### 2.1.3 Analisis korelasi terhadap SalePrice"
   ]
  },
  {
   "cell_type": "code",
   "execution_count": 6,
   "metadata": {},
   "outputs": [
    {
     "data": {
      "text/html": [
       "<div>\n",
       "<style scoped>\n",
       "    .dataframe tbody tr th:only-of-type {\n",
       "        vertical-align: middle;\n",
       "    }\n",
       "\n",
       "    .dataframe tbody tr th {\n",
       "        vertical-align: top;\n",
       "    }\n",
       "\n",
       "    .dataframe thead th {\n",
       "        text-align: right;\n",
       "    }\n",
       "</style>\n",
       "<table border=\"1\" class=\"dataframe\">\n",
       "  <thead>\n",
       "    <tr style=\"text-align: right;\">\n",
       "      <th></th>\n",
       "      <th>Fitur</th>\n",
       "      <th>Korelasi terhadap SalePrice</th>\n",
       "    </tr>\n",
       "  </thead>\n",
       "  <tbody>\n",
       "    <tr>\n",
       "      <th>0</th>\n",
       "      <td>Overall Qual</td>\n",
       "      <td>0.799262</td>\n",
       "    </tr>\n",
       "    <tr>\n",
       "      <th>1</th>\n",
       "      <td>Gr Liv Area</td>\n",
       "      <td>0.706780</td>\n",
       "    </tr>\n",
       "    <tr>\n",
       "      <th>2</th>\n",
       "      <td>Garage Cars</td>\n",
       "      <td>0.647877</td>\n",
       "    </tr>\n",
       "    <tr>\n",
       "      <th>3</th>\n",
       "      <td>Garage Area</td>\n",
       "      <td>0.640401</td>\n",
       "    </tr>\n",
       "    <tr>\n",
       "      <th>4</th>\n",
       "      <td>Total Bsmt SF</td>\n",
       "      <td>0.632280</td>\n",
       "    </tr>\n",
       "    <tr>\n",
       "      <th>5</th>\n",
       "      <td>1st Flr SF</td>\n",
       "      <td>0.621676</td>\n",
       "    </tr>\n",
       "    <tr>\n",
       "      <th>6</th>\n",
       "      <td>Year Built</td>\n",
       "      <td>0.558426</td>\n",
       "    </tr>\n",
       "    <tr>\n",
       "      <th>7</th>\n",
       "      <td>Full Bath</td>\n",
       "      <td>0.545604</td>\n",
       "    </tr>\n",
       "    <tr>\n",
       "      <th>8</th>\n",
       "      <td>Year Remod/Add</td>\n",
       "      <td>0.532974</td>\n",
       "    </tr>\n",
       "    <tr>\n",
       "      <th>9</th>\n",
       "      <td>Garage Yr Blt</td>\n",
       "      <td>0.526965</td>\n",
       "    </tr>\n",
       "  </tbody>\n",
       "</table>\n",
       "</div>"
      ],
      "text/plain": [
       "            Fitur  Korelasi terhadap SalePrice\n",
       "0    Overall Qual                     0.799262\n",
       "1     Gr Liv Area                     0.706780\n",
       "2     Garage Cars                     0.647877\n",
       "3     Garage Area                     0.640401\n",
       "4   Total Bsmt SF                     0.632280\n",
       "5      1st Flr SF                     0.621676\n",
       "6      Year Built                     0.558426\n",
       "7       Full Bath                     0.545604\n",
       "8  Year Remod/Add                     0.532974\n",
       "9   Garage Yr Blt                     0.526965"
      ]
     },
     "execution_count": 6,
     "metadata": {},
     "output_type": "execute_result"
    }
   ],
   "source": [
    "# Korelasi fitur numerik terhadap SalePrice\n",
    "# Gunakan df[numeric_cols + ['SalePrice']] agar SalePrice ikut masuk untuk korelasi\n",
    "correlation = df[numeric_cols + [target_column]].corr()[target_column].sort_values(ascending=False)\n",
    "top_corr_features = correlation.drop(target_column).head(10)\n",
    "\n",
    "# Ubah ke DataFrame\n",
    "top_corr_df = top_corr_features.reset_index()\n",
    "top_corr_df.columns = ['Fitur', 'Korelasi terhadap SalePrice']\n",
    "\n",
    "# Output\n",
    "top_corr_df"
   ]
  },
  {
   "cell_type": "markdown",
   "metadata": {},
   "source": [
    "### 2.1.4 Visualisasi heatmap korelasi (top 10)"
   ]
  },
  {
   "cell_type": "code",
   "execution_count": 7,
   "metadata": {},
   "outputs": [],
   "source": [
    "sns.set_style(\"whitegrid\")  # ini yang benar untuk seaborn\n",
    "sns.set_palette(\"Set2\")"
   ]
  },
  {
   "cell_type": "code",
   "execution_count": 8,
   "metadata": {},
   "outputs": [
    {
     "data": {
      "image/png": "[encoded data removed]",
      "text/plain": [
       "<Figure size 1000x1000 with 2 Axes>"
      ]
     },
     "metadata": {},
     "output_type": "display_data"
    }
   ],
   "source": [
    "# # Setup visualisasi\n",
    "# plt.style.use(\"seaborn-whitegrid\")\n",
    "# sns.set_palette(\"Set2\")\n",
    "\n",
    "fig, axs = plt.subplots(figsize=(10, 10))\n",
    "\n",
    "# 3. Heatmap korelasi\n",
    "heatmap_data = df[top_corr_df['Fitur'].tolist() + ['SalePrice']].corr()\n",
    "sns.heatmap(heatmap_data, annot=True, cmap='coolwarm', ax=axs)\n",
    "axs.set_title(\"Heatmap Korelasi Fitur terhadap SalePrice\", fontsize=16)\n",
    "\n",
    "plt.tight_layout()\n",
    "plt.show()"
   ]
  },
  {
   "cell_type": "markdown",
   "metadata": {},
   "source": [
    "### 2.1.5 Distribusi awal target (SalePrice)"
   ]
  },
  {
   "cell_type": "code",
   "execution_count": 9,
   "metadata": {},
   "outputs": [
    {
     "data": {
      "image/png": "[encoded data removed]",
      "text/plain": [
       "<Figure size 1600x600 with 2 Axes>"
      ]
     },
     "metadata": {},
     "output_type": "display_data"
    }
   ],
   "source": [
    "# Set style for seaborn\n",
    "sns.set(style=\"whitegrid\", palette=\"pastel\", font_scale=1.1)\n",
    "\n",
    "# Create a figure with subplots\n",
    "fig, axs = plt.subplots(1, 2, figsize=(16, 6))\n",
    "\n",
    "# 1. Distribution of SalePrice\n",
    "sns.histplot(df[\"SalePrice\"], kde=True, ax=axs[0], color=\"skyblue\")\n",
    "axs[0].set_title(\"Distribusi Harga Rumah (SalePrice)\")\n",
    "axs[0].set_xlabel(\"Harga Rumah (USD)\")\n",
    "axs[0].set_ylabel(\"Jumlah Rumah\")\n",
    "\n",
    "# 2. Top 20 features with most missing values\n",
    "missing = df.isnull().sum()\n",
    "missing = missing[missing > 0].sort_values(ascending=False).head(20)\n",
    "sns.barplot(x=missing.values, y=missing.index, ax=axs[1], color=\"salmon\")\n",
    "axs[1].set_title(\"20 Kolom dengan Nilai Kosong Terbanyak\")\n",
    "axs[1].set_xlabel(\"Jumlah Nilai Kosong\")\n",
    "axs[1].set_ylabel(\"Nama Kolom\")\n",
    "\n",
    "plt.tight_layout()\n",
    "plt.show()\n"
   ]
  },
  {
   "cell_type": "markdown",
   "metadata": {},
   "source": [
    "## 2.2 Data Cleaning"
   ]
  },
  {
   "cell_type": "markdown",
   "metadata": {},
   "source": [
    "### 2.2.1 Cek & handle missing values"
   ]
  },
  {
   "cell_type": "code",
   "execution_count": 10,
   "metadata": {},
   "outputs": [
    {
     "data": {
      "text/html": [
       "<div>\n",
       "<style scoped>\n",
       "    .dataframe tbody tr th:only-of-type {\n",
       "        vertical-align: middle;\n",
       "    }\n",
       "\n",
       "    .dataframe tbody tr th {\n",
       "        vertical-align: top;\n",
       "    }\n",
       "\n",
       "    .dataframe thead th {\n",
       "        text-align: right;\n",
       "    }\n",
       "</style>\n",
       "<table border=\"1\" class=\"dataframe\">\n",
       "  <thead>\n",
       "    <tr style=\"text-align: right;\">\n",
       "      <th></th>\n",
       "      <th>Fitur</th>\n",
       "      <th>Jumlah Missing</th>\n",
       "      <th>Persentase Missing (%)</th>\n",
       "    </tr>\n",
       "  </thead>\n",
       "  <tbody>\n",
       "    <tr>\n",
       "      <th>0</th>\n",
       "      <td>Pool QC</td>\n",
       "      <td>2917</td>\n",
       "      <td>99.556314</td>\n",
       "    </tr>\n",
       "    <tr>\n",
       "      <th>1</th>\n",
       "      <td>Misc Feature</td>\n",
       "      <td>2824</td>\n",
       "      <td>96.382253</td>\n",
       "    </tr>\n",
       "    <tr>\n",
       "      <th>2</th>\n",
       "      <td>Alley</td>\n",
       "      <td>2732</td>\n",
       "      <td>93.242321</td>\n",
       "    </tr>\n",
       "    <tr>\n",
       "      <th>3</th>\n",
       "      <td>Fence</td>\n",
       "      <td>2358</td>\n",
       "      <td>80.477816</td>\n",
       "    </tr>\n",
       "    <tr>\n",
       "      <th>4</th>\n",
       "      <td>Mas Vnr Type</td>\n",
       "      <td>1775</td>\n",
       "      <td>60.580205</td>\n",
       "    </tr>\n",
       "    <tr>\n",
       "      <th>5</th>\n",
       "      <td>Fireplace Qu</td>\n",
       "      <td>1422</td>\n",
       "      <td>48.532423</td>\n",
       "    </tr>\n",
       "    <tr>\n",
       "      <th>6</th>\n",
       "      <td>Lot Frontage</td>\n",
       "      <td>490</td>\n",
       "      <td>16.723549</td>\n",
       "    </tr>\n",
       "    <tr>\n",
       "      <th>7</th>\n",
       "      <td>Garage Qual</td>\n",
       "      <td>159</td>\n",
       "      <td>5.426621</td>\n",
       "    </tr>\n",
       "    <tr>\n",
       "      <th>8</th>\n",
       "      <td>Garage Cond</td>\n",
       "      <td>159</td>\n",
       "      <td>5.426621</td>\n",
       "    </tr>\n",
       "    <tr>\n",
       "      <th>9</th>\n",
       "      <td>Garage Yr Blt</td>\n",
       "      <td>159</td>\n",
       "      <td>5.426621</td>\n",
       "    </tr>\n",
       "    <tr>\n",
       "      <th>10</th>\n",
       "      <td>Garage Finish</td>\n",
       "      <td>159</td>\n",
       "      <td>5.426621</td>\n",
       "    </tr>\n",
       "    <tr>\n",
       "      <th>11</th>\n",
       "      <td>Garage Type</td>\n",
       "      <td>157</td>\n",
       "      <td>5.358362</td>\n",
       "    </tr>\n",
       "    <tr>\n",
       "      <th>12</th>\n",
       "      <td>Bsmt Exposure</td>\n",
       "      <td>83</td>\n",
       "      <td>2.832765</td>\n",
       "    </tr>\n",
       "    <tr>\n",
       "      <th>13</th>\n",
       "      <td>BsmtFin Type 2</td>\n",
       "      <td>81</td>\n",
       "      <td>2.764505</td>\n",
       "    </tr>\n",
       "    <tr>\n",
       "      <th>14</th>\n",
       "      <td>Bsmt Cond</td>\n",
       "      <td>80</td>\n",
       "      <td>2.730375</td>\n",
       "    </tr>\n",
       "    <tr>\n",
       "      <th>15</th>\n",
       "      <td>Bsmt Qual</td>\n",
       "      <td>80</td>\n",
       "      <td>2.730375</td>\n",
       "    </tr>\n",
       "    <tr>\n",
       "      <th>16</th>\n",
       "      <td>BsmtFin Type 1</td>\n",
       "      <td>80</td>\n",
       "      <td>2.730375</td>\n",
       "    </tr>\n",
       "    <tr>\n",
       "      <th>17</th>\n",
       "      <td>Mas Vnr Area</td>\n",
       "      <td>23</td>\n",
       "      <td>0.784983</td>\n",
       "    </tr>\n",
       "    <tr>\n",
       "      <th>18</th>\n",
       "      <td>Bsmt Full Bath</td>\n",
       "      <td>2</td>\n",
       "      <td>0.068259</td>\n",
       "    </tr>\n",
       "    <tr>\n",
       "      <th>19</th>\n",
       "      <td>Bsmt Half Bath</td>\n",
       "      <td>2</td>\n",
       "      <td>0.068259</td>\n",
       "    </tr>\n",
       "  </tbody>\n",
       "</table>\n",
       "</div>"
      ],
      "text/plain": [
       "             Fitur  Jumlah Missing  Persentase Missing (%)\n",
       "0          Pool QC            2917               99.556314\n",
       "1     Misc Feature            2824               96.382253\n",
       "2            Alley            2732               93.242321\n",
       "3            Fence            2358               80.477816\n",
       "4     Mas Vnr Type            1775               60.580205\n",
       "5     Fireplace Qu            1422               48.532423\n",
       "6     Lot Frontage             490               16.723549\n",
       "7      Garage Qual             159                5.426621\n",
       "8      Garage Cond             159                5.426621\n",
       "9    Garage Yr Blt             159                5.426621\n",
       "10   Garage Finish             159                5.426621\n",
       "11     Garage Type             157                5.358362\n",
       "12   Bsmt Exposure              83                2.832765\n",
       "13  BsmtFin Type 2              81                2.764505\n",
       "14       Bsmt Cond              80                2.730375\n",
       "15       Bsmt Qual              80                2.730375\n",
       "16  BsmtFin Type 1              80                2.730375\n",
       "17    Mas Vnr Area              23                0.784983\n",
       "18  Bsmt Full Bath               2                0.068259\n",
       "19  Bsmt Half Bath               2                0.068259"
      ]
     },
     "execution_count": 10,
     "metadata": {},
     "output_type": "execute_result"
    }
   ],
   "source": [
    "# Cek missing values per kolom\n",
    "missing_values = features_df.isnull().sum()\n",
    "missing_values = missing_values[missing_values > 0].sort_values(ascending=False)\n",
    "\n",
    "# Tampilkan dalam bentuk DataFrame agar rapi\n",
    "missing_values_df = missing_values.reset_index()\n",
    "missing_values_df.columns = ['Fitur', 'Jumlah Missing']\n",
    "\n",
    "# Tambahkan persentase missing\n",
    "missing_values_df['Persentase Missing (%)'] = (missing_values_df['Jumlah Missing'] / len(df)) * 100\n",
    "\n",
    "missing_values_df.head(20)  # tampilkan 20 fitur dengan missing terbanyak"
   ]
  },
  {
   "cell_type": "markdown",
   "metadata": {},
   "source": [
    "Catatan:\n",
    "- Fitur dengan >80% missing seperti Pool QC, Misc Feature, Alley, dan Fence akan dihapus.\n",
    "\n",
    "- Fitur dengan missing <20% akan diimputasi (dengan mean, median, atau mode tergantung tipe datanya).\n",
    "\n",
    "- Beberapa fitur mungkin missing by design (misalnya Pool QC kosong karena memang tidak punya kolam), akan diisi dengan kategori seperti \"None\"."
   ]
  },
  {
   "cell_type": "code",
   "execution_count": 11,
   "metadata": {},
   "outputs": [],
   "source": [
    "# 2. Fitur \"missing by design\" diisi dengan 'None' (biasanya kategorikal yang null karena tidak punya fasilitas)\n",
    "design_missing_features = [\"FireplaceQu\", \"GarageType\", \"GarageFinish\", \"GarageQual\", \"GarageCond\", \n",
    "                           \"BsmtQual\", \"BsmtCond\", \"BsmtExposure\", \"BsmtFinType1\", \"BsmtFinType2\",\n",
    "                           \"MasVnrType\"]"
   ]
  },
  {
   "cell_type": "code",
   "execution_count": 12,
   "metadata": {},
   "outputs": [
    {
     "data": {
      "text/plain": [
       "(['Pool QC', 'Misc Feature', 'Alley', 'Fence'], np.int64(0))"
      ]
     },
     "execution_count": 12,
     "metadata": {},
     "output_type": "execute_result"
    }
   ],
   "source": [
    "# Deteksi kolom numerik dan kategorikal\n",
    "numeric_cols = features_df.select_dtypes(include=[\"int64\", \"float64\"]).columns.tolist()\n",
    "categorical_cols = features_df.select_dtypes(include=[\"object\"]).columns.tolist()\n",
    "\n",
    "# Hitung jumlah missing dan persentasenya\n",
    "missing_summary = features_df.isnull().sum().sort_values(ascending=False).reset_index()\n",
    "missing_summary.columns = [\"Fitur\", \"Jumlah Missing\"]\n",
    "missing_summary[\"Persentase Missing (%)\"] = (missing_summary[\"Jumlah Missing\"] / len(features_df)) * 100\n",
    "\n",
    "# 1. Drop fitur dengan >80% missing\n",
    "high_missing = missing_summary[missing_summary[\"Persentase Missing (%)\"] > 80][\"Fitur\"].tolist()\n",
    "features_df.drop(columns=high_missing, inplace=True)\n",
    "\n",
    "# Update ulang kolom numerik dan kategorikal setelah drop\n",
    "numeric_cols = features_df.select_dtypes(include=[\"int64\", \"float64\"]).columns.tolist()\n",
    "categorical_cols = features_df.select_dtypes(include=[\"object\"]).columns.tolist()\n",
    "\n",
    "# 2. Fitur \"missing by design\" diisi dengan 'None' (biasanya kategorikal yang null karena tidak punya fasilitas)\n",
    "design_missing_features = [\"FireplaceQu\", \"GarageType\", \"GarageFinish\", \"GarageQual\", \"GarageCond\", \n",
    "                           \"BsmtQual\", \"BsmtCond\", \"BsmtExposure\", \"BsmtFinType1\", \"BsmtFinType2\",\n",
    "                           \"MasVnrType\"]\n",
    "for col in design_missing_features:\n",
    "    if col in features_df.columns:\n",
    "        features_df[col] = features_df[col].fillna(\"None\")\n",
    "\n",
    "# 3. Imputasi numerik <20% missing dengan median\n",
    "for col in numeric_cols:\n",
    "    if features_df[col].isnull().sum() > 0:\n",
    "        features_df[col] = features_df[col].fillna(features_df[col].median())\n",
    "\n",
    "# 4. Imputasi kategorikal <20% missing dengan mode\n",
    "for col in categorical_cols:\n",
    "    if features_df[col].isnull().sum() > 0:\n",
    "        features_df[col] = features_df[col].fillna(features_df[col].mode()[0])\n",
    "\n",
    "# Cek apakah semua missing sudah ditangani\n",
    "final_missing = features_df.isnull().sum().sum()\n",
    "\n",
    "# Output: fitur yang dihapus dan total missing values setelah penanganan\n",
    "high_missing, final_missing"
   ]
  },
  {
   "cell_type": "markdown",
   "metadata": {},
   "source": [
    "#### cek hasil pengisian missing value"
   ]
  },
  {
   "cell_type": "code",
   "execution_count": 13,
   "metadata": {},
   "outputs": [
    {
     "data": {
      "text/html": [
       "<div>\n",
       "<style scoped>\n",
       "    .dataframe tbody tr th:only-of-type {\n",
       "        vertical-align: middle;\n",
       "    }\n",
       "\n",
       "    .dataframe tbody tr th {\n",
       "        vertical-align: top;\n",
       "    }\n",
       "\n",
       "    .dataframe thead th {\n",
       "        text-align: right;\n",
       "    }\n",
       "</style>\n",
       "<table border=\"1\" class=\"dataframe\">\n",
       "  <thead>\n",
       "    <tr style=\"text-align: right;\">\n",
       "      <th></th>\n",
       "      <th>Fitur</th>\n",
       "      <th>Jumlah Missing</th>\n",
       "      <th>Persentase Missing (%)</th>\n",
       "    </tr>\n",
       "  </thead>\n",
       "  <tbody>\n",
       "  </tbody>\n",
       "</table>\n",
       "</div>"
      ],
      "text/plain": [
       "Empty DataFrame\n",
       "Columns: [Fitur, Jumlah Missing, Persentase Missing (%)]\n",
       "Index: []"
      ]
     },
     "execution_count": 13,
     "metadata": {},
     "output_type": "execute_result"
    }
   ],
   "source": [
    "# Cek missing values per kolom\n",
    "missing_values = features_df.isnull().sum()\n",
    "missing_values = missing_values[missing_values > 0].sort_values(ascending=False)\n",
    "\n",
    "# Tampilkan dalam bentuk DataFrame agar rapi\n",
    "missing_values_df = missing_values.reset_index()\n",
    "missing_values_df.columns = ['Fitur', 'Jumlah Missing']\n",
    "\n",
    "# Tambahkan persentase missing\n",
    "missing_values_df['Persentase Missing (%)'] = (missing_values_df['Jumlah Missing'] / len(df)) * 100\n",
    "\n",
    "missing_values_df.head(20)  # tampilkan 20 fitur dengan missing terbanyak"
   ]
  },
  {
   "cell_type": "markdown",
   "metadata": {},
   "source": [
    "#### ✅ **Cek & Handle Missing Values — SELESAI**\n",
    "\n",
    "Berikut hasil revisi:\n",
    "\n",
    "### 🔧 Penanganan yang dilakukan:\n",
    "- **Dihapus** fitur dengan missing value >80%:\n",
    "  - `Pool QC`, `Misc Feature`, `Alley`, `Fence`\n",
    "- **Diisi 'None'** untuk fitur yang missing by design seperti:\n",
    "  - `FireplaceQu`, `GarageType`, `GarageFinish`, `GarageQual`, `GarageCond`, `BsmtQual`, dll.\n",
    "- **Imputasi median** untuk fitur numerik yang missing <20%.\n",
    "- **Imputasi mode** untuk fitur kategorikal yang missing <20%.\n",
    "\n",
    "📉 **Total missing values setelah penanganan: `0`**"
   ]
  },
  {
   "cell_type": "markdown",
   "metadata": {},
   "source": [
    "### 2.2.4 Dropping Kolom yg Tidak Diperlukan"
   ]
  },
  {
   "cell_type": "code",
   "execution_count": 14,
   "metadata": {},
   "outputs": [
    {
     "data": {
      "text/html": [
       "<div>\n",
       "<style scoped>\n",
       "    .dataframe tbody tr th:only-of-type {\n",
       "        vertical-align: middle;\n",
       "    }\n",
       "\n",
       "    .dataframe tbody tr th {\n",
       "        vertical-align: top;\n",
       "    }\n",
       "\n",
       "    .dataframe thead th {\n",
       "        text-align: right;\n",
       "    }\n",
       "</style>\n",
       "<table border=\"1\" class=\"dataframe\">\n",
       "  <thead>\n",
       "    <tr style=\"text-align: right;\">\n",
       "      <th></th>\n",
       "      <th>Order</th>\n",
       "      <th>PID</th>\n",
       "      <th>MS SubClass</th>\n",
       "      <th>MS Zoning</th>\n",
       "      <th>Lot Frontage</th>\n",
       "      <th>Lot Area</th>\n",
       "      <th>Street</th>\n",
       "      <th>Lot Shape</th>\n",
       "      <th>Land Contour</th>\n",
       "      <th>Utilities</th>\n",
       "      <th>...</th>\n",
       "      <th>Open Porch SF</th>\n",
       "      <th>Enclosed Porch</th>\n",
       "      <th>3Ssn Porch</th>\n",
       "      <th>Screen Porch</th>\n",
       "      <th>Pool Area</th>\n",
       "      <th>Misc Val</th>\n",
       "      <th>Mo Sold</th>\n",
       "      <th>Yr Sold</th>\n",
       "      <th>Sale Type</th>\n",
       "      <th>Sale Condition</th>\n",
       "    </tr>\n",
       "  </thead>\n",
       "  <tbody>\n",
       "    <tr>\n",
       "      <th>0</th>\n",
       "      <td>1</td>\n",
       "      <td>526301100</td>\n",
       "      <td>20</td>\n",
       "      <td>RL</td>\n",
       "      <td>141.0</td>\n",
       "      <td>31770</td>\n",
       "      <td>Pave</td>\n",
       "      <td>IR1</td>\n",
       "      <td>Lvl</td>\n",
       "      <td>AllPub</td>\n",
       "      <td>...</td>\n",
       "      <td>62</td>\n",
       "      <td>0</td>\n",
       "      <td>0</td>\n",
       "      <td>0</td>\n",
       "      <td>0</td>\n",
       "      <td>0</td>\n",
       "      <td>5</td>\n",
       "      <td>2010</td>\n",
       "      <td>WD</td>\n",
       "      <td>Normal</td>\n",
       "    </tr>\n",
       "    <tr>\n",
       "      <th>1</th>\n",
       "      <td>2</td>\n",
       "      <td>526350040</td>\n",
       "      <td>20</td>\n",
       "      <td>RH</td>\n",
       "      <td>80.0</td>\n",
       "      <td>11622</td>\n",
       "      <td>Pave</td>\n",
       "      <td>Reg</td>\n",
       "      <td>Lvl</td>\n",
       "      <td>AllPub</td>\n",
       "      <td>...</td>\n",
       "      <td>0</td>\n",
       "      <td>0</td>\n",
       "      <td>0</td>\n",
       "      <td>120</td>\n",
       "      <td>0</td>\n",
       "      <td>0</td>\n",
       "      <td>6</td>\n",
       "      <td>2010</td>\n",
       "      <td>WD</td>\n",
       "      <td>Normal</td>\n",
       "    </tr>\n",
       "    <tr>\n",
       "      <th>2</th>\n",
       "      <td>3</td>\n",
       "      <td>526351010</td>\n",
       "      <td>20</td>\n",
       "      <td>RL</td>\n",
       "      <td>81.0</td>\n",
       "      <td>14267</td>\n",
       "      <td>Pave</td>\n",
       "      <td>IR1</td>\n",
       "      <td>Lvl</td>\n",
       "      <td>AllPub</td>\n",
       "      <td>...</td>\n",
       "      <td>36</td>\n",
       "      <td>0</td>\n",
       "      <td>0</td>\n",
       "      <td>0</td>\n",
       "      <td>0</td>\n",
       "      <td>12500</td>\n",
       "      <td>6</td>\n",
       "      <td>2010</td>\n",
       "      <td>WD</td>\n",
       "      <td>Normal</td>\n",
       "    </tr>\n",
       "    <tr>\n",
       "      <th>3</th>\n",
       "      <td>4</td>\n",
       "      <td>526353030</td>\n",
       "      <td>20</td>\n",
       "      <td>RL</td>\n",
       "      <td>93.0</td>\n",
       "      <td>11160</td>\n",
       "      <td>Pave</td>\n",
       "      <td>Reg</td>\n",
       "      <td>Lvl</td>\n",
       "      <td>AllPub</td>\n",
       "      <td>...</td>\n",
       "      <td>0</td>\n",
       "      <td>0</td>\n",
       "      <td>0</td>\n",
       "      <td>0</td>\n",
       "      <td>0</td>\n",
       "      <td>0</td>\n",
       "      <td>4</td>\n",
       "      <td>2010</td>\n",
       "      <td>WD</td>\n",
       "      <td>Normal</td>\n",
       "    </tr>\n",
       "    <tr>\n",
       "      <th>4</th>\n",
       "      <td>5</td>\n",
       "      <td>527105010</td>\n",
       "      <td>60</td>\n",
       "      <td>RL</td>\n",
       "      <td>74.0</td>\n",
       "      <td>13830</td>\n",
       "      <td>Pave</td>\n",
       "      <td>IR1</td>\n",
       "      <td>Lvl</td>\n",
       "      <td>AllPub</td>\n",
       "      <td>...</td>\n",
       "      <td>34</td>\n",
       "      <td>0</td>\n",
       "      <td>0</td>\n",
       "      <td>0</td>\n",
       "      <td>0</td>\n",
       "      <td>0</td>\n",
       "      <td>3</td>\n",
       "      <td>2010</td>\n",
       "      <td>WD</td>\n",
       "      <td>Normal</td>\n",
       "    </tr>\n",
       "    <tr>\n",
       "      <th>...</th>\n",
       "      <td>...</td>\n",
       "      <td>...</td>\n",
       "      <td>...</td>\n",
       "      <td>...</td>\n",
       "      <td>...</td>\n",
       "      <td>...</td>\n",
       "      <td>...</td>\n",
       "      <td>...</td>\n",
       "      <td>...</td>\n",
       "      <td>...</td>\n",
       "      <td>...</td>\n",
       "      <td>...</td>\n",
       "      <td>...</td>\n",
       "      <td>...</td>\n",
       "      <td>...</td>\n",
       "      <td>...</td>\n",
       "      <td>...</td>\n",
       "      <td>...</td>\n",
       "      <td>...</td>\n",
       "      <td>...</td>\n",
       "      <td>...</td>\n",
       "    </tr>\n",
       "    <tr>\n",
       "      <th>2925</th>\n",
       "      <td>2926</td>\n",
       "      <td>923275080</td>\n",
       "      <td>80</td>\n",
       "      <td>RL</td>\n",
       "      <td>37.0</td>\n",
       "      <td>7937</td>\n",
       "      <td>Pave</td>\n",
       "      <td>IR1</td>\n",
       "      <td>Lvl</td>\n",
       "      <td>AllPub</td>\n",
       "      <td>...</td>\n",
       "      <td>0</td>\n",
       "      <td>0</td>\n",
       "      <td>0</td>\n",
       "      <td>0</td>\n",
       "      <td>0</td>\n",
       "      <td>0</td>\n",
       "      <td>3</td>\n",
       "      <td>2006</td>\n",
       "      <td>WD</td>\n",
       "      <td>Normal</td>\n",
       "    </tr>\n",
       "    <tr>\n",
       "      <th>2926</th>\n",
       "      <td>2927</td>\n",
       "      <td>923276100</td>\n",
       "      <td>20</td>\n",
       "      <td>RL</td>\n",
       "      <td>68.0</td>\n",
       "      <td>8885</td>\n",
       "      <td>Pave</td>\n",
       "      <td>IR1</td>\n",
       "      <td>Low</td>\n",
       "      <td>AllPub</td>\n",
       "      <td>...</td>\n",
       "      <td>0</td>\n",
       "      <td>0</td>\n",
       "      <td>0</td>\n",
       "      <td>0</td>\n",
       "      <td>0</td>\n",
       "      <td>0</td>\n",
       "      <td>6</td>\n",
       "      <td>2006</td>\n",
       "      <td>WD</td>\n",
       "      <td>Normal</td>\n",
       "    </tr>\n",
       "    <tr>\n",
       "      <th>2927</th>\n",
       "      <td>2928</td>\n",
       "      <td>923400125</td>\n",
       "      <td>85</td>\n",
       "      <td>RL</td>\n",
       "      <td>62.0</td>\n",
       "      <td>10441</td>\n",
       "      <td>Pave</td>\n",
       "      <td>Reg</td>\n",
       "      <td>Lvl</td>\n",
       "      <td>AllPub</td>\n",
       "      <td>...</td>\n",
       "      <td>32</td>\n",
       "      <td>0</td>\n",
       "      <td>0</td>\n",
       "      <td>0</td>\n",
       "      <td>0</td>\n",
       "      <td>700</td>\n",
       "      <td>7</td>\n",
       "      <td>2006</td>\n",
       "      <td>WD</td>\n",
       "      <td>Normal</td>\n",
       "    </tr>\n",
       "    <tr>\n",
       "      <th>2928</th>\n",
       "      <td>2929</td>\n",
       "      <td>924100070</td>\n",
       "      <td>20</td>\n",
       "      <td>RL</td>\n",
       "      <td>77.0</td>\n",
       "      <td>10010</td>\n",
       "      <td>Pave</td>\n",
       "      <td>Reg</td>\n",
       "      <td>Lvl</td>\n",
       "      <td>AllPub</td>\n",
       "      <td>...</td>\n",
       "      <td>38</td>\n",
       "      <td>0</td>\n",
       "      <td>0</td>\n",
       "      <td>0</td>\n",
       "      <td>0</td>\n",
       "      <td>0</td>\n",
       "      <td>4</td>\n",
       "      <td>2006</td>\n",
       "      <td>WD</td>\n",
       "      <td>Normal</td>\n",
       "    </tr>\n",
       "    <tr>\n",
       "      <th>2929</th>\n",
       "      <td>2930</td>\n",
       "      <td>924151050</td>\n",
       "      <td>60</td>\n",
       "      <td>RL</td>\n",
       "      <td>74.0</td>\n",
       "      <td>9627</td>\n",
       "      <td>Pave</td>\n",
       "      <td>Reg</td>\n",
       "      <td>Lvl</td>\n",
       "      <td>AllPub</td>\n",
       "      <td>...</td>\n",
       "      <td>48</td>\n",
       "      <td>0</td>\n",
       "      <td>0</td>\n",
       "      <td>0</td>\n",
       "      <td>0</td>\n",
       "      <td>0</td>\n",
       "      <td>11</td>\n",
       "      <td>2006</td>\n",
       "      <td>WD</td>\n",
       "      <td>Normal</td>\n",
       "    </tr>\n",
       "  </tbody>\n",
       "</table>\n",
       "<p>2930 rows × 77 columns</p>\n",
       "</div>"
      ],
      "text/plain": [
       "      Order        PID  MS SubClass MS Zoning  Lot Frontage  Lot Area Street  \\\n",
       "0         1  526301100           20        RL         141.0     31770   Pave   \n",
       "1         2  526350040           20        RH          80.0     11622   Pave   \n",
       "2         3  526351010           20        RL          81.0     14267   Pave   \n",
       "3         4  526353030           20        RL          93.0     11160   Pave   \n",
       "4         5  527105010           60        RL          74.0     13830   Pave   \n",
       "...     ...        ...          ...       ...           ...       ...    ...   \n",
       "2925   2926  923275080           80        RL          37.0      7937   Pave   \n",
       "2926   2927  923276100           20        RL          68.0      8885   Pave   \n",
       "2927   2928  923400125           85        RL          62.0     10441   Pave   \n",
       "2928   2929  924100070           20        RL          77.0     10010   Pave   \n",
       "2929   2930  924151050           60        RL          74.0      9627   Pave   \n",
       "\n",
       "     Lot Shape Land Contour Utilities  ... Open Porch SF Enclosed Porch  \\\n",
       "0          IR1          Lvl    AllPub  ...            62              0   \n",
       "1          Reg          Lvl    AllPub  ...             0              0   \n",
       "2          IR1          Lvl    AllPub  ...            36              0   \n",
       "3          Reg          Lvl    AllPub  ...             0              0   \n",
       "4          IR1          Lvl    AllPub  ...            34              0   \n",
       "...        ...          ...       ...  ...           ...            ...   \n",
       "2925       IR1          Lvl    AllPub  ...             0              0   \n",
       "2926       IR1          Low    AllPub  ...             0              0   \n",
       "2927       Reg          Lvl    AllPub  ...            32              0   \n",
       "2928       Reg          Lvl    AllPub  ...            38              0   \n",
       "2929       Reg          Lvl    AllPub  ...            48              0   \n",
       "\n",
       "     3Ssn Porch Screen Porch Pool Area Misc Val Mo Sold  Yr Sold  Sale Type  \\\n",
       "0             0            0         0        0       5     2010        WD    \n",
       "1             0          120         0        0       6     2010        WD    \n",
       "2             0            0         0    12500       6     2010        WD    \n",
       "3             0            0         0        0       4     2010        WD    \n",
       "4             0            0         0        0       3     2010        WD    \n",
       "...         ...          ...       ...      ...     ...      ...        ...   \n",
       "2925          0            0         0        0       3     2006        WD    \n",
       "2926          0            0         0        0       6     2006        WD    \n",
       "2927          0            0         0      700       7     2006        WD    \n",
       "2928          0            0         0        0       4     2006        WD    \n",
       "2929          0            0         0        0      11     2006        WD    \n",
       "\n",
       "      Sale Condition  \n",
       "0             Normal  \n",
       "1             Normal  \n",
       "2             Normal  \n",
       "3             Normal  \n",
       "4             Normal  \n",
       "...              ...  \n",
       "2925          Normal  \n",
       "2926          Normal  \n",
       "2927          Normal  \n",
       "2928          Normal  \n",
       "2929          Normal  \n",
       "\n",
       "[2930 rows x 77 columns]"
      ]
     },
     "execution_count": 14,
     "metadata": {},
     "output_type": "execute_result"
    }
   ],
   "source": [
    "features_df"
   ]
  },
  {
   "cell_type": "code",
   "execution_count": 15,
   "metadata": {},
   "outputs": [],
   "source": [
    "features_df.drop(['Order', 'PID'], axis=1, inplace=True)"
   ]
  },
  {
   "cell_type": "code",
   "execution_count": 16,
   "metadata": {},
   "outputs": [
    {
     "data": {
      "text/html": [
       "<div>\n",
       "<style scoped>\n",
       "    .dataframe tbody tr th:only-of-type {\n",
       "        vertical-align: middle;\n",
       "    }\n",
       "\n",
       "    .dataframe tbody tr th {\n",
       "        vertical-align: top;\n",
       "    }\n",
       "\n",
       "    .dataframe thead th {\n",
       "        text-align: right;\n",
       "    }\n",
       "</style>\n",
       "<table border=\"1\" class=\"dataframe\">\n",
       "  <thead>\n",
       "    <tr style=\"text-align: right;\">\n",
       "      <th></th>\n",
       "      <th>MS SubClass</th>\n",
       "      <th>MS Zoning</th>\n",
       "      <th>Lot Frontage</th>\n",
       "      <th>Lot Area</th>\n",
       "      <th>Street</th>\n",
       "      <th>Lot Shape</th>\n",
       "      <th>Land Contour</th>\n",
       "      <th>Utilities</th>\n",
       "      <th>Lot Config</th>\n",
       "      <th>Land Slope</th>\n",
       "      <th>...</th>\n",
       "      <th>Open Porch SF</th>\n",
       "      <th>Enclosed Porch</th>\n",
       "      <th>3Ssn Porch</th>\n",
       "      <th>Screen Porch</th>\n",
       "      <th>Pool Area</th>\n",
       "      <th>Misc Val</th>\n",
       "      <th>Mo Sold</th>\n",
       "      <th>Yr Sold</th>\n",
       "      <th>Sale Type</th>\n",
       "      <th>Sale Condition</th>\n",
       "    </tr>\n",
       "  </thead>\n",
       "  <tbody>\n",
       "    <tr>\n",
       "      <th>0</th>\n",
       "      <td>20</td>\n",
       "      <td>RL</td>\n",
       "      <td>141.0</td>\n",
       "      <td>31770</td>\n",
       "      <td>Pave</td>\n",
       "      <td>IR1</td>\n",
       "      <td>Lvl</td>\n",
       "      <td>AllPub</td>\n",
       "      <td>Corner</td>\n",
       "      <td>Gtl</td>\n",
       "      <td>...</td>\n",
       "      <td>62</td>\n",
       "      <td>0</td>\n",
       "      <td>0</td>\n",
       "      <td>0</td>\n",
       "      <td>0</td>\n",
       "      <td>0</td>\n",
       "      <td>5</td>\n",
       "      <td>2010</td>\n",
       "      <td>WD</td>\n",
       "      <td>Normal</td>\n",
       "    </tr>\n",
       "    <tr>\n",
       "      <th>1</th>\n",
       "      <td>20</td>\n",
       "      <td>RH</td>\n",
       "      <td>80.0</td>\n",
       "      <td>11622</td>\n",
       "      <td>Pave</td>\n",
       "      <td>Reg</td>\n",
       "      <td>Lvl</td>\n",
       "      <td>AllPub</td>\n",
       "      <td>Inside</td>\n",
       "      <td>Gtl</td>\n",
       "      <td>...</td>\n",
       "      <td>0</td>\n",
       "      <td>0</td>\n",
       "      <td>0</td>\n",
       "      <td>120</td>\n",
       "      <td>0</td>\n",
       "      <td>0</td>\n",
       "      <td>6</td>\n",
       "      <td>2010</td>\n",
       "      <td>WD</td>\n",
       "      <td>Normal</td>\n",
       "    </tr>\n",
       "    <tr>\n",
       "      <th>2</th>\n",
       "      <td>20</td>\n",
       "      <td>RL</td>\n",
       "      <td>81.0</td>\n",
       "      <td>14267</td>\n",
       "      <td>Pave</td>\n",
       "      <td>IR1</td>\n",
       "      <td>Lvl</td>\n",
       "      <td>AllPub</td>\n",
       "      <td>Corner</td>\n",
       "      <td>Gtl</td>\n",
       "      <td>...</td>\n",
       "      <td>36</td>\n",
       "      <td>0</td>\n",
       "      <td>0</td>\n",
       "      <td>0</td>\n",
       "      <td>0</td>\n",
       "      <td>12500</td>\n",
       "      <td>6</td>\n",
       "      <td>2010</td>\n",
       "      <td>WD</td>\n",
       "      <td>Normal</td>\n",
       "    </tr>\n",
       "    <tr>\n",
       "      <th>3</th>\n",
       "      <td>20</td>\n",
       "      <td>RL</td>\n",
       "      <td>93.0</td>\n",
       "      <td>11160</td>\n",
       "      <td>Pave</td>\n",
       "      <td>Reg</td>\n",
       "      <td>Lvl</td>\n",
       "      <td>AllPub</td>\n",
       "      <td>Corner</td>\n",
       "      <td>Gtl</td>\n",
       "      <td>...</td>\n",
       "      <td>0</td>\n",
       "      <td>0</td>\n",
       "      <td>0</td>\n",
       "      <td>0</td>\n",
       "      <td>0</td>\n",
       "      <td>0</td>\n",
       "      <td>4</td>\n",
       "      <td>2010</td>\n",
       "      <td>WD</td>\n",
       "      <td>Normal</td>\n",
       "    </tr>\n",
       "    <tr>\n",
       "      <th>4</th>\n",
       "      <td>60</td>\n",
       "      <td>RL</td>\n",
       "      <td>74.0</td>\n",
       "      <td>13830</td>\n",
       "      <td>Pave</td>\n",
       "      <td>IR1</td>\n",
       "      <td>Lvl</td>\n",
       "      <td>AllPub</td>\n",
       "      <td>Inside</td>\n",
       "      <td>Gtl</td>\n",
       "      <td>...</td>\n",
       "      <td>34</td>\n",
       "      <td>0</td>\n",
       "      <td>0</td>\n",
       "      <td>0</td>\n",
       "      <td>0</td>\n",
       "      <td>0</td>\n",
       "      <td>3</td>\n",
       "      <td>2010</td>\n",
       "      <td>WD</td>\n",
       "      <td>Normal</td>\n",
       "    </tr>\n",
       "    <tr>\n",
       "      <th>...</th>\n",
       "      <td>...</td>\n",
       "      <td>...</td>\n",
       "      <td>...</td>\n",
       "      <td>...</td>\n",
       "      <td>...</td>\n",
       "      <td>...</td>\n",
       "      <td>...</td>\n",
       "      <td>...</td>\n",
       "      <td>...</td>\n",
       "      <td>...</td>\n",
       "      <td>...</td>\n",
       "      <td>...</td>\n",
       "      <td>...</td>\n",
       "      <td>...</td>\n",
       "      <td>...</td>\n",
       "      <td>...</td>\n",
       "      <td>...</td>\n",
       "      <td>...</td>\n",
       "      <td>...</td>\n",
       "      <td>...</td>\n",
       "      <td>...</td>\n",
       "    </tr>\n",
       "    <tr>\n",
       "      <th>2925</th>\n",
       "      <td>80</td>\n",
       "      <td>RL</td>\n",
       "      <td>37.0</td>\n",
       "      <td>7937</td>\n",
       "      <td>Pave</td>\n",
       "      <td>IR1</td>\n",
       "      <td>Lvl</td>\n",
       "      <td>AllPub</td>\n",
       "      <td>CulDSac</td>\n",
       "      <td>Gtl</td>\n",
       "      <td>...</td>\n",
       "      <td>0</td>\n",
       "      <td>0</td>\n",
       "      <td>0</td>\n",
       "      <td>0</td>\n",
       "      <td>0</td>\n",
       "      <td>0</td>\n",
       "      <td>3</td>\n",
       "      <td>2006</td>\n",
       "      <td>WD</td>\n",
       "      <td>Normal</td>\n",
       "    </tr>\n",
       "    <tr>\n",
       "      <th>2926</th>\n",
       "      <td>20</td>\n",
       "      <td>RL</td>\n",
       "      <td>68.0</td>\n",
       "      <td>8885</td>\n",
       "      <td>Pave</td>\n",
       "      <td>IR1</td>\n",
       "      <td>Low</td>\n",
       "      <td>AllPub</td>\n",
       "      <td>Inside</td>\n",
       "      <td>Mod</td>\n",
       "      <td>...</td>\n",
       "      <td>0</td>\n",
       "      <td>0</td>\n",
       "      <td>0</td>\n",
       "      <td>0</td>\n",
       "      <td>0</td>\n",
       "      <td>0</td>\n",
       "      <td>6</td>\n",
       "      <td>2006</td>\n",
       "      <td>WD</td>\n",
       "      <td>Normal</td>\n",
       "    </tr>\n",
       "    <tr>\n",
       "      <th>2927</th>\n",
       "      <td>85</td>\n",
       "      <td>RL</td>\n",
       "      <td>62.0</td>\n",
       "      <td>10441</td>\n",
       "      <td>Pave</td>\n",
       "      <td>Reg</td>\n",
       "      <td>Lvl</td>\n",
       "      <td>AllPub</td>\n",
       "      <td>Inside</td>\n",
       "      <td>Gtl</td>\n",
       "      <td>...</td>\n",
       "      <td>32</td>\n",
       "      <td>0</td>\n",
       "      <td>0</td>\n",
       "      <td>0</td>\n",
       "      <td>0</td>\n",
       "      <td>700</td>\n",
       "      <td>7</td>\n",
       "      <td>2006</td>\n",
       "      <td>WD</td>\n",
       "      <td>Normal</td>\n",
       "    </tr>\n",
       "    <tr>\n",
       "      <th>2928</th>\n",
       "      <td>20</td>\n",
       "      <td>RL</td>\n",
       "      <td>77.0</td>\n",
       "      <td>10010</td>\n",
       "      <td>Pave</td>\n",
       "      <td>Reg</td>\n",
       "      <td>Lvl</td>\n",
       "      <td>AllPub</td>\n",
       "      <td>Inside</td>\n",
       "      <td>Mod</td>\n",
       "      <td>...</td>\n",
       "      <td>38</td>\n",
       "      <td>0</td>\n",
       "      <td>0</td>\n",
       "      <td>0</td>\n",
       "      <td>0</td>\n",
       "      <td>0</td>\n",
       "      <td>4</td>\n",
       "      <td>2006</td>\n",
       "      <td>WD</td>\n",
       "      <td>Normal</td>\n",
       "    </tr>\n",
       "    <tr>\n",
       "      <th>2929</th>\n",
       "      <td>60</td>\n",
       "      <td>RL</td>\n",
       "      <td>74.0</td>\n",
       "      <td>9627</td>\n",
       "      <td>Pave</td>\n",
       "      <td>Reg</td>\n",
       "      <td>Lvl</td>\n",
       "      <td>AllPub</td>\n",
       "      <td>Inside</td>\n",
       "      <td>Mod</td>\n",
       "      <td>...</td>\n",
       "      <td>48</td>\n",
       "      <td>0</td>\n",
       "      <td>0</td>\n",
       "      <td>0</td>\n",
       "      <td>0</td>\n",
       "      <td>0</td>\n",
       "      <td>11</td>\n",
       "      <td>2006</td>\n",
       "      <td>WD</td>\n",
       "      <td>Normal</td>\n",
       "    </tr>\n",
       "  </tbody>\n",
       "</table>\n",
       "<p>2930 rows × 75 columns</p>\n",
       "</div>"
      ],
      "text/plain": [
       "      MS SubClass MS Zoning  Lot Frontage  Lot Area Street Lot Shape  \\\n",
       "0              20        RL         141.0     31770   Pave       IR1   \n",
       "1              20        RH          80.0     11622   Pave       Reg   \n",
       "2              20        RL          81.0     14267   Pave       IR1   \n",
       "3              20        RL          93.0     11160   Pave       Reg   \n",
       "4              60        RL          74.0     13830   Pave       IR1   \n",
       "...           ...       ...           ...       ...    ...       ...   \n",
       "2925           80        RL          37.0      7937   Pave       IR1   \n",
       "2926           20        RL          68.0      8885   Pave       IR1   \n",
       "2927           85        RL          62.0     10441   Pave       Reg   \n",
       "2928           20        RL          77.0     10010   Pave       Reg   \n",
       "2929           60        RL          74.0      9627   Pave       Reg   \n",
       "\n",
       "     Land Contour Utilities Lot Config Land Slope  ... Open Porch SF  \\\n",
       "0             Lvl    AllPub     Corner        Gtl  ...            62   \n",
       "1             Lvl    AllPub     Inside        Gtl  ...             0   \n",
       "2             Lvl    AllPub     Corner        Gtl  ...            36   \n",
       "3             Lvl    AllPub     Corner        Gtl  ...             0   \n",
       "4             Lvl    AllPub     Inside        Gtl  ...            34   \n",
       "...           ...       ...        ...        ...  ...           ...   \n",
       "2925          Lvl    AllPub    CulDSac        Gtl  ...             0   \n",
       "2926          Low    AllPub     Inside        Mod  ...             0   \n",
       "2927          Lvl    AllPub     Inside        Gtl  ...            32   \n",
       "2928          Lvl    AllPub     Inside        Mod  ...            38   \n",
       "2929          Lvl    AllPub     Inside        Mod  ...            48   \n",
       "\n",
       "     Enclosed Porch 3Ssn Porch Screen Porch Pool Area  Misc Val  Mo Sold  \\\n",
       "0                 0          0            0         0         0        5   \n",
       "1                 0          0          120         0         0        6   \n",
       "2                 0          0            0         0     12500        6   \n",
       "3                 0          0            0         0         0        4   \n",
       "4                 0          0            0         0         0        3   \n",
       "...             ...        ...          ...       ...       ...      ...   \n",
       "2925              0          0            0         0         0        3   \n",
       "2926              0          0            0         0         0        6   \n",
       "2927              0          0            0         0       700        7   \n",
       "2928              0          0            0         0         0        4   \n",
       "2929              0          0            0         0         0       11   \n",
       "\n",
       "      Yr Sold  Sale Type Sale Condition  \n",
       "0        2010        WD          Normal  \n",
       "1        2010        WD          Normal  \n",
       "2        2010        WD          Normal  \n",
       "3        2010        WD          Normal  \n",
       "4        2010        WD          Normal  \n",
       "...       ...        ...            ...  \n",
       "2925     2006        WD          Normal  \n",
       "2926     2006        WD          Normal  \n",
       "2927     2006        WD          Normal  \n",
       "2928     2006        WD          Normal  \n",
       "2929     2006        WD          Normal  \n",
       "\n",
       "[2930 rows x 75 columns]"
      ]
     },
     "execution_count": 16,
     "metadata": {},
     "output_type": "execute_result"
    }
   ],
   "source": [
    "features_df"
   ]
  },
  {
   "cell_type": "markdown",
   "metadata": {},
   "source": [
    "### 2.2.5 Splitting Data Train dan Test"
   ]
  },
  {
   "cell_type": "code",
   "execution_count": 17,
   "metadata": {},
   "outputs": [],
   "source": [
    "# 3. Split data sebelum transformasi\n",
    "X_train, X_test, y_train, y_test = train_test_split(\n",
    "    features_df, target_series, test_size=0.2, random_state=42\n",
    ")"
   ]
  },
  {
   "cell_type": "code",
   "execution_count": 18,
   "metadata": {},
   "outputs": [
    {
     "name": "stdout",
     "output_type": "stream",
     "text": [
      "Train size: (2344, 75)\n",
      "Test size: (586, 75)\n",
      "Target Train size: (2344,)\n",
      "Target Test size: (586,)\n"
     ]
    }
   ],
   "source": [
    "print(\"Train size:\", X_train.shape)\n",
    "print(\"Test size:\", X_test.shape)\n",
    "print(\"Target Train size:\", y_train.shape)\n",
    "print(\"Target Test size:\", y_test.shape)\n"
   ]
  },
  {
   "cell_type": "markdown",
   "metadata": {},
   "source": [
    "### 2.2.5 Encoding data kategorikal"
   ]
  },
  {
   "cell_type": "code",
   "execution_count": 19,
   "metadata": {},
   "outputs": [],
   "source": [
    "# 4. Feature grouping\n",
    "numerical_features = [\n",
    "    'Lot Frontage', 'Lot Area', 'Mas Vnr Area',\n",
    "    'BsmtFin SF 1', 'BsmtFin SF 2', 'Bsmt Unf SF', 'Total Bsmt SF',\n",
    "    '1st Flr SF', '2nd Flr SF', 'Low Qual Fin SF', 'Gr Liv Area',\n",
    "    'Bsmt Full Bath', 'Bsmt Half Bath', 'Full Bath', 'Half Bath',\n",
    "    'Bedroom AbvGr', 'Kitchen AbvGr', 'TotRms AbvGrd',\n",
    "    'Fireplaces', 'Garage Cars', 'Garage Area',\n",
    "    'Wood Deck SF', 'Open Porch SF', 'Enclosed Porch', '3Ssn Porch', 'Screen Porch',\n",
    "    'Pool Area', 'Misc Val',\n",
    "    'Year Built', 'Year Remod/Add', 'Garage Yr Blt',\n",
    "    'Mo Sold', 'Yr Sold'\n",
    "]\n",
    "\n",
    "ordinal_features = {\n",
    "    'Lot Shape': ['IR3', 'IR2', 'IR1', 'Reg'],\n",
    "    'Exter Qual': ['None', 'Po', 'Fa', 'TA', 'Gd', 'Ex'],\n",
    "    'Exter Cond': ['None', 'Po', 'Fa', 'TA', 'Gd', 'Ex'],\n",
    "    'Bsmt Qual': ['None', 'Po', 'Fa', 'TA', 'Gd', 'Ex'],\n",
    "    'Bsmt Cond': ['None', 'Po', 'Fa', 'TA', 'Gd', 'Ex'],\n",
    "    'Bsmt Exposure': ['None', 'No', 'Mn', 'Av', 'Gd'],\n",
    "    'BsmtFin Type 1': ['None', 'Unf', 'LwQ', 'Rec', 'BLQ', 'ALQ', 'GLQ'],\n",
    "    'BsmtFin Type 2': ['None', 'Unf', 'LwQ', 'Rec', 'BLQ', 'ALQ', 'GLQ'],\n",
    "    'Heating QC': ['Po', 'Fa', 'TA', 'Gd', 'Ex'],\n",
    "    'Kitchen Qual': ['None', 'Po', 'Fa', 'TA', 'Gd', 'Ex'],\n",
    "    'Fireplace Qu': ['None', 'Po', 'Fa', 'TA', 'Gd', 'Ex'],\n",
    "    'Garage Finish': ['None', 'Unf', 'RFn', 'Fin'],\n",
    "    'Garage Qual': ['None', 'Po', 'Fa', 'TA', 'Gd', 'Ex'],\n",
    "    'Garage Cond': ['None', 'Po', 'Fa', 'TA', 'Gd', 'Ex'],\n",
    "    'Functional': ['Sal', 'Sev', 'Maj2', 'Maj1', 'Mod', 'Min2', 'Min1', 'Typ'],\n",
    "    'Paved Drive': ['N', 'P', 'Y']\n",
    "}\n",
    "\n",
    "nominal_features = [\n",
    "    'MS SubClass', 'MS Zoning', 'Street', 'Land Contour',\n",
    "    'Lot Config', 'Land Slope', 'Neighborhood',\n",
    "    'Condition 1', 'Condition 2', 'Bldg Type', 'House Style',\n",
    "    'Roof Style', 'Roof Matl', 'Exterior 1st', 'Exterior 2nd',\n",
    "    'Mas Vnr Type', 'Foundation', 'Heating', 'Electrical',\n",
    "    'Garage Type', 'Sale Type', 'Sale Condition'\n",
    "]\n",
    "\n",
    "binary_features = ['Central Air']"
   ]
  },
  {
   "cell_type": "code",
   "execution_count": 20,
   "metadata": {},
   "outputs": [
    {
     "data": {
      "text/plain": [
       "Misc Val           21.999788\n",
       "Pool Area          16.939142\n",
       "Lot Area           12.820898\n",
       "Low Qual Fin SF    12.118162\n",
       "3Ssn Porch         11.403795\n",
       "Kitchen AbvGr       4.313825\n",
       "BsmtFin SF 2        4.139978\n",
       "Enclosed Porch      4.014446\n",
       "Screen Porch        3.957467\n",
       "Bsmt Half Bath      3.940795\n",
       "Mas Vnr Area        2.606985\n",
       "Open Porch SF       2.535386\n",
       "Wood Deck SF        1.842678\n",
       "Lot Frontage        1.499067\n",
       "1st Flr SF          1.469429\n",
       "BsmtFin SF 1        1.416182\n",
       "Gr Liv Area         1.274110\n",
       "Total Bsmt SF       1.156204\n",
       "Bsmt Unf SF         0.923053\n",
       "2nd Flr SF          0.866457\n",
       "TotRms AbvGrd       0.753543\n",
       "Fireplaces          0.739215\n",
       "Half Bath           0.697713\n",
       "Bsmt Full Bath      0.616639\n",
       "Bedroom AbvGr       0.305694\n",
       "Garage Area         0.241994\n",
       "Mo Sold             0.192596\n",
       "Full Bath           0.171952\n",
       "Yr Sold             0.134862\n",
       "Garage Cars        -0.219836\n",
       "Garage Yr Blt      -0.384672\n",
       "Year Remod/Add     -0.451863\n",
       "Year Built         -0.604462\n",
       "dtype: float64"
      ]
     },
     "execution_count": 20,
     "metadata": {},
     "output_type": "execute_result"
    }
   ],
   "source": [
    "import numpy as np\n",
    "import seaborn as sns\n",
    "import matplotlib.pyplot as plt\n",
    "\n",
    "# Ambil hanya fitur numerik dari grup yang user buat\n",
    "numerical_features = [\n",
    "    'Lot Frontage', 'Lot Area', 'Mas Vnr Area',\n",
    "    'BsmtFin SF 1', 'BsmtFin SF 2', 'Bsmt Unf SF', 'Total Bsmt SF',\n",
    "    '1st Flr SF', '2nd Flr SF', 'Low Qual Fin SF', 'Gr Liv Area',\n",
    "    'Bsmt Full Bath', 'Bsmt Half Bath', 'Full Bath', 'Half Bath',\n",
    "    'Bedroom AbvGr', 'Kitchen AbvGr', 'TotRms AbvGrd',\n",
    "    'Fireplaces', 'Garage Cars', 'Garage Area',\n",
    "    'Wood Deck SF', 'Open Porch SF', 'Enclosed Porch', '3Ssn Porch', 'Screen Porch',\n",
    "    'Pool Area', 'Misc Val',\n",
    "    'Year Built', 'Year Remod/Add', 'Garage Yr Blt',\n",
    "    'Mo Sold', 'Yr Sold'\n",
    "]\n",
    "\n",
    "# Ambil subset data\n",
    "num_data = df[numerical_features]\n",
    "\n",
    "# Hitung skewness untuk tiap fitur numerik\n",
    "skewness = num_data.skew(numeric_only=True).sort_values(ascending=False)\n",
    "\n",
    "skewness"
   ]
  },
  {
   "cell_type": "markdown",
   "metadata": {},
   "source": [
    "#### Tanpa Scaling"
   ]
  },
  {
   "cell_type": "code",
   "execution_count": 21,
   "metadata": {},
   "outputs": [],
   "source": [
    "# 5. Transformers\n",
    "numerical_transformer = Pipeline(steps=[\n",
    "    ('imputer', SimpleImputer(strategy='median')),\n",
    "    ('scaler', StandardScaler())\n",
    "])\n",
    "\n",
    "ordinal_transformer = Pipeline(steps=[\n",
    "    ('imputer', SimpleImputer(strategy='constant', fill_value='None')),\n",
    "    ('encoder', OrdinalEncoder(categories=[ordinal_features[col] for col in ordinal_features]))\n",
    "])\n",
    "\n",
    "nominal_transformer = Pipeline(steps=[\n",
    "    ('imputer', SimpleImputer(strategy='constant', fill_value='None')),\n",
    "    ('encoder', OneHotEncoder(handle_unknown='ignore'))\n",
    "])\n",
    "\n",
    "binary_transformer = Pipeline(steps=[\n",
    "    ('encoder', OrdinalEncoder(categories=[['N', 'Y']]))\n",
    "])"
   ]
  },
  {
   "cell_type": "code",
   "execution_count": 22,
   "metadata": {},
   "outputs": [],
   "source": [
    "# 6. Preprocessor\n",
    "preprocessor = ColumnTransformer(transformers=[\n",
    "    ('num', numerical_transformer, numerical_features),\n",
    "    ('ord', ordinal_transformer, list(ordinal_features.keys())),\n",
    "    ('nom', nominal_transformer, nominal_features),\n",
    "    ('bin', binary_transformer, binary_features)\n",
    "])\n"
   ]
  },
  {
   "cell_type": "code",
   "execution_count": 24,
   "metadata": {},
   "outputs": [],
   "source": [
    "# Ordinal feature names dan urutan kategorinya\n",
    "ordinal_feature_names = list(ordinal_features.keys())\n",
    "ordinal_categories = list(ordinal_features.values())\n",
    "\n",
    "# Pipeline numerik (dengan scaling)\n",
    "numerical_pipeline_scaled = Pipeline([\n",
    "    ('imputer', SimpleImputer(strategy='median')),\n",
    "    ('scaler', StandardScaler())\n",
    "])\n",
    "\n",
    "# Pipeline numerik (tanpa scaling)\n",
    "# numerical_pipeline_nonscaled = Pipeline([\n",
    "#     ('imputer', SimpleImputer(strategy='mean'))\n",
    "# ])\n",
    "\n",
    "# Pipeline ordinal\n",
    "ordinal_pipeline = Pipeline([\n",
    "    ('imputer', SimpleImputer(strategy='constant', fill_value='None')),\n",
    "    ('ordinal', OrdinalEncoder(categories=ordinal_categories))\n",
    "])\n",
    "\n",
    "# Pipeline nominal & binary (OneHot)\n",
    "nominal_pipeline = Pipeline([\n",
    "    ('imputer', SimpleImputer(strategy='most_frequent')),\n",
    "    ('onehot', OneHotEncoder(handle_unknown='ignore'))\n",
    "])\n",
    "\n"
   ]
  },
  {
   "cell_type": "code",
   "execution_count": 25,
   "metadata": {},
   "outputs": [],
   "source": [
    "# Preprocessor untuk model yang butuh scaling\n",
    "preprocessor_scaled = ColumnTransformer([\n",
    "    ('num', numerical_pipeline_scaled, numerical_features),\n",
    "    ('ord', ordinal_pipeline, ordinal_feature_names),\n",
    "    ('nom', nominal_pipeline, nominal_features + binary_features)\n",
    "])\n",
    "\n",
    "# Preprocessor untuk model yang tidak butuh scaling\n",
    "preprocessor_nonscaled = ColumnTransformer([\n",
    "    # ('num', numerical_pipeline_nonscaled, numerical_features),\n",
    "    ('ord', ordinal_pipeline, ordinal_feature_names),\n",
    "    ('nom', nominal_pipeline, nominal_features + binary_features)\n",
    "])\n"
   ]
  },
  {
   "cell_type": "markdown",
   "metadata": {},
   "source": [
    "#### Dengan Scaling"
   ]
  },
  {
   "cell_type": "code",
   "execution_count": 39,
   "metadata": {},
   "outputs": [],
   "source": [
    "# 4. Feature grouping\n",
    "numerical_features = [\n",
    "    'Lot Frontage', 'Lot Area', 'Mas Vnr Area',\n",
    "    'BsmtFin SF 1', 'BsmtFin SF 2', 'Bsmt Unf SF', 'Total Bsmt SF',\n",
    "    '1st Flr SF', '2nd Flr SF', 'Low Qual Fin SF', 'Gr Liv Area',\n",
    "    'Bsmt Full Bath', 'Bsmt Half Bath', 'Full Bath', 'Half Bath',\n",
    "    'Bedroom AbvGr', 'Kitchen AbvGr', 'TotRms AbvGrd',\n",
    "    'Fireplaces', 'Garage Cars', 'Garage Area',\n",
    "    'Wood Deck SF', 'Open Porch SF', 'Enclosed Porch', '3Ssn Porch', 'Screen Porch',\n",
    "    'Pool Area', 'Misc Val',\n",
    "    'Year Built', 'Year Remod/Add', 'Garage Yr Blt',\n",
    "    'Mo Sold', 'Yr Sold'\n",
    "]\n",
    "\n",
    "ordinal_features = {\n",
    "    'Lot Shape': ['IR3', 'IR2', 'IR1', 'Reg'],\n",
    "    'Exter Qual': ['None', 'Po', 'Fa', 'TA', 'Gd', 'Ex'],\n",
    "    'Exter Cond': ['None', 'Po', 'Fa', 'TA', 'Gd', 'Ex'],\n",
    "    'Bsmt Qual': ['None', 'Po', 'Fa', 'TA', 'Gd', 'Ex'],\n",
    "    'Bsmt Cond': ['None', 'Po', 'Fa', 'TA', 'Gd', 'Ex'],\n",
    "    'Bsmt Exposure': ['None', 'No', 'Mn', 'Av', 'Gd'],\n",
    "    'BsmtFin Type 1': ['None', 'Unf', 'LwQ', 'Rec', 'BLQ', 'ALQ', 'GLQ'],\n",
    "    'BsmtFin Type 2': ['None', 'Unf', 'LwQ', 'Rec', 'BLQ', 'ALQ', 'GLQ'],\n",
    "    'Heating QC': ['Po', 'Fa', 'TA', 'Gd', 'Ex'],\n",
    "    'Kitchen Qual': ['None', 'Po', 'Fa', 'TA', 'Gd', 'Ex'],\n",
    "    'Fireplace Qu': ['None', 'Po', 'Fa', 'TA', 'Gd', 'Ex'],\n",
    "    'Garage Finish': ['None', 'Unf', 'RFn', 'Fin'],\n",
    "    'Garage Qual': ['None', 'Po', 'Fa', 'TA', 'Gd', 'Ex'],\n",
    "    'Garage Cond': ['None', 'Po', 'Fa', 'TA', 'Gd', 'Ex'],\n",
    "    'Functional': ['Sal', 'Sev', 'Maj2', 'Maj1', 'Mod', 'Min2', 'Min1', 'Typ'],\n",
    "    'Paved Drive': ['N', 'P', 'Y']\n",
    "}\n",
    "\n",
    "nominal_features = [\n",
    "    'MS SubClass', 'MS Zoning', 'Street', 'Land Contour',\n",
    "    'Lot Config', 'Land Slope', 'Neighborhood',\n",
    "    'Condition 1', 'Condition 2', 'Bldg Type', 'House Style',\n",
    "    'Roof Style', 'Roof Matl', 'Exterior 1st', 'Exterior 2nd',\n",
    "    'Mas Vnr Type', 'Foundation', 'Heating', 'Electrical',\n",
    "    'Garage Type', 'Sale Type', 'Sale Condition',\n",
    "    'Utilities'\n",
    "]\n",
    "\n",
    "binary_features = ['Central Air']\n",
    "\n"
   ]
  },
  {
   "cell_type": "code",
   "execution_count": 41,
   "metadata": {},
   "outputs": [],
   "source": [
    "# Definisi fitur sesuai jenis scaler\n",
    "robust_features = [\n",
    "    'Misc Val', 'Pool Area', 'Lot Area', 'Low Qual Fin SF', '3Ssn Porch',\n",
    "    'Kitchen AbvGr', 'BsmtFin SF 2', 'Enclosed Porch', 'Screen Porch',\n",
    "    'Bsmt Half Bath', 'Mas Vnr Area', 'Open Porch SF', 'Wood Deck SF',\n",
    "    'Lot Frontage', '1st Flr SF', 'BsmtFin SF 1', 'Gr Liv Area', 'Total Bsmt SF'\n",
    "] #18\n",
    "\n",
    "standard_features = [\n",
    "    'Bsmt Unf SF', '2nd Flr SF', 'TotRms AbvGrd', 'Fireplaces', 'Half Bath',\n",
    "    'Bsmt Full Bath', 'Bedroom AbvGr', 'Garage Area', 'Mo Sold',\n",
    "    'Full Bath', 'Yr Sold'\n",
    "] #11\n",
    "\n",
    "minmax_features = [\n",
    "    'Garage Cars', 'Garage Yr Blt', 'Year Remod/Add', 'Year Built'\n",
    "] #4\n",
    "\n",
    "\n",
    "# --- Skaler ---\n",
    "# robust_features = [ ... ]  # seperti sebelumnya\n",
    "# standard_features = [ ... ]\n",
    "# minmax_features = [ ... ]\n",
    "\n",
    "# --- Encoder ---\n",
    "# ordinal_features = { ... }  # dictionary urutan kategori seperti sebelumnya\n",
    "ordinal_cols = list(ordinal_features.keys())\n",
    "ordinal_categories = list(ordinal_features.values())\n",
    "\n",
    "# nominal_features = [ ... ]  # list dari kamu\n",
    "binary_features = ['Central Air']\n",
    "\n",
    "# --- pipeline encoding ---\n",
    "ordinal_pipeline = Pipeline([\n",
    "    (\"imputer\", SimpleImputer(strategy=\"constant\", fill_value=\"None\")),\n",
    "    (\"encoder\", OrdinalEncoder(categories=ordinal_categories))\n",
    "])\n",
    "\n",
    "nominal_pipeline = Pipeline([\n",
    "    (\"imputer\", SimpleImputer(strategy=\"most_frequent\")),\n",
    "    (\"encoder\", OneHotEncoder(handle_unknown=\"ignore\", sparse_output=False))\n",
    "])\n",
    "\n",
    "binary_pipeline = Pipeline([\n",
    "    (\"imputer\", SimpleImputer(strategy=\"most_frequent\")),\n",
    "    (\"encoder\", OrdinalEncoder())\n",
    "])\n",
    "\n",
    "# --- full preprocessor (dengan scaling) ---\n",
    "full_preprocessor = ColumnTransformer([\n",
    "    (\"robust\", RobustScaler(), robust_features),\n",
    "    (\"standard\", StandardScaler(), standard_features),\n",
    "    (\"minmax\", MinMaxScaler(), minmax_features),\n",
    "    (\"ordinal\", ordinal_pipeline, ordinal_cols),\n",
    "    (\"nominal\", nominal_pipeline, nominal_features),\n",
    "    (\"binary\", binary_pipeline, binary_features)\n",
    "])\n",
    "\n",
    "# --- preprocessor untuk model non-skala (hanya encoding) ---\n",
    "encoding_only_preprocessor = ColumnTransformer([\n",
    "    (\"ordinal\", ordinal_pipeline, ordinal_cols),\n",
    "    (\"nominal\", nominal_pipeline, nominal_features),\n",
    "    (\"binary\", binary_pipeline, binary_features)\n",
    "], remainder='passthrough')"
   ]
  },
  {
   "cell_type": "markdown",
   "metadata": {},
   "source": [
    "# 3. Data Modeling"
   ]
  },
  {
   "cell_type": "markdown",
   "metadata": {},
   "source": [
    "## 3.1 Model Selection"
   ]
  },
  {
   "cell_type": "markdown",
   "metadata": {},
   "source": [
    "#### Tanpa Scaling"
   ]
  },
  {
   "cell_type": "code",
   "execution_count": 23,
   "metadata": {},
   "outputs": [],
   "source": [
    "# 7. Model dictionary\n",
    "models = {\n",
    "    \"LinearRegression\": LinearRegression(),\n",
    "    \"Ridge\": Ridge(),\n",
    "    \"Lasso\": Lasso(),\n",
    "    \"DecisionTree\": DecisionTreeRegressor(),\n",
    "    \"RandomForest\": RandomForestRegressor(),\n",
    "    \"GradientBoosting\": GradientBoostingRegressor(),\n",
    "    \"XGBoost\": XGBRegressor(objective='reg:squarederror', verbosity=0),\n",
    "    \"LightGBM\": LGBMRegressor(),\n",
    "    \"CatBoost\": CatBoostRegressor(verbose=0)\n",
    "}\n",
    "\n"
   ]
  },
  {
   "cell_type": "markdown",
   "metadata": {},
   "source": [
    "#### Dengan Scaling"
   ]
  },
  {
   "cell_type": "code",
   "execution_count": 42,
   "metadata": {},
   "outputs": [],
   "source": [
    "# --- model dictionary ---\n",
    "models = {\n",
    "    \"LinearRegression\": LinearRegression(),\n",
    "    \"Ridge\": Ridge(),\n",
    "    \"Lasso\": Lasso(),\n",
    "    \"DecisionTree\": DecisionTreeRegressor(),\n",
    "    \"RandomForest\": RandomForestRegressor(),\n",
    "    \"GradientBoosting\": GradientBoostingRegressor(),\n",
    "    \"XGBoost\": XGBRegressor(objective='reg:squarederror', verbosity=0),\n",
    "    \"LightGBM\": LGBMRegressor(),\n",
    "    \"CatBoost\": CatBoostRegressor(verbose=0)\n",
    "}\n",
    "\n",
    "# --- model sensitif scaling ---\n",
    "scaling_sensitive = [\"LinearRegression\", \"Ridge\", \"Lasso\"]\n",
    "\n",
    "# --- buat pipeline sesuai model ---\n",
    "pipelines = {}\n",
    "\n",
    "for name, model in models.items():\n",
    "    if name in scaling_sensitive:\n",
    "        pipelines[name] = Pipeline([\n",
    "            (\"preprocessor\", full_preprocessor),\n",
    "            (\"regressor\", model)\n",
    "        ])\n",
    "    else:\n",
    "        pipelines[name] = Pipeline([\n",
    "            (\"preprocessor\", encoding_only_preprocessor),\n",
    "            (\"regressor\", model)\n",
    "        ])"
   ]
  },
  {
   "cell_type": "code",
   "execution_count": 43,
   "metadata": {},
   "outputs": [
    {
     "name": "stdout",
     "output_type": "stream",
     "text": [
      "Training LinearRegression...\n",
      "Training Ridge...\n",
      "Training Lasso...\n"
     ]
    },
    {
     "name": "stderr",
     "output_type": "stream",
     "text": [
      "/Users/macbook/anaconda3/envs/ameshousing-regression/lib/python3.10/site-packages/sklearn/linear_model/_coordinate_descent.py:695: ConvergenceWarning: Objective did not converge. You might want to increase the number of iterations, check the scale of the features or consider increasing regularisation. Duality gap: 3.632e+11, tolerance: 1.394e+09\n",
      "  model = cd_fast.enet_coordinate_descent(\n"
     ]
    },
    {
     "name": "stdout",
     "output_type": "stream",
     "text": [
      "Training DecisionTree...\n",
      "Training RandomForest...\n",
      "Training GradientBoosting...\n",
      "Training XGBoost...\n",
      "Training LightGBM...\n",
      "[LightGBM] [Info] Auto-choosing row-wise multi-threading, the overhead of testing was 0.001272 seconds.\n",
      "You can set `force_row_wise=true` to remove the overhead.\n",
      "And if memory is not enough, you can set `force_col_wise=true`.\n",
      "[LightGBM] [Info] Total Bins 3735\n",
      "[LightGBM] [Info] Number of data points in the train set: 2344, number of used features: 168\n",
      "[LightGBM] [Info] Start training from score 178582.207765\n"
     ]
    },
    {
     "name": "stderr",
     "output_type": "stream",
     "text": [
      "/Users/macbook/anaconda3/envs/ameshousing-regression/lib/python3.10/site-packages/sklearn/utils/validation.py:2739: UserWarning: X does not have valid feature names, but LGBMRegressor was fitted with feature names\n",
      "  warnings.warn(\n"
     ]
    },
    {
     "name": "stdout",
     "output_type": "stream",
     "text": [
      "Training CatBoost...\n",
      "              Model      MAE     RMSE   R2\n",
      "8          CatBoost 13639.84 23125.97 0.93\n",
      "6           XGBoost 15556.92 24497.82 0.93\n",
      "5  GradientBoosting 15016.91 25481.15 0.92\n",
      "4      RandomForest 15827.26 26800.94 0.91\n",
      "7          LightGBM 15111.08 27215.24 0.91\n",
      "1             Ridge 18746.01 30943.37 0.88\n",
      "2             Lasso 18380.92 30974.81 0.88\n",
      "0  LinearRegression 18384.56 31043.54 0.88\n",
      "3      DecisionTree 24056.92 36248.77 0.84\n"
     ]
    }
   ],
   "source": [
    "# Simpan hasil evaluasi\n",
    "evaluation_results = []\n",
    "\n",
    "# Loop untuk training dan evaluasi\n",
    "for name, pipeline in pipelines.items():\n",
    "    print(f\"Training {name}...\")\n",
    "    pipeline.fit(X_train, y_train)\n",
    "    y_pred = pipeline.predict(X_test)\n",
    "\n",
    "    mae = mean_absolute_error(y_test, y_pred)\n",
    "    rmse = np.sqrt(mean_squared_error(y_test, y_pred))\n",
    "    r2 = r2_score(y_test, y_pred)\n",
    "\n",
    "    evaluation_results.append({\n",
    "        \"Model\": name,\n",
    "        \"MAE\": mae,\n",
    "        \"RMSE\": rmse,\n",
    "        \"R2\": r2\n",
    "    })\n",
    "\n",
    "# Konversi ke DataFrame dan urutkan berdasarkan RMSE terendah\n",
    "results_df = pd.DataFrame(evaluation_results).sort_values(by=\"RMSE\")\n",
    "print(results_df)\n"
   ]
  },
  {
   "cell_type": "code",
   "execution_count": 53,
   "metadata": {},
   "outputs": [
    {
     "name": "stdout",
     "output_type": "stream",
     "text": [
      "dict_keys(['memory', 'steps', 'verbose', 'preprocessor', 'regressor', 'preprocessor__n_jobs', 'preprocessor__remainder', 'preprocessor__sparse_threshold', 'preprocessor__transformer_weights', 'preprocessor__transformers', 'preprocessor__verbose', 'preprocessor__ordinal', 'preprocessor__nominal', 'preprocessor__binary', 'preprocessor__ordinal__memory', 'preprocessor__ordinal__steps', 'preprocessor__ordinal__verbose', 'preprocessor__ordinal__imputer', 'preprocessor__ordinal__encoder', 'preprocessor__ordinal__imputer__add_indicator', 'preprocessor__ordinal__imputer__copy', 'preprocessor__ordinal__imputer__fill_value', 'preprocessor__ordinal__imputer__missing_values', 'preprocessor__ordinal__imputer__strategy', 'preprocessor__ordinal__imputer__verbose', 'preprocessor__ordinal__encoder__categories', 'preprocessor__ordinal__encoder__dtype', 'preprocessor__ordinal__encoder__handle_unknown', 'preprocessor__ordinal__encoder__unknown_value', 'preprocessor__nominal__memory', 'preprocessor__nominal__steps', 'preprocessor__nominal__verbose', 'preprocessor__nominal__imputer', 'preprocessor__nominal__encoder', 'preprocessor__nominal__imputer__add_indicator', 'preprocessor__nominal__imputer__copy', 'preprocessor__nominal__imputer__fill_value', 'preprocessor__nominal__imputer__missing_values', 'preprocessor__nominal__imputer__strategy', 'preprocessor__nominal__imputer__verbose', 'preprocessor__nominal__encoder__categories', 'preprocessor__nominal__encoder__drop', 'preprocessor__nominal__encoder__dtype', 'preprocessor__nominal__encoder__handle_unknown', 'preprocessor__nominal__encoder__sparse', 'preprocessor__binary__memory', 'preprocessor__binary__steps', 'preprocessor__binary__verbose', 'preprocessor__binary__imputer', 'preprocessor__binary__encoder', 'preprocessor__binary__imputer__add_indicator', 'preprocessor__binary__imputer__copy', 'preprocessor__binary__imputer__fill_value', 'preprocessor__binary__imputer__missing_values', 'preprocessor__binary__imputer__strategy', 'preprocessor__binary__imputer__verbose', 'preprocessor__binary__encoder__categories', 'preprocessor__binary__encoder__dtype', 'preprocessor__binary__encoder__handle_unknown', 'preprocessor__binary__encoder__unknown_value', 'regressor__verbose', 'regressor__loss_function'])\n"
     ]
    }
   ],
   "source": [
    "print(pipelines['CatBoost'].get_params().keys())\n"
   ]
  },
  {
   "cell_type": "markdown",
   "metadata": {},
   "source": [
    "## 3.2 Pipeline Setup"
   ]
  },
  {
   "cell_type": "code",
   "execution_count": 24,
   "metadata": {},
   "outputs": [],
   "source": [
    "# 8. Pipelines (preprocessing + model)\n",
    "pipelines = {\n",
    "    name: make_pipeline(preprocessor, model)\n",
    "    for name, model in models.items()\n",
    "}\n"
   ]
  },
  {
   "cell_type": "markdown",
   "metadata": {},
   "source": [
    "## 3.3 Training"
   ]
  },
  {
   "cell_type": "code",
   "execution_count": 25,
   "metadata": {},
   "outputs": [
    {
     "name": "stdout",
     "output_type": "stream",
     "text": [
      "[LightGBM] [Info] Auto-choosing row-wise multi-threading, the overhead of testing was 0.001742 seconds.\n",
      "You can set `force_row_wise=true` to remove the overhead.\n",
      "And if memory is not enough, you can set `force_col_wise=true`.\n",
      "[LightGBM] [Info] Total Bins 3730\n",
      "[LightGBM] [Info] Number of data points in the train set: 2344, number of used features: 166\n",
      "[LightGBM] [Info] Start training from score 178582.207765\n"
     ]
    },
    {
     "name": "stderr",
     "output_type": "stream",
     "text": [
      "/Users/macbook/anaconda3/envs/ameshousing-regression/lib/python3.10/site-packages/sklearn/utils/validation.py:2739: UserWarning: X does not have valid feature names, but LGBMRegressor was fitted with feature names\n",
      "  warnings.warn(\n",
      "/Users/macbook/anaconda3/envs/ameshousing-regression/lib/python3.10/site-packages/sklearn/utils/validation.py:2739: UserWarning: X does not have valid feature names, but LGBMRegressor was fitted with feature names\n",
      "  warnings.warn(\n"
     ]
    }
   ],
   "source": [
    "# 9. Fit + Predict\n",
    "predictions = {}\n",
    "\n",
    "for name, pipeline in pipelines.items():\n",
    "    pipeline.fit(X_train, y_train)\n",
    "    y_pred_train = pipeline.predict(X_train)\n",
    "    y_pred_test = pipeline.predict(X_test)\n",
    "    predictions[name] = {\n",
    "        \"train\": y_pred_train,\n",
    "        \"test\": y_pred_test\n",
    "    }"
   ]
  },
  {
   "cell_type": "code",
   "execution_count": 26,
   "metadata": {},
   "outputs": [
    {
     "data": {
      "text/html": [
       "<div>\n",
       "<style scoped>\n",
       "    .dataframe tbody tr th:only-of-type {\n",
       "        vertical-align: middle;\n",
       "    }\n",
       "\n",
       "    .dataframe tbody tr th {\n",
       "        vertical-align: top;\n",
       "    }\n",
       "\n",
       "    .dataframe thead th {\n",
       "        text-align: right;\n",
       "    }\n",
       "</style>\n",
       "<table border=\"1\" class=\"dataframe\">\n",
       "  <thead>\n",
       "    <tr style=\"text-align: right;\">\n",
       "      <th></th>\n",
       "      <th>MS SubClass</th>\n",
       "      <th>MS Zoning</th>\n",
       "      <th>Lot Frontage</th>\n",
       "      <th>Lot Area</th>\n",
       "      <th>Street</th>\n",
       "      <th>Lot Shape</th>\n",
       "      <th>Land Contour</th>\n",
       "      <th>Utilities</th>\n",
       "      <th>Lot Config</th>\n",
       "      <th>Land Slope</th>\n",
       "      <th>...</th>\n",
       "      <th>Open Porch SF</th>\n",
       "      <th>Enclosed Porch</th>\n",
       "      <th>3Ssn Porch</th>\n",
       "      <th>Screen Porch</th>\n",
       "      <th>Pool Area</th>\n",
       "      <th>Misc Val</th>\n",
       "      <th>Mo Sold</th>\n",
       "      <th>Yr Sold</th>\n",
       "      <th>Sale Type</th>\n",
       "      <th>Sale Condition</th>\n",
       "    </tr>\n",
       "  </thead>\n",
       "  <tbody>\n",
       "    <tr>\n",
       "      <th>1357</th>\n",
       "      <td>70</td>\n",
       "      <td>RM</td>\n",
       "      <td>68.0</td>\n",
       "      <td>5100</td>\n",
       "      <td>Pave</td>\n",
       "      <td>Reg</td>\n",
       "      <td>Lvl</td>\n",
       "      <td>AllPub</td>\n",
       "      <td>Inside</td>\n",
       "      <td>Gtl</td>\n",
       "      <td>...</td>\n",
       "      <td>63</td>\n",
       "      <td>0</td>\n",
       "      <td>0</td>\n",
       "      <td>0</td>\n",
       "      <td>0</td>\n",
       "      <td>0</td>\n",
       "      <td>6</td>\n",
       "      <td>2008</td>\n",
       "      <td>WD</td>\n",
       "      <td>Normal</td>\n",
       "    </tr>\n",
       "    <tr>\n",
       "      <th>2367</th>\n",
       "      <td>160</td>\n",
       "      <td>RM</td>\n",
       "      <td>21.0</td>\n",
       "      <td>1890</td>\n",
       "      <td>Pave</td>\n",
       "      <td>Reg</td>\n",
       "      <td>Lvl</td>\n",
       "      <td>AllPub</td>\n",
       "      <td>Inside</td>\n",
       "      <td>Gtl</td>\n",
       "      <td>...</td>\n",
       "      <td>0</td>\n",
       "      <td>0</td>\n",
       "      <td>0</td>\n",
       "      <td>0</td>\n",
       "      <td>0</td>\n",
       "      <td>0</td>\n",
       "      <td>7</td>\n",
       "      <td>2006</td>\n",
       "      <td>WD</td>\n",
       "      <td>Normal</td>\n",
       "    </tr>\n",
       "    <tr>\n",
       "      <th>2822</th>\n",
       "      <td>60</td>\n",
       "      <td>RL</td>\n",
       "      <td>62.0</td>\n",
       "      <td>7162</td>\n",
       "      <td>Pave</td>\n",
       "      <td>Reg</td>\n",
       "      <td>Lvl</td>\n",
       "      <td>AllPub</td>\n",
       "      <td>Inside</td>\n",
       "      <td>Gtl</td>\n",
       "      <td>...</td>\n",
       "      <td>57</td>\n",
       "      <td>0</td>\n",
       "      <td>0</td>\n",
       "      <td>0</td>\n",
       "      <td>0</td>\n",
       "      <td>0</td>\n",
       "      <td>5</td>\n",
       "      <td>2006</td>\n",
       "      <td>WD</td>\n",
       "      <td>Normal</td>\n",
       "    </tr>\n",
       "    <tr>\n",
       "      <th>2126</th>\n",
       "      <td>20</td>\n",
       "      <td>RL</td>\n",
       "      <td>60.0</td>\n",
       "      <td>8070</td>\n",
       "      <td>Pave</td>\n",
       "      <td>Reg</td>\n",
       "      <td>Lvl</td>\n",
       "      <td>AllPub</td>\n",
       "      <td>Inside</td>\n",
       "      <td>Gtl</td>\n",
       "      <td>...</td>\n",
       "      <td>0</td>\n",
       "      <td>0</td>\n",
       "      <td>0</td>\n",
       "      <td>0</td>\n",
       "      <td>0</td>\n",
       "      <td>0</td>\n",
       "      <td>8</td>\n",
       "      <td>2007</td>\n",
       "      <td>WD</td>\n",
       "      <td>Normal</td>\n",
       "    </tr>\n",
       "    <tr>\n",
       "      <th>1544</th>\n",
       "      <td>30</td>\n",
       "      <td>RM</td>\n",
       "      <td>50.0</td>\n",
       "      <td>7000</td>\n",
       "      <td>Pave</td>\n",
       "      <td>Reg</td>\n",
       "      <td>Lvl</td>\n",
       "      <td>AllPub</td>\n",
       "      <td>Inside</td>\n",
       "      <td>Gtl</td>\n",
       "      <td>...</td>\n",
       "      <td>0</td>\n",
       "      <td>116</td>\n",
       "      <td>0</td>\n",
       "      <td>0</td>\n",
       "      <td>0</td>\n",
       "      <td>0</td>\n",
       "      <td>7</td>\n",
       "      <td>2008</td>\n",
       "      <td>WD</td>\n",
       "      <td>Normal</td>\n",
       "    </tr>\n",
       "  </tbody>\n",
       "</table>\n",
       "<p>5 rows × 75 columns</p>\n",
       "</div>"
      ],
      "text/plain": [
       "      MS SubClass MS Zoning  Lot Frontage  Lot Area Street Lot Shape  \\\n",
       "1357           70        RM          68.0      5100   Pave       Reg   \n",
       "2367          160        RM          21.0      1890   Pave       Reg   \n",
       "2822           60        RL          62.0      7162   Pave       Reg   \n",
       "2126           20        RL          60.0      8070   Pave       Reg   \n",
       "1544           30        RM          50.0      7000   Pave       Reg   \n",
       "\n",
       "     Land Contour Utilities Lot Config Land Slope  ... Open Porch SF  \\\n",
       "1357          Lvl    AllPub     Inside        Gtl  ...            63   \n",
       "2367          Lvl    AllPub     Inside        Gtl  ...             0   \n",
       "2822          Lvl    AllPub     Inside        Gtl  ...            57   \n",
       "2126          Lvl    AllPub     Inside        Gtl  ...             0   \n",
       "1544          Lvl    AllPub     Inside        Gtl  ...             0   \n",
       "\n",
       "     Enclosed Porch 3Ssn Porch Screen Porch Pool Area  Misc Val  Mo Sold  \\\n",
       "1357              0          0            0         0         0        6   \n",
       "2367              0          0            0         0         0        7   \n",
       "2822              0          0            0         0         0        5   \n",
       "2126              0          0            0         0         0        8   \n",
       "1544            116          0            0         0         0        7   \n",
       "\n",
       "      Yr Sold  Sale Type Sale Condition  \n",
       "1357     2008        WD          Normal  \n",
       "2367     2006        WD          Normal  \n",
       "2822     2006        WD          Normal  \n",
       "2126     2007        WD          Normal  \n",
       "1544     2008        WD          Normal  \n",
       "\n",
       "[5 rows x 75 columns]"
      ]
     },
     "execution_count": 26,
     "metadata": {},
     "output_type": "execute_result"
    }
   ],
   "source": [
    "X_test[:5]"
   ]
  },
  {
   "cell_type": "code",
   "execution_count": 27,
   "metadata": {},
   "outputs": [
    {
     "data": {
      "text/plain": [
       "1357    161000\n",
       "2367    116000\n",
       "2822    196500\n",
       "2126    123600\n",
       "1544    126000\n",
       "Name: SalePrice, dtype: int64"
      ]
     },
     "execution_count": 27,
     "metadata": {},
     "output_type": "execute_result"
    }
   ],
   "source": [
    "y_test[:5]"
   ]
  },
  {
   "cell_type": "code",
   "execution_count": 28,
   "metadata": {},
   "outputs": [
    {
     "data": {
      "text/plain": [
       "array([153266.53474275, 102684.98778467, 193507.62844956, 135706.50970503,\n",
       "       112589.87857891])"
      ]
     },
     "execution_count": 28,
     "metadata": {},
     "output_type": "execute_result"
    }
   ],
   "source": [
    "pipelines['CatBoost'].predict(X_test[:5])"
   ]
  },
  {
   "cell_type": "markdown",
   "metadata": {},
   "source": [
    "## 3.4 Prediction"
   ]
  },
  {
   "cell_type": "code",
   "execution_count": 29,
   "metadata": {},
   "outputs": [
    {
     "name": "stdout",
     "output_type": "stream",
     "text": [
      "Model selesai dilatih dan diprediksi.\n",
      "Contoh prediksi pada test set:\n",
      "LinearRegression: [156985.22127159 101430.76508081 208286.65798528 130509.71256833\n",
      " 115503.50668595]\n",
      "Ridge: [150927.02188595 101098.13255106 203045.64784971 131789.76813024\n",
      " 117003.95737221]\n",
      "Lasso: [156660.8969567  101377.9992381  208831.85510795 130495.11051333\n",
      " 115617.87061252]\n",
      "DecisionTree: [178000. 106000. 205000. 110500. 108000.]\n",
      "RandomForest: [148687.34  95577.5  193975.43 135018.25 110498.38]\n",
      "GradientBoosting: [147028.03122696 101961.16471984 195218.39359305 134682.29605876\n",
      " 111638.19677171]\n",
      "XGBoost: [152427.28  97473.67 179928.62 133563.98 116503.87]\n",
      "LightGBM: [152614.58631358  97976.0277285  188079.31407477 132752.93580577\n",
      " 105444.38279288]\n",
      "CatBoost: [153266.53474275 102684.98778467 193507.62844956 135706.50970503\n",
      " 112589.87857891]\n"
     ]
    }
   ],
   "source": [
    "# 10. Output ukuran dan contoh prediksi\n",
    "print(\"Model selesai dilatih dan diprediksi.\")\n",
    "print(\"Contoh prediksi pada test set:\")\n",
    "for name in predictions:\n",
    "    print(f\"{name}: {predictions[name]['test'][:5]}\")"
   ]
  },
  {
   "cell_type": "markdown",
   "metadata": {},
   "source": [
    "# 4. Model Evaluation"
   ]
  },
  {
   "cell_type": "markdown",
   "metadata": {},
   "source": [
    "## 4.1 Metrik Evaluasi (MAE, RMSE, R²)"
   ]
  },
  {
   "cell_type": "code",
   "execution_count": 30,
   "metadata": {},
   "outputs": [
    {
     "name": "stdout",
     "output_type": "stream",
     "text": [
      "\n",
      "=== Evaluation Results ===\n",
      "              Model  MAE Test  RMSE Test  R² Test\n",
      "8          CatBoost  14279.37   23617.23     0.93\n",
      "5  GradientBoosting  16489.34   26423.67     0.91\n",
      "6           XGBoost  17125.47   28244.53     0.90\n",
      "7          LightGBM  16671.42   28937.96     0.90\n",
      "4      RandomForest  17408.02   29641.50     0.89\n",
      "1             Ridge  18732.10   30940.62     0.88\n",
      "2             Lasso  18357.04   30944.52     0.88\n",
      "0  LinearRegression  18349.39   30987.93     0.88\n",
      "3      DecisionTree  25203.64   38032.05     0.82\n"
     ]
    }
   ],
   "source": [
    "# 11. Evaluasi performa\n",
    "def evaluate_model(y_true, y_pred):\n",
    "    mae = mean_absolute_error(y_true, y_pred)\n",
    "    rmse = mean_squared_error(y_true, y_pred) ** 0.5  # manual RMSE\n",
    "    r2 = r2_score(y_true, y_pred)\n",
    "    return mae, rmse, r2\n",
    "\n",
    "\n",
    "results = []\n",
    "\n",
    "for name, preds in predictions.items():\n",
    "    mae_train, rmse_train, r2_train = evaluate_model(y_train, preds['train'])\n",
    "    mae_test, rmse_test, r2_test = evaluate_model(y_test, preds['test'])\n",
    "\n",
    "    results.append({\n",
    "        \"Model\": name,\n",
    "        # \"MAE Train\": mae_train,\n",
    "        # \"RMSE Train\": rmse_train,\n",
    "        # \"R² Train\": r2_train,\n",
    "        \"MAE Test\": mae_test,\n",
    "        \"RMSE Test\": rmse_test,\n",
    "        \"R² Test\": r2_test\n",
    "    })\n",
    "\n",
    "# Tampilkan sebagai DataFrame\n",
    "results_df = pd.DataFrame(results).sort_values(by=\"RMSE Test\")\n",
    "pd.set_option('display.float_format', lambda x: '%.2f' % x)\n",
    "print(\"\\n=== Evaluation Results ===\")\n",
    "print(results_df)\n"
   ]
  },
  {
   "cell_type": "markdown",
   "metadata": {},
   "source": [
    "## 4.2 Visualisasi MAE/RMSE/R²"
   ]
  },
  {
   "cell_type": "code",
   "execution_count": 31,
   "metadata": {},
   "outputs": [
    {
     "data": {
      "image/png": "[encoded data removed]",
      "text/plain": [
       "<Figure size 1400x600 with 3 Axes>"
      ]
     },
     "metadata": {},
     "output_type": "display_data"
    }
   ],
   "source": [
    "# Drop model gagal jika ada (misal LinearRegression dengan nilai ekstrem)\n",
    "results_filtered = results_df[results_df['R² Test'] > 0]  # atau sesuaikan sesuai kondisi outlier\n",
    "\n",
    "# Sort berdasarkan MAE Test terkecil\n",
    "results_sorted = results_filtered.sort_values(by='MAE Test')\n",
    "\n",
    "# Set style\n",
    "sns.set(style=\"whitegrid\", font_scale=1.1)\n",
    "plt.figure(figsize=(14, 6))\n",
    "\n",
    "# Plot MAE Test\n",
    "plt.subplot(1, 3, 1)\n",
    "sns.barplot(x='MAE Test', y='Model', data=results_sorted, hue='Model', palette='Blues_r', legend=False)\n",
    "plt.title('Mean Absolute Error (Test)')\n",
    "plt.xlabel('MAE')\n",
    "plt.ylabel('')\n",
    "\n",
    "# Plot RMSE Test\n",
    "plt.subplot(1, 3, 2)\n",
    "sns.barplot(x='RMSE Test', y='Model', data=results_sorted, hue='Model', palette='Greens_r', legend=False)\n",
    "plt.title('Root Mean Squared Error (Test)')\n",
    "plt.xlabel('RMSE')\n",
    "plt.ylabel('')\n",
    "\n",
    "# Plot R² Test\n",
    "plt.subplot(1, 3, 3)\n",
    "sns.barplot(x='R² Test', y='Model', data=results_sorted, hue='Model', palette='Oranges_r', legend=False)\n",
    "plt.title('R² Score (Test)')\n",
    "plt.xlabel('R²')\n",
    "plt.ylabel('')\n",
    "\n",
    "plt.tight_layout()\n",
    "plt.show()\n"
   ]
  },
  {
   "cell_type": "markdown",
   "metadata": {},
   "source": [
    "### 🔍 **Kesimpulan Umum**\n",
    "| Model          | Keterangan                                                                 |\n",
    "|----------------|-----------------------------------------------------------------------------|\n",
    "| 🥇 **CatBoost**       | Performa terbaik secara keseluruhan (MAE, RMSE, R² Test) — sangat kuat dan stabil |\n",
    "| 🥈 **GradientBoosting** | Alternatif bagus, sedikit di bawah CatBoost                                          |\n",
    "| 🥉 **XGBoost / LightGBM** | Masih sangat kompetitif, cocok jika waktu training jadi concern                       |\n",
    "| ❌ **DecisionTree**    | Overfitting parah – performa jelek di test meski sempurna di train                      |\n",
    "\n",
    "---"
   ]
  },
  {
   "cell_type": "code",
   "execution_count": 32,
   "metadata": {},
   "outputs": [
    {
     "name": "stdout",
     "output_type": "stream",
     "text": [
      "\n",
      "=== Evaluation Results ===\n",
      "              Model  MAE Train  RMSE Train  R² Train\n",
      "3      DecisionTree       0.00        0.00      1.00\n",
      "6           XGBoost    2637.69     3584.86      1.00\n",
      "8          CatBoost    6364.23     8184.05      0.99\n",
      "4      RandomForest    6163.39    10104.64      0.98\n",
      "7          LightGBM    7326.84    11225.34      0.98\n",
      "5  GradientBoosting   12534.26    16842.98      0.95\n",
      "0  LinearRegression   15867.20    23434.67      0.91\n",
      "2             Lasso   15881.10    23439.32      0.91\n",
      "1             Ridge   16279.58    24235.40      0.90\n"
     ]
    }
   ],
   "source": [
    "results_train = []\n",
    "for name, preds in predictions.items():\n",
    "    mae_train, rmse_train, r2_train = evaluate_model(y_train, preds['train'])\n",
    "    mae_test, rmse_test, r2_test = evaluate_model(y_test, preds['test'])\n",
    "\n",
    "    results_train.append({\n",
    "        \"Model\": name,\n",
    "        \"MAE Train\": mae_train,\n",
    "        \"RMSE Train\": rmse_train,\n",
    "        \"R² Train\": r2_train,\n",
    "    })\n",
    "\n",
    "# Tampilkan sebagai DataFrame\n",
    "results_train_df = pd.DataFrame(results_train).sort_values(by=\"RMSE Train\")\n",
    "pd.set_option('display.float_format', lambda x: '%.2f' % x)\n",
    "print(\"\\n=== Evaluation Results ===\")\n",
    "print(results_train_df)"
   ]
  },
  {
   "cell_type": "code",
   "execution_count": 34,
   "metadata": {},
   "outputs": [
    {
     "data": {
      "image/png": "[encoded data removed]",
      "text/plain": [
       "<Figure size 1400x600 with 3 Axes>"
      ]
     },
     "metadata": {},
     "output_type": "display_data"
    }
   ],
   "source": [
    "# Set style\n",
    "sns.set(style=\"whitegrid\", font_scale=1.1)\n",
    "plt.figure(figsize=(14, 6))\n",
    "\n",
    "# Plot MAE Train\n",
    "plt.subplot(1, 3, 1)\n",
    "sns.barplot(x='MAE Train', y='Model', data=results_train_df, hue='Model', palette='Blues', legend=False)\n",
    "plt.title('Mean Absolute Error (Train)')\n",
    "plt.xlabel('MAE')\n",
    "plt.ylabel('')\n",
    "\n",
    "# Plot RMSE Train\n",
    "plt.subplot(1, 3, 2)\n",
    "sns.barplot(x='RMSE Train', y='Model', data=results_train_df, hue='Model', palette='Greens', legend=False)\n",
    "plt.title('Root Mean Squared Error (Train)')\n",
    "plt.xlabel('RMSE')\n",
    "plt.ylabel('')\n",
    "\n",
    "# Plot R² Train\n",
    "plt.subplot(1, 3, 3)\n",
    "sns.barplot(x='R² Train', y='Model', data=results_train_df, hue='Model', palette='Oranges', legend=False)\n",
    "plt.title('R² Score (Train)')\n",
    "plt.xlabel('R²')\n",
    "plt.ylabel('')\n",
    "\n",
    "plt.tight_layout()\n",
    "plt.show()\n"
   ]
  },
  {
   "cell_type": "markdown",
   "metadata": {},
   "source": [
    "## 4.3 Cross-Validation Score"
   ]
  },
  {
   "cell_type": "markdown",
   "metadata": {},
   "source": [
    "#### Tanpa Scaling"
   ]
  },
  {
   "cell_type": "code",
   "execution_count": 35,
   "metadata": {},
   "outputs": [
    {
     "name": "stdout",
     "output_type": "stream",
     "text": [
      "=== Cross-Validation (RMSE) ===\n",
      "LinearRegression          CV RMSE: 31213.14 ± -4077.95\n",
      "Ridge                     CV RMSE: 30268.64 ± -4191.98\n"
     ]
    },
    {
     "name": "stderr",
     "output_type": "stream",
     "text": [
      "/Users/macbook/anaconda3/envs/ameshousing-regression/lib/python3.10/site-packages/sklearn/linear_model/_coordinate_descent.py:695: ConvergenceWarning: Objective did not converge. You might want to increase the number of iterations, check the scale of the features or consider increasing regularisation. Duality gap: 2.796e+10, tolerance: 1.132e+09\n",
      "  model = cd_fast.enet_coordinate_descent(\n",
      "/Users/macbook/anaconda3/envs/ameshousing-regression/lib/python3.10/site-packages/sklearn/linear_model/_coordinate_descent.py:695: ConvergenceWarning: Objective did not converge. You might want to increase the number of iterations, check the scale of the features or consider increasing regularisation. Duality gap: 5.076e+10, tolerance: 1.082e+09\n",
      "  model = cd_fast.enet_coordinate_descent(\n",
      "/Users/macbook/anaconda3/envs/ameshousing-regression/lib/python3.10/site-packages/sklearn/linear_model/_coordinate_descent.py:695: ConvergenceWarning: Objective did not converge. You might want to increase the number of iterations, check the scale of the features or consider increasing regularisation. Duality gap: 1.046e+10, tolerance: 1.123e+09\n",
      "  model = cd_fast.enet_coordinate_descent(\n"
     ]
    },
    {
     "name": "stdout",
     "output_type": "stream",
     "text": [
      "Lasso                     CV RMSE: 30873.82 ± -4201.18\n",
      "DecisionTree              CV RMSE: 40766.63 ± -1777.65\n",
      "RandomForest              CV RMSE: 26896.47 ± -1990.90\n",
      "GradientBoosting          CV RMSE: 24428.84 ± -1374.17\n",
      "XGBoost                   CV RMSE: 27762.84 ± -3373.51\n",
      "[LightGBM] [Info] Auto-choosing row-wise multi-threading, the overhead of testing was 0.002101 seconds.\n",
      "You can set `force_row_wise=true` to remove the overhead.\n",
      "And if memory is not enough, you can set `force_col_wise=true`.\n",
      "[LightGBM] [Info] Total Bins 3620\n",
      "[LightGBM] [Info] Number of data points in the train set: 1875, number of used features: 156\n",
      "[LightGBM] [Info] Start training from score 179301.145067\n"
     ]
    },
    {
     "name": "stderr",
     "output_type": "stream",
     "text": [
      "/Users/macbook/anaconda3/envs/ameshousing-regression/lib/python3.10/site-packages/sklearn/utils/validation.py:2739: UserWarning: X does not have valid feature names, but LGBMRegressor was fitted with feature names\n",
      "  warnings.warn(\n"
     ]
    },
    {
     "name": "stdout",
     "output_type": "stream",
     "text": [
      "[LightGBM] [Info] Auto-choosing row-wise multi-threading, the overhead of testing was 0.003653 seconds.\n",
      "You can set `force_row_wise=true` to remove the overhead.\n",
      "And if memory is not enough, you can set `force_col_wise=true`.\n",
      "[LightGBM] [Info] Total Bins 3600\n",
      "[LightGBM] [Info] Number of data points in the train set: 1875, number of used features: 154\n",
      "[LightGBM] [Info] Start training from score 178183.648000\n"
     ]
    },
    {
     "name": "stderr",
     "output_type": "stream",
     "text": [
      "/Users/macbook/anaconda3/envs/ameshousing-regression/lib/python3.10/site-packages/sklearn/utils/validation.py:2739: UserWarning: X does not have valid feature names, but LGBMRegressor was fitted with feature names\n",
      "  warnings.warn(\n"
     ]
    },
    {
     "name": "stdout",
     "output_type": "stream",
     "text": [
      "[LightGBM] [Info] Auto-choosing row-wise multi-threading, the overhead of testing was 0.002179 seconds.\n",
      "You can set `force_row_wise=true` to remove the overhead.\n",
      "And if memory is not enough, you can set `force_col_wise=true`.\n",
      "[LightGBM] [Info] Total Bins 3614\n",
      "[LightGBM] [Info] Number of data points in the train set: 1875, number of used features: 152\n",
      "[LightGBM] [Info] Start training from score 178974.889600\n"
     ]
    },
    {
     "name": "stderr",
     "output_type": "stream",
     "text": [
      "/Users/macbook/anaconda3/envs/ameshousing-regression/lib/python3.10/site-packages/sklearn/utils/validation.py:2739: UserWarning: X does not have valid feature names, but LGBMRegressor was fitted with feature names\n",
      "  warnings.warn(\n"
     ]
    },
    {
     "name": "stdout",
     "output_type": "stream",
     "text": [
      "[LightGBM] [Info] Auto-choosing row-wise multi-threading, the overhead of testing was 0.002018 seconds.\n",
      "You can set `force_row_wise=true` to remove the overhead.\n",
      "And if memory is not enough, you can set `force_col_wise=true`.\n",
      "[LightGBM] [Info] Total Bins 3620\n",
      "[LightGBM] [Info] Number of data points in the train set: 1875, number of used features: 156\n",
      "[LightGBM] [Info] Start training from score 178215.615467\n"
     ]
    },
    {
     "name": "stderr",
     "output_type": "stream",
     "text": [
      "/Users/macbook/anaconda3/envs/ameshousing-regression/lib/python3.10/site-packages/sklearn/utils/validation.py:2739: UserWarning: X does not have valid feature names, but LGBMRegressor was fitted with feature names\n",
      "  warnings.warn(\n"
     ]
    },
    {
     "name": "stdout",
     "output_type": "stream",
     "text": [
      "[LightGBM] [Info] Auto-choosing row-wise multi-threading, the overhead of testing was 0.001569 seconds.\n",
      "You can set `force_row_wise=true` to remove the overhead.\n",
      "And if memory is not enough, you can set `force_col_wise=true`.\n",
      "[LightGBM] [Info] Total Bins 3606\n",
      "[LightGBM] [Info] Number of data points in the train set: 1876, number of used features: 152\n",
      "[LightGBM] [Info] Start training from score 178235.925373\n"
     ]
    },
    {
     "name": "stderr",
     "output_type": "stream",
     "text": [
      "/Users/macbook/anaconda3/envs/ameshousing-regression/lib/python3.10/site-packages/sklearn/utils/validation.py:2739: UserWarning: X does not have valid feature names, but LGBMRegressor was fitted with feature names\n",
      "  warnings.warn(\n"
     ]
    },
    {
     "name": "stdout",
     "output_type": "stream",
     "text": [
      "LightGBM                  CV RMSE: 24805.25 ± -1502.87\n",
      "CatBoost                  CV RMSE: 23406.08 ± -2215.40\n"
     ]
    }
   ],
   "source": [
    "from sklearn.model_selection import cross_val_score\n",
    "from sklearn.metrics import make_scorer\n",
    "import numpy as np\n",
    "\n",
    "print(\"=== Cross-Validation (RMSE) ===\")\n",
    "for name, pipeline in pipelines.items():\n",
    "    # Use 'neg_root_mean_squared_error' to calculate RMSE directly\n",
    "    scores = cross_val_score(pipeline, X_train, y_train, cv=5, scoring='neg_root_mean_squared_error')\n",
    "    print(f\"{name:<25} CV RMSE: {-np.mean(scores):.2f} ± {-np.std(scores):.2f}\")\n"
   ]
  },
  {
   "cell_type": "markdown",
   "metadata": {},
   "source": [
    "## 4.4 Hyperparameter Tuning"
   ]
  },
  {
   "cell_type": "code",
   "execution_count": 44,
   "metadata": {},
   "outputs": [
    {
     "name": "stdout",
     "output_type": "stream",
     "text": [
      "GridSearchCV for Ridge...\n",
      "Best params for Ridge: {'regressor__alpha': 10.0}\n",
      "GridSearchCV for Lasso...\n"
     ]
    },
    {
     "name": "stderr",
     "output_type": "stream",
     "text": [
      "/Users/macbook/anaconda3/envs/ameshousing-regression/lib/python3.10/site-packages/sklearn/linear_model/_coordinate_descent.py:695: ConvergenceWarning: Objective did not converge. You might want to increase the number of iterations, check the scale of the features or consider increasing regularisation. Duality gap: 5.138e+11, tolerance: 1.132e+09\n",
      "  model = cd_fast.enet_coordinate_descent(\n",
      "/Users/macbook/anaconda3/envs/ameshousing-regression/lib/python3.10/site-packages/sklearn/linear_model/_coordinate_descent.py:695: ConvergenceWarning: Objective did not converge. You might want to increase the number of iterations, check the scale of the features or consider increasing regularisation. Duality gap: 4.864e+11, tolerance: 1.134e+09\n",
      "  model = cd_fast.enet_coordinate_descent(\n",
      "/Users/macbook/anaconda3/envs/ameshousing-regression/lib/python3.10/site-packages/sklearn/linear_model/_coordinate_descent.py:695: ConvergenceWarning: Objective did not converge. You might want to increase the number of iterations, check the scale of the features or consider increasing regularisation. Duality gap: 5.138e+11, tolerance: 1.132e+09\n",
      "  model = cd_fast.enet_coordinate_descent(\n",
      "/Users/macbook/anaconda3/envs/ameshousing-regression/lib/python3.10/site-packages/sklearn/linear_model/_coordinate_descent.py:695: ConvergenceWarning: Objective did not converge. You might want to increase the number of iterations, check the scale of the features or consider increasing regularisation. Duality gap: 5.010e+11, tolerance: 1.082e+09\n",
      "  model = cd_fast.enet_coordinate_descent(\n",
      "/Users/macbook/anaconda3/envs/ameshousing-regression/lib/python3.10/site-packages/sklearn/linear_model/_coordinate_descent.py:695: ConvergenceWarning: Objective did not converge. You might want to increase the number of iterations, check the scale of the features or consider increasing regularisation. Duality gap: 5.053e+11, tolerance: 1.123e+09\n",
      "  model = cd_fast.enet_coordinate_descent(\n",
      "/Users/macbook/anaconda3/envs/ameshousing-regression/lib/python3.10/site-packages/sklearn/linear_model/_coordinate_descent.py:695: ConvergenceWarning: Objective did not converge. You might want to increase the number of iterations, check the scale of the features or consider increasing regularisation. Duality gap: 4.860e+11, tolerance: 1.134e+09\n",
      "  model = cd_fast.enet_coordinate_descent(\n",
      "/Users/macbook/anaconda3/envs/ameshousing-regression/lib/python3.10/site-packages/sklearn/linear_model/_coordinate_descent.py:695: ConvergenceWarning: Objective did not converge. You might want to increase the number of iterations, check the scale of the features or consider increasing regularisation. Duality gap: 4.351e+11, tolerance: 1.104e+09\n",
      "  model = cd_fast.enet_coordinate_descent(\n",
      "/Users/macbook/anaconda3/envs/ameshousing-regression/lib/python3.10/site-packages/sklearn/linear_model/_coordinate_descent.py:695: ConvergenceWarning: Objective did not converge. You might want to increase the number of iterations, check the scale of the features or consider increasing regularisation. Duality gap: 5.010e+11, tolerance: 1.082e+09\n",
      "  model = cd_fast.enet_coordinate_descent(\n",
      "/Users/macbook/anaconda3/envs/ameshousing-regression/lib/python3.10/site-packages/sklearn/linear_model/_coordinate_descent.py:695: ConvergenceWarning: Objective did not converge. You might want to increase the number of iterations, check the scale of the features or consider increasing regularisation. Duality gap: 4.350e+11, tolerance: 1.104e+09\n",
      "  model = cd_fast.enet_coordinate_descent(\n",
      "/Users/macbook/anaconda3/envs/ameshousing-regression/lib/python3.10/site-packages/sklearn/linear_model/_coordinate_descent.py:695: ConvergenceWarning: Objective did not converge. You might want to increase the number of iterations, check the scale of the features or consider increasing regularisation. Duality gap: 5.053e+11, tolerance: 1.123e+09\n",
      "  model = cd_fast.enet_coordinate_descent(\n",
      "/Users/macbook/anaconda3/envs/ameshousing-regression/lib/python3.10/site-packages/sklearn/linear_model/_coordinate_descent.py:695: ConvergenceWarning: Objective did not converge. You might want to increase the number of iterations, check the scale of the features or consider increasing regularisation. Duality gap: 5.137e+11, tolerance: 1.132e+09\n",
      "  model = cd_fast.enet_coordinate_descent(\n",
      "/Users/macbook/anaconda3/envs/ameshousing-regression/lib/python3.10/site-packages/sklearn/linear_model/_coordinate_descent.py:695: ConvergenceWarning: Objective did not converge. You might want to increase the number of iterations, check the scale of the features or consider increasing regularisation. Duality gap: 5.126e+11, tolerance: 1.132e+09\n",
      "  model = cd_fast.enet_coordinate_descent(\n",
      "/Users/macbook/anaconda3/envs/ameshousing-regression/lib/python3.10/site-packages/sklearn/linear_model/_coordinate_descent.py:695: ConvergenceWarning: Objective did not converge. You might want to increase the number of iterations, check the scale of the features or consider increasing regularisation. Duality gap: 4.860e+11, tolerance: 1.134e+09\n",
      "  model = cd_fast.enet_coordinate_descent(\n",
      "/Users/macbook/anaconda3/envs/ameshousing-regression/lib/python3.10/site-packages/sklearn/linear_model/_coordinate_descent.py:695: ConvergenceWarning: Objective did not converge. You might want to increase the number of iterations, check the scale of the features or consider increasing regularisation. Duality gap: 5.052e+11, tolerance: 1.123e+09\n",
      "  model = cd_fast.enet_coordinate_descent(\n",
      "/Users/macbook/anaconda3/envs/ameshousing-regression/lib/python3.10/site-packages/sklearn/linear_model/_coordinate_descent.py:695: ConvergenceWarning: Objective did not converge. You might want to increase the number of iterations, check the scale of the features or consider increasing regularisation. Duality gap: 5.010e+11, tolerance: 1.082e+09\n",
      "  model = cd_fast.enet_coordinate_descent(\n",
      "/Users/macbook/anaconda3/envs/ameshousing-regression/lib/python3.10/site-packages/sklearn/linear_model/_coordinate_descent.py:695: ConvergenceWarning: Objective did not converge. You might want to increase the number of iterations, check the scale of the features or consider increasing regularisation. Duality gap: 4.349e+11, tolerance: 1.104e+09\n",
      "  model = cd_fast.enet_coordinate_descent(\n",
      "/Users/macbook/anaconda3/envs/ameshousing-regression/lib/python3.10/site-packages/sklearn/linear_model/_coordinate_descent.py:695: ConvergenceWarning: Objective did not converge. You might want to increase the number of iterations, check the scale of the features or consider increasing regularisation. Duality gap: 5.004e+11, tolerance: 1.082e+09\n",
      "  model = cd_fast.enet_coordinate_descent(\n",
      "/Users/macbook/anaconda3/envs/ameshousing-regression/lib/python3.10/site-packages/sklearn/linear_model/_coordinate_descent.py:695: ConvergenceWarning: Objective did not converge. You might want to increase the number of iterations, check the scale of the features or consider increasing regularisation. Duality gap: 4.865e+11, tolerance: 1.134e+09\n",
      "  model = cd_fast.enet_coordinate_descent(\n",
      "/Users/macbook/anaconda3/envs/ameshousing-regression/lib/python3.10/site-packages/sklearn/linear_model/_coordinate_descent.py:695: ConvergenceWarning: Objective did not converge. You might want to increase the number of iterations, check the scale of the features or consider increasing regularisation. Duality gap: 5.044e+11, tolerance: 1.123e+09\n",
      "  model = cd_fast.enet_coordinate_descent(\n",
      "/Users/macbook/anaconda3/envs/ameshousing-regression/lib/python3.10/site-packages/sklearn/linear_model/_coordinate_descent.py:695: ConvergenceWarning: Objective did not converge. You might want to increase the number of iterations, check the scale of the features or consider increasing regularisation. Duality gap: 4.337e+11, tolerance: 1.104e+09\n",
      "  model = cd_fast.enet_coordinate_descent(\n",
      "/Users/macbook/anaconda3/envs/ameshousing-regression/lib/python3.10/site-packages/sklearn/linear_model/_coordinate_descent.py:695: ConvergenceWarning: Objective did not converge. You might want to increase the number of iterations, check the scale of the features or consider increasing regularisation. Duality gap: 6.431e+11, tolerance: 1.394e+09\n",
      "  model = cd_fast.enet_coordinate_descent(\n"
     ]
    },
    {
     "name": "stdout",
     "output_type": "stream",
     "text": [
      "Best params for Lasso: {'regressor__alpha': 0.01}\n",
      "GridSearchCV for DecisionTree...\n",
      "Best params for DecisionTree: {'regressor__max_depth': 10, 'regressor__min_samples_split': 10}\n",
      "GridSearchCV for RandomForest...\n",
      "Best params for RandomForest: {'regressor__max_depth': 20, 'regressor__n_estimators': 200}\n",
      "GridSearchCV for GradientBoosting...\n",
      "Best params for GradientBoosting: {'regressor__learning_rate': 0.1, 'regressor__max_depth': 3, 'regressor__n_estimators': 200}\n",
      "GridSearchCV for XGBoost...\n",
      "Best params for XGBoost: {'regressor__learning_rate': 0.1, 'regressor__max_depth': 3, 'regressor__n_estimators': 200}\n",
      "GridSearchCV for LightGBM...\n",
      "[LightGBM] [Info] Auto-choosing row-wise multi-threading, the overhead of testing was 0.007657 seconds.\n",
      "You can set `force_row_wise=true` to remove the overhead.\n",
      "And if memory is not enough, you can set `force_col_wise=true`.\n",
      "[LightGBM] [Info] Total Bins 3630\n",
      "[LightGBM] [Info] Number of data points in the train set: 1875, number of used features: 154\n",
      "[LightGBM] [Info] Start training from score 178974.889600\n",
      "[LightGBM] [Info] Auto-choosing row-wise multi-threading, the overhead of testing was 0.011488 seconds.\n",
      "You can set `force_row_wise=true` to remove the overhead.\n",
      "And if memory is not enough, you can set `force_col_wise=true`.\n",
      "[LightGBM] [Info] Auto-choosing row-wise multi-threading, the overhead of testing was 0.014822 seconds.\n",
      "You can set `force_row_wise=true` to remove the overhead.\n",
      "And if memory is not enough, you can set `force_col_wise=true`.\n",
      "[LightGBM] [Info] Total Bins 3619\n",
      "[LightGBM] [Info] Total Bins 3640\n",
      "[LightGBM] [Info] Number of data points in the train set: 1875, number of used features: 158\n",
      "[LightGBM] [Info] Number of data points in the train set: 1875, number of used features: 156\n",
      "[LightGBM] [Info] Start training from score 179301.145067\n",
      "[LightGBM] [Info] Auto-choosing row-wise multi-threading, the overhead of testing was 0.012038 seconds.\n",
      "You can set `force_row_wise=true` to remove the overhead.\n",
      "And if memory is not enough, you can set `force_col_wise=true`.\n",
      "[LightGBM] [Info] Start training from score 178183.648000\n",
      "[LightGBM] [Info] Total Bins 3619\n",
      "[LightGBM] [Info] Auto-choosing col-wise multi-threading, the overhead of testing was 0.020313 seconds.\n",
      "You can set `force_col_wise=true` to remove the overhead.\n",
      "[LightGBM] [Info] Number of data points in the train set: 1875, number of used features: 156\n",
      "[LightGBM] [Info] Total Bins 3627\n",
      "[LightGBM] [Info] Number of data points in the train set: 1876, number of used features: 154\n",
      "[LightGBM] [Info] Start training from score 178183.648000\n",
      "[LightGBM] [Info] Auto-choosing col-wise multi-threading, the overhead of testing was 0.017098 seconds.\n",
      "You can set `force_col_wise=true` to remove the overhead.\n",
      "[LightGBM] [Info] Total Bins 3630\n",
      "[LightGBM] [Info] Start training from score 178235.925373\n",
      "[LightGBM] [Info] Auto-choosing row-wise multi-threading, the overhead of testing was 0.010006 seconds.\n",
      "You can set `force_row_wise=true` to remove the overhead.\n",
      "And if memory is not enough, you can set `force_col_wise=true`.\n",
      "[LightGBM] [Info] Total Bins 3638\n",
      "[LightGBM] [Info] Number of data points in the train set: 1875, number of used features: 154\n",
      "[LightGBM] [Info] Number of data points in the train set: 1875, number of used features: 158\n",
      "[LightGBM] [Info] Start training from score 178974.889600\n",
      "[LightGBM] [Info] Start training from score 178215.615467\n",
      "[LightGBM] [Info] Auto-choosing row-wise multi-threading, the overhead of testing was 0.008952 seconds.\n",
      "You can set `force_row_wise=true` to remove the overhead.\n",
      "And if memory is not enough, you can set `force_col_wise=true`.\n",
      "[LightGBM] [Info] Total Bins 3640\n",
      "[LightGBM] [Info] Number of data points in the train set: 1875, number of used features: 158\n",
      "[LightGBM] [Info] Start training from score 179301.145067\n"
     ]
    },
    {
     "name": "stderr",
     "output_type": "stream",
     "text": [
      "/Users/macbook/anaconda3/envs/ameshousing-regression/lib/python3.10/site-packages/sklearn/utils/validation.py:2739: UserWarning: X does not have valid feature names, but LGBMRegressor was fitted with feature names\n",
      "  warnings.warn(\n",
      "/Users/macbook/anaconda3/envs/ameshousing-regression/lib/python3.10/site-packages/sklearn/utils/validation.py:2739: UserWarning: X does not have valid feature names, but LGBMRegressor was fitted with feature names\n",
      "  warnings.warn(\n",
      "/Users/macbook/anaconda3/envs/ameshousing-regression/lib/python3.10/site-packages/sklearn/utils/validation.py:2739: UserWarning: X does not have valid feature names, but LGBMRegressor was fitted with feature names\n",
      "  warnings.warn(\n",
      "/Users/macbook/anaconda3/envs/ameshousing-regression/lib/python3.10/site-packages/sklearn/utils/validation.py:2739: UserWarning: X does not have valid feature names, but LGBMRegressor was fitted with feature names\n",
      "  warnings.warn(\n"
     ]
    },
    {
     "name": "stdout",
     "output_type": "stream",
     "text": [
      "[LightGBM] [Info] Auto-choosing row-wise multi-threading, the overhead of testing was 0.013041 seconds.\n",
      "You can set `force_row_wise=true` to remove the overhead.\n",
      "And if memory is not enough, you can set `force_col_wise=true`.\n",
      "[LightGBM] [Info] Total Bins 3638\n",
      "[LightGBM] [Info] Number of data points in the train set: 1875, number of used features: 158\n",
      "[LightGBM] [Info] Start training from score 178215.615467\n",
      "[LightGBM] [Info] Auto-choosing row-wise multi-threading, the overhead of testing was 0.009192 seconds.\n",
      "You can set `force_row_wise=true` to remove the overhead.\n",
      "And if memory is not enough, you can set `force_col_wise=true`.\n",
      "[LightGBM] [Info] Total Bins 3627\n",
      "[LightGBM] [Info] Number of data points in the train set: 1876, number of used features: 154\n",
      "[LightGBM] [Info] Start training from score 178235.925373\n",
      "[LightGBM] [Info] Auto-choosing row-wise multi-threading, the overhead of testing was 0.012337 seconds.\n",
      "You can set `force_row_wise=true` to remove the overhead.\n",
      "And if memory is not enough, you can set `force_col_wise=true`.\n",
      "[LightGBM] [Info] Total Bins 3619\n",
      "[LightGBM] [Info] Number of data points in the train set: 1875, number of used features: 156\n",
      "[LightGBM] [Info] Start training from score 178183.648000\n",
      "[LightGBM] [Info] Auto-choosing row-wise multi-threading, the overhead of testing was 0.009888 seconds.\n",
      "You can set `force_row_wise=true` to remove the overhead.\n",
      "And if memory is not enough, you can set `force_col_wise=true`.\n",
      "[LightGBM] [Info] Total Bins 3640\n",
      "[LightGBM] [Info] Number of data points in the train set: 1875, number of used features: 158\n",
      "[LightGBM] [Info] Start training from score 179301.145067\n"
     ]
    },
    {
     "name": "stderr",
     "output_type": "stream",
     "text": [
      "/Users/macbook/anaconda3/envs/ameshousing-regression/lib/python3.10/site-packages/sklearn/utils/validation.py:2739: UserWarning: X does not have valid feature names, but LGBMRegressor was fitted with feature names\n",
      "  warnings.warn(\n"
     ]
    },
    {
     "name": "stdout",
     "output_type": "stream",
     "text": [
      "[LightGBM] [Info] Auto-choosing row-wise multi-threading, the overhead of testing was 0.011131 seconds.\n",
      "You can set `force_row_wise=true` to remove the overhead.\n",
      "And if memory is not enough, you can set `force_col_wise=true`.\n",
      "[LightGBM] [Info] Total Bins 3630\n",
      "[LightGBM] [Info] Number of data points in the train set: 1875, number of used features: 154\n",
      "[LightGBM] [Info] Start training from score 178974.889600\n"
     ]
    },
    {
     "name": "stderr",
     "output_type": "stream",
     "text": [
      "/Users/macbook/anaconda3/envs/ameshousing-regression/lib/python3.10/site-packages/sklearn/utils/validation.py:2739: UserWarning: X does not have valid feature names, but LGBMRegressor was fitted with feature names\n",
      "  warnings.warn(\n",
      "/Users/macbook/anaconda3/envs/ameshousing-regression/lib/python3.10/site-packages/sklearn/utils/validation.py:2739: UserWarning: X does not have valid feature names, but LGBMRegressor was fitted with feature names\n",
      "  warnings.warn(\n"
     ]
    },
    {
     "name": "stdout",
     "output_type": "stream",
     "text": [
      "[LightGBM] [Info] Auto-choosing row-wise multi-threading, the overhead of testing was 0.014535 seconds.\n",
      "You can set `force_row_wise=true` to remove the overhead.\n",
      "And if memory is not enough, you can set `force_col_wise=true`.\n",
      "[LightGBM] [Info] Total Bins 3638\n",
      "[LightGBM] [Info] Number of data points in the train set: 1875, number of used features: 158\n",
      "[LightGBM] [Info] Auto-choosing row-wise multi-threading, the overhead of testing was 0.006342 seconds.\n",
      "You can set `force_row_wise=true` to remove the overhead.\n",
      "And if memory is not enough, you can set `force_col_wise=true`.\n",
      "[LightGBM] [Info] Total Bins 3627\n",
      "[LightGBM] [Info] Start training from score 178215.615467\n",
      "[LightGBM] [Info] Number of data points in the train set: 1876, number of used features: 154\n",
      "[LightGBM] [Info] Start training from score 178235.925373\n"
     ]
    },
    {
     "name": "stderr",
     "output_type": "stream",
     "text": [
      "/Users/macbook/anaconda3/envs/ameshousing-regression/lib/python3.10/site-packages/sklearn/utils/validation.py:2739: UserWarning: X does not have valid feature names, but LGBMRegressor was fitted with feature names\n",
      "  warnings.warn(\n"
     ]
    },
    {
     "name": "stdout",
     "output_type": "stream",
     "text": [
      "[LightGBM] [Info] Auto-choosing row-wise multi-threading, the overhead of testing was 0.004336 seconds.\n",
      "You can set `force_row_wise=true` to remove the overhead.\n",
      "And if memory is not enough, you can set `force_col_wise=true`.\n",
      "[LightGBM] [Info] Total Bins 3640\n",
      "[LightGBM] [Info] Number of data points in the train set: 1875, number of used features: 158\n",
      "[LightGBM] [Info] Start training from score 179301.145067\n"
     ]
    },
    {
     "name": "stderr",
     "output_type": "stream",
     "text": [
      "/Users/macbook/anaconda3/envs/ameshousing-regression/lib/python3.10/site-packages/sklearn/utils/validation.py:2739: UserWarning: X does not have valid feature names, but LGBMRegressor was fitted with feature names\n",
      "  warnings.warn(\n",
      "/Users/macbook/anaconda3/envs/ameshousing-regression/lib/python3.10/site-packages/sklearn/utils/validation.py:2739: UserWarning: X does not have valid feature names, but LGBMRegressor was fitted with feature names\n",
      "  warnings.warn(\n"
     ]
    },
    {
     "name": "stdout",
     "output_type": "stream",
     "text": [
      "[LightGBM] [Info] Auto-choosing row-wise multi-threading, the overhead of testing was 0.007271 seconds.\n",
      "You can set `force_row_wise=true` to remove the overhead.\n",
      "And if memory is not enough, you can set `force_col_wise=true`.\n",
      "[LightGBM] [Info] Total Bins 3619\n",
      "[LightGBM] [Info] Number of data points in the train set: 1875, number of used features: 156\n",
      "[LightGBM] [Info] Start training from score 178183.648000\n",
      "[LightGBM] [Info] Auto-choosing row-wise multi-threading, the overhead of testing was 0.005722 seconds.\n",
      "You can set `force_row_wise=true` to remove the overhead.\n",
      "And if memory is not enough, you can set `force_col_wise=true`.\n",
      "[LightGBM] [Info] Total Bins 3630\n",
      "[LightGBM] [Info] Number of data points in the train set: 1875, number of used features: 154\n",
      "[LightGBM] [Info] Start training from score 178974.889600\n"
     ]
    },
    {
     "name": "stderr",
     "output_type": "stream",
     "text": [
      "/Users/macbook/anaconda3/envs/ameshousing-regression/lib/python3.10/site-packages/sklearn/utils/validation.py:2739: UserWarning: X does not have valid feature names, but LGBMRegressor was fitted with feature names\n",
      "  warnings.warn(\n",
      "/Users/macbook/anaconda3/envs/ameshousing-regression/lib/python3.10/site-packages/sklearn/utils/validation.py:2739: UserWarning: X does not have valid feature names, but LGBMRegressor was fitted with feature names\n",
      "  warnings.warn(\n"
     ]
    },
    {
     "name": "stdout",
     "output_type": "stream",
     "text": [
      "[LightGBM] [Info] Auto-choosing row-wise multi-threading, the overhead of testing was 0.011473 seconds.\n",
      "You can set `force_row_wise=true` to remove the overhead.\n",
      "And if memory is not enough, you can set `force_col_wise=true`.\n",
      "[LightGBM] [Info] Total Bins 3638\n",
      "[LightGBM] [Info] Number of data points in the train set: 1875, number of used features: 158\n",
      "[LightGBM] [Info] Start training from score 178215.615467\n",
      "[LightGBM] [Info] Auto-choosing row-wise multi-threading, the overhead of testing was 0.014071 seconds.\n",
      "You can set `force_row_wise=true` to remove the overhead.\n",
      "And if memory is not enough, you can set `force_col_wise=true`.\n",
      "[LightGBM] [Info] Total Bins 3627\n",
      "[LightGBM] [Info] Number of data points in the train set: 1876, number of used features: 154\n",
      "[LightGBM] [Info] Start training from score 178235.925373\n"
     ]
    },
    {
     "name": "stderr",
     "output_type": "stream",
     "text": [
      "/Users/macbook/anaconda3/envs/ameshousing-regression/lib/python3.10/site-packages/sklearn/utils/validation.py:2739: UserWarning: X does not have valid feature names, but LGBMRegressor was fitted with feature names\n",
      "  warnings.warn(\n"
     ]
    },
    {
     "name": "stdout",
     "output_type": "stream",
     "text": [
      "[LightGBM] [Info] Auto-choosing row-wise multi-threading, the overhead of testing was 0.007485 seconds.\n",
      "You can set `force_row_wise=true` to remove the overhead.\n",
      "And if memory is not enough, you can set `force_col_wise=true`.\n",
      "[LightGBM] [Info] Total Bins 3640\n",
      "[LightGBM] [Info] Number of data points in the train set: 1875, number of used features: 158\n",
      "[LightGBM] [Info] Start training from score 179301.145067\n"
     ]
    },
    {
     "name": "stderr",
     "output_type": "stream",
     "text": [
      "/Users/macbook/anaconda3/envs/ameshousing-regression/lib/python3.10/site-packages/sklearn/utils/validation.py:2739: UserWarning: X does not have valid feature names, but LGBMRegressor was fitted with feature names\n",
      "  warnings.warn(\n",
      "/Users/macbook/anaconda3/envs/ameshousing-regression/lib/python3.10/site-packages/sklearn/utils/validation.py:2739: UserWarning: X does not have valid feature names, but LGBMRegressor was fitted with feature names\n",
      "  warnings.warn(\n"
     ]
    },
    {
     "name": "stdout",
     "output_type": "stream",
     "text": [
      "[LightGBM] [Info] Auto-choosing row-wise multi-threading, the overhead of testing was 0.011696 seconds.\n",
      "You can set `force_row_wise=true` to remove the overhead.\n",
      "And if memory is not enough, you can set `force_col_wise=true`.\n",
      "[LightGBM] [Info] Total Bins 3619\n",
      "[LightGBM] [Info] Number of data points in the train set: 1875, number of used features: 156\n",
      "[LightGBM] [Info] Start training from score 178183.648000\n",
      "[LightGBM] [Info] Auto-choosing row-wise multi-threading, the overhead of testing was 0.010105 seconds.\n",
      "You can set `force_row_wise=true` to remove the overhead.\n",
      "And if memory is not enough, you can set `force_col_wise=true`.\n",
      "[LightGBM] [Info] Total Bins 3630\n",
      "[LightGBM] [Info] Number of data points in the train set: 1875, number of used features: 154\n",
      "[LightGBM] [Info] Start training from score 178974.889600\n"
     ]
    },
    {
     "name": "stderr",
     "output_type": "stream",
     "text": [
      "/Users/macbook/anaconda3/envs/ameshousing-regression/lib/python3.10/site-packages/sklearn/utils/validation.py:2739: UserWarning: X does not have valid feature names, but LGBMRegressor was fitted with feature names\n",
      "  warnings.warn(\n"
     ]
    },
    {
     "name": "stdout",
     "output_type": "stream",
     "text": [
      "[LightGBM] [Info] Auto-choosing row-wise multi-threading, the overhead of testing was 0.011238 seconds.\n",
      "You can set `force_row_wise=true` to remove the overhead.\n",
      "And if memory is not enough, you can set `force_col_wise=true`.\n",
      "[LightGBM] [Info] Total Bins 3638\n",
      "[LightGBM] [Info] Number of data points in the train set: 1875, number of used features: 158\n",
      "[LightGBM] [Info] Start training from score 178215.615467\n"
     ]
    },
    {
     "name": "stderr",
     "output_type": "stream",
     "text": [
      "/Users/macbook/anaconda3/envs/ameshousing-regression/lib/python3.10/site-packages/sklearn/utils/validation.py:2739: UserWarning: X does not have valid feature names, but LGBMRegressor was fitted with feature names\n",
      "  warnings.warn(\n",
      "/Users/macbook/anaconda3/envs/ameshousing-regression/lib/python3.10/site-packages/sklearn/utils/validation.py:2739: UserWarning: X does not have valid feature names, but LGBMRegressor was fitted with feature names\n",
      "  warnings.warn(\n"
     ]
    },
    {
     "name": "stdout",
     "output_type": "stream",
     "text": [
      "[LightGBM] [Info] Auto-choosing row-wise multi-threading, the overhead of testing was 0.015966 seconds.\n",
      "You can set `force_row_wise=true` to remove the overhead.\n",
      "And if memory is not enough, you can set `force_col_wise=true`.\n",
      "[LightGBM] [Info] Total Bins 3627\n",
      "[LightGBM] [Info] Number of data points in the train set: 1876, number of used features: 154\n",
      "[LightGBM] [Info] Start training from score 178235.925373\n",
      "[LightGBM] [Info] Auto-choosing row-wise multi-threading, the overhead of testing was 0.016747 seconds.\n",
      "You can set `force_row_wise=true` to remove the overhead.\n",
      "And if memory is not enough, you can set `force_col_wise=true`.\n",
      "[LightGBM] [Info] Total Bins 3640\n",
      "[LightGBM] [Info] Number of data points in the train set: 1875, number of used features: 158\n",
      "[LightGBM] [Info] Start training from score 179301.145067\n"
     ]
    },
    {
     "name": "stderr",
     "output_type": "stream",
     "text": [
      "/Users/macbook/anaconda3/envs/ameshousing-regression/lib/python3.10/site-packages/sklearn/utils/validation.py:2739: UserWarning: X does not have valid feature names, but LGBMRegressor was fitted with feature names\n",
      "  warnings.warn(\n"
     ]
    },
    {
     "name": "stdout",
     "output_type": "stream",
     "text": [
      "[LightGBM] [Info] Auto-choosing row-wise multi-threading, the overhead of testing was 0.011742 seconds.\n",
      "You can set `force_row_wise=true` to remove the overhead.\n",
      "And if memory is not enough, you can set `force_col_wise=true`.\n",
      "[LightGBM] [Info] Total Bins 3619\n",
      "[LightGBM] [Info] Number of data points in the train set: 1875, number of used features: 156\n",
      "[LightGBM] [Info] Start training from score 178183.648000\n"
     ]
    },
    {
     "name": "stderr",
     "output_type": "stream",
     "text": [
      "/Users/macbook/anaconda3/envs/ameshousing-regression/lib/python3.10/site-packages/sklearn/utils/validation.py:2739: UserWarning: X does not have valid feature names, but LGBMRegressor was fitted with feature names\n",
      "  warnings.warn(\n"
     ]
    },
    {
     "name": "stdout",
     "output_type": "stream",
     "text": [
      "[LightGBM] [Info] Auto-choosing row-wise multi-threading, the overhead of testing was 0.018471 seconds.\n",
      "You can set `force_row_wise=true` to remove the overhead.\n",
      "And if memory is not enough, you can set `force_col_wise=true`.\n",
      "[LightGBM] [Info] Total Bins 3630\n",
      "[LightGBM] [Info] Number of data points in the train set: 1875, number of used features: 154\n",
      "[LightGBM] [Info] Start training from score 178974.889600\n"
     ]
    },
    {
     "name": "stderr",
     "output_type": "stream",
     "text": [
      "/Users/macbook/anaconda3/envs/ameshousing-regression/lib/python3.10/site-packages/sklearn/utils/validation.py:2739: UserWarning: X does not have valid feature names, but LGBMRegressor was fitted with feature names\n",
      "  warnings.warn(\n",
      "/Users/macbook/anaconda3/envs/ameshousing-regression/lib/python3.10/site-packages/sklearn/utils/validation.py:2739: UserWarning: X does not have valid feature names, but LGBMRegressor was fitted with feature names\n",
      "  warnings.warn(\n",
      "/Users/macbook/anaconda3/envs/ameshousing-regression/lib/python3.10/site-packages/sklearn/utils/validation.py:2739: UserWarning: X does not have valid feature names, but LGBMRegressor was fitted with feature names\n",
      "  warnings.warn(\n"
     ]
    },
    {
     "name": "stdout",
     "output_type": "stream",
     "text": [
      "[LightGBM] [Info] Auto-choosing col-wise multi-threading, the overhead of testing was 0.016998 seconds.\n",
      "You can set `force_col_wise=true` to remove the overhead.\n",
      "[LightGBM] [Info] Total Bins 3638\n",
      "[LightGBM] [Info] Number of data points in the train set: 1875, number of used features: 158\n",
      "[LightGBM] [Info] Start training from score 178215.615467\n",
      "[LightGBM] [Info] Auto-choosing row-wise multi-threading, the overhead of testing was 0.003717 seconds.\n",
      "You can set `force_row_wise=true` to remove the overhead.\n",
      "And if memory is not enough, you can set `force_col_wise=true`.\n",
      "[LightGBM] [Info] Total Bins 3627\n",
      "[LightGBM] [Info] Number of data points in the train set: 1876, number of used features: 154\n",
      "[LightGBM] [Info] Start training from score 178235.925373\n",
      "[LightGBM] [Info] Auto-choosing row-wise multi-threading, the overhead of testing was 0.013766 seconds.\n",
      "You can set `force_row_wise=true` to remove the overhead.\n",
      "And if memory is not enough, you can set `force_col_wise=true`.\n",
      "[LightGBM] [Info] Total Bins 3640\n",
      "[LightGBM] [Info] Number of data points in the train set: 1875, number of used features: 158\n",
      "[LightGBM] [Info] Start training from score 179301.145067\n"
     ]
    },
    {
     "name": "stderr",
     "output_type": "stream",
     "text": [
      "/Users/macbook/anaconda3/envs/ameshousing-regression/lib/python3.10/site-packages/sklearn/utils/validation.py:2739: UserWarning: X does not have valid feature names, but LGBMRegressor was fitted with feature names\n",
      "  warnings.warn(\n",
      "/Users/macbook/anaconda3/envs/ameshousing-regression/lib/python3.10/site-packages/sklearn/utils/validation.py:2739: UserWarning: X does not have valid feature names, but LGBMRegressor was fitted with feature names\n",
      "  warnings.warn(\n"
     ]
    },
    {
     "name": "stdout",
     "output_type": "stream",
     "text": [
      "[LightGBM] [Info] Auto-choosing row-wise multi-threading, the overhead of testing was 0.005365 seconds.\n",
      "You can set `force_row_wise=true` to remove the overhead.\n",
      "And if memory is not enough, you can set `force_col_wise=true`.\n",
      "[LightGBM] [Info] Total Bins 3619\n",
      "[LightGBM] [Info] Number of data points in the train set: 1875, number of used features: 156\n",
      "[LightGBM] [Info] Start training from score 178183.648000\n",
      "[LightGBM] [Info] Auto-choosing row-wise multi-threading, the overhead of testing was 0.010827 seconds.\n",
      "You can set `force_row_wise=true` to remove the overhead.\n",
      "And if memory is not enough, you can set `force_col_wise=true`.\n"
     ]
    },
    {
     "name": "stderr",
     "output_type": "stream",
     "text": [
      "/Users/macbook/anaconda3/envs/ameshousing-regression/lib/python3.10/site-packages/sklearn/utils/validation.py:2739: UserWarning: X does not have valid feature names, but LGBMRegressor was fitted with feature names\n",
      "  warnings.warn(\n"
     ]
    },
    {
     "name": "stdout",
     "output_type": "stream",
     "text": [
      "[LightGBM] [Info] Total Bins 3630\n",
      "[LightGBM] [Info] Number of data points in the train set: 1875, number of used features: 154\n",
      "[LightGBM] [Info] Start training from score 178974.889600\n",
      "[LightGBM] [Info] Auto-choosing row-wise multi-threading, the overhead of testing was 0.002382 seconds.\n",
      "You can set `force_row_wise=true` to remove the overhead.\n",
      "And if memory is not enough, you can set `force_col_wise=true`.\n",
      "[LightGBM] [Info] Total Bins 3638\n",
      "[LightGBM] [Info] Number of data points in the train set: 1875, number of used features: 158\n",
      "[LightGBM] [Info] Start training from score 178215.615467\n"
     ]
    },
    {
     "name": "stderr",
     "output_type": "stream",
     "text": [
      "/Users/macbook/anaconda3/envs/ameshousing-regression/lib/python3.10/site-packages/sklearn/utils/validation.py:2739: UserWarning: X does not have valid feature names, but LGBMRegressor was fitted with feature names\n",
      "  warnings.warn(\n"
     ]
    },
    {
     "name": "stdout",
     "output_type": "stream",
     "text": [
      "[LightGBM] [Info] Auto-choosing row-wise multi-threading, the overhead of testing was 0.007174 seconds.\n",
      "You can set `force_row_wise=true` to remove the overhead.\n",
      "And if memory is not enough, you can set `force_col_wise=true`.\n",
      "[LightGBM] [Info] Total Bins 3627\n",
      "[LightGBM] [Info] Number of data points in the train set: 1876, number of used features: 154\n",
      "[LightGBM] [Info] Start training from score 178235.925373\n"
     ]
    },
    {
     "name": "stderr",
     "output_type": "stream",
     "text": [
      "/Users/macbook/anaconda3/envs/ameshousing-regression/lib/python3.10/site-packages/sklearn/utils/validation.py:2739: UserWarning: X does not have valid feature names, but LGBMRegressor was fitted with feature names\n",
      "  warnings.warn(\n"
     ]
    },
    {
     "name": "stdout",
     "output_type": "stream",
     "text": [
      "[LightGBM] [Info] Auto-choosing row-wise multi-threading, the overhead of testing was 0.010325 seconds.\n",
      "You can set `force_row_wise=true` to remove the overhead.\n",
      "And if memory is not enough, you can set `force_col_wise=true`.\n",
      "[LightGBM] [Info] Total Bins 3640\n",
      "[LightGBM] [Info] Number of data points in the train set: 1875, number of used features: 158\n",
      "[LightGBM] [Info] Start training from score 179301.145067\n"
     ]
    },
    {
     "name": "stderr",
     "output_type": "stream",
     "text": [
      "/Users/macbook/anaconda3/envs/ameshousing-regression/lib/python3.10/site-packages/sklearn/utils/validation.py:2739: UserWarning: X does not have valid feature names, but LGBMRegressor was fitted with feature names\n",
      "  warnings.warn(\n"
     ]
    },
    {
     "name": "stdout",
     "output_type": "stream",
     "text": [
      "[LightGBM] [Info] Auto-choosing row-wise multi-threading, the overhead of testing was 0.002406 seconds.\n",
      "You can set `force_row_wise=true` to remove the overhead.\n",
      "And if memory is not enough, you can set `force_col_wise=true`.\n",
      "[LightGBM] [Info] Total Bins 3619\n",
      "[LightGBM] [Info] Number of data points in the train set: 1875, number of used features: 156\n",
      "[LightGBM] [Info] Start training from score 178183.648000\n"
     ]
    },
    {
     "name": "stderr",
     "output_type": "stream",
     "text": [
      "/Users/macbook/anaconda3/envs/ameshousing-regression/lib/python3.10/site-packages/sklearn/utils/validation.py:2739: UserWarning: X does not have valid feature names, but LGBMRegressor was fitted with feature names\n",
      "  warnings.warn(\n"
     ]
    },
    {
     "name": "stdout",
     "output_type": "stream",
     "text": [
      "[LightGBM] [Info] Auto-choosing row-wise multi-threading, the overhead of testing was 0.005698 seconds.\n",
      "You can set `force_row_wise=true` to remove the overhead.\n",
      "And if memory is not enough, you can set `force_col_wise=true`.\n",
      "[LightGBM] [Info] Total Bins 3630\n",
      "[LightGBM] [Info] Number of data points in the train set: 1875, number of used features: 154\n",
      "[LightGBM] [Info] Start training from score 178974.889600\n"
     ]
    },
    {
     "name": "stderr",
     "output_type": "stream",
     "text": [
      "/Users/macbook/anaconda3/envs/ameshousing-regression/lib/python3.10/site-packages/sklearn/utils/validation.py:2739: UserWarning: X does not have valid feature names, but LGBMRegressor was fitted with feature names\n",
      "  warnings.warn(\n"
     ]
    },
    {
     "name": "stdout",
     "output_type": "stream",
     "text": [
      "[LightGBM] [Info] Auto-choosing row-wise multi-threading, the overhead of testing was 0.009813 seconds.\n",
      "You can set `force_row_wise=true` to remove the overhead.\n",
      "And if memory is not enough, you can set `force_col_wise=true`.\n",
      "[LightGBM] [Info] Total Bins 3638\n",
      "[LightGBM] [Info] Number of data points in the train set: 1875, number of used features: 158\n",
      "[LightGBM] [Info] Start training from score 178215.615467\n"
     ]
    },
    {
     "name": "stderr",
     "output_type": "stream",
     "text": [
      "/Users/macbook/anaconda3/envs/ameshousing-regression/lib/python3.10/site-packages/sklearn/utils/validation.py:2739: UserWarning: X does not have valid feature names, but LGBMRegressor was fitted with feature names\n",
      "  warnings.warn(\n",
      "/Users/macbook/anaconda3/envs/ameshousing-regression/lib/python3.10/site-packages/sklearn/utils/validation.py:2739: UserWarning: X does not have valid feature names, but LGBMRegressor was fitted with feature names\n",
      "  warnings.warn(\n"
     ]
    },
    {
     "name": "stdout",
     "output_type": "stream",
     "text": [
      "[LightGBM] [Info] Auto-choosing row-wise multi-threading, the overhead of testing was 0.010618 seconds.\n",
      "You can set `force_row_wise=true` to remove the overhead.\n",
      "And if memory is not enough, you can set `force_col_wise=true`.\n",
      "[LightGBM] [Info] Total Bins 3627\n",
      "[LightGBM] [Info] Number of data points in the train set: 1876, number of used features: 154\n",
      "[LightGBM] [Info] Start training from score 178235.925373\n"
     ]
    },
    {
     "name": "stderr",
     "output_type": "stream",
     "text": [
      "/Users/macbook/anaconda3/envs/ameshousing-regression/lib/python3.10/site-packages/sklearn/utils/validation.py:2739: UserWarning: X does not have valid feature names, but LGBMRegressor was fitted with feature names\n",
      "  warnings.warn(\n",
      "/Users/macbook/anaconda3/envs/ameshousing-regression/lib/python3.10/site-packages/sklearn/utils/validation.py:2739: UserWarning: X does not have valid feature names, but LGBMRegressor was fitted with feature names\n",
      "  warnings.warn(\n",
      "/Users/macbook/anaconda3/envs/ameshousing-regression/lib/python3.10/site-packages/sklearn/utils/validation.py:2739: UserWarning: X does not have valid feature names, but LGBMRegressor was fitted with feature names\n",
      "  warnings.warn(\n",
      "/Users/macbook/anaconda3/envs/ameshousing-regression/lib/python3.10/site-packages/sklearn/utils/validation.py:2739: UserWarning: X does not have valid feature names, but LGBMRegressor was fitted with feature names\n",
      "  warnings.warn(\n",
      "/Users/macbook/anaconda3/envs/ameshousing-regression/lib/python3.10/site-packages/sklearn/utils/validation.py:2739: UserWarning: X does not have valid feature names, but LGBMRegressor was fitted with feature names\n",
      "  warnings.warn(\n",
      "/Users/macbook/anaconda3/envs/ameshousing-regression/lib/python3.10/site-packages/sklearn/utils/validation.py:2739: UserWarning: X does not have valid feature names, but LGBMRegressor was fitted with feature names\n",
      "  warnings.warn(\n",
      "/Users/macbook/anaconda3/envs/ameshousing-regression/lib/python3.10/site-packages/sklearn/utils/validation.py:2739: UserWarning: X does not have valid feature names, but LGBMRegressor was fitted with feature names\n",
      "  warnings.warn(\n"
     ]
    },
    {
     "name": "stdout",
     "output_type": "stream",
     "text": [
      "[LightGBM] [Info] Auto-choosing row-wise multi-threading, the overhead of testing was 0.001382 seconds.\n",
      "You can set `force_row_wise=true` to remove the overhead.\n",
      "And if memory is not enough, you can set `force_col_wise=true`.\n",
      "[LightGBM] [Info] Total Bins 3735\n",
      "[LightGBM] [Info] Number of data points in the train set: 2344, number of used features: 168\n",
      "[LightGBM] [Info] Start training from score 178582.207765\n",
      "Best params for LightGBM: {'regressor__learning_rate': 0.1, 'regressor__n_estimators': 200, 'regressor__num_leaves': 31}\n",
      "GridSearchCV for CatBoost...\n",
      "Best params for CatBoost: {'regressor__depth': 6, 'regressor__iterations': 1000, 'regressor__learning_rate': 0.1}\n"
     ]
    }
   ],
   "source": [
    "# --- 1. GridSearchCV ---\n",
    "\n",
    "# Hyperparameter grid untuk tiap model\n",
    "param_grids = {\n",
    "    \"Ridge\": {\"regressor__alpha\": [0.1, 1.0, 10.0, 100.0]},\n",
    "    \"Lasso\": {\"regressor__alpha\": [0.0001, 0.001, 0.01, 0.1]},\n",
    "    \"DecisionTree\": {\n",
    "        \"regressor__max_depth\": [5, 10, 20, None],\n",
    "        \"regressor__min_samples_split\": [2, 5, 10]\n",
    "    },\n",
    "    \"RandomForest\": {\n",
    "        \"regressor__n_estimators\": [100, 200],\n",
    "        \"regressor__max_depth\": [10, 20, None]\n",
    "    },\n",
    "    \"GradientBoosting\": {\n",
    "        \"regressor__n_estimators\": [100, 200],\n",
    "        \"regressor__learning_rate\": [0.05, 0.1],\n",
    "        \"regressor__max_depth\": [3, 5]\n",
    "    },\n",
    "    \"XGBoost\": {\n",
    "        \"regressor__n_estimators\": [100, 200],\n",
    "        \"regressor__learning_rate\": [0.05, 0.1],\n",
    "        \"regressor__max_depth\": [3, 5]\n",
    "    },\n",
    "    \"LightGBM\": {\n",
    "        \"regressor__n_estimators\": [100, 200],\n",
    "        \"regressor__learning_rate\": [0.05, 0.1],\n",
    "        \"regressor__num_leaves\": [31, 50]\n",
    "    },\n",
    "    \"CatBoost\": {\n",
    "        \"regressor__iterations\": [500, 1000],\n",
    "        \"regressor__learning_rate\": [0.03, 0.1],\n",
    "        \"regressor__depth\": [4, 6]\n",
    "    }\n",
    "}\n",
    "\n",
    "tuned_models_grid = {}\n",
    "for name, pipeline in pipelines.items():\n",
    "    if name in param_grids:\n",
    "        print(f\"GridSearchCV for {name}...\")\n",
    "        gs = GridSearchCV(pipeline, param_grid=param_grids[name], cv=5, scoring='neg_root_mean_squared_error', n_jobs=-1)\n",
    "        gs.fit(X_train, y_train)\n",
    "        tuned_models_grid[name] = gs.best_estimator_\n",
    "        print(f\"Best params for {name}: {gs.best_params_}\")"
   ]
  },
  {
   "cell_type": "code",
   "execution_count": 45,
   "metadata": {},
   "outputs": [
    {
     "name": "stdout",
     "output_type": "stream",
     "text": [
      "RandomizedSearchCV for Ridge...\n",
      "Best params for Ridge: {'regressor__alpha': np.float64(5.818361216819946)}\n",
      "RandomizedSearchCV for Lasso...\n"
     ]
    },
    {
     "name": "stderr",
     "output_type": "stream",
     "text": [
      "/Users/macbook/anaconda3/envs/ameshousing-regression/lib/python3.10/site-packages/sklearn/linear_model/_coordinate_descent.py:695: ConvergenceWarning: Objective did not converge. You might want to increase the number of iterations, check the scale of the features or consider increasing regularisation. Duality gap: 5.134e+11, tolerance: 1.132e+09\n",
      "  model = cd_fast.enet_coordinate_descent(\n",
      "/Users/macbook/anaconda3/envs/ameshousing-regression/lib/python3.10/site-packages/sklearn/linear_model/_coordinate_descent.py:695: ConvergenceWarning: Objective did not converge. You might want to increase the number of iterations, check the scale of the features or consider increasing regularisation. Duality gap: 5.127e+11, tolerance: 1.132e+09\n",
      "  model = cd_fast.enet_coordinate_descent(\n",
      "/Users/macbook/anaconda3/envs/ameshousing-regression/lib/python3.10/site-packages/sklearn/linear_model/_coordinate_descent.py:695: ConvergenceWarning: Objective did not converge. You might want to increase the number of iterations, check the scale of the features or consider increasing regularisation. Duality gap: 4.863e+11, tolerance: 1.134e+09\n",
      "  model = cd_fast.enet_coordinate_descent(\n",
      "/Users/macbook/anaconda3/envs/ameshousing-regression/lib/python3.10/site-packages/sklearn/linear_model/_coordinate_descent.py:695: ConvergenceWarning: Objective did not converge. You might want to increase the number of iterations, check the scale of the features or consider increasing regularisation. Duality gap: 5.050e+11, tolerance: 1.123e+09\n",
      "  model = cd_fast.enet_coordinate_descent(\n",
      "/Users/macbook/anaconda3/envs/ameshousing-regression/lib/python3.10/site-packages/sklearn/linear_model/_coordinate_descent.py:695: ConvergenceWarning: Objective did not converge. You might want to increase the number of iterations, check the scale of the features or consider increasing regularisation. Duality gap: 4.864e+11, tolerance: 1.134e+09\n",
      "  model = cd_fast.enet_coordinate_descent(\n",
      "/Users/macbook/anaconda3/envs/ameshousing-regression/lib/python3.10/site-packages/sklearn/linear_model/_coordinate_descent.py:695: ConvergenceWarning: Objective did not converge. You might want to increase the number of iterations, check the scale of the features or consider increasing regularisation. Duality gap: 5.008e+11, tolerance: 1.082e+09\n",
      "  model = cd_fast.enet_coordinate_descent(\n",
      "/Users/macbook/anaconda3/envs/ameshousing-regression/lib/python3.10/site-packages/sklearn/linear_model/_coordinate_descent.py:695: ConvergenceWarning: Objective did not converge. You might want to increase the number of iterations, check the scale of the features or consider increasing regularisation. Duality gap: 4.346e+11, tolerance: 1.104e+09\n",
      "  model = cd_fast.enet_coordinate_descent(\n",
      "/Users/macbook/anaconda3/envs/ameshousing-regression/lib/python3.10/site-packages/sklearn/linear_model/_coordinate_descent.py:695: ConvergenceWarning: Objective did not converge. You might want to increase the number of iterations, check the scale of the features or consider increasing regularisation. Duality gap: 5.004e+11, tolerance: 1.082e+09\n",
      "  model = cd_fast.enet_coordinate_descent(\n",
      "/Users/macbook/anaconda3/envs/ameshousing-regression/lib/python3.10/site-packages/sklearn/linear_model/_coordinate_descent.py:695: ConvergenceWarning: Objective did not converge. You might want to increase the number of iterations, check the scale of the features or consider increasing regularisation. Duality gap: 4.337e+11, tolerance: 1.104e+09\n",
      "  model = cd_fast.enet_coordinate_descent(\n",
      "/Users/macbook/anaconda3/envs/ameshousing-regression/lib/python3.10/site-packages/sklearn/linear_model/_coordinate_descent.py:695: ConvergenceWarning: Objective did not converge. You might want to increase the number of iterations, check the scale of the features or consider increasing regularisation. Duality gap: 5.130e+11, tolerance: 1.132e+09\n",
      "  model = cd_fast.enet_coordinate_descent(\n",
      "/Users/macbook/anaconda3/envs/ameshousing-regression/lib/python3.10/site-packages/sklearn/linear_model/_coordinate_descent.py:695: ConvergenceWarning: Objective did not converge. You might want to increase the number of iterations, check the scale of the features or consider increasing regularisation. Duality gap: 5.045e+11, tolerance: 1.123e+09\n",
      "  model = cd_fast.enet_coordinate_descent(\n",
      "/Users/macbook/anaconda3/envs/ameshousing-regression/lib/python3.10/site-packages/sklearn/linear_model/_coordinate_descent.py:695: ConvergenceWarning: Objective did not converge. You might want to increase the number of iterations, check the scale of the features or consider increasing regularisation. Duality gap: 5.131e+11, tolerance: 1.132e+09\n",
      "  model = cd_fast.enet_coordinate_descent(\n",
      "/Users/macbook/anaconda3/envs/ameshousing-regression/lib/python3.10/site-packages/sklearn/linear_model/_coordinate_descent.py:695: ConvergenceWarning: Objective did not converge. You might want to increase the number of iterations, check the scale of the features or consider increasing regularisation. Duality gap: 4.858e+11, tolerance: 1.134e+09\n",
      "  model = cd_fast.enet_coordinate_descent(\n",
      "/Users/macbook/anaconda3/envs/ameshousing-regression/lib/python3.10/site-packages/sklearn/linear_model/_coordinate_descent.py:695: ConvergenceWarning: Objective did not converge. You might want to increase the number of iterations, check the scale of the features or consider increasing regularisation. Duality gap: 5.047e+11, tolerance: 1.123e+09\n",
      "  model = cd_fast.enet_coordinate_descent(\n",
      "/Users/macbook/anaconda3/envs/ameshousing-regression/lib/python3.10/site-packages/sklearn/linear_model/_coordinate_descent.py:695: ConvergenceWarning: Objective did not converge. You might want to increase the number of iterations, check the scale of the features or consider increasing regularisation. Duality gap: 5.006e+11, tolerance: 1.082e+09\n",
      "  model = cd_fast.enet_coordinate_descent(\n",
      "/Users/macbook/anaconda3/envs/ameshousing-regression/lib/python3.10/site-packages/sklearn/linear_model/_coordinate_descent.py:695: ConvergenceWarning: Objective did not converge. You might want to increase the number of iterations, check the scale of the features or consider increasing regularisation. Duality gap: 4.341e+11, tolerance: 1.104e+09\n",
      "  model = cd_fast.enet_coordinate_descent(\n",
      "/Users/macbook/anaconda3/envs/ameshousing-regression/lib/python3.10/site-packages/sklearn/linear_model/_coordinate_descent.py:695: ConvergenceWarning: Objective did not converge. You might want to increase the number of iterations, check the scale of the features or consider increasing regularisation. Duality gap: 5.136e+11, tolerance: 1.132e+09\n",
      "  model = cd_fast.enet_coordinate_descent(\n",
      "/Users/macbook/anaconda3/envs/ameshousing-regression/lib/python3.10/site-packages/sklearn/linear_model/_coordinate_descent.py:695: ConvergenceWarning: Objective did not converge. You might want to increase the number of iterations, check the scale of the features or consider increasing regularisation. Duality gap: 5.007e+11, tolerance: 1.082e+09\n",
      "  model = cd_fast.enet_coordinate_descent(\n",
      "/Users/macbook/anaconda3/envs/ameshousing-regression/lib/python3.10/site-packages/sklearn/linear_model/_coordinate_descent.py:695: ConvergenceWarning: Objective did not converge. You might want to increase the number of iterations, check the scale of the features or consider increasing regularisation. Duality gap: 4.859e+11, tolerance: 1.134e+09\n",
      "  model = cd_fast.enet_coordinate_descent(\n",
      "/Users/macbook/anaconda3/envs/ameshousing-regression/lib/python3.10/site-packages/sklearn/linear_model/_coordinate_descent.py:695: ConvergenceWarning: Objective did not converge. You might want to increase the number of iterations, check the scale of the features or consider increasing regularisation. Duality gap: 4.343e+11, tolerance: 1.104e+09\n",
      "  model = cd_fast.enet_coordinate_descent(\n",
      "/Users/macbook/anaconda3/envs/ameshousing-regression/lib/python3.10/site-packages/sklearn/linear_model/_coordinate_descent.py:695: ConvergenceWarning: Objective did not converge. You might want to increase the number of iterations, check the scale of the features or consider increasing regularisation. Duality gap: 5.048e+11, tolerance: 1.123e+09\n",
      "  model = cd_fast.enet_coordinate_descent(\n",
      "/Users/macbook/anaconda3/envs/ameshousing-regression/lib/python3.10/site-packages/sklearn/linear_model/_coordinate_descent.py:695: ConvergenceWarning: Objective did not converge. You might want to increase the number of iterations, check the scale of the features or consider increasing regularisation. Duality gap: 4.860e+11, tolerance: 1.134e+09\n",
      "  model = cd_fast.enet_coordinate_descent(\n",
      "/Users/macbook/anaconda3/envs/ameshousing-regression/lib/python3.10/site-packages/sklearn/linear_model/_coordinate_descent.py:695: ConvergenceWarning: Objective did not converge. You might want to increase the number of iterations, check the scale of the features or consider increasing regularisation. Duality gap: 5.009e+11, tolerance: 1.082e+09\n",
      "  model = cd_fast.enet_coordinate_descent(\n",
      "/Users/macbook/anaconda3/envs/ameshousing-regression/lib/python3.10/site-packages/sklearn/linear_model/_coordinate_descent.py:695: ConvergenceWarning: Objective did not converge. You might want to increase the number of iterations, check the scale of the features or consider increasing regularisation. Duality gap: 4.349e+11, tolerance: 1.104e+09\n",
      "  model = cd_fast.enet_coordinate_descent(\n",
      "/Users/macbook/anaconda3/envs/ameshousing-regression/lib/python3.10/site-packages/sklearn/linear_model/_coordinate_descent.py:695: ConvergenceWarning: Objective did not converge. You might want to increase the number of iterations, check the scale of the features or consider increasing regularisation. Duality gap: 5.136e+11, tolerance: 1.132e+09\n",
      "  model = cd_fast.enet_coordinate_descent(\n",
      "/Users/macbook/anaconda3/envs/ameshousing-regression/lib/python3.10/site-packages/sklearn/linear_model/_coordinate_descent.py:695: ConvergenceWarning: Objective did not converge. You might want to increase the number of iterations, check the scale of the features or consider increasing regularisation. Duality gap: 5.052e+11, tolerance: 1.123e+09\n",
      "  model = cd_fast.enet_coordinate_descent(\n",
      "/Users/macbook/anaconda3/envs/ameshousing-regression/lib/python3.10/site-packages/sklearn/linear_model/_coordinate_descent.py:695: ConvergenceWarning: Objective did not converge. You might want to increase the number of iterations, check the scale of the features or consider increasing regularisation. Duality gap: 5.009e+11, tolerance: 1.082e+09\n",
      "  model = cd_fast.enet_coordinate_descent(\n",
      "/Users/macbook/anaconda3/envs/ameshousing-regression/lib/python3.10/site-packages/sklearn/linear_model/_coordinate_descent.py:695: ConvergenceWarning: Objective did not converge. You might want to increase the number of iterations, check the scale of the features or consider increasing regularisation. Duality gap: 4.860e+11, tolerance: 1.134e+09\n",
      "  model = cd_fast.enet_coordinate_descent(\n",
      "/Users/macbook/anaconda3/envs/ameshousing-regression/lib/python3.10/site-packages/sklearn/linear_model/_coordinate_descent.py:695: ConvergenceWarning: Objective did not converge. You might want to increase the number of iterations, check the scale of the features or consider increasing regularisation. Duality gap: 5.052e+11, tolerance: 1.123e+09\n",
      "  model = cd_fast.enet_coordinate_descent(\n",
      "/Users/macbook/anaconda3/envs/ameshousing-regression/lib/python3.10/site-packages/sklearn/linear_model/_coordinate_descent.py:695: ConvergenceWarning: Objective did not converge. You might want to increase the number of iterations, check the scale of the features or consider increasing regularisation. Duality gap: 4.349e+11, tolerance: 1.104e+09\n",
      "  model = cd_fast.enet_coordinate_descent(\n",
      "/Users/macbook/anaconda3/envs/ameshousing-regression/lib/python3.10/site-packages/sklearn/linear_model/_coordinate_descent.py:695: ConvergenceWarning: Objective did not converge. You might want to increase the number of iterations, check the scale of the features or consider increasing regularisation. Duality gap: 5.137e+11, tolerance: 1.132e+09\n",
      "  model = cd_fast.enet_coordinate_descent(\n",
      "/Users/macbook/anaconda3/envs/ameshousing-regression/lib/python3.10/site-packages/sklearn/linear_model/_coordinate_descent.py:695: ConvergenceWarning: Objective did not converge. You might want to increase the number of iterations, check the scale of the features or consider increasing regularisation. Duality gap: 5.010e+11, tolerance: 1.082e+09\n",
      "  model = cd_fast.enet_coordinate_descent(\n",
      "/Users/macbook/anaconda3/envs/ameshousing-regression/lib/python3.10/site-packages/sklearn/linear_model/_coordinate_descent.py:695: ConvergenceWarning: Objective did not converge. You might want to increase the number of iterations, check the scale of the features or consider increasing regularisation. Duality gap: 4.857e+11, tolerance: 1.134e+09\n",
      "  model = cd_fast.enet_coordinate_descent(\n",
      "/Users/macbook/anaconda3/envs/ameshousing-regression/lib/python3.10/site-packages/sklearn/linear_model/_coordinate_descent.py:695: ConvergenceWarning: Objective did not converge. You might want to increase the number of iterations, check the scale of the features or consider increasing regularisation. Duality gap: 4.350e+11, tolerance: 1.104e+09\n",
      "  model = cd_fast.enet_coordinate_descent(\n",
      "/Users/macbook/anaconda3/envs/ameshousing-regression/lib/python3.10/site-packages/sklearn/linear_model/_coordinate_descent.py:695: ConvergenceWarning: Objective did not converge. You might want to increase the number of iterations, check the scale of the features or consider increasing regularisation. Duality gap: 5.128e+11, tolerance: 1.132e+09\n",
      "  model = cd_fast.enet_coordinate_descent(\n",
      "/Users/macbook/anaconda3/envs/ameshousing-regression/lib/python3.10/site-packages/sklearn/linear_model/_coordinate_descent.py:695: ConvergenceWarning: Objective did not converge. You might want to increase the number of iterations, check the scale of the features or consider increasing regularisation. Duality gap: 5.052e+11, tolerance: 1.123e+09\n",
      "  model = cd_fast.enet_coordinate_descent(\n",
      "/Users/macbook/anaconda3/envs/ameshousing-regression/lib/python3.10/site-packages/sklearn/linear_model/_coordinate_descent.py:695: ConvergenceWarning: Objective did not converge. You might want to increase the number of iterations, check the scale of the features or consider increasing regularisation. Duality gap: 4.864e+11, tolerance: 1.134e+09\n",
      "  model = cd_fast.enet_coordinate_descent(\n",
      "/Users/macbook/anaconda3/envs/ameshousing-regression/lib/python3.10/site-packages/sklearn/linear_model/_coordinate_descent.py:695: ConvergenceWarning: Objective did not converge. You might want to increase the number of iterations, check the scale of the features or consider increasing regularisation. Duality gap: 5.005e+11, tolerance: 1.082e+09\n",
      "  model = cd_fast.enet_coordinate_descent(\n",
      "/Users/macbook/anaconda3/envs/ameshousing-regression/lib/python3.10/site-packages/sklearn/linear_model/_coordinate_descent.py:695: ConvergenceWarning: Objective did not converge. You might want to increase the number of iterations, check the scale of the features or consider increasing regularisation. Duality gap: 4.339e+11, tolerance: 1.104e+09\n",
      "  model = cd_fast.enet_coordinate_descent(\n",
      "/Users/macbook/anaconda3/envs/ameshousing-regression/lib/python3.10/site-packages/sklearn/linear_model/_coordinate_descent.py:695: ConvergenceWarning: Objective did not converge. You might want to increase the number of iterations, check the scale of the features or consider increasing regularisation. Duality gap: 5.046e+11, tolerance: 1.123e+09\n",
      "  model = cd_fast.enet_coordinate_descent(\n",
      "/Users/macbook/anaconda3/envs/ameshousing-regression/lib/python3.10/site-packages/sklearn/linear_model/_coordinate_descent.py:695: ConvergenceWarning: Objective did not converge. You might want to increase the number of iterations, check the scale of the features or consider increasing regularisation. Duality gap: 5.131e+11, tolerance: 1.132e+09\n",
      "  model = cd_fast.enet_coordinate_descent(\n",
      "/Users/macbook/anaconda3/envs/ameshousing-regression/lib/python3.10/site-packages/sklearn/linear_model/_coordinate_descent.py:695: ConvergenceWarning: Objective did not converge. You might want to increase the number of iterations, check the scale of the features or consider increasing regularisation. Duality gap: 5.007e+11, tolerance: 1.082e+09\n",
      "  model = cd_fast.enet_coordinate_descent(\n",
      "/Users/macbook/anaconda3/envs/ameshousing-regression/lib/python3.10/site-packages/sklearn/linear_model/_coordinate_descent.py:695: ConvergenceWarning: Objective did not converge. You might want to increase the number of iterations, check the scale of the features or consider increasing regularisation. Duality gap: 4.859e+11, tolerance: 1.134e+09\n",
      "  model = cd_fast.enet_coordinate_descent(\n",
      "/Users/macbook/anaconda3/envs/ameshousing-regression/lib/python3.10/site-packages/sklearn/linear_model/_coordinate_descent.py:695: ConvergenceWarning: Objective did not converge. You might want to increase the number of iterations, check the scale of the features or consider increasing regularisation. Duality gap: 5.048e+11, tolerance: 1.123e+09\n",
      "  model = cd_fast.enet_coordinate_descent(\n",
      "/Users/macbook/anaconda3/envs/ameshousing-regression/lib/python3.10/site-packages/sklearn/linear_model/_coordinate_descent.py:695: ConvergenceWarning: Objective did not converge. You might want to increase the number of iterations, check the scale of the features or consider increasing regularisation. Duality gap: 4.343e+11, tolerance: 1.104e+09\n",
      "  model = cd_fast.enet_coordinate_descent(\n",
      "/Users/macbook/anaconda3/envs/ameshousing-regression/lib/python3.10/site-packages/sklearn/linear_model/_coordinate_descent.py:695: ConvergenceWarning: Objective did not converge. You might want to increase the number of iterations, check the scale of the features or consider increasing regularisation. Duality gap: 5.130e+11, tolerance: 1.132e+09\n",
      "  model = cd_fast.enet_coordinate_descent(\n",
      "/Users/macbook/anaconda3/envs/ameshousing-regression/lib/python3.10/site-packages/sklearn/linear_model/_coordinate_descent.py:695: ConvergenceWarning: Objective did not converge. You might want to increase the number of iterations, check the scale of the features or consider increasing regularisation. Duality gap: 4.768e+11, tolerance: 1.134e+09\n",
      "  model = cd_fast.enet_coordinate_descent(\n",
      "/Users/macbook/anaconda3/envs/ameshousing-regression/lib/python3.10/site-packages/sklearn/linear_model/_coordinate_descent.py:695: ConvergenceWarning: Objective did not converge. You might want to increase the number of iterations, check the scale of the features or consider increasing regularisation. Duality gap: 5.006e+11, tolerance: 1.082e+09\n",
      "  model = cd_fast.enet_coordinate_descent(\n",
      "/Users/macbook/anaconda3/envs/ameshousing-regression/lib/python3.10/site-packages/sklearn/linear_model/_coordinate_descent.py:695: ConvergenceWarning: Objective did not converge. You might want to increase the number of iterations, check the scale of the features or consider increasing regularisation. Duality gap: 4.341e+11, tolerance: 1.104e+09\n",
      "  model = cd_fast.enet_coordinate_descent(\n",
      "/Users/macbook/anaconda3/envs/ameshousing-regression/lib/python3.10/site-packages/sklearn/linear_model/_coordinate_descent.py:695: ConvergenceWarning: Objective did not converge. You might want to increase the number of iterations, check the scale of the features or consider increasing regularisation. Duality gap: 5.047e+11, tolerance: 1.123e+09\n",
      "  model = cd_fast.enet_coordinate_descent(\n",
      "/Users/macbook/anaconda3/envs/ameshousing-regression/lib/python3.10/site-packages/sklearn/linear_model/_coordinate_descent.py:695: ConvergenceWarning: Objective did not converge. You might want to increase the number of iterations, check the scale of the features or consider increasing regularisation. Duality gap: 5.138e+11, tolerance: 1.132e+09\n",
      "  model = cd_fast.enet_coordinate_descent(\n",
      "/Users/macbook/anaconda3/envs/ameshousing-regression/lib/python3.10/site-packages/sklearn/linear_model/_coordinate_descent.py:695: ConvergenceWarning: Objective did not converge. You might want to increase the number of iterations, check the scale of the features or consider increasing regularisation. Duality gap: 4.860e+11, tolerance: 1.134e+09\n",
      "  model = cd_fast.enet_coordinate_descent(\n",
      "/Users/macbook/anaconda3/envs/ameshousing-regression/lib/python3.10/site-packages/sklearn/linear_model/_coordinate_descent.py:695: ConvergenceWarning: Objective did not converge. You might want to increase the number of iterations, check the scale of the features or consider increasing regularisation. Duality gap: 5.010e+11, tolerance: 1.082e+09\n",
      "  model = cd_fast.enet_coordinate_descent(\n",
      "/Users/macbook/anaconda3/envs/ameshousing-regression/lib/python3.10/site-packages/sklearn/linear_model/_coordinate_descent.py:695: ConvergenceWarning: Objective did not converge. You might want to increase the number of iterations, check the scale of the features or consider increasing regularisation. Duality gap: 5.053e+11, tolerance: 1.123e+09\n",
      "  model = cd_fast.enet_coordinate_descent(\n",
      "/Users/macbook/anaconda3/envs/ameshousing-regression/lib/python3.10/site-packages/sklearn/linear_model/_coordinate_descent.py:695: ConvergenceWarning: Objective did not converge. You might want to increase the number of iterations, check the scale of the features or consider increasing regularisation. Duality gap: 5.127e+11, tolerance: 1.132e+09\n",
      "  model = cd_fast.enet_coordinate_descent(\n",
      "/Users/macbook/anaconda3/envs/ameshousing-regression/lib/python3.10/site-packages/sklearn/linear_model/_coordinate_descent.py:695: ConvergenceWarning: Objective did not converge. You might want to increase the number of iterations, check the scale of the features or consider increasing regularisation. Duality gap: 4.350e+11, tolerance: 1.104e+09\n",
      "  model = cd_fast.enet_coordinate_descent(\n",
      "/Users/macbook/anaconda3/envs/ameshousing-regression/lib/python3.10/site-packages/sklearn/linear_model/_coordinate_descent.py:695: ConvergenceWarning: Objective did not converge. You might want to increase the number of iterations, check the scale of the features or consider increasing regularisation. Duality gap: 5.004e+11, tolerance: 1.082e+09\n",
      "  model = cd_fast.enet_coordinate_descent(\n",
      "/Users/macbook/anaconda3/envs/ameshousing-regression/lib/python3.10/site-packages/sklearn/linear_model/_coordinate_descent.py:695: ConvergenceWarning: Objective did not converge. You might want to increase the number of iterations, check the scale of the features or consider increasing regularisation. Duality gap: 4.865e+11, tolerance: 1.134e+09\n",
      "  model = cd_fast.enet_coordinate_descent(\n",
      "/Users/macbook/anaconda3/envs/ameshousing-regression/lib/python3.10/site-packages/sklearn/linear_model/_coordinate_descent.py:695: ConvergenceWarning: Objective did not converge. You might want to increase the number of iterations, check the scale of the features or consider increasing regularisation. Duality gap: 4.337e+11, tolerance: 1.104e+09\n",
      "  model = cd_fast.enet_coordinate_descent(\n",
      "/Users/macbook/anaconda3/envs/ameshousing-regression/lib/python3.10/site-packages/sklearn/linear_model/_coordinate_descent.py:695: ConvergenceWarning: Objective did not converge. You might want to increase the number of iterations, check the scale of the features or consider increasing regularisation. Duality gap: 5.128e+11, tolerance: 1.132e+09\n",
      "  model = cd_fast.enet_coordinate_descent(\n",
      "/Users/macbook/anaconda3/envs/ameshousing-regression/lib/python3.10/site-packages/sklearn/linear_model/_coordinate_descent.py:695: ConvergenceWarning: Objective did not converge. You might want to increase the number of iterations, check the scale of the features or consider increasing regularisation. Duality gap: 5.045e+11, tolerance: 1.123e+09\n",
      "  model = cd_fast.enet_coordinate_descent(\n",
      "/Users/macbook/anaconda3/envs/ameshousing-regression/lib/python3.10/site-packages/sklearn/linear_model/_coordinate_descent.py:695: ConvergenceWarning: Objective did not converge. You might want to increase the number of iterations, check the scale of the features or consider increasing regularisation. Duality gap: 4.864e+11, tolerance: 1.134e+09\n",
      "  model = cd_fast.enet_coordinate_descent(\n",
      "/Users/macbook/anaconda3/envs/ameshousing-regression/lib/python3.10/site-packages/sklearn/linear_model/_coordinate_descent.py:695: ConvergenceWarning: Objective did not converge. You might want to increase the number of iterations, check the scale of the features or consider increasing regularisation. Duality gap: 5.005e+11, tolerance: 1.082e+09\n",
      "  model = cd_fast.enet_coordinate_descent(\n",
      "/Users/macbook/anaconda3/envs/ameshousing-regression/lib/python3.10/site-packages/sklearn/linear_model/_coordinate_descent.py:695: ConvergenceWarning: Objective did not converge. You might want to increase the number of iterations, check the scale of the features or consider increasing regularisation. Duality gap: 4.339e+11, tolerance: 1.104e+09\n",
      "  model = cd_fast.enet_coordinate_descent(\n",
      "/Users/macbook/anaconda3/envs/ameshousing-regression/lib/python3.10/site-packages/sklearn/linear_model/_coordinate_descent.py:695: ConvergenceWarning: Objective did not converge. You might want to increase the number of iterations, check the scale of the features or consider increasing regularisation. Duality gap: 5.046e+11, tolerance: 1.123e+09\n",
      "  model = cd_fast.enet_coordinate_descent(\n",
      "/Users/macbook/anaconda3/envs/ameshousing-regression/lib/python3.10/site-packages/sklearn/linear_model/_coordinate_descent.py:695: ConvergenceWarning: Objective did not converge. You might want to increase the number of iterations, check the scale of the features or consider increasing regularisation. Duality gap: 5.136e+11, tolerance: 1.132e+09\n",
      "  model = cd_fast.enet_coordinate_descent(\n",
      "/Users/macbook/anaconda3/envs/ameshousing-regression/lib/python3.10/site-packages/sklearn/linear_model/_coordinate_descent.py:695: ConvergenceWarning: Objective did not converge. You might want to increase the number of iterations, check the scale of the features or consider increasing regularisation. Duality gap: 5.009e+11, tolerance: 1.082e+09\n",
      "  model = cd_fast.enet_coordinate_descent(\n",
      "/Users/macbook/anaconda3/envs/ameshousing-regression/lib/python3.10/site-packages/sklearn/linear_model/_coordinate_descent.py:695: ConvergenceWarning: Objective did not converge. You might want to increase the number of iterations, check the scale of the features or consider increasing regularisation. Duality gap: 5.136e+11, tolerance: 1.132e+09\n",
      "  model = cd_fast.enet_coordinate_descent(\n",
      "/Users/macbook/anaconda3/envs/ameshousing-regression/lib/python3.10/site-packages/sklearn/linear_model/_coordinate_descent.py:695: ConvergenceWarning: Objective did not converge. You might want to increase the number of iterations, check the scale of the features or consider increasing regularisation. Duality gap: 4.860e+11, tolerance: 1.134e+09\n",
      "  model = cd_fast.enet_coordinate_descent(\n",
      "/Users/macbook/anaconda3/envs/ameshousing-regression/lib/python3.10/site-packages/sklearn/linear_model/_coordinate_descent.py:695: ConvergenceWarning: Objective did not converge. You might want to increase the number of iterations, check the scale of the features or consider increasing regularisation. Duality gap: 4.348e+11, tolerance: 1.104e+09\n",
      "  model = cd_fast.enet_coordinate_descent(\n",
      "/Users/macbook/anaconda3/envs/ameshousing-regression/lib/python3.10/site-packages/sklearn/linear_model/_coordinate_descent.py:695: ConvergenceWarning: Objective did not converge. You might want to increase the number of iterations, check the scale of the features or consider increasing regularisation. Duality gap: 5.051e+11, tolerance: 1.123e+09\n",
      "  model = cd_fast.enet_coordinate_descent(\n",
      "/Users/macbook/anaconda3/envs/ameshousing-regression/lib/python3.10/site-packages/sklearn/linear_model/_coordinate_descent.py:695: ConvergenceWarning: Objective did not converge. You might want to increase the number of iterations, check the scale of the features or consider increasing regularisation. Duality gap: 5.009e+11, tolerance: 1.082e+09\n",
      "  model = cd_fast.enet_coordinate_descent(\n",
      "/Users/macbook/anaconda3/envs/ameshousing-regression/lib/python3.10/site-packages/sklearn/linear_model/_coordinate_descent.py:695: ConvergenceWarning: Objective did not converge. You might want to increase the number of iterations, check the scale of the features or consider increasing regularisation. Duality gap: 4.860e+11, tolerance: 1.134e+09\n",
      "  model = cd_fast.enet_coordinate_descent(\n",
      "/Users/macbook/anaconda3/envs/ameshousing-regression/lib/python3.10/site-packages/sklearn/linear_model/_coordinate_descent.py:695: ConvergenceWarning: Objective did not converge. You might want to increase the number of iterations, check the scale of the features or consider increasing regularisation. Duality gap: 4.348e+11, tolerance: 1.104e+09\n",
      "  model = cd_fast.enet_coordinate_descent(\n",
      "/Users/macbook/anaconda3/envs/ameshousing-regression/lib/python3.10/site-packages/sklearn/linear_model/_coordinate_descent.py:695: ConvergenceWarning: Objective did not converge. You might want to increase the number of iterations, check the scale of the features or consider increasing regularisation. Duality gap: 5.136e+11, tolerance: 1.132e+09\n",
      "  model = cd_fast.enet_coordinate_descent(\n",
      "/Users/macbook/anaconda3/envs/ameshousing-regression/lib/python3.10/site-packages/sklearn/linear_model/_coordinate_descent.py:695: ConvergenceWarning: Objective did not converge. You might want to increase the number of iterations, check the scale of the features or consider increasing regularisation. Duality gap: 5.052e+11, tolerance: 1.123e+09\n",
      "  model = cd_fast.enet_coordinate_descent(\n",
      "/Users/macbook/anaconda3/envs/ameshousing-regression/lib/python3.10/site-packages/sklearn/linear_model/_coordinate_descent.py:695: ConvergenceWarning: Objective did not converge. You might want to increase the number of iterations, check the scale of the features or consider increasing regularisation. Duality gap: 5.009e+11, tolerance: 1.082e+09\n",
      "  model = cd_fast.enet_coordinate_descent(\n",
      "/Users/macbook/anaconda3/envs/ameshousing-regression/lib/python3.10/site-packages/sklearn/linear_model/_coordinate_descent.py:695: ConvergenceWarning: Objective did not converge. You might want to increase the number of iterations, check the scale of the features or consider increasing regularisation. Duality gap: 4.860e+11, tolerance: 1.134e+09\n",
      "  model = cd_fast.enet_coordinate_descent(\n",
      "/Users/macbook/anaconda3/envs/ameshousing-regression/lib/python3.10/site-packages/sklearn/linear_model/_coordinate_descent.py:695: ConvergenceWarning: Objective did not converge. You might want to increase the number of iterations, check the scale of the features or consider increasing regularisation. Duality gap: 4.348e+11, tolerance: 1.104e+09\n",
      "  model = cd_fast.enet_coordinate_descent(\n",
      "/Users/macbook/anaconda3/envs/ameshousing-regression/lib/python3.10/site-packages/sklearn/linear_model/_coordinate_descent.py:695: ConvergenceWarning: Objective did not converge. You might want to increase the number of iterations, check the scale of the features or consider increasing regularisation. Duality gap: 5.052e+11, tolerance: 1.123e+09\n",
      "  model = cd_fast.enet_coordinate_descent(\n",
      "/Users/macbook/anaconda3/envs/ameshousing-regression/lib/python3.10/site-packages/sklearn/linear_model/_coordinate_descent.py:695: ConvergenceWarning: Objective did not converge. You might want to increase the number of iterations, check the scale of the features or consider increasing regularisation. Duality gap: 5.134e+11, tolerance: 1.132e+09\n",
      "  model = cd_fast.enet_coordinate_descent(\n",
      "/Users/macbook/anaconda3/envs/ameshousing-regression/lib/python3.10/site-packages/sklearn/linear_model/_coordinate_descent.py:695: ConvergenceWarning: Objective did not converge. You might want to increase the number of iterations, check the scale of the features or consider increasing regularisation. Duality gap: 5.009e+11, tolerance: 1.082e+09\n",
      "  model = cd_fast.enet_coordinate_descent(\n",
      "/Users/macbook/anaconda3/envs/ameshousing-regression/lib/python3.10/site-packages/sklearn/linear_model/_coordinate_descent.py:695: ConvergenceWarning: Objective did not converge. You might want to increase the number of iterations, check the scale of the features or consider increasing regularisation. Duality gap: 4.861e+11, tolerance: 1.134e+09\n",
      "  model = cd_fast.enet_coordinate_descent(\n",
      "/Users/macbook/anaconda3/envs/ameshousing-regression/lib/python3.10/site-packages/sklearn/linear_model/_coordinate_descent.py:695: ConvergenceWarning: Objective did not converge. You might want to increase the number of iterations, check the scale of the features or consider increasing regularisation. Duality gap: 5.051e+11, tolerance: 1.123e+09\n",
      "  model = cd_fast.enet_coordinate_descent(\n",
      "/Users/macbook/anaconda3/envs/ameshousing-regression/lib/python3.10/site-packages/sklearn/linear_model/_coordinate_descent.py:695: ConvergenceWarning: Objective did not converge. You might want to increase the number of iterations, check the scale of the features or consider increasing regularisation. Duality gap: 4.347e+11, tolerance: 1.104e+09\n",
      "  model = cd_fast.enet_coordinate_descent(\n",
      "/Users/macbook/anaconda3/envs/ameshousing-regression/lib/python3.10/site-packages/sklearn/linear_model/_coordinate_descent.py:695: ConvergenceWarning: Objective did not converge. You might want to increase the number of iterations, check the scale of the features or consider increasing regularisation. Duality gap: 5.132e+11, tolerance: 1.132e+09\n",
      "  model = cd_fast.enet_coordinate_descent(\n",
      "/Users/macbook/anaconda3/envs/ameshousing-regression/lib/python3.10/site-packages/sklearn/linear_model/_coordinate_descent.py:695: ConvergenceWarning: Objective did not converge. You might want to increase the number of iterations, check the scale of the features or consider increasing regularisation. Duality gap: 4.862e+11, tolerance: 1.134e+09\n",
      "  model = cd_fast.enet_coordinate_descent(\n",
      "/Users/macbook/anaconda3/envs/ameshousing-regression/lib/python3.10/site-packages/sklearn/linear_model/_coordinate_descent.py:695: ConvergenceWarning: Objective did not converge. You might want to increase the number of iterations, check the scale of the features or consider increasing regularisation. Duality gap: 5.007e+11, tolerance: 1.082e+09\n",
      "  model = cd_fast.enet_coordinate_descent(\n",
      "/Users/macbook/anaconda3/envs/ameshousing-regression/lib/python3.10/site-packages/sklearn/linear_model/_coordinate_descent.py:695: ConvergenceWarning: Objective did not converge. You might want to increase the number of iterations, check the scale of the features or consider increasing regularisation. Duality gap: 4.344e+11, tolerance: 1.104e+09\n",
      "  model = cd_fast.enet_coordinate_descent(\n",
      "/Users/macbook/anaconda3/envs/ameshousing-regression/lib/python3.10/site-packages/sklearn/linear_model/_coordinate_descent.py:695: ConvergenceWarning: Objective did not converge. You might want to increase the number of iterations, check the scale of the features or consider increasing regularisation. Duality gap: 5.049e+11, tolerance: 1.123e+09\n",
      "  model = cd_fast.enet_coordinate_descent(\n",
      "/Users/macbook/anaconda3/envs/ameshousing-regression/lib/python3.10/site-packages/sklearn/linear_model/_coordinate_descent.py:695: ConvergenceWarning: Objective did not converge. You might want to increase the number of iterations, check the scale of the features or consider increasing regularisation. Duality gap: 5.133e+11, tolerance: 1.132e+09\n",
      "  model = cd_fast.enet_coordinate_descent(\n",
      "/Users/macbook/anaconda3/envs/ameshousing-regression/lib/python3.10/site-packages/sklearn/linear_model/_coordinate_descent.py:695: ConvergenceWarning: Objective did not converge. You might want to increase the number of iterations, check the scale of the features or consider increasing regularisation. Duality gap: 5.008e+11, tolerance: 1.082e+09\n",
      "  model = cd_fast.enet_coordinate_descent(\n",
      "/Users/macbook/anaconda3/envs/ameshousing-regression/lib/python3.10/site-packages/sklearn/linear_model/_coordinate_descent.py:695: ConvergenceWarning: Objective did not converge. You might want to increase the number of iterations, check the scale of the features or consider increasing regularisation. Duality gap: 4.862e+11, tolerance: 1.134e+09\n",
      "  model = cd_fast.enet_coordinate_descent(\n",
      "/Users/macbook/anaconda3/envs/ameshousing-regression/lib/python3.10/site-packages/sklearn/linear_model/_coordinate_descent.py:695: ConvergenceWarning: Objective did not converge. You might want to increase the number of iterations, check the scale of the features or consider increasing regularisation. Duality gap: 5.135e+11, tolerance: 1.132e+09\n",
      "  model = cd_fast.enet_coordinate_descent(\n",
      "/Users/macbook/anaconda3/envs/ameshousing-regression/lib/python3.10/site-packages/sklearn/linear_model/_coordinate_descent.py:695: ConvergenceWarning: Objective did not converge. You might want to increase the number of iterations, check the scale of the features or consider increasing regularisation. Duality gap: 4.345e+11, tolerance: 1.104e+09\n",
      "  model = cd_fast.enet_coordinate_descent(\n",
      "/Users/macbook/anaconda3/envs/ameshousing-regression/lib/python3.10/site-packages/sklearn/linear_model/_coordinate_descent.py:695: ConvergenceWarning: Objective did not converge. You might want to increase the number of iterations, check the scale of the features or consider increasing regularisation. Duality gap: 5.049e+11, tolerance: 1.123e+09\n",
      "  model = cd_fast.enet_coordinate_descent(\n",
      "/Users/macbook/anaconda3/envs/ameshousing-regression/lib/python3.10/site-packages/sklearn/linear_model/_coordinate_descent.py:695: ConvergenceWarning: Objective did not converge. You might want to increase the number of iterations, check the scale of the features or consider increasing regularisation. Duality gap: 5.009e+11, tolerance: 1.082e+09\n",
      "  model = cd_fast.enet_coordinate_descent(\n",
      "/Users/macbook/anaconda3/envs/ameshousing-regression/lib/python3.10/site-packages/sklearn/linear_model/_coordinate_descent.py:695: ConvergenceWarning: Objective did not converge. You might want to increase the number of iterations, check the scale of the features or consider increasing regularisation. Duality gap: 4.862e+11, tolerance: 1.134e+09\n",
      "  model = cd_fast.enet_coordinate_descent(\n",
      "/Users/macbook/anaconda3/envs/ameshousing-regression/lib/python3.10/site-packages/sklearn/linear_model/_coordinate_descent.py:695: ConvergenceWarning: Objective did not converge. You might want to increase the number of iterations, check the scale of the features or consider increasing regularisation. Duality gap: 4.347e+11, tolerance: 1.104e+09\n",
      "  model = cd_fast.enet_coordinate_descent(\n",
      "/Users/macbook/anaconda3/envs/ameshousing-regression/lib/python3.10/site-packages/sklearn/linear_model/_coordinate_descent.py:695: ConvergenceWarning: Objective did not converge. You might want to increase the number of iterations, check the scale of the features or consider increasing regularisation. Duality gap: 5.051e+11, tolerance: 1.123e+09\n",
      "  model = cd_fast.enet_coordinate_descent(\n",
      "/Users/macbook/anaconda3/envs/ameshousing-regression/lib/python3.10/site-packages/sklearn/linear_model/_coordinate_descent.py:695: ConvergenceWarning: Objective did not converge. You might want to increase the number of iterations, check the scale of the features or consider increasing regularisation. Duality gap: 6.431e+11, tolerance: 1.394e+09\n",
      "  model = cd_fast.enet_coordinate_descent(\n"
     ]
    },
    {
     "name": "stdout",
     "output_type": "stream",
     "text": [
      "Best params for Lasso: {'regressor__alpha': np.float64(0.0059083612168199465)}\n",
      "RandomizedSearchCV for DecisionTree...\n",
      "Best params for DecisionTree: {'regressor__max_depth': 10, 'regressor__min_samples_split': 8}\n",
      "RandomizedSearchCV for RandomForest...\n",
      "Best params for RandomForest: {'regressor__max_depth': None, 'regressor__n_estimators': 335}\n",
      "RandomizedSearchCV for GradientBoosting...\n",
      "Best params for GradientBoosting: {'regressor__learning_rate': np.float64(0.1009320402078782), 'regressor__max_depth': 4, 'regressor__n_estimators': 203}\n",
      "RandomizedSearchCV for XGBoost...\n",
      "Best params for XGBoost: {'regressor__learning_rate': np.float64(0.05592488919658672), 'regressor__max_depth': 3, 'regressor__n_estimators': 199}\n",
      "RandomizedSearchCV for LightGBM...\n",
      "[LightGBM] [Info] Auto-choosing row-wise multi-threading, the overhead of testing was 0.010675 seconds.\n",
      "You can set `force_row_wise=true` to remove the overhead.\n",
      "And if memory is not enough, you can set `force_col_wise=true`.\n",
      "[LightGBM] [Info] Total Bins 3619\n",
      "[LightGBM] [Info] Number of data points in the train set: 1875, number of used features: 156\n",
      "[LightGBM] [Info] Start training from score 178183.648000\n",
      "[LightGBM] [Info] Auto-choosing row-wise multi-threading, the overhead of testing was 0.019794 seconds.\n",
      "You can set `force_row_wise=true` to remove the overhead.\n",
      "And if memory is not enough, you can set `force_col_wise=true`.\n",
      "[LightGBM] [Info] Total Bins 3640\n",
      "[LightGBM] [Info] Number of data points in the train set: 1875, number of used features: 158\n",
      "[LightGBM] [Info] Start training from score 179301.145067\n",
      "[LightGBM] [Info] Auto-choosing row-wise multi-threading, the overhead of testing was 0.008329 seconds.\n",
      "You can set `force_row_wise=true` to remove the overhead.\n",
      "And if memory is not enough, you can set `force_col_wise=true`.\n",
      "[LightGBM] [Info] Total Bins 3630\n",
      "[LightGBM] [Info] Number of data points in the train set: 1875, number of used features: 154\n",
      "[LightGBM] [Info] Start training from score 178974.889600\n",
      "[LightGBM] [Info] Auto-choosing row-wise multi-threading, the overhead of testing was 0.012947 seconds.\n",
      "You can set `force_row_wise=true` to remove the overhead.\n",
      "And if memory is not enough, you can set `force_col_wise=true`.\n",
      "[LightGBM] [Info] Total Bins 3638\n",
      "[LightGBM] [Info] Number of data points in the train set: 1875, number of used features: 158\n",
      "[LightGBM] [Info] Start training from score 178215.615467\n",
      "[LightGBM] [Info] Auto-choosing row-wise multi-threading, the overhead of testing was 0.017645 seconds.\n",
      "You can set `force_row_wise=true` to remove the overhead.\n",
      "And if memory is not enough, you can set `force_col_wise=true`.\n",
      "[LightGBM] [Info] Total Bins 3627\n",
      "[LightGBM] [Info] Number of data points in the train set: 1876, number of used features: 154\n",
      "[LightGBM] [Info] Start training from score 178235.925373\n",
      "[LightGBM] [Info] Auto-choosing row-wise multi-threading, the overhead of testing was 0.011587 seconds.\n",
      "You can set `force_row_wise=true` to remove the overhead.\n",
      "And if memory is not enough, you can set `force_col_wise=true`.\n",
      "[LightGBM] [Info] Auto-choosing row-wise multi-threading, the overhead of testing was 0.017895 seconds.\n",
      "You can set `force_row_wise=true` to remove the overhead.\n",
      "And if memory is not enough, you can set `force_col_wise=true`.\n",
      "[LightGBM] [Info] Total Bins 3619\n",
      "[LightGBM] [Info] Total Bins 3640\n",
      "[LightGBM] [Info] Number of data points in the train set: 1875, number of used features: 156\n",
      "[LightGBM] [Info] Number of data points in the train set: 1875, number of used features: 158\n",
      "[LightGBM] [Info] Start training from score 178183.648000\n",
      "[LightGBM] [Info] Start training from score 179301.145067\n",
      "[LightGBM] [Info] Auto-choosing row-wise multi-threading, the overhead of testing was 0.007486 seconds.\n",
      "You can set `force_row_wise=true` to remove the overhead.\n",
      "And if memory is not enough, you can set `force_col_wise=true`.\n",
      "[LightGBM] [Info] Total Bins 3630\n",
      "[LightGBM] [Info] Number of data points in the train set: 1875, number of used features: 154\n",
      "[LightGBM] [Info] Start training from score 178974.889600\n"
     ]
    },
    {
     "name": "stderr",
     "output_type": "stream",
     "text": [
      "/Users/macbook/anaconda3/envs/ameshousing-regression/lib/python3.10/site-packages/sklearn/utils/validation.py:2739: UserWarning: X does not have valid feature names, but LGBMRegressor was fitted with feature names\n",
      "  warnings.warn(\n",
      "/Users/macbook/anaconda3/envs/ameshousing-regression/lib/python3.10/site-packages/sklearn/utils/validation.py:2739: UserWarning: X does not have valid feature names, but LGBMRegressor was fitted with feature names\n",
      "  warnings.warn(\n",
      "/Users/macbook/anaconda3/envs/ameshousing-regression/lib/python3.10/site-packages/sklearn/utils/validation.py:2739: UserWarning: X does not have valid feature names, but LGBMRegressor was fitted with feature names\n",
      "  warnings.warn(\n",
      "/Users/macbook/anaconda3/envs/ameshousing-regression/lib/python3.10/site-packages/sklearn/utils/validation.py:2739: UserWarning: X does not have valid feature names, but LGBMRegressor was fitted with feature names\n",
      "  warnings.warn(\n"
     ]
    },
    {
     "name": "stdout",
     "output_type": "stream",
     "text": [
      "[LightGBM] [Info] Auto-choosing row-wise multi-threading, the overhead of testing was 0.020796 seconds.\n",
      "You can set `force_row_wise=true` to remove the overhead.\n",
      "And if memory is not enough, you can set `force_col_wise=true`.\n",
      "[LightGBM] [Info] Total Bins 3638\n",
      "[LightGBM] [Info] Number of data points in the train set: 1875, number of used features: 158\n",
      "[LightGBM] [Info] Start training from score 178215.615467\n",
      "[LightGBM] [Info] Auto-choosing col-wise multi-threading, the overhead of testing was 0.119096 seconds.\n",
      "You can set `force_col_wise=true` to remove the overhead.\n",
      "[LightGBM] [Info] Total Bins 3627\n",
      "[LightGBM] [Info] Number of data points in the train set: 1876, number of used features: 154\n",
      "[LightGBM] [Info] Start training from score 178235.925373\n",
      "[LightGBM] [Info] Auto-choosing row-wise multi-threading, the overhead of testing was 0.121097 seconds.\n",
      "You can set `force_row_wise=true` to remove the overhead.\n",
      "And if memory is not enough, you can set `force_col_wise=true`.\n",
      "[LightGBM] [Info] Total Bins 3640\n",
      "[LightGBM] [Info] Number of data points in the train set: 1875, number of used features: 158\n",
      "[LightGBM] [Info] Start training from score 179301.145067\n",
      "[LightGBM] [Info] Auto-choosing row-wise multi-threading, the overhead of testing was 0.050815 seconds.\n",
      "You can set `force_row_wise=true` to remove the overhead.\n",
      "And if memory is not enough, you can set `force_col_wise=true`.\n",
      "[LightGBM] [Info] Total Bins 3619\n",
      "[LightGBM] [Info] Number of data points in the train set: 1875, number of used features: 156\n",
      "[LightGBM] [Info] Start training from score 178183.648000\n"
     ]
    },
    {
     "name": "stderr",
     "output_type": "stream",
     "text": [
      "/Users/macbook/anaconda3/envs/ameshousing-regression/lib/python3.10/site-packages/sklearn/utils/validation.py:2739: UserWarning: X does not have valid feature names, but LGBMRegressor was fitted with feature names\n",
      "  warnings.warn(\n"
     ]
    },
    {
     "name": "stdout",
     "output_type": "stream",
     "text": [
      "[LightGBM] [Info] Auto-choosing row-wise multi-threading, the overhead of testing was 0.058002 seconds.\n",
      "You can set `force_row_wise=true` to remove the overhead.\n",
      "And if memory is not enough, you can set `force_col_wise=true`.\n",
      "[LightGBM] [Info] Total Bins 3630\n",
      "[LightGBM] [Info] Number of data points in the train set: 1875, number of used features: 154\n",
      "[LightGBM] [Info] Start training from score 178974.889600\n"
     ]
    },
    {
     "name": "stderr",
     "output_type": "stream",
     "text": [
      "/Users/macbook/anaconda3/envs/ameshousing-regression/lib/python3.10/site-packages/sklearn/utils/validation.py:2739: UserWarning: X does not have valid feature names, but LGBMRegressor was fitted with feature names\n",
      "  warnings.warn(\n",
      "/Users/macbook/anaconda3/envs/ameshousing-regression/lib/python3.10/site-packages/sklearn/utils/validation.py:2739: UserWarning: X does not have valid feature names, but LGBMRegressor was fitted with feature names\n",
      "  warnings.warn(\n",
      "/Users/macbook/anaconda3/envs/ameshousing-regression/lib/python3.10/site-packages/sklearn/utils/validation.py:2739: UserWarning: X does not have valid feature names, but LGBMRegressor was fitted with feature names\n",
      "  warnings.warn(\n"
     ]
    },
    {
     "name": "stdout",
     "output_type": "stream",
     "text": [
      "[LightGBM] [Info] Auto-choosing row-wise multi-threading, the overhead of testing was 0.017728 seconds.\n",
      "You can set `force_row_wise=true` to remove the overhead.\n",
      "And if memory is not enough, you can set `force_col_wise=true`.\n",
      "[LightGBM] [Info] Total Bins 3638\n",
      "[LightGBM] [Info] Number of data points in the train set: 1875, number of used features: 158\n",
      "[LightGBM] [Info] Start training from score 178215.615467\n",
      "[LightGBM] [Info] Auto-choosing row-wise multi-threading, the overhead of testing was 0.018017 seconds.\n",
      "You can set `force_row_wise=true` to remove the overhead.\n",
      "And if memory is not enough, you can set `force_col_wise=true`.\n",
      "[LightGBM] [Info] Total Bins 3627\n",
      "[LightGBM] [Info] Number of data points in the train set: 1876, number of used features: 154\n",
      "[LightGBM] [Info] Start training from score 178235.925373\n",
      "[LightGBM] [Info] Auto-choosing row-wise multi-threading, the overhead of testing was 0.012534 seconds.\n",
      "You can set `force_row_wise=true` to remove the overhead.\n",
      "And if memory is not enough, you can set `force_col_wise=true`.\n",
      "[LightGBM] [Info] Total Bins 3640\n",
      "[LightGBM] [Info] Number of data points in the train set: 1875, number of used features: 158\n",
      "[LightGBM] [Info] Start training from score 179301.145067\n"
     ]
    },
    {
     "name": "stderr",
     "output_type": "stream",
     "text": [
      "/Users/macbook/anaconda3/envs/ameshousing-regression/lib/python3.10/site-packages/sklearn/utils/validation.py:2739: UserWarning: X does not have valid feature names, but LGBMRegressor was fitted with feature names\n",
      "  warnings.warn(\n",
      "/Users/macbook/anaconda3/envs/ameshousing-regression/lib/python3.10/site-packages/sklearn/utils/validation.py:2739: UserWarning: X does not have valid feature names, but LGBMRegressor was fitted with feature names\n",
      "  warnings.warn(\n",
      "/Users/macbook/anaconda3/envs/ameshousing-regression/lib/python3.10/site-packages/sklearn/utils/validation.py:2739: UserWarning: X does not have valid feature names, but LGBMRegressor was fitted with feature names\n",
      "  warnings.warn(\n"
     ]
    },
    {
     "name": "stdout",
     "output_type": "stream",
     "text": [
      "[LightGBM] [Info] Auto-choosing row-wise multi-threading, the overhead of testing was 0.012136 seconds.\n",
      "You can set `force_row_wise=true` to remove the overhead.\n",
      "And if memory is not enough, you can set `force_col_wise=true`.\n",
      "[LightGBM] [Info] Total Bins 3619\n",
      "[LightGBM] [Info] Number of data points in the train set: 1875, number of used features: 156\n",
      "[LightGBM] [Info] Start training from score 178183.648000\n",
      "[LightGBM] [Info] Auto-choosing row-wise multi-threading, the overhead of testing was 0.009769 seconds.\n",
      "You can set `force_row_wise=true` to remove the overhead.\n",
      "And if memory is not enough, you can set `force_col_wise=true`.\n",
      "[LightGBM] [Info] Total Bins 3630\n",
      "[LightGBM] [Info] Number of data points in the train set: 1875, number of used features: 154\n",
      "[LightGBM] [Info] Start training from score 178974.889600\n",
      "[LightGBM] [Info] Auto-choosing row-wise multi-threading, the overhead of testing was 0.004045 seconds.\n",
      "You can set `force_row_wise=true` to remove the overhead.\n",
      "And if memory is not enough, you can set `force_col_wise=true`.\n",
      "[LightGBM] [Info] Total Bins 3638\n",
      "[LightGBM] [Info] Number of data points in the train set: 1875, number of used features: 158\n",
      "[LightGBM] [Info] Start training from score 178215.615467\n"
     ]
    },
    {
     "name": "stderr",
     "output_type": "stream",
     "text": [
      "/Users/macbook/anaconda3/envs/ameshousing-regression/lib/python3.10/site-packages/sklearn/utils/validation.py:2739: UserWarning: X does not have valid feature names, but LGBMRegressor was fitted with feature names\n",
      "  warnings.warn(\n",
      "/Users/macbook/anaconda3/envs/ameshousing-regression/lib/python3.10/site-packages/sklearn/utils/validation.py:2739: UserWarning: X does not have valid feature names, but LGBMRegressor was fitted with feature names\n",
      "  warnings.warn(\n",
      "/Users/macbook/anaconda3/envs/ameshousing-regression/lib/python3.10/site-packages/sklearn/utils/validation.py:2739: UserWarning: X does not have valid feature names, but LGBMRegressor was fitted with feature names\n",
      "  warnings.warn(\n"
     ]
    },
    {
     "name": "stdout",
     "output_type": "stream",
     "text": [
      "[LightGBM] [Info] Auto-choosing row-wise multi-threading, the overhead of testing was 0.009396 seconds.\n",
      "You can set `force_row_wise=true` to remove the overhead.\n",
      "And if memory is not enough, you can set `force_col_wise=true`.\n",
      "[LightGBM] [Info] Total Bins 3627\n",
      "[LightGBM] [Info] Number of data points in the train set: 1876, number of used features: 154\n",
      "[LightGBM] [Info] Start training from score 178235.925373\n",
      "[LightGBM] [Info] Auto-choosing row-wise multi-threading, the overhead of testing was 0.030513 seconds.\n",
      "You can set `force_row_wise=true` to remove the overhead.\n",
      "And if memory is not enough, you can set `force_col_wise=true`.\n",
      "[LightGBM] [Info] Total Bins 3640\n",
      "[LightGBM] [Info] Number of data points in the train set: 1875, number of used features: 158\n",
      "[LightGBM] [Info] Start training from score 179301.145067\n",
      "[LightGBM] [Info] Auto-choosing row-wise multi-threading, the overhead of testing was 0.017974 seconds.\n",
      "You can set `force_row_wise=true` to remove the overhead.\n",
      "And if memory is not enough, you can set `force_col_wise=true`.\n",
      "[LightGBM] [Info] Total Bins 3619\n",
      "[LightGBM] [Info] Number of data points in the train set: 1875, number of used features: 156\n",
      "[LightGBM] [Info] Start training from score 178183.648000\n"
     ]
    },
    {
     "name": "stderr",
     "output_type": "stream",
     "text": [
      "/Users/macbook/anaconda3/envs/ameshousing-regression/lib/python3.10/site-packages/sklearn/utils/validation.py:2739: UserWarning: X does not have valid feature names, but LGBMRegressor was fitted with feature names\n",
      "  warnings.warn(\n",
      "/Users/macbook/anaconda3/envs/ameshousing-regression/lib/python3.10/site-packages/sklearn/utils/validation.py:2739: UserWarning: X does not have valid feature names, but LGBMRegressor was fitted with feature names\n",
      "  warnings.warn(\n",
      "/Users/macbook/anaconda3/envs/ameshousing-regression/lib/python3.10/site-packages/sklearn/utils/validation.py:2739: UserWarning: X does not have valid feature names, but LGBMRegressor was fitted with feature names\n",
      "  warnings.warn(\n"
     ]
    },
    {
     "name": "stdout",
     "output_type": "stream",
     "text": [
      "[LightGBM] [Info] Auto-choosing row-wise multi-threading, the overhead of testing was 0.004857 seconds.\n",
      "You can set `force_row_wise=true` to remove the overhead.\n",
      "And if memory is not enough, you can set `force_col_wise=true`.\n",
      "[LightGBM] [Info] Total Bins 3630\n",
      "[LightGBM] [Info] Number of data points in the train set: 1875, number of used features: 154\n",
      "[LightGBM] [Info] Start training from score 178974.889600\n",
      "[LightGBM] [Info] Auto-choosing col-wise multi-threading, the overhead of testing was 0.017341 seconds.\n",
      "You can set `force_col_wise=true` to remove the overhead.\n",
      "[LightGBM] [Info] Total Bins 3638\n",
      "[LightGBM] [Info] Number of data points in the train set: 1875, number of used features: 158\n",
      "[LightGBM] [Info] Start training from score 178215.615467\n",
      "[LightGBM] [Info] Auto-choosing row-wise multi-threading, the overhead of testing was 0.007301 seconds.\n",
      "You can set `force_row_wise=true` to remove the overhead.\n",
      "And if memory is not enough, you can set `force_col_wise=true`.\n",
      "[LightGBM] [Info] Total Bins 3627\n",
      "[LightGBM] [Info] Number of data points in the train set: 1876, number of used features: 154\n",
      "[LightGBM] [Info] Start training from score 178235.925373\n"
     ]
    },
    {
     "name": "stderr",
     "output_type": "stream",
     "text": [
      "/Users/macbook/anaconda3/envs/ameshousing-regression/lib/python3.10/site-packages/sklearn/utils/validation.py:2739: UserWarning: X does not have valid feature names, but LGBMRegressor was fitted with feature names\n",
      "  warnings.warn(\n"
     ]
    },
    {
     "name": "stdout",
     "output_type": "stream",
     "text": [
      "[LightGBM] [Info] Auto-choosing row-wise multi-threading, the overhead of testing was 0.013070 seconds.\n",
      "You can set `force_row_wise=true` to remove the overhead.\n",
      "And if memory is not enough, you can set `force_col_wise=true`.\n",
      "[LightGBM] [Info] Total Bins 3640\n",
      "[LightGBM] [Info] Number of data points in the train set: 1875, number of used features: 158\n",
      "[LightGBM] [Info] Start training from score 179301.145067\n"
     ]
    },
    {
     "name": "stderr",
     "output_type": "stream",
     "text": [
      "/Users/macbook/anaconda3/envs/ameshousing-regression/lib/python3.10/site-packages/sklearn/utils/validation.py:2739: UserWarning: X does not have valid feature names, but LGBMRegressor was fitted with feature names\n",
      "  warnings.warn(\n"
     ]
    },
    {
     "name": "stdout",
     "output_type": "stream",
     "text": [
      "[LightGBM] [Info] Auto-choosing row-wise multi-threading, the overhead of testing was 0.014099 seconds.\n",
      "You can set `force_row_wise=true` to remove the overhead.\n",
      "And if memory is not enough, you can set `force_col_wise=true`.\n",
      "[LightGBM] [Info] Total Bins 3619\n",
      "[LightGBM] [Info] Number of data points in the train set: 1875, number of used features: 156\n",
      "[LightGBM] [Info] Start training from score 178183.648000\n"
     ]
    },
    {
     "name": "stderr",
     "output_type": "stream",
     "text": [
      "/Users/macbook/anaconda3/envs/ameshousing-regression/lib/python3.10/site-packages/sklearn/utils/validation.py:2739: UserWarning: X does not have valid feature names, but LGBMRegressor was fitted with feature names\n",
      "  warnings.warn(\n"
     ]
    },
    {
     "name": "stdout",
     "output_type": "stream",
     "text": [
      "[LightGBM] [Info] Auto-choosing row-wise multi-threading, the overhead of testing was 0.009363 seconds.\n",
      "You can set `force_row_wise=true` to remove the overhead.\n",
      "And if memory is not enough, you can set `force_col_wise=true`.\n",
      "[LightGBM] [Info] Total Bins 3630\n",
      "[LightGBM] [Info] Number of data points in the train set: 1875, number of used features: 154\n",
      "[LightGBM] [Info] Start training from score 178974.889600\n"
     ]
    },
    {
     "name": "stderr",
     "output_type": "stream",
     "text": [
      "/Users/macbook/anaconda3/envs/ameshousing-regression/lib/python3.10/site-packages/sklearn/utils/validation.py:2739: UserWarning: X does not have valid feature names, but LGBMRegressor was fitted with feature names\n",
      "  warnings.warn(\n"
     ]
    },
    {
     "name": "stdout",
     "output_type": "stream",
     "text": [
      "[LightGBM] [Info] Auto-choosing row-wise multi-threading, the overhead of testing was 0.009224 seconds.\n",
      "You can set `force_row_wise=true` to remove the overhead.\n",
      "And if memory is not enough, you can set `force_col_wise=true`.\n",
      "[LightGBM] [Info] Total Bins 3638\n",
      "[LightGBM] [Info] Number of data points in the train set: 1875, number of used features: 158\n",
      "[LightGBM] [Info] Start training from score 178215.615467\n"
     ]
    },
    {
     "name": "stderr",
     "output_type": "stream",
     "text": [
      "/Users/macbook/anaconda3/envs/ameshousing-regression/lib/python3.10/site-packages/sklearn/utils/validation.py:2739: UserWarning: X does not have valid feature names, but LGBMRegressor was fitted with feature names\n",
      "  warnings.warn(\n",
      "/Users/macbook/anaconda3/envs/ameshousing-regression/lib/python3.10/site-packages/sklearn/utils/validation.py:2739: UserWarning: X does not have valid feature names, but LGBMRegressor was fitted with feature names\n",
      "  warnings.warn(\n",
      "/Users/macbook/anaconda3/envs/ameshousing-regression/lib/python3.10/site-packages/sklearn/utils/validation.py:2739: UserWarning: X does not have valid feature names, but LGBMRegressor was fitted with feature names\n",
      "  warnings.warn(\n"
     ]
    },
    {
     "name": "stdout",
     "output_type": "stream",
     "text": [
      "[LightGBM] [Info] Auto-choosing row-wise multi-threading, the overhead of testing was 0.002807 seconds.\n",
      "You can set `force_row_wise=true` to remove the overhead.\n",
      "And if memory is not enough, you can set `force_col_wise=true`.\n",
      "[LightGBM] [Info] Total Bins 3627\n",
      "[LightGBM] [Info] Number of data points in the train set: 1876, number of used features: 154\n",
      "[LightGBM] [Info] Start training from score 178235.925373\n",
      "[LightGBM] [Info] Auto-choosing row-wise multi-threading, the overhead of testing was 0.008175 seconds.\n",
      "You can set `force_row_wise=true` to remove the overhead.\n",
      "And if memory is not enough, you can set `force_col_wise=true`.\n",
      "[LightGBM] [Info] Total Bins 3640\n",
      "[LightGBM] [Info] Number of data points in the train set: 1875, number of used features: 158\n",
      "[LightGBM] [Info] Start training from score 179301.145067\n",
      "[LightGBM] [Info] Auto-choosing row-wise multi-threading, the overhead of testing was 0.009553 seconds.\n",
      "You can set `force_row_wise=true` to remove the overhead.\n",
      "And if memory is not enough, you can set `force_col_wise=true`.\n",
      "[LightGBM] [Info] Total Bins 3619\n",
      "[LightGBM] [Info] Number of data points in the train set: 1875, number of used features: 156\n",
      "[LightGBM] [Info] Start training from score 178183.648000\n"
     ]
    },
    {
     "name": "stderr",
     "output_type": "stream",
     "text": [
      "/Users/macbook/anaconda3/envs/ameshousing-regression/lib/python3.10/site-packages/sklearn/utils/validation.py:2739: UserWarning: X does not have valid feature names, but LGBMRegressor was fitted with feature names\n",
      "  warnings.warn(\n"
     ]
    },
    {
     "name": "stdout",
     "output_type": "stream",
     "text": [
      "[LightGBM] [Info] Auto-choosing row-wise multi-threading, the overhead of testing was 0.009318 seconds.\n",
      "You can set `force_row_wise=true` to remove the overhead.\n",
      "And if memory is not enough, you can set `force_col_wise=true`.\n",
      "[LightGBM] [Info] Total Bins 3630\n",
      "[LightGBM] [Info] Number of data points in the train set: 1875, number of used features: 154\n",
      "[LightGBM] [Info] Start training from score 178974.889600\n"
     ]
    },
    {
     "name": "stderr",
     "output_type": "stream",
     "text": [
      "/Users/macbook/anaconda3/envs/ameshousing-regression/lib/python3.10/site-packages/sklearn/utils/validation.py:2739: UserWarning: X does not have valid feature names, but LGBMRegressor was fitted with feature names\n",
      "  warnings.warn(\n"
     ]
    },
    {
     "name": "stdout",
     "output_type": "stream",
     "text": [
      "[LightGBM] [Info] Auto-choosing row-wise multi-threading, the overhead of testing was 0.008489 seconds.\n",
      "You can set `force_row_wise=true` to remove the overhead.\n",
      "And if memory is not enough, you can set `force_col_wise=true`.\n",
      "[LightGBM] [Info] Total Bins 3638\n",
      "[LightGBM] [Info] Number of data points in the train set: 1875, number of used features: 158\n",
      "[LightGBM] [Info] Start training from score 178215.615467\n"
     ]
    },
    {
     "name": "stderr",
     "output_type": "stream",
     "text": [
      "/Users/macbook/anaconda3/envs/ameshousing-regression/lib/python3.10/site-packages/sklearn/utils/validation.py:2739: UserWarning: X does not have valid feature names, but LGBMRegressor was fitted with feature names\n",
      "  warnings.warn(\n",
      "/Users/macbook/anaconda3/envs/ameshousing-regression/lib/python3.10/site-packages/sklearn/utils/validation.py:2739: UserWarning: X does not have valid feature names, but LGBMRegressor was fitted with feature names\n",
      "  warnings.warn(\n"
     ]
    },
    {
     "name": "stdout",
     "output_type": "stream",
     "text": [
      "[LightGBM] [Info] Auto-choosing row-wise multi-threading, the overhead of testing was 0.009925 seconds.\n",
      "You can set `force_row_wise=true` to remove the overhead.\n",
      "And if memory is not enough, you can set `force_col_wise=true`.\n",
      "[LightGBM] [Info] Total Bins 3627\n",
      "[LightGBM] [Info] Number of data points in the train set: 1876, number of used features: 154\n",
      "[LightGBM] [Info] Start training from score 178235.925373\n",
      "[LightGBM] [Info] Auto-choosing row-wise multi-threading, the overhead of testing was 0.003775 seconds.\n",
      "You can set `force_row_wise=true` to remove the overhead.\n",
      "And if memory is not enough, you can set `force_col_wise=true`.\n",
      "[LightGBM] [Info] Total Bins 3640\n",
      "[LightGBM] [Info] Number of data points in the train set: 1875, number of used features: 158\n",
      "[LightGBM] [Info] Start training from score 179301.145067\n"
     ]
    },
    {
     "name": "stderr",
     "output_type": "stream",
     "text": [
      "/Users/macbook/anaconda3/envs/ameshousing-regression/lib/python3.10/site-packages/sklearn/utils/validation.py:2739: UserWarning: X does not have valid feature names, but LGBMRegressor was fitted with feature names\n",
      "  warnings.warn(\n"
     ]
    },
    {
     "name": "stdout",
     "output_type": "stream",
     "text": [
      "[LightGBM] [Info] Auto-choosing row-wise multi-threading, the overhead of testing was 0.008340 seconds.\n",
      "You can set `force_row_wise=true` to remove the overhead.\n",
      "And if memory is not enough, you can set `force_col_wise=true`.\n",
      "[LightGBM] [Info] Total Bins 3619\n",
      "[LightGBM] [Info] Number of data points in the train set: 1875, number of used features: 156\n",
      "[LightGBM] [Info] Start training from score 178183.648000\n"
     ]
    },
    {
     "name": "stderr",
     "output_type": "stream",
     "text": [
      "/Users/macbook/anaconda3/envs/ameshousing-regression/lib/python3.10/site-packages/sklearn/utils/validation.py:2739: UserWarning: X does not have valid feature names, but LGBMRegressor was fitted with feature names\n",
      "  warnings.warn(\n"
     ]
    },
    {
     "name": "stdout",
     "output_type": "stream",
     "text": [
      "[LightGBM] [Info] Auto-choosing row-wise multi-threading, the overhead of testing was 0.009231 seconds.\n",
      "You can set `force_row_wise=true` to remove the overhead.\n",
      "And if memory is not enough, you can set `force_col_wise=true`.\n",
      "[LightGBM] [Info] Total Bins 3630\n",
      "[LightGBM] [Info] Number of data points in the train set: 1875, number of used features: 154\n",
      "[LightGBM] [Info] Start training from score 178974.889600\n"
     ]
    },
    {
     "name": "stderr",
     "output_type": "stream",
     "text": [
      "/Users/macbook/anaconda3/envs/ameshousing-regression/lib/python3.10/site-packages/sklearn/utils/validation.py:2739: UserWarning: X does not have valid feature names, but LGBMRegressor was fitted with feature names\n",
      "  warnings.warn(\n"
     ]
    },
    {
     "name": "stdout",
     "output_type": "stream",
     "text": [
      "[LightGBM] [Info] Auto-choosing row-wise multi-threading, the overhead of testing was 0.007817 seconds.\n",
      "You can set `force_row_wise=true` to remove the overhead.\n",
      "And if memory is not enough, you can set `force_col_wise=true`.\n",
      "[LightGBM] [Info] Total Bins 3638\n",
      "[LightGBM] [Info] Number of data points in the train set: 1875, number of used features: 158\n",
      "[LightGBM] [Info] Start training from score 178215.615467\n"
     ]
    },
    {
     "name": "stderr",
     "output_type": "stream",
     "text": [
      "/Users/macbook/anaconda3/envs/ameshousing-regression/lib/python3.10/site-packages/sklearn/utils/validation.py:2739: UserWarning: X does not have valid feature names, but LGBMRegressor was fitted with feature names\n",
      "  warnings.warn(\n"
     ]
    },
    {
     "name": "stdout",
     "output_type": "stream",
     "text": [
      "[LightGBM] [Info] Auto-choosing row-wise multi-threading, the overhead of testing was 0.008870 seconds.\n",
      "You can set `force_row_wise=true` to remove the overhead.\n",
      "And if memory is not enough, you can set `force_col_wise=true`.\n",
      "[LightGBM] [Info] Total Bins 3627\n",
      "[LightGBM] [Info] Number of data points in the train set: 1876, number of used features: 154\n",
      "[LightGBM] [Info] Start training from score 178235.925373\n"
     ]
    },
    {
     "name": "stderr",
     "output_type": "stream",
     "text": [
      "/Users/macbook/anaconda3/envs/ameshousing-regression/lib/python3.10/site-packages/sklearn/utils/validation.py:2739: UserWarning: X does not have valid feature names, but LGBMRegressor was fitted with feature names\n",
      "  warnings.warn(\n",
      "/Users/macbook/anaconda3/envs/ameshousing-regression/lib/python3.10/site-packages/sklearn/utils/validation.py:2739: UserWarning: X does not have valid feature names, but LGBMRegressor was fitted with feature names\n",
      "  warnings.warn(\n"
     ]
    },
    {
     "name": "stdout",
     "output_type": "stream",
     "text": [
      "[LightGBM] [Info] Auto-choosing row-wise multi-threading, the overhead of testing was 0.006833 seconds.\n",
      "You can set `force_row_wise=true` to remove the overhead.\n",
      "And if memory is not enough, you can set `force_col_wise=true`.\n",
      "[LightGBM] [Info] Total Bins 3640\n",
      "[LightGBM] [Info] Number of data points in the train set: 1875, number of used features: 158\n",
      "[LightGBM] [Info] Start training from score 179301.145067\n",
      "[LightGBM] [Info] Auto-choosing row-wise multi-threading, the overhead of testing was 0.002192 seconds.\n",
      "You can set `force_row_wise=true` to remove the overhead.\n",
      "And if memory is not enough, you can set `force_col_wise=true`.\n",
      "[LightGBM] [Info] Total Bins 3619\n",
      "[LightGBM] [Info] Number of data points in the train set: 1875, number of used features: 156\n",
      "[LightGBM] [Info] Start training from score 178183.648000\n"
     ]
    },
    {
     "name": "stderr",
     "output_type": "stream",
     "text": [
      "/Users/macbook/anaconda3/envs/ameshousing-regression/lib/python3.10/site-packages/sklearn/utils/validation.py:2739: UserWarning: X does not have valid feature names, but LGBMRegressor was fitted with feature names\n",
      "  warnings.warn(\n"
     ]
    },
    {
     "name": "stdout",
     "output_type": "stream",
     "text": [
      "[LightGBM] [Info] Auto-choosing row-wise multi-threading, the overhead of testing was 0.006468 seconds.\n",
      "You can set `force_row_wise=true` to remove the overhead.\n",
      "And if memory is not enough, you can set `force_col_wise=true`.\n",
      "[LightGBM] [Info] Total Bins 3630\n",
      "[LightGBM] [Info] Number of data points in the train set: 1875, number of used features: 154\n",
      "[LightGBM] [Info] Start training from score 178974.889600\n"
     ]
    },
    {
     "name": "stderr",
     "output_type": "stream",
     "text": [
      "/Users/macbook/anaconda3/envs/ameshousing-regression/lib/python3.10/site-packages/sklearn/utils/validation.py:2739: UserWarning: X does not have valid feature names, but LGBMRegressor was fitted with feature names\n",
      "  warnings.warn(\n"
     ]
    },
    {
     "name": "stdout",
     "output_type": "stream",
     "text": [
      "[LightGBM] [Info] Auto-choosing row-wise multi-threading, the overhead of testing was 0.010952 seconds.\n",
      "You can set `force_row_wise=true` to remove the overhead.\n",
      "And if memory is not enough, you can set `force_col_wise=true`.\n",
      "[LightGBM] [Info] Total Bins 3638\n",
      "[LightGBM] [Info] Number of data points in the train set: 1875, number of used features: 158\n",
      "[LightGBM] [Info] Start training from score 178215.615467\n"
     ]
    },
    {
     "name": "stderr",
     "output_type": "stream",
     "text": [
      "/Users/macbook/anaconda3/envs/ameshousing-regression/lib/python3.10/site-packages/sklearn/utils/validation.py:2739: UserWarning: X does not have valid feature names, but LGBMRegressor was fitted with feature names\n",
      "  warnings.warn(\n"
     ]
    },
    {
     "name": "stdout",
     "output_type": "stream",
     "text": [
      "[LightGBM] [Info] Auto-choosing row-wise multi-threading, the overhead of testing was 0.009931 seconds.\n",
      "You can set `force_row_wise=true` to remove the overhead.\n",
      "And if memory is not enough, you can set `force_col_wise=true`.\n",
      "[LightGBM] [Info] Total Bins 3627\n",
      "[LightGBM] [Info] Number of data points in the train set: 1876, number of used features: 154\n",
      "[LightGBM] [Info] Start training from score 178235.925373\n"
     ]
    },
    {
     "name": "stderr",
     "output_type": "stream",
     "text": [
      "/Users/macbook/anaconda3/envs/ameshousing-regression/lib/python3.10/site-packages/sklearn/utils/validation.py:2739: UserWarning: X does not have valid feature names, but LGBMRegressor was fitted with feature names\n",
      "  warnings.warn(\n"
     ]
    },
    {
     "name": "stdout",
     "output_type": "stream",
     "text": [
      "[LightGBM] [Info] Auto-choosing row-wise multi-threading, the overhead of testing was 0.011040 seconds.\n",
      "You can set `force_row_wise=true` to remove the overhead.\n",
      "And if memory is not enough, you can set `force_col_wise=true`.\n",
      "[LightGBM] [Info] Total Bins 3640\n",
      "[LightGBM] [Info] Number of data points in the train set: 1875, number of used features: 158\n",
      "[LightGBM] [Info] Start training from score 179301.145067\n"
     ]
    },
    {
     "name": "stderr",
     "output_type": "stream",
     "text": [
      "/Users/macbook/anaconda3/envs/ameshousing-regression/lib/python3.10/site-packages/sklearn/utils/validation.py:2739: UserWarning: X does not have valid feature names, but LGBMRegressor was fitted with feature names\n",
      "  warnings.warn(\n"
     ]
    },
    {
     "name": "stdout",
     "output_type": "stream",
     "text": [
      "[LightGBM] [Info] Auto-choosing row-wise multi-threading, the overhead of testing was 0.010189 seconds.\n",
      "You can set `force_row_wise=true` to remove the overhead.\n",
      "And if memory is not enough, you can set `force_col_wise=true`.\n",
      "[LightGBM] [Info] Total Bins 3619\n",
      "[LightGBM] [Info] Number of data points in the train set: 1875, number of used features: 156\n",
      "[LightGBM] [Info] Start training from score 178183.648000\n"
     ]
    },
    {
     "name": "stderr",
     "output_type": "stream",
     "text": [
      "/Users/macbook/anaconda3/envs/ameshousing-regression/lib/python3.10/site-packages/sklearn/utils/validation.py:2739: UserWarning: X does not have valid feature names, but LGBMRegressor was fitted with feature names\n",
      "  warnings.warn(\n"
     ]
    },
    {
     "name": "stdout",
     "output_type": "stream",
     "text": [
      "[LightGBM] [Info] Auto-choosing row-wise multi-threading, the overhead of testing was 0.010726 seconds.\n",
      "You can set `force_row_wise=true` to remove the overhead.\n",
      "And if memory is not enough, you can set `force_col_wise=true`.\n",
      "[LightGBM] [Info] Total Bins 3630\n",
      "[LightGBM] [Info] Number of data points in the train set: 1875, number of used features: 154\n",
      "[LightGBM] [Info] Start training from score 178974.889600\n"
     ]
    },
    {
     "name": "stderr",
     "output_type": "stream",
     "text": [
      "/Users/macbook/anaconda3/envs/ameshousing-regression/lib/python3.10/site-packages/sklearn/utils/validation.py:2739: UserWarning: X does not have valid feature names, but LGBMRegressor was fitted with feature names\n",
      "  warnings.warn(\n",
      "/Users/macbook/anaconda3/envs/ameshousing-regression/lib/python3.10/site-packages/sklearn/utils/validation.py:2739: UserWarning: X does not have valid feature names, but LGBMRegressor was fitted with feature names\n",
      "  warnings.warn(\n"
     ]
    },
    {
     "name": "stdout",
     "output_type": "stream",
     "text": [
      "[LightGBM] [Info] Auto-choosing row-wise multi-threading, the overhead of testing was 0.011945 seconds.\n",
      "You can set `force_row_wise=true` to remove the overhead.\n",
      "And if memory is not enough, you can set `force_col_wise=true`.\n",
      "[LightGBM] [Info] Total Bins 3638\n",
      "[LightGBM] [Info] Number of data points in the train set: 1875, number of used features: 158\n",
      "[LightGBM] [Info] Start training from score 178215.615467\n",
      "[LightGBM] [Info] Auto-choosing row-wise multi-threading, the overhead of testing was 0.016558 seconds.\n",
      "You can set `force_row_wise=true` to remove the overhead.\n",
      "And if memory is not enough, you can set `force_col_wise=true`.\n",
      "[LightGBM] [Info] Total Bins 3627\n",
      "[LightGBM] [Info] Number of data points in the train set: 1876, number of used features: 154\n",
      "[LightGBM] [Info] Start training from score 178235.925373\n"
     ]
    },
    {
     "name": "stderr",
     "output_type": "stream",
     "text": [
      "/Users/macbook/anaconda3/envs/ameshousing-regression/lib/python3.10/site-packages/sklearn/utils/validation.py:2739: UserWarning: X does not have valid feature names, but LGBMRegressor was fitted with feature names\n",
      "  warnings.warn(\n"
     ]
    },
    {
     "name": "stdout",
     "output_type": "stream",
     "text": [
      "[LightGBM] [Info] Auto-choosing row-wise multi-threading, the overhead of testing was 0.013463 seconds.\n",
      "You can set `force_row_wise=true` to remove the overhead.\n",
      "And if memory is not enough, you can set `force_col_wise=true`.\n",
      "[LightGBM] [Info] Total Bins 3640\n",
      "[LightGBM] [Info] Number of data points in the train set: 1875, number of used features: 158\n",
      "[LightGBM] [Info] Start training from score 179301.145067\n"
     ]
    },
    {
     "name": "stderr",
     "output_type": "stream",
     "text": [
      "/Users/macbook/anaconda3/envs/ameshousing-regression/lib/python3.10/site-packages/sklearn/utils/validation.py:2739: UserWarning: X does not have valid feature names, but LGBMRegressor was fitted with feature names\n",
      "  warnings.warn(\n"
     ]
    },
    {
     "name": "stdout",
     "output_type": "stream",
     "text": [
      "[LightGBM] [Info] Auto-choosing row-wise multi-threading, the overhead of testing was 0.009729 seconds.\n",
      "You can set `force_row_wise=true` to remove the overhead.\n",
      "And if memory is not enough, you can set `force_col_wise=true`.\n",
      "[LightGBM] [Info] Total Bins 3619\n",
      "[LightGBM] [Info] Number of data points in the train set: 1875, number of used features: 156\n",
      "[LightGBM] [Info] Start training from score 178183.648000\n"
     ]
    },
    {
     "name": "stderr",
     "output_type": "stream",
     "text": [
      "/Users/macbook/anaconda3/envs/ameshousing-regression/lib/python3.10/site-packages/sklearn/utils/validation.py:2739: UserWarning: X does not have valid feature names, but LGBMRegressor was fitted with feature names\n",
      "  warnings.warn(\n"
     ]
    },
    {
     "name": "stdout",
     "output_type": "stream",
     "text": [
      "[LightGBM] [Info] Auto-choosing row-wise multi-threading, the overhead of testing was 0.009737 seconds.\n",
      "You can set `force_row_wise=true` to remove the overhead.\n",
      "And if memory is not enough, you can set `force_col_wise=true`.\n",
      "[LightGBM] [Info] Total Bins 3630\n",
      "[LightGBM] [Info] Number of data points in the train set: 1875, number of used features: 154\n",
      "[LightGBM] [Info] Start training from score 178974.889600\n"
     ]
    },
    {
     "name": "stderr",
     "output_type": "stream",
     "text": [
      "/Users/macbook/anaconda3/envs/ameshousing-regression/lib/python3.10/site-packages/sklearn/utils/validation.py:2739: UserWarning: X does not have valid feature names, but LGBMRegressor was fitted with feature names\n",
      "  warnings.warn(\n"
     ]
    },
    {
     "name": "stdout",
     "output_type": "stream",
     "text": [
      "[LightGBM] [Info] Auto-choosing row-wise multi-threading, the overhead of testing was 0.009532 seconds.\n",
      "You can set `force_row_wise=true` to remove the overhead.\n",
      "And if memory is not enough, you can set `force_col_wise=true`.\n",
      "[LightGBM] [Info] Total Bins 3638\n",
      "[LightGBM] [Info] Number of data points in the train set: 1875, number of used features: 158\n",
      "[LightGBM] [Info] Start training from score 178215.615467\n"
     ]
    },
    {
     "name": "stderr",
     "output_type": "stream",
     "text": [
      "/Users/macbook/anaconda3/envs/ameshousing-regression/lib/python3.10/site-packages/sklearn/utils/validation.py:2739: UserWarning: X does not have valid feature names, but LGBMRegressor was fitted with feature names\n",
      "  warnings.warn(\n"
     ]
    },
    {
     "name": "stdout",
     "output_type": "stream",
     "text": [
      "[LightGBM] [Info] Auto-choosing row-wise multi-threading, the overhead of testing was 0.003858 seconds.\n",
      "You can set `force_row_wise=true` to remove the overhead.\n",
      "And if memory is not enough, you can set `force_col_wise=true`.\n",
      "[LightGBM] [Info] Total Bins 3627\n",
      "[LightGBM] [Info] Number of data points in the train set: 1876, number of used features: 154\n",
      "[LightGBM] [Info] Start training from score 178235.925373\n"
     ]
    },
    {
     "name": "stderr",
     "output_type": "stream",
     "text": [
      "/Users/macbook/anaconda3/envs/ameshousing-regression/lib/python3.10/site-packages/sklearn/utils/validation.py:2739: UserWarning: X does not have valid feature names, but LGBMRegressor was fitted with feature names\n",
      "  warnings.warn(\n"
     ]
    },
    {
     "name": "stdout",
     "output_type": "stream",
     "text": [
      "[LightGBM] [Info] Auto-choosing row-wise multi-threading, the overhead of testing was 0.010666 seconds.\n",
      "You can set `force_row_wise=true` to remove the overhead.\n",
      "And if memory is not enough, you can set `force_col_wise=true`.\n",
      "[LightGBM] [Info] Total Bins 3640\n",
      "[LightGBM] [Info] Number of data points in the train set: 1875, number of used features: 158\n",
      "[LightGBM] [Info] Start training from score 179301.145067\n"
     ]
    },
    {
     "name": "stderr",
     "output_type": "stream",
     "text": [
      "/Users/macbook/anaconda3/envs/ameshousing-regression/lib/python3.10/site-packages/sklearn/utils/validation.py:2739: UserWarning: X does not have valid feature names, but LGBMRegressor was fitted with feature names\n",
      "  warnings.warn(\n"
     ]
    },
    {
     "name": "stdout",
     "output_type": "stream",
     "text": [
      "[LightGBM] [Info] Auto-choosing col-wise multi-threading, the overhead of testing was 0.010760 seconds.\n",
      "You can set `force_col_wise=true` to remove the overhead.\n",
      "[LightGBM] [Info] Total Bins 3619\n",
      "[LightGBM] [Info] Number of data points in the train set: 1875, number of used features: 156\n",
      "[LightGBM] [Info] Start training from score 178183.648000\n"
     ]
    },
    {
     "name": "stderr",
     "output_type": "stream",
     "text": [
      "/Users/macbook/anaconda3/envs/ameshousing-regression/lib/python3.10/site-packages/sklearn/utils/validation.py:2739: UserWarning: X does not have valid feature names, but LGBMRegressor was fitted with feature names\n",
      "  warnings.warn(\n"
     ]
    },
    {
     "name": "stdout",
     "output_type": "stream",
     "text": [
      "[LightGBM] [Info] Auto-choosing row-wise multi-threading, the overhead of testing was 0.005472 seconds.\n",
      "You can set `force_row_wise=true` to remove the overhead.\n",
      "And if memory is not enough, you can set `force_col_wise=true`.\n",
      "[LightGBM] [Info] Total Bins 3630\n",
      "[LightGBM] [Info] Number of data points in the train set: 1875, number of used features: 154\n",
      "[LightGBM] [Info] Start training from score 178974.889600\n"
     ]
    },
    {
     "name": "stderr",
     "output_type": "stream",
     "text": [
      "/Users/macbook/anaconda3/envs/ameshousing-regression/lib/python3.10/site-packages/sklearn/utils/validation.py:2739: UserWarning: X does not have valid feature names, but LGBMRegressor was fitted with feature names\n",
      "  warnings.warn(\n"
     ]
    },
    {
     "name": "stdout",
     "output_type": "stream",
     "text": [
      "[LightGBM] [Info] Auto-choosing row-wise multi-threading, the overhead of testing was 0.011283 seconds.\n",
      "You can set `force_row_wise=true` to remove the overhead.\n",
      "And if memory is not enough, you can set `force_col_wise=true`.\n",
      "[LightGBM] [Info] Total Bins 3638\n",
      "[LightGBM] [Info] Number of data points in the train set: 1875, number of used features: 158\n",
      "[LightGBM] [Info] Start training from score 178215.615467\n"
     ]
    },
    {
     "name": "stderr",
     "output_type": "stream",
     "text": [
      "/Users/macbook/anaconda3/envs/ameshousing-regression/lib/python3.10/site-packages/sklearn/utils/validation.py:2739: UserWarning: X does not have valid feature names, but LGBMRegressor was fitted with feature names\n",
      "  warnings.warn(\n"
     ]
    },
    {
     "name": "stdout",
     "output_type": "stream",
     "text": [
      "[LightGBM] [Info] Auto-choosing row-wise multi-threading, the overhead of testing was 0.003310 seconds.\n",
      "You can set `force_row_wise=true` to remove the overhead.\n",
      "And if memory is not enough, you can set `force_col_wise=true`.\n",
      "[LightGBM] [Info] Total Bins 3627\n",
      "[LightGBM] [Info] Number of data points in the train set: 1876, number of used features: 154\n",
      "[LightGBM] [Info] Start training from score 178235.925373\n"
     ]
    },
    {
     "name": "stderr",
     "output_type": "stream",
     "text": [
      "/Users/macbook/anaconda3/envs/ameshousing-regression/lib/python3.10/site-packages/sklearn/utils/validation.py:2739: UserWarning: X does not have valid feature names, but LGBMRegressor was fitted with feature names\n",
      "  warnings.warn(\n",
      "/Users/macbook/anaconda3/envs/ameshousing-regression/lib/python3.10/site-packages/sklearn/utils/validation.py:2739: UserWarning: X does not have valid feature names, but LGBMRegressor was fitted with feature names\n",
      "  warnings.warn(\n"
     ]
    },
    {
     "name": "stdout",
     "output_type": "stream",
     "text": [
      "[LightGBM] [Info] Auto-choosing row-wise multi-threading, the overhead of testing was 0.034981 seconds.\n",
      "You can set `force_row_wise=true` to remove the overhead.\n",
      "And if memory is not enough, you can set `force_col_wise=true`.\n",
      "[LightGBM] [Info] Total Bins 3640\n",
      "[LightGBM] [Info] Number of data points in the train set: 1875, number of used features: 158\n",
      "[LightGBM] [Info] Start training from score 179301.145067\n",
      "[LightGBM] [Info] Auto-choosing row-wise multi-threading, the overhead of testing was 0.010394 seconds.\n",
      "You can set `force_row_wise=true` to remove the overhead.\n",
      "And if memory is not enough, you can set `force_col_wise=true`.\n",
      "[LightGBM] [Info] Total Bins 3619\n",
      "[LightGBM] [Info] Number of data points in the train set: 1875, number of used features: 156\n",
      "[LightGBM] [Info] Start training from score 178183.648000\n",
      "[LightGBM] [Info] Auto-choosing row-wise multi-threading, the overhead of testing was 0.008671 seconds.\n",
      "You can set `force_row_wise=true` to remove the overhead.\n",
      "And if memory is not enough, you can set `force_col_wise=true`.\n",
      "[LightGBM] [Info] Total Bins 3630\n",
      "[LightGBM] [Info] Number of data points in the train set: 1875, number of used features: 154\n",
      "[LightGBM] [Info] Start training from score 178974.889600\n"
     ]
    },
    {
     "name": "stderr",
     "output_type": "stream",
     "text": [
      "/Users/macbook/anaconda3/envs/ameshousing-regression/lib/python3.10/site-packages/sklearn/utils/validation.py:2739: UserWarning: X does not have valid feature names, but LGBMRegressor was fitted with feature names\n",
      "  warnings.warn(\n",
      "/Users/macbook/anaconda3/envs/ameshousing-regression/lib/python3.10/site-packages/sklearn/utils/validation.py:2739: UserWarning: X does not have valid feature names, but LGBMRegressor was fitted with feature names\n",
      "  warnings.warn(\n"
     ]
    },
    {
     "name": "stdout",
     "output_type": "stream",
     "text": [
      "[LightGBM] [Info] Auto-choosing row-wise multi-threading, the overhead of testing was 0.008269 seconds.\n",
      "You can set `force_row_wise=true` to remove the overhead.\n",
      "And if memory is not enough, you can set `force_col_wise=true`.\n",
      "[LightGBM] [Info] Total Bins 3638\n",
      "[LightGBM] [Info] Number of data points in the train set: 1875, number of used features: 158\n",
      "[LightGBM] [Info] Start training from score 178215.615467\n"
     ]
    },
    {
     "name": "stderr",
     "output_type": "stream",
     "text": [
      "/Users/macbook/anaconda3/envs/ameshousing-regression/lib/python3.10/site-packages/sklearn/utils/validation.py:2739: UserWarning: X does not have valid feature names, but LGBMRegressor was fitted with feature names\n",
      "  warnings.warn(\n",
      "/Users/macbook/anaconda3/envs/ameshousing-regression/lib/python3.10/site-packages/sklearn/utils/validation.py:2739: UserWarning: X does not have valid feature names, but LGBMRegressor was fitted with feature names\n",
      "  warnings.warn(\n",
      "/Users/macbook/anaconda3/envs/ameshousing-regression/lib/python3.10/site-packages/sklearn/utils/validation.py:2739: UserWarning: X does not have valid feature names, but LGBMRegressor was fitted with feature names\n",
      "  warnings.warn(\n"
     ]
    },
    {
     "name": "stdout",
     "output_type": "stream",
     "text": [
      "[LightGBM] [Info] Auto-choosing row-wise multi-threading, the overhead of testing was 0.016559 seconds.\n",
      "You can set `force_row_wise=true` to remove the overhead.\n",
      "And if memory is not enough, you can set `force_col_wise=true`.\n",
      "[LightGBM] [Info] Total Bins 3627\n",
      "[LightGBM] [Info] Number of data points in the train set: 1876, number of used features: 154\n",
      "[LightGBM] [Info] Start training from score 178235.925373\n",
      "[LightGBM] [Info] Auto-choosing row-wise multi-threading, the overhead of testing was 0.004979 seconds.\n",
      "You can set `force_row_wise=true` to remove the overhead.\n",
      "And if memory is not enough, you can set `force_col_wise=true`.\n",
      "[LightGBM] [Info] Total Bins 3640\n",
      "[LightGBM] [Info] Number of data points in the train set: 1875, number of used features: 158\n",
      "[LightGBM] [Info] Start training from score 179301.145067\n",
      "[LightGBM] [Info] Auto-choosing row-wise multi-threading, the overhead of testing was 0.005708 seconds.\n",
      "You can set `force_row_wise=true` to remove the overhead.\n",
      "And if memory is not enough, you can set `force_col_wise=true`.\n",
      "[LightGBM] [Info] Total Bins 3619\n",
      "[LightGBM] [Info] Number of data points in the train set: 1875, number of used features: 156\n",
      "[LightGBM] [Info] Start training from score 178183.648000\n"
     ]
    },
    {
     "name": "stderr",
     "output_type": "stream",
     "text": [
      "/Users/macbook/anaconda3/envs/ameshousing-regression/lib/python3.10/site-packages/sklearn/utils/validation.py:2739: UserWarning: X does not have valid feature names, but LGBMRegressor was fitted with feature names\n",
      "  warnings.warn(\n"
     ]
    },
    {
     "name": "stdout",
     "output_type": "stream",
     "text": [
      "[LightGBM] [Info] Auto-choosing row-wise multi-threading, the overhead of testing was 0.009458 seconds.\n",
      "You can set `force_row_wise=true` to remove the overhead.\n",
      "And if memory is not enough, you can set `force_col_wise=true`.\n",
      "[LightGBM] [Info] Total Bins 3630\n",
      "[LightGBM] [Info] Number of data points in the train set: 1875, number of used features: 154\n",
      "[LightGBM] [Info] Start training from score 178974.889600\n"
     ]
    },
    {
     "name": "stderr",
     "output_type": "stream",
     "text": [
      "/Users/macbook/anaconda3/envs/ameshousing-regression/lib/python3.10/site-packages/sklearn/utils/validation.py:2739: UserWarning: X does not have valid feature names, but LGBMRegressor was fitted with feature names\n",
      "  warnings.warn(\n"
     ]
    },
    {
     "name": "stdout",
     "output_type": "stream",
     "text": [
      "[LightGBM] [Info] Auto-choosing row-wise multi-threading, the overhead of testing was 0.009832 seconds.\n",
      "You can set `force_row_wise=true` to remove the overhead.\n",
      "And if memory is not enough, you can set `force_col_wise=true`.\n",
      "[LightGBM] [Info] Total Bins 3638\n",
      "[LightGBM] [Info] Number of data points in the train set: 1875, number of used features: 158\n",
      "[LightGBM] [Info] Start training from score 178215.615467\n"
     ]
    },
    {
     "name": "stderr",
     "output_type": "stream",
     "text": [
      "/Users/macbook/anaconda3/envs/ameshousing-regression/lib/python3.10/site-packages/sklearn/utils/validation.py:2739: UserWarning: X does not have valid feature names, but LGBMRegressor was fitted with feature names\n",
      "  warnings.warn(\n"
     ]
    },
    {
     "name": "stdout",
     "output_type": "stream",
     "text": [
      "[LightGBM] [Info] Auto-choosing row-wise multi-threading, the overhead of testing was 0.016824 seconds.\n",
      "You can set `force_row_wise=true` to remove the overhead.\n",
      "And if memory is not enough, you can set `force_col_wise=true`.\n",
      "[LightGBM] [Info] Total Bins 3627\n",
      "[LightGBM] [Info] Number of data points in the train set: 1876, number of used features: 154\n",
      "[LightGBM] [Info] Start training from score 178235.925373\n"
     ]
    },
    {
     "name": "stderr",
     "output_type": "stream",
     "text": [
      "/Users/macbook/anaconda3/envs/ameshousing-regression/lib/python3.10/site-packages/sklearn/utils/validation.py:2739: UserWarning: X does not have valid feature names, but LGBMRegressor was fitted with feature names\n",
      "  warnings.warn(\n"
     ]
    },
    {
     "name": "stdout",
     "output_type": "stream",
     "text": [
      "[LightGBM] [Info] Auto-choosing row-wise multi-threading, the overhead of testing was 0.014546 seconds.\n",
      "You can set `force_row_wise=true` to remove the overhead.\n",
      "And if memory is not enough, you can set `force_col_wise=true`.\n",
      "[LightGBM] [Info] Total Bins 3640\n",
      "[LightGBM] [Info] Number of data points in the train set: 1875, number of used features: 158\n",
      "[LightGBM] [Info] Start training from score 179301.145067\n"
     ]
    },
    {
     "name": "stderr",
     "output_type": "stream",
     "text": [
      "/Users/macbook/anaconda3/envs/ameshousing-regression/lib/python3.10/site-packages/sklearn/utils/validation.py:2739: UserWarning: X does not have valid feature names, but LGBMRegressor was fitted with feature names\n",
      "  warnings.warn(\n",
      "/Users/macbook/anaconda3/envs/ameshousing-regression/lib/python3.10/site-packages/sklearn/utils/validation.py:2739: UserWarning: X does not have valid feature names, but LGBMRegressor was fitted with feature names\n",
      "  warnings.warn(\n"
     ]
    },
    {
     "name": "stdout",
     "output_type": "stream",
     "text": [
      "[LightGBM] [Info] Auto-choosing row-wise multi-threading, the overhead of testing was 0.012630 seconds.\n",
      "You can set `force_row_wise=true` to remove the overhead.\n",
      "And if memory is not enough, you can set `force_col_wise=true`.\n",
      "[LightGBM] [Info] Total Bins 3619\n",
      "[LightGBM] [Info] Number of data points in the train set: 1875, number of used features: 156\n",
      "[LightGBM] [Info] Start training from score 178183.648000\n",
      "[LightGBM] [Info] Auto-choosing row-wise multi-threading, the overhead of testing was 0.005449 seconds.\n",
      "You can set `force_row_wise=true` to remove the overhead.\n",
      "And if memory is not enough, you can set `force_col_wise=true`.\n",
      "[LightGBM] [Info] Total Bins 3630\n",
      "[LightGBM] [Info] Number of data points in the train set: 1875, number of used features: 154\n",
      "[LightGBM] [Info] Start training from score 178974.889600\n"
     ]
    },
    {
     "name": "stderr",
     "output_type": "stream",
     "text": [
      "/Users/macbook/anaconda3/envs/ameshousing-regression/lib/python3.10/site-packages/sklearn/utils/validation.py:2739: UserWarning: X does not have valid feature names, but LGBMRegressor was fitted with feature names\n",
      "  warnings.warn(\n"
     ]
    },
    {
     "name": "stdout",
     "output_type": "stream",
     "text": [
      "[LightGBM] [Info] Auto-choosing row-wise multi-threading, the overhead of testing was 0.010814 seconds.\n",
      "You can set `force_row_wise=true` to remove the overhead.\n",
      "And if memory is not enough, you can set `force_col_wise=true`.\n",
      "[LightGBM] [Info] Total Bins 3638\n",
      "[LightGBM] [Info] Number of data points in the train set: 1875, number of used features: 158\n",
      "[LightGBM] [Info] Start training from score 178215.615467\n"
     ]
    },
    {
     "name": "stderr",
     "output_type": "stream",
     "text": [
      "/Users/macbook/anaconda3/envs/ameshousing-regression/lib/python3.10/site-packages/sklearn/utils/validation.py:2739: UserWarning: X does not have valid feature names, but LGBMRegressor was fitted with feature names\n",
      "  warnings.warn(\n"
     ]
    },
    {
     "name": "stdout",
     "output_type": "stream",
     "text": [
      "[LightGBM] [Info] Auto-choosing row-wise multi-threading, the overhead of testing was 0.005477 seconds.\n",
      "You can set `force_row_wise=true` to remove the overhead.\n",
      "And if memory is not enough, you can set `force_col_wise=true`.\n",
      "[LightGBM] [Info] Total Bins 3627\n",
      "[LightGBM] [Info] Number of data points in the train set: 1876, number of used features: 154\n",
      "[LightGBM] [Info] Start training from score 178235.925373\n"
     ]
    },
    {
     "name": "stderr",
     "output_type": "stream",
     "text": [
      "/Users/macbook/anaconda3/envs/ameshousing-regression/lib/python3.10/site-packages/sklearn/utils/validation.py:2739: UserWarning: X does not have valid feature names, but LGBMRegressor was fitted with feature names\n",
      "  warnings.warn(\n"
     ]
    },
    {
     "name": "stdout",
     "output_type": "stream",
     "text": [
      "[LightGBM] [Info] Auto-choosing row-wise multi-threading, the overhead of testing was 0.015629 seconds.\n",
      "You can set `force_row_wise=true` to remove the overhead.\n",
      "And if memory is not enough, you can set `force_col_wise=true`.\n",
      "[LightGBM] [Info] Total Bins 3640\n",
      "[LightGBM] [Info] Number of data points in the train set: 1875, number of used features: 158\n",
      "[LightGBM] [Info] Start training from score 179301.145067\n"
     ]
    },
    {
     "name": "stderr",
     "output_type": "stream",
     "text": [
      "/Users/macbook/anaconda3/envs/ameshousing-regression/lib/python3.10/site-packages/sklearn/utils/validation.py:2739: UserWarning: X does not have valid feature names, but LGBMRegressor was fitted with feature names\n",
      "  warnings.warn(\n",
      "/Users/macbook/anaconda3/envs/ameshousing-regression/lib/python3.10/site-packages/sklearn/utils/validation.py:2739: UserWarning: X does not have valid feature names, but LGBMRegressor was fitted with feature names\n",
      "  warnings.warn(\n"
     ]
    },
    {
     "name": "stdout",
     "output_type": "stream",
     "text": [
      "[LightGBM] [Info] Auto-choosing row-wise multi-threading, the overhead of testing was 0.011526 seconds.\n",
      "You can set `force_row_wise=true` to remove the overhead.\n",
      "And if memory is not enough, you can set `force_col_wise=true`.\n",
      "[LightGBM] [Info] Total Bins 3619\n",
      "[LightGBM] [Info] Number of data points in the train set: 1875, number of used features: 156\n",
      "[LightGBM] [Info] Start training from score 178183.648000\n",
      "[LightGBM] [Info] Auto-choosing row-wise multi-threading, the overhead of testing was 0.014641 seconds.\n",
      "You can set `force_row_wise=true` to remove the overhead.\n",
      "And if memory is not enough, you can set `force_col_wise=true`.\n",
      "[LightGBM] [Info] Total Bins 3630\n",
      "[LightGBM] [Info] Number of data points in the train set: 1875, number of used features: 154\n",
      "[LightGBM] [Info] Start training from score 178974.889600\n"
     ]
    },
    {
     "name": "stderr",
     "output_type": "stream",
     "text": [
      "/Users/macbook/anaconda3/envs/ameshousing-regression/lib/python3.10/site-packages/sklearn/utils/validation.py:2739: UserWarning: X does not have valid feature names, but LGBMRegressor was fitted with feature names\n",
      "  warnings.warn(\n"
     ]
    },
    {
     "name": "stdout",
     "output_type": "stream",
     "text": [
      "[LightGBM] [Info] Auto-choosing row-wise multi-threading, the overhead of testing was 0.010837 seconds.\n",
      "You can set `force_row_wise=true` to remove the overhead.\n",
      "And if memory is not enough, you can set `force_col_wise=true`.\n",
      "[LightGBM] [Info] Total Bins 3638\n",
      "[LightGBM] [Info] Number of data points in the train set: 1875, number of used features: 158\n",
      "[LightGBM] [Info] Start training from score 178215.615467\n"
     ]
    },
    {
     "name": "stderr",
     "output_type": "stream",
     "text": [
      "/Users/macbook/anaconda3/envs/ameshousing-regression/lib/python3.10/site-packages/sklearn/utils/validation.py:2739: UserWarning: X does not have valid feature names, but LGBMRegressor was fitted with feature names\n",
      "  warnings.warn(\n",
      "/Users/macbook/anaconda3/envs/ameshousing-regression/lib/python3.10/site-packages/sklearn/utils/validation.py:2739: UserWarning: X does not have valid feature names, but LGBMRegressor was fitted with feature names\n",
      "  warnings.warn(\n"
     ]
    },
    {
     "name": "stdout",
     "output_type": "stream",
     "text": [
      "[LightGBM] [Info] Auto-choosing row-wise multi-threading, the overhead of testing was 0.009392 seconds.\n",
      "You can set `force_row_wise=true` to remove the overhead.\n",
      "And if memory is not enough, you can set `force_col_wise=true`.\n",
      "[LightGBM] [Info] Total Bins 3627\n",
      "[LightGBM] [Info] Number of data points in the train set: 1876, number of used features: 154\n",
      "[LightGBM] [Info] Start training from score 178235.925373\n",
      "[LightGBM] [Info] Auto-choosing row-wise multi-threading, the overhead of testing was 0.003023 seconds.\n",
      "You can set `force_row_wise=true` to remove the overhead.\n",
      "And if memory is not enough, you can set `force_col_wise=true`.\n",
      "[LightGBM] [Info] Total Bins 3640\n",
      "[LightGBM] [Info] Number of data points in the train set: 1875, number of used features: 158\n",
      "[LightGBM] [Info] Start training from score 179301.145067\n"
     ]
    },
    {
     "name": "stderr",
     "output_type": "stream",
     "text": [
      "/Users/macbook/anaconda3/envs/ameshousing-regression/lib/python3.10/site-packages/sklearn/utils/validation.py:2739: UserWarning: X does not have valid feature names, but LGBMRegressor was fitted with feature names\n",
      "  warnings.warn(\n"
     ]
    },
    {
     "name": "stdout",
     "output_type": "stream",
     "text": [
      "[LightGBM] [Info] Auto-choosing row-wise multi-threading, the overhead of testing was 0.002463 seconds.\n",
      "You can set `force_row_wise=true` to remove the overhead.\n",
      "And if memory is not enough, you can set `force_col_wise=true`.\n",
      "[LightGBM] [Info] Total Bins 3619\n",
      "[LightGBM] [Info] Number of data points in the train set: 1875, number of used features: 156\n",
      "[LightGBM] [Info] Start training from score 178183.648000\n"
     ]
    },
    {
     "name": "stderr",
     "output_type": "stream",
     "text": [
      "/Users/macbook/anaconda3/envs/ameshousing-regression/lib/python3.10/site-packages/sklearn/utils/validation.py:2739: UserWarning: X does not have valid feature names, but LGBMRegressor was fitted with feature names\n",
      "  warnings.warn(\n",
      "/Users/macbook/anaconda3/envs/ameshousing-regression/lib/python3.10/site-packages/sklearn/utils/validation.py:2739: UserWarning: X does not have valid feature names, but LGBMRegressor was fitted with feature names\n",
      "  warnings.warn(\n"
     ]
    },
    {
     "name": "stdout",
     "output_type": "stream",
     "text": [
      "[LightGBM] [Info] Auto-choosing row-wise multi-threading, the overhead of testing was 0.010744 seconds.\n",
      "You can set `force_row_wise=true` to remove the overhead.\n",
      "And if memory is not enough, you can set `force_col_wise=true`.\n",
      "[LightGBM] [Info] Total Bins 3630\n",
      "[LightGBM] [Info] Number of data points in the train set: 1875, number of used features: 154\n",
      "[LightGBM] [Info] Start training from score 178974.889600\n",
      "[LightGBM] [Info] Auto-choosing row-wise multi-threading, the overhead of testing was 0.005732 seconds.\n",
      "You can set `force_row_wise=true` to remove the overhead.\n",
      "And if memory is not enough, you can set `force_col_wise=true`.\n",
      "[LightGBM] [Info] Total Bins 3638\n",
      "[LightGBM] [Info] Number of data points in the train set: 1875, number of used features: 158\n",
      "[LightGBM] [Info] Start training from score 178215.615467\n"
     ]
    },
    {
     "name": "stderr",
     "output_type": "stream",
     "text": [
      "/Users/macbook/anaconda3/envs/ameshousing-regression/lib/python3.10/site-packages/sklearn/utils/validation.py:2739: UserWarning: X does not have valid feature names, but LGBMRegressor was fitted with feature names\n",
      "  warnings.warn(\n"
     ]
    },
    {
     "name": "stdout",
     "output_type": "stream",
     "text": [
      "[LightGBM] [Info] Auto-choosing row-wise multi-threading, the overhead of testing was 0.005029 seconds.\n",
      "You can set `force_row_wise=true` to remove the overhead.\n",
      "And if memory is not enough, you can set `force_col_wise=true`.\n",
      "[LightGBM] [Info] Total Bins 3627\n",
      "[LightGBM] [Info] Number of data points in the train set: 1876, number of used features: 154\n",
      "[LightGBM] [Info] Start training from score 178235.925373\n"
     ]
    },
    {
     "name": "stderr",
     "output_type": "stream",
     "text": [
      "/Users/macbook/anaconda3/envs/ameshousing-regression/lib/python3.10/site-packages/sklearn/utils/validation.py:2739: UserWarning: X does not have valid feature names, but LGBMRegressor was fitted with feature names\n",
      "  warnings.warn(\n"
     ]
    },
    {
     "name": "stdout",
     "output_type": "stream",
     "text": [
      "[LightGBM] [Info] Auto-choosing row-wise multi-threading, the overhead of testing was 0.006554 seconds.\n",
      "You can set `force_row_wise=true` to remove the overhead.\n",
      "And if memory is not enough, you can set `force_col_wise=true`.\n",
      "[LightGBM] [Info] Total Bins 3640\n",
      "[LightGBM] [Info] Number of data points in the train set: 1875, number of used features: 158\n",
      "[LightGBM] [Info] Start training from score 179301.145067\n"
     ]
    },
    {
     "name": "stderr",
     "output_type": "stream",
     "text": [
      "/Users/macbook/anaconda3/envs/ameshousing-regression/lib/python3.10/site-packages/sklearn/utils/validation.py:2739: UserWarning: X does not have valid feature names, but LGBMRegressor was fitted with feature names\n",
      "  warnings.warn(\n"
     ]
    },
    {
     "name": "stdout",
     "output_type": "stream",
     "text": [
      "[LightGBM] [Info] Auto-choosing row-wise multi-threading, the overhead of testing was 0.011120 seconds.\n",
      "You can set `force_row_wise=true` to remove the overhead.\n",
      "And if memory is not enough, you can set `force_col_wise=true`.\n",
      "[LightGBM] [Info] Total Bins 3619\n",
      "[LightGBM] [Info] Number of data points in the train set: 1875, number of used features: 156\n",
      "[LightGBM] [Info] Start training from score 178183.648000\n"
     ]
    },
    {
     "name": "stderr",
     "output_type": "stream",
     "text": [
      "/Users/macbook/anaconda3/envs/ameshousing-regression/lib/python3.10/site-packages/sklearn/utils/validation.py:2739: UserWarning: X does not have valid feature names, but LGBMRegressor was fitted with feature names\n",
      "  warnings.warn(\n"
     ]
    },
    {
     "name": "stdout",
     "output_type": "stream",
     "text": [
      "[LightGBM] [Info] Auto-choosing row-wise multi-threading, the overhead of testing was 0.010167 seconds.\n",
      "You can set `force_row_wise=true` to remove the overhead.\n",
      "And if memory is not enough, you can set `force_col_wise=true`.\n",
      "[LightGBM] [Info] Total Bins 3630\n",
      "[LightGBM] [Info] Number of data points in the train set: 1875, number of used features: 154\n",
      "[LightGBM] [Info] Start training from score 178974.889600\n"
     ]
    },
    {
     "name": "stderr",
     "output_type": "stream",
     "text": [
      "/Users/macbook/anaconda3/envs/ameshousing-regression/lib/python3.10/site-packages/sklearn/utils/validation.py:2739: UserWarning: X does not have valid feature names, but LGBMRegressor was fitted with feature names\n",
      "  warnings.warn(\n"
     ]
    },
    {
     "name": "stdout",
     "output_type": "stream",
     "text": [
      "[LightGBM] [Info] Auto-choosing row-wise multi-threading, the overhead of testing was 0.010028 seconds.\n",
      "You can set `force_row_wise=true` to remove the overhead.\n",
      "And if memory is not enough, you can set `force_col_wise=true`.\n",
      "[LightGBM] [Info] Total Bins 3638\n",
      "[LightGBM] [Info] Number of data points in the train set: 1875, number of used features: 158\n",
      "[LightGBM] [Info] Start training from score 178215.615467\n"
     ]
    },
    {
     "name": "stderr",
     "output_type": "stream",
     "text": [
      "/Users/macbook/anaconda3/envs/ameshousing-regression/lib/python3.10/site-packages/sklearn/utils/validation.py:2739: UserWarning: X does not have valid feature names, but LGBMRegressor was fitted with feature names\n",
      "  warnings.warn(\n"
     ]
    },
    {
     "name": "stdout",
     "output_type": "stream",
     "text": [
      "[LightGBM] [Info] Auto-choosing row-wise multi-threading, the overhead of testing was 0.003856 seconds.\n",
      "You can set `force_row_wise=true` to remove the overhead.\n",
      "And if memory is not enough, you can set `force_col_wise=true`.\n",
      "[LightGBM] [Info] Total Bins 3627\n",
      "[LightGBM] [Info] Number of data points in the train set: 1876, number of used features: 154\n",
      "[LightGBM] [Info] Start training from score 178235.925373\n"
     ]
    },
    {
     "name": "stderr",
     "output_type": "stream",
     "text": [
      "/Users/macbook/anaconda3/envs/ameshousing-regression/lib/python3.10/site-packages/sklearn/utils/validation.py:2739: UserWarning: X does not have valid feature names, but LGBMRegressor was fitted with feature names\n",
      "  warnings.warn(\n",
      "/Users/macbook/anaconda3/envs/ameshousing-regression/lib/python3.10/site-packages/sklearn/utils/validation.py:2739: UserWarning: X does not have valid feature names, but LGBMRegressor was fitted with feature names\n",
      "  warnings.warn(\n"
     ]
    },
    {
     "name": "stdout",
     "output_type": "stream",
     "text": [
      "[LightGBM] [Info] Auto-choosing row-wise multi-threading, the overhead of testing was 0.003825 seconds.\n",
      "You can set `force_row_wise=true` to remove the overhead.\n",
      "And if memory is not enough, you can set `force_col_wise=true`.\n",
      "[LightGBM] [Info] Total Bins 3640\n",
      "[LightGBM] [Info] Number of data points in the train set: 1875, number of used features: 158\n",
      "[LightGBM] [Info] Start training from score 179301.145067\n",
      "[LightGBM] [Info] Auto-choosing row-wise multi-threading, the overhead of testing was 0.010217 seconds.\n",
      "You can set `force_row_wise=true` to remove the overhead.\n",
      "And if memory is not enough, you can set `force_col_wise=true`.\n",
      "[LightGBM] [Info] Total Bins 3619\n",
      "[LightGBM] [Info] Number of data points in the train set: 1875, number of used features: 156\n",
      "[LightGBM] [Info] Start training from score 178183.648000\n"
     ]
    },
    {
     "name": "stderr",
     "output_type": "stream",
     "text": [
      "/Users/macbook/anaconda3/envs/ameshousing-regression/lib/python3.10/site-packages/sklearn/utils/validation.py:2739: UserWarning: X does not have valid feature names, but LGBMRegressor was fitted with feature names\n",
      "  warnings.warn(\n"
     ]
    },
    {
     "name": "stdout",
     "output_type": "stream",
     "text": [
      "[LightGBM] [Info] Auto-choosing row-wise multi-threading, the overhead of testing was 0.004457 seconds.\n",
      "You can set `force_row_wise=true` to remove the overhead.\n",
      "And if memory is not enough, you can set `force_col_wise=true`.\n",
      "[LightGBM] [Info] Total Bins 3630\n",
      "[LightGBM] [Info] Number of data points in the train set: 1875, number of used features: 154\n",
      "[LightGBM] [Info] Start training from score 178974.889600\n"
     ]
    },
    {
     "name": "stderr",
     "output_type": "stream",
     "text": [
      "/Users/macbook/anaconda3/envs/ameshousing-regression/lib/python3.10/site-packages/sklearn/utils/validation.py:2739: UserWarning: X does not have valid feature names, but LGBMRegressor was fitted with feature names\n",
      "  warnings.warn(\n"
     ]
    },
    {
     "name": "stdout",
     "output_type": "stream",
     "text": [
      "[LightGBM] [Info] Auto-choosing row-wise multi-threading, the overhead of testing was 0.004410 seconds.\n",
      "You can set `force_row_wise=true` to remove the overhead.\n",
      "And if memory is not enough, you can set `force_col_wise=true`.\n",
      "[LightGBM] [Info] Total Bins 3638\n",
      "[LightGBM] [Info] Number of data points in the train set: 1875, number of used features: 158\n",
      "[LightGBM] [Info] Start training from score 178215.615467\n"
     ]
    },
    {
     "name": "stderr",
     "output_type": "stream",
     "text": [
      "/Users/macbook/anaconda3/envs/ameshousing-regression/lib/python3.10/site-packages/sklearn/utils/validation.py:2739: UserWarning: X does not have valid feature names, but LGBMRegressor was fitted with feature names\n",
      "  warnings.warn(\n"
     ]
    },
    {
     "name": "stdout",
     "output_type": "stream",
     "text": [
      "[LightGBM] [Info] Auto-choosing row-wise multi-threading, the overhead of testing was 0.013107 seconds.\n",
      "You can set `force_row_wise=true` to remove the overhead.\n",
      "And if memory is not enough, you can set `force_col_wise=true`.\n",
      "[LightGBM] [Info] Total Bins 3627\n",
      "[LightGBM] [Info] Number of data points in the train set: 1876, number of used features: 154\n",
      "[LightGBM] [Info] Start training from score 178235.925373\n"
     ]
    },
    {
     "name": "stderr",
     "output_type": "stream",
     "text": [
      "/Users/macbook/anaconda3/envs/ameshousing-regression/lib/python3.10/site-packages/sklearn/utils/validation.py:2739: UserWarning: X does not have valid feature names, but LGBMRegressor was fitted with feature names\n",
      "  warnings.warn(\n"
     ]
    },
    {
     "name": "stdout",
     "output_type": "stream",
     "text": [
      "[LightGBM] [Info] Auto-choosing row-wise multi-threading, the overhead of testing was 0.008893 seconds.\n",
      "You can set `force_row_wise=true` to remove the overhead.\n",
      "And if memory is not enough, you can set `force_col_wise=true`.\n",
      "[LightGBM] [Info] Total Bins 3640\n",
      "[LightGBM] [Info] Number of data points in the train set: 1875, number of used features: 158\n",
      "[LightGBM] [Info] Start training from score 179301.145067\n"
     ]
    },
    {
     "name": "stderr",
     "output_type": "stream",
     "text": [
      "/Users/macbook/anaconda3/envs/ameshousing-regression/lib/python3.10/site-packages/sklearn/utils/validation.py:2739: UserWarning: X does not have valid feature names, but LGBMRegressor was fitted with feature names\n",
      "  warnings.warn(\n"
     ]
    },
    {
     "name": "stdout",
     "output_type": "stream",
     "text": [
      "[LightGBM] [Info] Auto-choosing row-wise multi-threading, the overhead of testing was 0.010940 seconds.\n",
      "You can set `force_row_wise=true` to remove the overhead.\n",
      "And if memory is not enough, you can set `force_col_wise=true`.\n",
      "[LightGBM] [Info] Total Bins 3619\n",
      "[LightGBM] [Info] Number of data points in the train set: 1875, number of used features: 156\n",
      "[LightGBM] [Info] Start training from score 178183.648000\n"
     ]
    },
    {
     "name": "stderr",
     "output_type": "stream",
     "text": [
      "/Users/macbook/anaconda3/envs/ameshousing-regression/lib/python3.10/site-packages/sklearn/utils/validation.py:2739: UserWarning: X does not have valid feature names, but LGBMRegressor was fitted with feature names\n",
      "  warnings.warn(\n"
     ]
    },
    {
     "name": "stdout",
     "output_type": "stream",
     "text": [
      "[LightGBM] [Info] Auto-choosing col-wise multi-threading, the overhead of testing was 0.007694 seconds.\n",
      "You can set `force_col_wise=true` to remove the overhead.\n",
      "[LightGBM] [Info] Total Bins 3630\n",
      "[LightGBM] [Info] Number of data points in the train set: 1875, number of used features: 154\n",
      "[LightGBM] [Info] Start training from score 178974.889600\n"
     ]
    },
    {
     "name": "stderr",
     "output_type": "stream",
     "text": [
      "/Users/macbook/anaconda3/envs/ameshousing-regression/lib/python3.10/site-packages/sklearn/utils/validation.py:2739: UserWarning: X does not have valid feature names, but LGBMRegressor was fitted with feature names\n",
      "  warnings.warn(\n",
      "/Users/macbook/anaconda3/envs/ameshousing-regression/lib/python3.10/site-packages/sklearn/utils/validation.py:2739: UserWarning: X does not have valid feature names, but LGBMRegressor was fitted with feature names\n",
      "  warnings.warn(\n"
     ]
    },
    {
     "name": "stdout",
     "output_type": "stream",
     "text": [
      "[LightGBM] [Info] Auto-choosing row-wise multi-threading, the overhead of testing was 0.012085 seconds.\n",
      "You can set `force_row_wise=true` to remove the overhead.\n",
      "And if memory is not enough, you can set `force_col_wise=true`.\n",
      "[LightGBM] [Info] Total Bins 3638\n",
      "[LightGBM] [Info] Number of data points in the train set: 1875, number of used features: 158\n",
      "[LightGBM] [Info] Start training from score 178215.615467\n",
      "[LightGBM] [Info] Auto-choosing row-wise multi-threading, the overhead of testing was 0.006367 seconds.\n",
      "You can set `force_row_wise=true` to remove the overhead.\n",
      "And if memory is not enough, you can set `force_col_wise=true`.\n",
      "[LightGBM] [Info] Total Bins 3627\n",
      "[LightGBM] [Info] Number of data points in the train set: 1876, number of used features: 154\n",
      "[LightGBM] [Info] Start training from score 178235.925373\n"
     ]
    },
    {
     "name": "stderr",
     "output_type": "stream",
     "text": [
      "/Users/macbook/anaconda3/envs/ameshousing-regression/lib/python3.10/site-packages/sklearn/utils/validation.py:2739: UserWarning: X does not have valid feature names, but LGBMRegressor was fitted with feature names\n",
      "  warnings.warn(\n",
      "/Users/macbook/anaconda3/envs/ameshousing-regression/lib/python3.10/site-packages/sklearn/utils/validation.py:2739: UserWarning: X does not have valid feature names, but LGBMRegressor was fitted with feature names\n",
      "  warnings.warn(\n",
      "/Users/macbook/anaconda3/envs/ameshousing-regression/lib/python3.10/site-packages/sklearn/utils/validation.py:2739: UserWarning: X does not have valid feature names, but LGBMRegressor was fitted with feature names\n",
      "  warnings.warn(\n",
      "/Users/macbook/anaconda3/envs/ameshousing-regression/lib/python3.10/site-packages/sklearn/utils/validation.py:2739: UserWarning: X does not have valid feature names, but LGBMRegressor was fitted with feature names\n",
      "  warnings.warn(\n",
      "/Users/macbook/anaconda3/envs/ameshousing-regression/lib/python3.10/site-packages/sklearn/utils/validation.py:2739: UserWarning: X does not have valid feature names, but LGBMRegressor was fitted with feature names\n",
      "  warnings.warn(\n",
      "/Users/macbook/anaconda3/envs/ameshousing-regression/lib/python3.10/site-packages/sklearn/utils/validation.py:2739: UserWarning: X does not have valid feature names, but LGBMRegressor was fitted with feature names\n",
      "  warnings.warn(\n",
      "/Users/macbook/anaconda3/envs/ameshousing-regression/lib/python3.10/site-packages/sklearn/utils/validation.py:2739: UserWarning: X does not have valid feature names, but LGBMRegressor was fitted with feature names\n",
      "  warnings.warn(\n",
      "/Users/macbook/anaconda3/envs/ameshousing-regression/lib/python3.10/site-packages/sklearn/utils/validation.py:2739: UserWarning: X does not have valid feature names, but LGBMRegressor was fitted with feature names\n",
      "  warnings.warn(\n"
     ]
    },
    {
     "name": "stdout",
     "output_type": "stream",
     "text": [
      "[LightGBM] [Info] Auto-choosing row-wise multi-threading, the overhead of testing was 0.001346 seconds.\n",
      "You can set `force_row_wise=true` to remove the overhead.\n",
      "And if memory is not enough, you can set `force_col_wise=true`.\n",
      "[LightGBM] [Info] Total Bins 3735\n",
      "[LightGBM] [Info] Number of data points in the train set: 2344, number of used features: 168\n",
      "[LightGBM] [Info] Start training from score 178582.207765\n",
      "Best params for LightGBM: {'regressor__learning_rate': np.float64(0.05951769101112702), 'regressor__n_estimators': 274, 'regressor__num_leaves': 22}\n",
      "RandomizedSearchCV for CatBoost...\n",
      "Best params for CatBoost: {'regressor__depth': 6, 'regressor__iterations': 958, 'regressor__learning_rate': np.float64(0.11661761457749352)}\n"
     ]
    }
   ],
   "source": [
    "# --- 2. RandomizedSearchCV ---\n",
    "\n",
    "param_dists = {\n",
    "    \"Ridge\": {\"regressor__alpha\": uniform(0.01, 100)},\n",
    "    \"Lasso\": {\"regressor__alpha\": uniform(0.0001, 0.1)},\n",
    "    \"DecisionTree\": {\n",
    "        \"regressor__max_depth\": [None, 10, 20],\n",
    "        \"regressor__min_samples_split\": randint(2, 10)\n",
    "    },\n",
    "    \"RandomForest\": {\n",
    "        \"regressor__n_estimators\": randint(100, 500),\n",
    "        \"regressor__max_depth\": [None, 10, 20]\n",
    "    },\n",
    "    \"GradientBoosting\": {\n",
    "        \"regressor__n_estimators\": randint(100, 300),\n",
    "        \"regressor__learning_rate\": uniform(0.01, 0.1),\n",
    "        \"regressor__max_depth\": randint(3, 6)\n",
    "    },\n",
    "    \"XGBoost\": {\n",
    "        \"regressor__n_estimators\": randint(100, 300),\n",
    "        \"regressor__learning_rate\": uniform(0.01, 0.1),\n",
    "        \"regressor__max_depth\": randint(3, 6)\n",
    "    },\n",
    "    \"LightGBM\": {\n",
    "        \"regressor__n_estimators\": randint(100, 300),\n",
    "        \"regressor__learning_rate\": uniform(0.01, 0.1),\n",
    "        \"regressor__num_leaves\": randint(20, 50)\n",
    "    },\n",
    "    \"CatBoost\": {\n",
    "        \"regressor__iterations\": randint(500, 1000),\n",
    "        \"regressor__learning_rate\": uniform(0.03, 0.1),\n",
    "        \"regressor__depth\": randint(4, 8)\n",
    "    }\n",
    "}\n",
    "\n",
    "tuned_models_random = {}\n",
    "for name, pipeline in pipelines.items():\n",
    "    if name in param_dists:\n",
    "        print(f\"RandomizedSearchCV for {name}...\")\n",
    "        rs = RandomizedSearchCV(pipeline, param_distributions=param_dists[name], n_iter=20, cv=5,\n",
    "                                scoring='neg_root_mean_squared_error', n_jobs=-1, random_state=42)\n",
    "        rs.fit(X_train, y_train)\n",
    "        tuned_models_random[name] = rs.best_estimator_\n",
    "        print(f\"Best params for {name}: {rs.best_params_}\")"
   ]
  },
  {
   "cell_type": "code",
   "execution_count": 47,
   "metadata": {},
   "outputs": [
    {
     "name": "stdout",
     "output_type": "stream",
     "text": [
      "BayesSearchCV for Ridge...\n",
      "Best params for Ridge: OrderedDict([('regressor__alpha', 8.256801181901121)])\n",
      "BayesSearchCV for Lasso...\n"
     ]
    },
    {
     "name": "stderr",
     "output_type": "stream",
     "text": [
      "/Users/macbook/anaconda3/envs/ameshousing-regression/lib/python3.10/site-packages/sklearn/linear_model/_coordinate_descent.py:695: ConvergenceWarning: Objective did not converge. You might want to increase the number of iterations, check the scale of the features or consider increasing regularisation. Duality gap: 5.138e+11, tolerance: 1.132e+09\n",
      "  model = cd_fast.enet_coordinate_descent(\n",
      "/Users/macbook/anaconda3/envs/ameshousing-regression/lib/python3.10/site-packages/sklearn/linear_model/_coordinate_descent.py:695: ConvergenceWarning: Objective did not converge. You might want to increase the number of iterations, check the scale of the features or consider increasing regularisation. Duality gap: 4.860e+11, tolerance: 1.134e+09\n",
      "  model = cd_fast.enet_coordinate_descent(\n",
      "/Users/macbook/anaconda3/envs/ameshousing-regression/lib/python3.10/site-packages/sklearn/linear_model/_coordinate_descent.py:695: ConvergenceWarning: Objective did not converge. You might want to increase the number of iterations, check the scale of the features or consider increasing regularisation. Duality gap: 5.053e+11, tolerance: 1.123e+09\n",
      "  model = cd_fast.enet_coordinate_descent(\n",
      "/Users/macbook/anaconda3/envs/ameshousing-regression/lib/python3.10/site-packages/sklearn/linear_model/_coordinate_descent.py:695: ConvergenceWarning: Objective did not converge. You might want to increase the number of iterations, check the scale of the features or consider increasing regularisation. Duality gap: 5.010e+11, tolerance: 1.082e+09\n",
      "  model = cd_fast.enet_coordinate_descent(\n",
      "/Users/macbook/anaconda3/envs/ameshousing-regression/lib/python3.10/site-packages/sklearn/linear_model/_coordinate_descent.py:695: ConvergenceWarning: Objective did not converge. You might want to increase the number of iterations, check the scale of the features or consider increasing regularisation. Duality gap: 4.350e+11, tolerance: 1.104e+09\n",
      "  model = cd_fast.enet_coordinate_descent(\n",
      "/Users/macbook/anaconda3/envs/ameshousing-regression/lib/python3.10/site-packages/sklearn/linear_model/_coordinate_descent.py:695: ConvergenceWarning: Objective did not converge. You might want to increase the number of iterations, check the scale of the features or consider increasing regularisation. Duality gap: 5.134e+11, tolerance: 1.132e+09\n",
      "  model = cd_fast.enet_coordinate_descent(\n",
      "/Users/macbook/anaconda3/envs/ameshousing-regression/lib/python3.10/site-packages/sklearn/linear_model/_coordinate_descent.py:695: ConvergenceWarning: Objective did not converge. You might want to increase the number of iterations, check the scale of the features or consider increasing regularisation. Duality gap: 4.868e+11, tolerance: 1.134e+09\n",
      "  model = cd_fast.enet_coordinate_descent(\n",
      "/Users/macbook/anaconda3/envs/ameshousing-regression/lib/python3.10/site-packages/sklearn/linear_model/_coordinate_descent.py:695: ConvergenceWarning: Objective did not converge. You might want to increase the number of iterations, check the scale of the features or consider increasing regularisation. Duality gap: 5.050e+11, tolerance: 1.123e+09\n",
      "  model = cd_fast.enet_coordinate_descent(\n",
      "/Users/macbook/anaconda3/envs/ameshousing-regression/lib/python3.10/site-packages/sklearn/linear_model/_coordinate_descent.py:695: ConvergenceWarning: Objective did not converge. You might want to increase the number of iterations, check the scale of the features or consider increasing regularisation. Duality gap: 4.347e+11, tolerance: 1.104e+09\n",
      "  model = cd_fast.enet_coordinate_descent(\n",
      "/Users/macbook/anaconda3/envs/ameshousing-regression/lib/python3.10/site-packages/sklearn/linear_model/_coordinate_descent.py:695: ConvergenceWarning: Objective did not converge. You might want to increase the number of iterations, check the scale of the features or consider increasing regularisation. Duality gap: 5.008e+11, tolerance: 1.082e+09\n",
      "  model = cd_fast.enet_coordinate_descent(\n",
      "/Users/macbook/anaconda3/envs/ameshousing-regression/lib/python3.10/site-packages/sklearn/linear_model/_coordinate_descent.py:695: ConvergenceWarning: Objective did not converge. You might want to increase the number of iterations, check the scale of the features or consider increasing regularisation. Duality gap: 5.138e+11, tolerance: 1.132e+09\n",
      "  model = cd_fast.enet_coordinate_descent(\n",
      "/Users/macbook/anaconda3/envs/ameshousing-regression/lib/python3.10/site-packages/sklearn/linear_model/_coordinate_descent.py:695: ConvergenceWarning: Objective did not converge. You might want to increase the number of iterations, check the scale of the features or consider increasing regularisation. Duality gap: 5.010e+11, tolerance: 1.082e+09\n",
      "  model = cd_fast.enet_coordinate_descent(\n",
      "/Users/macbook/anaconda3/envs/ameshousing-regression/lib/python3.10/site-packages/sklearn/linear_model/_coordinate_descent.py:695: ConvergenceWarning: Objective did not converge. You might want to increase the number of iterations, check the scale of the features or consider increasing regularisation. Duality gap: 4.350e+11, tolerance: 1.104e+09\n",
      "  model = cd_fast.enet_coordinate_descent(\n",
      "/Users/macbook/anaconda3/envs/ameshousing-regression/lib/python3.10/site-packages/sklearn/linear_model/_coordinate_descent.py:695: ConvergenceWarning: Objective did not converge. You might want to increase the number of iterations, check the scale of the features or consider increasing regularisation. Duality gap: 4.860e+11, tolerance: 1.134e+09\n",
      "  model = cd_fast.enet_coordinate_descent(\n",
      "/Users/macbook/anaconda3/envs/ameshousing-regression/lib/python3.10/site-packages/sklearn/linear_model/_coordinate_descent.py:695: ConvergenceWarning: Objective did not converge. You might want to increase the number of iterations, check the scale of the features or consider increasing regularisation. Duality gap: 5.053e+11, tolerance: 1.123e+09\n",
      "  model = cd_fast.enet_coordinate_descent(\n",
      "/Users/macbook/anaconda3/envs/ameshousing-regression/lib/python3.10/site-packages/sklearn/linear_model/_coordinate_descent.py:695: ConvergenceWarning: Objective did not converge. You might want to increase the number of iterations, check the scale of the features or consider increasing regularisation. Duality gap: 5.135e+11, tolerance: 1.132e+09\n",
      "  model = cd_fast.enet_coordinate_descent(\n",
      "/Users/macbook/anaconda3/envs/ameshousing-regression/lib/python3.10/site-packages/sklearn/linear_model/_coordinate_descent.py:695: ConvergenceWarning: Objective did not converge. You might want to increase the number of iterations, check the scale of the features or consider increasing regularisation. Duality gap: 5.051e+11, tolerance: 1.123e+09\n",
      "  model = cd_fast.enet_coordinate_descent(\n",
      "/Users/macbook/anaconda3/envs/ameshousing-regression/lib/python3.10/site-packages/sklearn/linear_model/_coordinate_descent.py:695: ConvergenceWarning: Objective did not converge. You might want to increase the number of iterations, check the scale of the features or consider increasing regularisation. Duality gap: 4.880e+11, tolerance: 1.134e+09\n",
      "  model = cd_fast.enet_coordinate_descent(\n",
      "/Users/macbook/anaconda3/envs/ameshousing-regression/lib/python3.10/site-packages/sklearn/linear_model/_coordinate_descent.py:695: ConvergenceWarning: Objective did not converge. You might want to increase the number of iterations, check the scale of the features or consider increasing regularisation. Duality gap: 4.347e+11, tolerance: 1.104e+09\n",
      "  model = cd_fast.enet_coordinate_descent(\n",
      "/Users/macbook/anaconda3/envs/ameshousing-regression/lib/python3.10/site-packages/sklearn/linear_model/_coordinate_descent.py:695: ConvergenceWarning: Objective did not converge. You might want to increase the number of iterations, check the scale of the features or consider increasing regularisation. Duality gap: 5.009e+11, tolerance: 1.082e+09\n",
      "  model = cd_fast.enet_coordinate_descent(\n",
      "/Users/macbook/anaconda3/envs/ameshousing-regression/lib/python3.10/site-packages/sklearn/linear_model/_coordinate_descent.py:695: ConvergenceWarning: Objective did not converge. You might want to increase the number of iterations, check the scale of the features or consider increasing regularisation. Duality gap: 5.135e+11, tolerance: 1.132e+09\n",
      "  model = cd_fast.enet_coordinate_descent(\n",
      "/Users/macbook/anaconda3/envs/ameshousing-regression/lib/python3.10/site-packages/sklearn/linear_model/_coordinate_descent.py:695: ConvergenceWarning: Objective did not converge. You might want to increase the number of iterations, check the scale of the features or consider increasing regularisation. Duality gap: 5.009e+11, tolerance: 1.082e+09\n",
      "  model = cd_fast.enet_coordinate_descent(\n",
      "/Users/macbook/anaconda3/envs/ameshousing-regression/lib/python3.10/site-packages/sklearn/linear_model/_coordinate_descent.py:695: ConvergenceWarning: Objective did not converge. You might want to increase the number of iterations, check the scale of the features or consider increasing regularisation. Duality gap: 5.051e+11, tolerance: 1.123e+09\n",
      "  model = cd_fast.enet_coordinate_descent(\n",
      "/Users/macbook/anaconda3/envs/ameshousing-regression/lib/python3.10/site-packages/sklearn/linear_model/_coordinate_descent.py:695: ConvergenceWarning: Objective did not converge. You might want to increase the number of iterations, check the scale of the features or consider increasing regularisation. Duality gap: 4.861e+11, tolerance: 1.134e+09\n",
      "  model = cd_fast.enet_coordinate_descent(\n",
      "/Users/macbook/anaconda3/envs/ameshousing-regression/lib/python3.10/site-packages/sklearn/linear_model/_coordinate_descent.py:695: ConvergenceWarning: Objective did not converge. You might want to increase the number of iterations, check the scale of the features or consider increasing regularisation. Duality gap: 4.348e+11, tolerance: 1.104e+09\n",
      "  model = cd_fast.enet_coordinate_descent(\n",
      "/Users/macbook/anaconda3/envs/ameshousing-regression/lib/python3.10/site-packages/sklearn/linear_model/_coordinate_descent.py:695: ConvergenceWarning: Objective did not converge. You might want to increase the number of iterations, check the scale of the features or consider increasing regularisation. Duality gap: 5.136e+11, tolerance: 1.132e+09\n",
      "  model = cd_fast.enet_coordinate_descent(\n",
      "/Users/macbook/anaconda3/envs/ameshousing-regression/lib/python3.10/site-packages/sklearn/linear_model/_coordinate_descent.py:695: ConvergenceWarning: Objective did not converge. You might want to increase the number of iterations, check the scale of the features or consider increasing regularisation. Duality gap: 5.009e+11, tolerance: 1.082e+09\n",
      "  model = cd_fast.enet_coordinate_descent(\n",
      "/Users/macbook/anaconda3/envs/ameshousing-regression/lib/python3.10/site-packages/sklearn/linear_model/_coordinate_descent.py:695: ConvergenceWarning: Objective did not converge. You might want to increase the number of iterations, check the scale of the features or consider increasing regularisation. Duality gap: 5.052e+11, tolerance: 1.123e+09\n",
      "  model = cd_fast.enet_coordinate_descent(\n",
      "/Users/macbook/anaconda3/envs/ameshousing-regression/lib/python3.10/site-packages/sklearn/linear_model/_coordinate_descent.py:695: ConvergenceWarning: Objective did not converge. You might want to increase the number of iterations, check the scale of the features or consider increasing regularisation. Duality gap: 4.860e+11, tolerance: 1.134e+09\n",
      "  model = cd_fast.enet_coordinate_descent(\n",
      "/Users/macbook/anaconda3/envs/ameshousing-regression/lib/python3.10/site-packages/sklearn/linear_model/_coordinate_descent.py:695: ConvergenceWarning: Objective did not converge. You might want to increase the number of iterations, check the scale of the features or consider increasing regularisation. Duality gap: 4.349e+11, tolerance: 1.104e+09\n",
      "  model = cd_fast.enet_coordinate_descent(\n",
      "/Users/macbook/anaconda3/envs/ameshousing-regression/lib/python3.10/site-packages/sklearn/linear_model/_coordinate_descent.py:695: ConvergenceWarning: Objective did not converge. You might want to increase the number of iterations, check the scale of the features or consider increasing regularisation. Duality gap: 4.860e+11, tolerance: 1.134e+09\n",
      "  model = cd_fast.enet_coordinate_descent(\n",
      "/Users/macbook/anaconda3/envs/ameshousing-regression/lib/python3.10/site-packages/sklearn/linear_model/_coordinate_descent.py:695: ConvergenceWarning: Objective did not converge. You might want to increase the number of iterations, check the scale of the features or consider increasing regularisation. Duality gap: 5.137e+11, tolerance: 1.132e+09\n",
      "  model = cd_fast.enet_coordinate_descent(\n",
      "/Users/macbook/anaconda3/envs/ameshousing-regression/lib/python3.10/site-packages/sklearn/linear_model/_coordinate_descent.py:695: ConvergenceWarning: Objective did not converge. You might want to increase the number of iterations, check the scale of the features or consider increasing regularisation. Duality gap: 5.052e+11, tolerance: 1.123e+09\n",
      "  model = cd_fast.enet_coordinate_descent(\n",
      "/Users/macbook/anaconda3/envs/ameshousing-regression/lib/python3.10/site-packages/sklearn/linear_model/_coordinate_descent.py:695: ConvergenceWarning: Objective did not converge. You might want to increase the number of iterations, check the scale of the features or consider increasing regularisation. Duality gap: 5.010e+11, tolerance: 1.082e+09\n",
      "  model = cd_fast.enet_coordinate_descent(\n",
      "/Users/macbook/anaconda3/envs/ameshousing-regression/lib/python3.10/site-packages/sklearn/linear_model/_coordinate_descent.py:695: ConvergenceWarning: Objective did not converge. You might want to increase the number of iterations, check the scale of the features or consider increasing regularisation. Duality gap: 4.350e+11, tolerance: 1.104e+09\n",
      "  model = cd_fast.enet_coordinate_descent(\n",
      "/Users/macbook/anaconda3/envs/ameshousing-regression/lib/python3.10/site-packages/sklearn/linear_model/_coordinate_descent.py:695: ConvergenceWarning: Objective did not converge. You might want to increase the number of iterations, check the scale of the features or consider increasing regularisation. Duality gap: 5.137e+11, tolerance: 1.132e+09\n",
      "  model = cd_fast.enet_coordinate_descent(\n",
      "/Users/macbook/anaconda3/envs/ameshousing-regression/lib/python3.10/site-packages/sklearn/linear_model/_coordinate_descent.py:695: ConvergenceWarning: Objective did not converge. You might want to increase the number of iterations, check the scale of the features or consider increasing regularisation. Duality gap: 5.053e+11, tolerance: 1.123e+09\n",
      "  model = cd_fast.enet_coordinate_descent(\n",
      "/Users/macbook/anaconda3/envs/ameshousing-regression/lib/python3.10/site-packages/sklearn/linear_model/_coordinate_descent.py:695: ConvergenceWarning: Objective did not converge. You might want to increase the number of iterations, check the scale of the features or consider increasing regularisation. Duality gap: 4.860e+11, tolerance: 1.134e+09\n",
      "  model = cd_fast.enet_coordinate_descent(\n",
      "/Users/macbook/anaconda3/envs/ameshousing-regression/lib/python3.10/site-packages/sklearn/linear_model/_coordinate_descent.py:695: ConvergenceWarning: Objective did not converge. You might want to increase the number of iterations, check the scale of the features or consider increasing regularisation. Duality gap: 5.010e+11, tolerance: 1.082e+09\n",
      "  model = cd_fast.enet_coordinate_descent(\n",
      "/Users/macbook/anaconda3/envs/ameshousing-regression/lib/python3.10/site-packages/sklearn/linear_model/_coordinate_descent.py:695: ConvergenceWarning: Objective did not converge. You might want to increase the number of iterations, check the scale of the features or consider increasing regularisation. Duality gap: 4.350e+11, tolerance: 1.104e+09\n",
      "  model = cd_fast.enet_coordinate_descent(\n",
      "/Users/macbook/anaconda3/envs/ameshousing-regression/lib/python3.10/site-packages/sklearn/linear_model/_coordinate_descent.py:695: ConvergenceWarning: Objective did not converge. You might want to increase the number of iterations, check the scale of the features or consider increasing regularisation. Duality gap: 5.130e+11, tolerance: 1.132e+09\n",
      "  model = cd_fast.enet_coordinate_descent(\n",
      "/Users/macbook/anaconda3/envs/ameshousing-regression/lib/python3.10/site-packages/sklearn/linear_model/_coordinate_descent.py:695: ConvergenceWarning: Objective did not converge. You might want to increase the number of iterations, check the scale of the features or consider increasing regularisation. Duality gap: 5.006e+11, tolerance: 1.082e+09\n",
      "  model = cd_fast.enet_coordinate_descent(\n",
      "/Users/macbook/anaconda3/envs/ameshousing-regression/lib/python3.10/site-packages/sklearn/linear_model/_coordinate_descent.py:695: ConvergenceWarning: Objective did not converge. You might want to increase the number of iterations, check the scale of the features or consider increasing regularisation. Duality gap: 5.047e+11, tolerance: 1.123e+09\n",
      "  model = cd_fast.enet_coordinate_descent(\n",
      "/Users/macbook/anaconda3/envs/ameshousing-regression/lib/python3.10/site-packages/sklearn/linear_model/_coordinate_descent.py:695: ConvergenceWarning: Objective did not converge. You might want to increase the number of iterations, check the scale of the features or consider increasing regularisation. Duality gap: 4.860e+11, tolerance: 1.134e+09\n",
      "  model = cd_fast.enet_coordinate_descent(\n",
      "/Users/macbook/anaconda3/envs/ameshousing-regression/lib/python3.10/site-packages/sklearn/linear_model/_coordinate_descent.py:695: ConvergenceWarning: Objective did not converge. You might want to increase the number of iterations, check the scale of the features or consider increasing regularisation. Duality gap: 4.341e+11, tolerance: 1.104e+09\n",
      "  model = cd_fast.enet_coordinate_descent(\n",
      "/Users/macbook/anaconda3/envs/ameshousing-regression/lib/python3.10/site-packages/sklearn/linear_model/_coordinate_descent.py:695: ConvergenceWarning: Objective did not converge. You might want to increase the number of iterations, check the scale of the features or consider increasing regularisation. Duality gap: 5.138e+11, tolerance: 1.132e+09\n",
      "  model = cd_fast.enet_coordinate_descent(\n",
      "/Users/macbook/anaconda3/envs/ameshousing-regression/lib/python3.10/site-packages/sklearn/linear_model/_coordinate_descent.py:695: ConvergenceWarning: Objective did not converge. You might want to increase the number of iterations, check the scale of the features or consider increasing regularisation. Duality gap: 5.053e+11, tolerance: 1.123e+09\n",
      "  model = cd_fast.enet_coordinate_descent(\n",
      "/Users/macbook/anaconda3/envs/ameshousing-regression/lib/python3.10/site-packages/sklearn/linear_model/_coordinate_descent.py:695: ConvergenceWarning: Objective did not converge. You might want to increase the number of iterations, check the scale of the features or consider increasing regularisation. Duality gap: 4.864e+11, tolerance: 1.134e+09\n",
      "  model = cd_fast.enet_coordinate_descent(\n",
      "/Users/macbook/anaconda3/envs/ameshousing-regression/lib/python3.10/site-packages/sklearn/linear_model/_coordinate_descent.py:695: ConvergenceWarning: Objective did not converge. You might want to increase the number of iterations, check the scale of the features or consider increasing regularisation. Duality gap: 5.010e+11, tolerance: 1.082e+09\n",
      "  model = cd_fast.enet_coordinate_descent(\n",
      "/Users/macbook/anaconda3/envs/ameshousing-regression/lib/python3.10/site-packages/sklearn/linear_model/_coordinate_descent.py:695: ConvergenceWarning: Objective did not converge. You might want to increase the number of iterations, check the scale of the features or consider increasing regularisation. Duality gap: 4.351e+11, tolerance: 1.104e+09\n",
      "  model = cd_fast.enet_coordinate_descent(\n",
      "/Users/macbook/anaconda3/envs/ameshousing-regression/lib/python3.10/site-packages/sklearn/linear_model/_coordinate_descent.py:695: ConvergenceWarning: Objective did not converge. You might want to increase the number of iterations, check the scale of the features or consider increasing regularisation. Duality gap: 5.137e+11, tolerance: 1.132e+09\n",
      "  model = cd_fast.enet_coordinate_descent(\n",
      "/Users/macbook/anaconda3/envs/ameshousing-regression/lib/python3.10/site-packages/sklearn/linear_model/_coordinate_descent.py:695: ConvergenceWarning: Objective did not converge. You might want to increase the number of iterations, check the scale of the features or consider increasing regularisation. Duality gap: 4.860e+11, tolerance: 1.134e+09\n",
      "  model = cd_fast.enet_coordinate_descent(\n",
      "/Users/macbook/anaconda3/envs/ameshousing-regression/lib/python3.10/site-packages/sklearn/linear_model/_coordinate_descent.py:695: ConvergenceWarning: Objective did not converge. You might want to increase the number of iterations, check the scale of the features or consider increasing regularisation. Duality gap: 5.052e+11, tolerance: 1.123e+09\n",
      "  model = cd_fast.enet_coordinate_descent(\n",
      "/Users/macbook/anaconda3/envs/ameshousing-regression/lib/python3.10/site-packages/sklearn/linear_model/_coordinate_descent.py:695: ConvergenceWarning: Objective did not converge. You might want to increase the number of iterations, check the scale of the features or consider increasing regularisation. Duality gap: 4.350e+11, tolerance: 1.104e+09\n",
      "  model = cd_fast.enet_coordinate_descent(\n",
      "/Users/macbook/anaconda3/envs/ameshousing-regression/lib/python3.10/site-packages/sklearn/linear_model/_coordinate_descent.py:695: ConvergenceWarning: Objective did not converge. You might want to increase the number of iterations, check the scale of the features or consider increasing regularisation. Duality gap: 5.010e+11, tolerance: 1.082e+09\n",
      "  model = cd_fast.enet_coordinate_descent(\n",
      "/Users/macbook/anaconda3/envs/ameshousing-regression/lib/python3.10/site-packages/sklearn/linear_model/_coordinate_descent.py:695: ConvergenceWarning: Objective did not converge. You might want to increase the number of iterations, check the scale of the features or consider increasing regularisation. Duality gap: 5.137e+11, tolerance: 1.132e+09\n",
      "  model = cd_fast.enet_coordinate_descent(\n",
      "/Users/macbook/anaconda3/envs/ameshousing-regression/lib/python3.10/site-packages/sklearn/linear_model/_coordinate_descent.py:695: ConvergenceWarning: Objective did not converge. You might want to increase the number of iterations, check the scale of the features or consider increasing regularisation. Duality gap: 4.860e+11, tolerance: 1.134e+09\n",
      "  model = cd_fast.enet_coordinate_descent(\n",
      "/Users/macbook/anaconda3/envs/ameshousing-regression/lib/python3.10/site-packages/sklearn/linear_model/_coordinate_descent.py:695: ConvergenceWarning: Objective did not converge. You might want to increase the number of iterations, check the scale of the features or consider increasing regularisation. Duality gap: 5.010e+11, tolerance: 1.082e+09\n",
      "  model = cd_fast.enet_coordinate_descent(\n",
      "/Users/macbook/anaconda3/envs/ameshousing-regression/lib/python3.10/site-packages/sklearn/linear_model/_coordinate_descent.py:695: ConvergenceWarning: Objective did not converge. You might want to increase the number of iterations, check the scale of the features or consider increasing regularisation. Duality gap: 5.052e+11, tolerance: 1.123e+09\n",
      "  model = cd_fast.enet_coordinate_descent(\n",
      "/Users/macbook/anaconda3/envs/ameshousing-regression/lib/python3.10/site-packages/sklearn/linear_model/_coordinate_descent.py:695: ConvergenceWarning: Objective did not converge. You might want to increase the number of iterations, check the scale of the features or consider increasing regularisation. Duality gap: 4.350e+11, tolerance: 1.104e+09\n",
      "  model = cd_fast.enet_coordinate_descent(\n",
      "/Users/macbook/anaconda3/envs/ameshousing-regression/lib/python3.10/site-packages/sklearn/linear_model/_coordinate_descent.py:695: ConvergenceWarning: Objective did not converge. You might want to increase the number of iterations, check the scale of the features or consider increasing regularisation. Duality gap: 5.137e+11, tolerance: 1.132e+09\n",
      "  model = cd_fast.enet_coordinate_descent(\n",
      "/Users/macbook/anaconda3/envs/ameshousing-regression/lib/python3.10/site-packages/sklearn/linear_model/_coordinate_descent.py:695: ConvergenceWarning: Objective did not converge. You might want to increase the number of iterations, check the scale of the features or consider increasing regularisation. Duality gap: 4.860e+11, tolerance: 1.134e+09\n",
      "  model = cd_fast.enet_coordinate_descent(\n",
      "/Users/macbook/anaconda3/envs/ameshousing-regression/lib/python3.10/site-packages/sklearn/linear_model/_coordinate_descent.py:695: ConvergenceWarning: Objective did not converge. You might want to increase the number of iterations, check the scale of the features or consider increasing regularisation. Duality gap: 5.052e+11, tolerance: 1.123e+09\n",
      "  model = cd_fast.enet_coordinate_descent(\n",
      "/Users/macbook/anaconda3/envs/ameshousing-regression/lib/python3.10/site-packages/sklearn/linear_model/_coordinate_descent.py:695: ConvergenceWarning: Objective did not converge. You might want to increase the number of iterations, check the scale of the features or consider increasing regularisation. Duality gap: 5.010e+11, tolerance: 1.082e+09\n",
      "  model = cd_fast.enet_coordinate_descent(\n",
      "/Users/macbook/anaconda3/envs/ameshousing-regression/lib/python3.10/site-packages/sklearn/linear_model/_coordinate_descent.py:695: ConvergenceWarning: Objective did not converge. You might want to increase the number of iterations, check the scale of the features or consider increasing regularisation. Duality gap: 4.349e+11, tolerance: 1.104e+09\n",
      "  model = cd_fast.enet_coordinate_descent(\n",
      "/Users/macbook/anaconda3/envs/ameshousing-regression/lib/python3.10/site-packages/sklearn/linear_model/_coordinate_descent.py:695: ConvergenceWarning: Objective did not converge. You might want to increase the number of iterations, check the scale of the features or consider increasing regularisation. Duality gap: 5.137e+11, tolerance: 1.132e+09\n",
      "  model = cd_fast.enet_coordinate_descent(\n",
      "/Users/macbook/anaconda3/envs/ameshousing-regression/lib/python3.10/site-packages/sklearn/linear_model/_coordinate_descent.py:695: ConvergenceWarning: Objective did not converge. You might want to increase the number of iterations, check the scale of the features or consider increasing regularisation. Duality gap: 4.846e+11, tolerance: 1.134e+09\n",
      "  model = cd_fast.enet_coordinate_descent(\n",
      "/Users/macbook/anaconda3/envs/ameshousing-regression/lib/python3.10/site-packages/sklearn/linear_model/_coordinate_descent.py:695: ConvergenceWarning: Objective did not converge. You might want to increase the number of iterations, check the scale of the features or consider increasing regularisation. Duality gap: 5.010e+11, tolerance: 1.082e+09\n",
      "  model = cd_fast.enet_coordinate_descent(\n",
      "/Users/macbook/anaconda3/envs/ameshousing-regression/lib/python3.10/site-packages/sklearn/linear_model/_coordinate_descent.py:695: ConvergenceWarning: Objective did not converge. You might want to increase the number of iterations, check the scale of the features or consider increasing regularisation. Duality gap: 5.052e+11, tolerance: 1.123e+09\n",
      "  model = cd_fast.enet_coordinate_descent(\n",
      "/Users/macbook/anaconda3/envs/ameshousing-regression/lib/python3.10/site-packages/sklearn/linear_model/_coordinate_descent.py:695: ConvergenceWarning: Objective did not converge. You might want to increase the number of iterations, check the scale of the features or consider increasing regularisation. Duality gap: 4.349e+11, tolerance: 1.104e+09\n",
      "  model = cd_fast.enet_coordinate_descent(\n",
      "/Users/macbook/anaconda3/envs/ameshousing-regression/lib/python3.10/site-packages/sklearn/linear_model/_coordinate_descent.py:695: ConvergenceWarning: Objective did not converge. You might want to increase the number of iterations, check the scale of the features or consider increasing regularisation. Duality gap: 5.137e+11, tolerance: 1.132e+09\n",
      "  model = cd_fast.enet_coordinate_descent(\n",
      "/Users/macbook/anaconda3/envs/ameshousing-regression/lib/python3.10/site-packages/sklearn/linear_model/_coordinate_descent.py:695: ConvergenceWarning: Objective did not converge. You might want to increase the number of iterations, check the scale of the features or consider increasing regularisation. Duality gap: 4.860e+11, tolerance: 1.134e+09\n",
      "  model = cd_fast.enet_coordinate_descent(\n",
      "/Users/macbook/anaconda3/envs/ameshousing-regression/lib/python3.10/site-packages/sklearn/linear_model/_coordinate_descent.py:695: ConvergenceWarning: Objective did not converge. You might want to increase the number of iterations, check the scale of the features or consider increasing regularisation. Duality gap: 5.052e+11, tolerance: 1.123e+09\n",
      "  model = cd_fast.enet_coordinate_descent(\n",
      "/Users/macbook/anaconda3/envs/ameshousing-regression/lib/python3.10/site-packages/sklearn/linear_model/_coordinate_descent.py:695: ConvergenceWarning: Objective did not converge. You might want to increase the number of iterations, check the scale of the features or consider increasing regularisation. Duality gap: 5.010e+11, tolerance: 1.082e+09\n",
      "  model = cd_fast.enet_coordinate_descent(\n",
      "/Users/macbook/anaconda3/envs/ameshousing-regression/lib/python3.10/site-packages/sklearn/linear_model/_coordinate_descent.py:695: ConvergenceWarning: Objective did not converge. You might want to increase the number of iterations, check the scale of the features or consider increasing regularisation. Duality gap: 4.349e+11, tolerance: 1.104e+09\n",
      "  model = cd_fast.enet_coordinate_descent(\n",
      "/Users/macbook/anaconda3/envs/ameshousing-regression/lib/python3.10/site-packages/sklearn/linear_model/_coordinate_descent.py:695: ConvergenceWarning: Objective did not converge. You might want to increase the number of iterations, check the scale of the features or consider increasing regularisation. Duality gap: 5.138e+11, tolerance: 1.132e+09\n",
      "  model = cd_fast.enet_coordinate_descent(\n",
      "/Users/macbook/anaconda3/envs/ameshousing-regression/lib/python3.10/site-packages/sklearn/linear_model/_coordinate_descent.py:695: ConvergenceWarning: Objective did not converge. You might want to increase the number of iterations, check the scale of the features or consider increasing regularisation. Duality gap: 4.860e+11, tolerance: 1.134e+09\n",
      "  model = cd_fast.enet_coordinate_descent(\n",
      "/Users/macbook/anaconda3/envs/ameshousing-regression/lib/python3.10/site-packages/sklearn/linear_model/_coordinate_descent.py:695: ConvergenceWarning: Objective did not converge. You might want to increase the number of iterations, check the scale of the features or consider increasing regularisation. Duality gap: 5.010e+11, tolerance: 1.082e+09\n",
      "  model = cd_fast.enet_coordinate_descent(\n",
      "/Users/macbook/anaconda3/envs/ameshousing-regression/lib/python3.10/site-packages/sklearn/linear_model/_coordinate_descent.py:695: ConvergenceWarning: Objective did not converge. You might want to increase the number of iterations, check the scale of the features or consider increasing regularisation. Duality gap: 5.053e+11, tolerance: 1.123e+09\n",
      "  model = cd_fast.enet_coordinate_descent(\n",
      "/Users/macbook/anaconda3/envs/ameshousing-regression/lib/python3.10/site-packages/sklearn/linear_model/_coordinate_descent.py:695: ConvergenceWarning: Objective did not converge. You might want to increase the number of iterations, check the scale of the features or consider increasing regularisation. Duality gap: 4.350e+11, tolerance: 1.104e+09\n",
      "  model = cd_fast.enet_coordinate_descent(\n",
      "/Users/macbook/anaconda3/envs/ameshousing-regression/lib/python3.10/site-packages/sklearn/linear_model/_coordinate_descent.py:695: ConvergenceWarning: Objective did not converge. You might want to increase the number of iterations, check the scale of the features or consider increasing regularisation. Duality gap: 5.137e+11, tolerance: 1.132e+09\n",
      "  model = cd_fast.enet_coordinate_descent(\n",
      "/Users/macbook/anaconda3/envs/ameshousing-regression/lib/python3.10/site-packages/sklearn/linear_model/_coordinate_descent.py:695: ConvergenceWarning: Objective did not converge. You might want to increase the number of iterations, check the scale of the features or consider increasing regularisation. Duality gap: 4.861e+11, tolerance: 1.134e+09\n",
      "  model = cd_fast.enet_coordinate_descent(\n",
      "/Users/macbook/anaconda3/envs/ameshousing-regression/lib/python3.10/site-packages/sklearn/linear_model/_coordinate_descent.py:695: ConvergenceWarning: Objective did not converge. You might want to increase the number of iterations, check the scale of the features or consider increasing regularisation. Duality gap: 5.010e+11, tolerance: 1.082e+09\n",
      "  model = cd_fast.enet_coordinate_descent(\n",
      "/Users/macbook/anaconda3/envs/ameshousing-regression/lib/python3.10/site-packages/sklearn/linear_model/_coordinate_descent.py:695: ConvergenceWarning: Objective did not converge. You might want to increase the number of iterations, check the scale of the features or consider increasing regularisation. Duality gap: 4.350e+11, tolerance: 1.104e+09\n",
      "  model = cd_fast.enet_coordinate_descent(\n",
      "/Users/macbook/anaconda3/envs/ameshousing-regression/lib/python3.10/site-packages/sklearn/linear_model/_coordinate_descent.py:695: ConvergenceWarning: Objective did not converge. You might want to increase the number of iterations, check the scale of the features or consider increasing regularisation. Duality gap: 5.052e+11, tolerance: 1.123e+09\n",
      "  model = cd_fast.enet_coordinate_descent(\n",
      "/Users/macbook/anaconda3/envs/ameshousing-regression/lib/python3.10/site-packages/sklearn/linear_model/_coordinate_descent.py:695: ConvergenceWarning: Objective did not converge. You might want to increase the number of iterations, check the scale of the features or consider increasing regularisation. Duality gap: 5.137e+11, tolerance: 1.132e+09\n",
      "  model = cd_fast.enet_coordinate_descent(\n",
      "/Users/macbook/anaconda3/envs/ameshousing-regression/lib/python3.10/site-packages/sklearn/linear_model/_coordinate_descent.py:695: ConvergenceWarning: Objective did not converge. You might want to increase the number of iterations, check the scale of the features or consider increasing regularisation. Duality gap: 5.010e+11, tolerance: 1.082e+09\n",
      "  model = cd_fast.enet_coordinate_descent(\n",
      "/Users/macbook/anaconda3/envs/ameshousing-regression/lib/python3.10/site-packages/sklearn/linear_model/_coordinate_descent.py:695: ConvergenceWarning: Objective did not converge. You might want to increase the number of iterations, check the scale of the features or consider increasing regularisation. Duality gap: 4.860e+11, tolerance: 1.134e+09\n",
      "  model = cd_fast.enet_coordinate_descent(\n",
      "/Users/macbook/anaconda3/envs/ameshousing-regression/lib/python3.10/site-packages/sklearn/linear_model/_coordinate_descent.py:695: ConvergenceWarning: Objective did not converge. You might want to increase the number of iterations, check the scale of the features or consider increasing regularisation. Duality gap: 5.052e+11, tolerance: 1.123e+09\n",
      "  model = cd_fast.enet_coordinate_descent(\n",
      "/Users/macbook/anaconda3/envs/ameshousing-regression/lib/python3.10/site-packages/sklearn/linear_model/_coordinate_descent.py:695: ConvergenceWarning: Objective did not converge. You might want to increase the number of iterations, check the scale of the features or consider increasing regularisation. Duality gap: 4.349e+11, tolerance: 1.104e+09\n",
      "  model = cd_fast.enet_coordinate_descent(\n",
      "/Users/macbook/anaconda3/envs/ameshousing-regression/lib/python3.10/site-packages/sklearn/linear_model/_coordinate_descent.py:695: ConvergenceWarning: Objective did not converge. You might want to increase the number of iterations, check the scale of the features or consider increasing regularisation. Duality gap: 5.138e+11, tolerance: 1.132e+09\n",
      "  model = cd_fast.enet_coordinate_descent(\n",
      "/Users/macbook/anaconda3/envs/ameshousing-regression/lib/python3.10/site-packages/sklearn/linear_model/_coordinate_descent.py:695: ConvergenceWarning: Objective did not converge. You might want to increase the number of iterations, check the scale of the features or consider increasing regularisation. Duality gap: 4.862e+11, tolerance: 1.134e+09\n",
      "  model = cd_fast.enet_coordinate_descent(\n",
      "/Users/macbook/anaconda3/envs/ameshousing-regression/lib/python3.10/site-packages/sklearn/linear_model/_coordinate_descent.py:695: ConvergenceWarning: Objective did not converge. You might want to increase the number of iterations, check the scale of the features or consider increasing regularisation. Duality gap: 5.010e+11, tolerance: 1.082e+09\n",
      "  model = cd_fast.enet_coordinate_descent(\n",
      "/Users/macbook/anaconda3/envs/ameshousing-regression/lib/python3.10/site-packages/sklearn/linear_model/_coordinate_descent.py:695: ConvergenceWarning: Objective did not converge. You might want to increase the number of iterations, check the scale of the features or consider increasing regularisation. Duality gap: 5.053e+11, tolerance: 1.123e+09\n",
      "  model = cd_fast.enet_coordinate_descent(\n",
      "/Users/macbook/anaconda3/envs/ameshousing-regression/lib/python3.10/site-packages/sklearn/linear_model/_coordinate_descent.py:695: ConvergenceWarning: Objective did not converge. You might want to increase the number of iterations, check the scale of the features or consider increasing regularisation. Duality gap: 4.350e+11, tolerance: 1.104e+09\n",
      "  model = cd_fast.enet_coordinate_descent(\n",
      "/Users/macbook/anaconda3/envs/ameshousing-regression/lib/python3.10/site-packages/sklearn/linear_model/_coordinate_descent.py:695: ConvergenceWarning: Objective did not converge. You might want to increase the number of iterations, check the scale of the features or consider increasing regularisation. Duality gap: 5.137e+11, tolerance: 1.132e+09\n",
      "  model = cd_fast.enet_coordinate_descent(\n",
      "/Users/macbook/anaconda3/envs/ameshousing-regression/lib/python3.10/site-packages/sklearn/linear_model/_coordinate_descent.py:695: ConvergenceWarning: Objective did not converge. You might want to increase the number of iterations, check the scale of the features or consider increasing regularisation. Duality gap: 4.860e+11, tolerance: 1.134e+09\n",
      "  model = cd_fast.enet_coordinate_descent(\n",
      "/Users/macbook/anaconda3/envs/ameshousing-regression/lib/python3.10/site-packages/sklearn/linear_model/_coordinate_descent.py:695: ConvergenceWarning: Objective did not converge. You might want to increase the number of iterations, check the scale of the features or consider increasing regularisation. Duality gap: 5.052e+11, tolerance: 1.123e+09\n",
      "  model = cd_fast.enet_coordinate_descent(\n",
      "/Users/macbook/anaconda3/envs/ameshousing-regression/lib/python3.10/site-packages/sklearn/linear_model/_coordinate_descent.py:695: ConvergenceWarning: Objective did not converge. You might want to increase the number of iterations, check the scale of the features or consider increasing regularisation. Duality gap: 4.349e+11, tolerance: 1.104e+09\n",
      "  model = cd_fast.enet_coordinate_descent(\n",
      "/Users/macbook/anaconda3/envs/ameshousing-regression/lib/python3.10/site-packages/sklearn/linear_model/_coordinate_descent.py:695: ConvergenceWarning: Objective did not converge. You might want to increase the number of iterations, check the scale of the features or consider increasing regularisation. Duality gap: 5.010e+11, tolerance: 1.082e+09\n",
      "  model = cd_fast.enet_coordinate_descent(\n",
      "/Users/macbook/anaconda3/envs/ameshousing-regression/lib/python3.10/site-packages/sklearn/linear_model/_coordinate_descent.py:695: ConvergenceWarning: Objective did not converge. You might want to increase the number of iterations, check the scale of the features or consider increasing regularisation. Duality gap: 5.138e+11, tolerance: 1.132e+09\n",
      "  model = cd_fast.enet_coordinate_descent(\n",
      "/Users/macbook/anaconda3/envs/ameshousing-regression/lib/python3.10/site-packages/sklearn/linear_model/_coordinate_descent.py:695: ConvergenceWarning: Objective did not converge. You might want to increase the number of iterations, check the scale of the features or consider increasing regularisation. Duality gap: 5.010e+11, tolerance: 1.082e+09\n",
      "  model = cd_fast.enet_coordinate_descent(\n",
      "/Users/macbook/anaconda3/envs/ameshousing-regression/lib/python3.10/site-packages/sklearn/linear_model/_coordinate_descent.py:695: ConvergenceWarning: Objective did not converge. You might want to increase the number of iterations, check the scale of the features or consider increasing regularisation. Duality gap: 5.053e+11, tolerance: 1.123e+09\n",
      "  model = cd_fast.enet_coordinate_descent(\n",
      "/Users/macbook/anaconda3/envs/ameshousing-regression/lib/python3.10/site-packages/sklearn/linear_model/_coordinate_descent.py:695: ConvergenceWarning: Objective did not converge. You might want to increase the number of iterations, check the scale of the features or consider increasing regularisation. Duality gap: 4.860e+11, tolerance: 1.134e+09\n",
      "  model = cd_fast.enet_coordinate_descent(\n",
      "/Users/macbook/anaconda3/envs/ameshousing-regression/lib/python3.10/site-packages/sklearn/linear_model/_coordinate_descent.py:695: ConvergenceWarning: Objective did not converge. You might want to increase the number of iterations, check the scale of the features or consider increasing regularisation. Duality gap: 4.350e+11, tolerance: 1.104e+09\n",
      "  model = cd_fast.enet_coordinate_descent(\n",
      "/Users/macbook/anaconda3/envs/ameshousing-regression/lib/python3.10/site-packages/sklearn/linear_model/_coordinate_descent.py:695: ConvergenceWarning: Objective did not converge. You might want to increase the number of iterations, check the scale of the features or consider increasing regularisation. Duality gap: 5.137e+11, tolerance: 1.132e+09\n",
      "  model = cd_fast.enet_coordinate_descent(\n",
      "/Users/macbook/anaconda3/envs/ameshousing-regression/lib/python3.10/site-packages/sklearn/linear_model/_coordinate_descent.py:695: ConvergenceWarning: Objective did not converge. You might want to increase the number of iterations, check the scale of the features or consider increasing regularisation. Duality gap: 5.052e+11, tolerance: 1.123e+09\n",
      "  model = cd_fast.enet_coordinate_descent(\n",
      "/Users/macbook/anaconda3/envs/ameshousing-regression/lib/python3.10/site-packages/sklearn/linear_model/_coordinate_descent.py:695: ConvergenceWarning: Objective did not converge. You might want to increase the number of iterations, check the scale of the features or consider increasing regularisation. Duality gap: 4.860e+11, tolerance: 1.134e+09\n",
      "  model = cd_fast.enet_coordinate_descent(\n",
      "/Users/macbook/anaconda3/envs/ameshousing-regression/lib/python3.10/site-packages/sklearn/linear_model/_coordinate_descent.py:695: ConvergenceWarning: Objective did not converge. You might want to increase the number of iterations, check the scale of the features or consider increasing regularisation. Duality gap: 5.010e+11, tolerance: 1.082e+09\n",
      "  model = cd_fast.enet_coordinate_descent(\n",
      "/Users/macbook/anaconda3/envs/ameshousing-regression/lib/python3.10/site-packages/sklearn/linear_model/_coordinate_descent.py:695: ConvergenceWarning: Objective did not converge. You might want to increase the number of iterations, check the scale of the features or consider increasing regularisation. Duality gap: 4.349e+11, tolerance: 1.104e+09\n",
      "  model = cd_fast.enet_coordinate_descent(\n",
      "/Users/macbook/anaconda3/envs/ameshousing-regression/lib/python3.10/site-packages/sklearn/linear_model/_coordinate_descent.py:695: ConvergenceWarning: Objective did not converge. You might want to increase the number of iterations, check the scale of the features or consider increasing regularisation. Duality gap: 5.137e+11, tolerance: 1.132e+09\n",
      "  model = cd_fast.enet_coordinate_descent(\n",
      "/Users/macbook/anaconda3/envs/ameshousing-regression/lib/python3.10/site-packages/sklearn/linear_model/_coordinate_descent.py:695: ConvergenceWarning: Objective did not converge. You might want to increase the number of iterations, check the scale of the features or consider increasing regularisation. Duality gap: 4.860e+11, tolerance: 1.134e+09\n",
      "  model = cd_fast.enet_coordinate_descent(\n",
      "/Users/macbook/anaconda3/envs/ameshousing-regression/lib/python3.10/site-packages/sklearn/linear_model/_coordinate_descent.py:695: ConvergenceWarning: Objective did not converge. You might want to increase the number of iterations, check the scale of the features or consider increasing regularisation. Duality gap: 5.052e+11, tolerance: 1.123e+09\n",
      "  model = cd_fast.enet_coordinate_descent(\n",
      "/Users/macbook/anaconda3/envs/ameshousing-regression/lib/python3.10/site-packages/sklearn/linear_model/_coordinate_descent.py:695: ConvergenceWarning: Objective did not converge. You might want to increase the number of iterations, check the scale of the features or consider increasing regularisation. Duality gap: 5.010e+11, tolerance: 1.082e+09\n",
      "  model = cd_fast.enet_coordinate_descent(\n",
      "/Users/macbook/anaconda3/envs/ameshousing-regression/lib/python3.10/site-packages/sklearn/linear_model/_coordinate_descent.py:695: ConvergenceWarning: Objective did not converge. You might want to increase the number of iterations, check the scale of the features or consider increasing regularisation. Duality gap: 4.349e+11, tolerance: 1.104e+09\n",
      "  model = cd_fast.enet_coordinate_descent(\n",
      "/Users/macbook/anaconda3/envs/ameshousing-regression/lib/python3.10/site-packages/sklearn/linear_model/_coordinate_descent.py:695: ConvergenceWarning: Objective did not converge. You might want to increase the number of iterations, check the scale of the features or consider increasing regularisation. Duality gap: 5.137e+11, tolerance: 1.132e+09\n",
      "  model = cd_fast.enet_coordinate_descent(\n",
      "/Users/macbook/anaconda3/envs/ameshousing-regression/lib/python3.10/site-packages/sklearn/linear_model/_coordinate_descent.py:695: ConvergenceWarning: Objective did not converge. You might want to increase the number of iterations, check the scale of the features or consider increasing regularisation. Duality gap: 4.860e+11, tolerance: 1.134e+09\n",
      "  model = cd_fast.enet_coordinate_descent(\n",
      "/Users/macbook/anaconda3/envs/ameshousing-regression/lib/python3.10/site-packages/sklearn/linear_model/_coordinate_descent.py:695: ConvergenceWarning: Objective did not converge. You might want to increase the number of iterations, check the scale of the features or consider increasing regularisation. Duality gap: 5.010e+11, tolerance: 1.082e+09\n",
      "  model = cd_fast.enet_coordinate_descent(\n",
      "/Users/macbook/anaconda3/envs/ameshousing-regression/lib/python3.10/site-packages/sklearn/linear_model/_coordinate_descent.py:695: ConvergenceWarning: Objective did not converge. You might want to increase the number of iterations, check the scale of the features or consider increasing regularisation. Duality gap: 5.053e+11, tolerance: 1.123e+09\n",
      "  model = cd_fast.enet_coordinate_descent(\n",
      "/Users/macbook/anaconda3/envs/ameshousing-regression/lib/python3.10/site-packages/sklearn/linear_model/_coordinate_descent.py:695: ConvergenceWarning: Objective did not converge. You might want to increase the number of iterations, check the scale of the features or consider increasing regularisation. Duality gap: 4.350e+11, tolerance: 1.104e+09\n",
      "  model = cd_fast.enet_coordinate_descent(\n",
      "/Users/macbook/anaconda3/envs/ameshousing-regression/lib/python3.10/site-packages/sklearn/linear_model/_coordinate_descent.py:695: ConvergenceWarning: Objective did not converge. You might want to increase the number of iterations, check the scale of the features or consider increasing regularisation. Duality gap: 5.137e+11, tolerance: 1.132e+09\n",
      "  model = cd_fast.enet_coordinate_descent(\n",
      "/Users/macbook/anaconda3/envs/ameshousing-regression/lib/python3.10/site-packages/sklearn/linear_model/_coordinate_descent.py:695: ConvergenceWarning: Objective did not converge. You might want to increase the number of iterations, check the scale of the features or consider increasing regularisation. Duality gap: 5.052e+11, tolerance: 1.123e+09\n",
      "  model = cd_fast.enet_coordinate_descent(\n",
      "/Users/macbook/anaconda3/envs/ameshousing-regression/lib/python3.10/site-packages/sklearn/linear_model/_coordinate_descent.py:695: ConvergenceWarning: Objective did not converge. You might want to increase the number of iterations, check the scale of the features or consider increasing regularisation. Duality gap: 4.349e+11, tolerance: 1.104e+09\n",
      "  model = cd_fast.enet_coordinate_descent(\n",
      "/Users/macbook/anaconda3/envs/ameshousing-regression/lib/python3.10/site-packages/sklearn/linear_model/_coordinate_descent.py:695: ConvergenceWarning: Objective did not converge. You might want to increase the number of iterations, check the scale of the features or consider increasing regularisation. Duality gap: 5.010e+11, tolerance: 1.082e+09\n",
      "  model = cd_fast.enet_coordinate_descent(\n",
      "/Users/macbook/anaconda3/envs/ameshousing-regression/lib/python3.10/site-packages/sklearn/linear_model/_coordinate_descent.py:695: ConvergenceWarning: Objective did not converge. You might want to increase the number of iterations, check the scale of the features or consider increasing regularisation. Duality gap: 4.860e+11, tolerance: 1.134e+09\n",
      "  model = cd_fast.enet_coordinate_descent(\n",
      "/Users/macbook/anaconda3/envs/ameshousing-regression/lib/python3.10/site-packages/sklearn/linear_model/_coordinate_descent.py:695: ConvergenceWarning: Objective did not converge. You might want to increase the number of iterations, check the scale of the features or consider increasing regularisation. Duality gap: 5.137e+11, tolerance: 1.132e+09\n",
      "  model = cd_fast.enet_coordinate_descent(\n",
      "/Users/macbook/anaconda3/envs/ameshousing-regression/lib/python3.10/site-packages/sklearn/linear_model/_coordinate_descent.py:695: ConvergenceWarning: Objective did not converge. You might want to increase the number of iterations, check the scale of the features or consider increasing regularisation. Duality gap: 5.010e+11, tolerance: 1.082e+09\n",
      "  model = cd_fast.enet_coordinate_descent(\n",
      "/Users/macbook/anaconda3/envs/ameshousing-regression/lib/python3.10/site-packages/sklearn/linear_model/_coordinate_descent.py:695: ConvergenceWarning: Objective did not converge. You might want to increase the number of iterations, check the scale of the features or consider increasing regularisation. Duality gap: 5.052e+11, tolerance: 1.123e+09\n",
      "  model = cd_fast.enet_coordinate_descent(\n",
      "/Users/macbook/anaconda3/envs/ameshousing-regression/lib/python3.10/site-packages/sklearn/linear_model/_coordinate_descent.py:695: ConvergenceWarning: Objective did not converge. You might want to increase the number of iterations, check the scale of the features or consider increasing regularisation. Duality gap: 4.860e+11, tolerance: 1.134e+09\n",
      "  model = cd_fast.enet_coordinate_descent(\n",
      "/Users/macbook/anaconda3/envs/ameshousing-regression/lib/python3.10/site-packages/sklearn/linear_model/_coordinate_descent.py:695: ConvergenceWarning: Objective did not converge. You might want to increase the number of iterations, check the scale of the features or consider increasing regularisation. Duality gap: 4.349e+11, tolerance: 1.104e+09\n",
      "  model = cd_fast.enet_coordinate_descent(\n",
      "/Users/macbook/anaconda3/envs/ameshousing-regression/lib/python3.10/site-packages/sklearn/linear_model/_coordinate_descent.py:695: ConvergenceWarning: Objective did not converge. You might want to increase the number of iterations, check the scale of the features or consider increasing regularisation. Duality gap: 5.137e+11, tolerance: 1.132e+09\n",
      "  model = cd_fast.enet_coordinate_descent(\n",
      "/Users/macbook/anaconda3/envs/ameshousing-regression/lib/python3.10/site-packages/sklearn/linear_model/_coordinate_descent.py:695: ConvergenceWarning: Objective did not converge. You might want to increase the number of iterations, check the scale of the features or consider increasing regularisation. Duality gap: 5.052e+11, tolerance: 1.123e+09\n",
      "  model = cd_fast.enet_coordinate_descent(\n",
      "/Users/macbook/anaconda3/envs/ameshousing-regression/lib/python3.10/site-packages/sklearn/linear_model/_coordinate_descent.py:695: ConvergenceWarning: Objective did not converge. You might want to increase the number of iterations, check the scale of the features or consider increasing regularisation. Duality gap: 5.010e+11, tolerance: 1.082e+09\n",
      "  model = cd_fast.enet_coordinate_descent(\n",
      "/Users/macbook/anaconda3/envs/ameshousing-regression/lib/python3.10/site-packages/sklearn/linear_model/_coordinate_descent.py:695: ConvergenceWarning: Objective did not converge. You might want to increase the number of iterations, check the scale of the features or consider increasing regularisation. Duality gap: 4.873e+11, tolerance: 1.134e+09\n",
      "  model = cd_fast.enet_coordinate_descent(\n",
      "/Users/macbook/anaconda3/envs/ameshousing-regression/lib/python3.10/site-packages/sklearn/linear_model/_coordinate_descent.py:695: ConvergenceWarning: Objective did not converge. You might want to increase the number of iterations, check the scale of the features or consider increasing regularisation. Duality gap: 4.349e+11, tolerance: 1.104e+09\n",
      "  model = cd_fast.enet_coordinate_descent(\n",
      "/Users/macbook/anaconda3/envs/ameshousing-regression/lib/python3.10/site-packages/sklearn/linear_model/_coordinate_descent.py:695: ConvergenceWarning: Objective did not converge. You might want to increase the number of iterations, check the scale of the features or consider increasing regularisation. Duality gap: 5.137e+11, tolerance: 1.132e+09\n",
      "  model = cd_fast.enet_coordinate_descent(\n",
      "/Users/macbook/anaconda3/envs/ameshousing-regression/lib/python3.10/site-packages/sklearn/linear_model/_coordinate_descent.py:695: ConvergenceWarning: Objective did not converge. You might want to increase the number of iterations, check the scale of the features or consider increasing regularisation. Duality gap: 4.860e+11, tolerance: 1.134e+09\n",
      "  model = cd_fast.enet_coordinate_descent(\n",
      "/Users/macbook/anaconda3/envs/ameshousing-regression/lib/python3.10/site-packages/sklearn/linear_model/_coordinate_descent.py:695: ConvergenceWarning: Objective did not converge. You might want to increase the number of iterations, check the scale of the features or consider increasing regularisation. Duality gap: 5.010e+11, tolerance: 1.082e+09\n",
      "  model = cd_fast.enet_coordinate_descent(\n",
      "/Users/macbook/anaconda3/envs/ameshousing-regression/lib/python3.10/site-packages/sklearn/linear_model/_coordinate_descent.py:695: ConvergenceWarning: Objective did not converge. You might want to increase the number of iterations, check the scale of the features or consider increasing regularisation. Duality gap: 5.052e+11, tolerance: 1.123e+09\n",
      "  model = cd_fast.enet_coordinate_descent(\n",
      "/Users/macbook/anaconda3/envs/ameshousing-regression/lib/python3.10/site-packages/sklearn/linear_model/_coordinate_descent.py:695: ConvergenceWarning: Objective did not converge. You might want to increase the number of iterations, check the scale of the features or consider increasing regularisation. Duality gap: 4.349e+11, tolerance: 1.104e+09\n",
      "  model = cd_fast.enet_coordinate_descent(\n",
      "/Users/macbook/anaconda3/envs/ameshousing-regression/lib/python3.10/site-packages/sklearn/linear_model/_coordinate_descent.py:695: ConvergenceWarning: Objective did not converge. You might want to increase the number of iterations, check the scale of the features or consider increasing regularisation. Duality gap: 5.137e+11, tolerance: 1.132e+09\n",
      "  model = cd_fast.enet_coordinate_descent(\n",
      "/Users/macbook/anaconda3/envs/ameshousing-regression/lib/python3.10/site-packages/sklearn/linear_model/_coordinate_descent.py:695: ConvergenceWarning: Objective did not converge. You might want to increase the number of iterations, check the scale of the features or consider increasing regularisation. Duality gap: 4.860e+11, tolerance: 1.134e+09\n",
      "  model = cd_fast.enet_coordinate_descent(\n",
      "/Users/macbook/anaconda3/envs/ameshousing-regression/lib/python3.10/site-packages/sklearn/linear_model/_coordinate_descent.py:695: ConvergenceWarning: Objective did not converge. You might want to increase the number of iterations, check the scale of the features or consider increasing regularisation. Duality gap: 5.052e+11, tolerance: 1.123e+09\n",
      "  model = cd_fast.enet_coordinate_descent(\n",
      "/Users/macbook/anaconda3/envs/ameshousing-regression/lib/python3.10/site-packages/sklearn/linear_model/_coordinate_descent.py:695: ConvergenceWarning: Objective did not converge. You might want to increase the number of iterations, check the scale of the features or consider increasing regularisation. Duality gap: 5.010e+11, tolerance: 1.082e+09\n",
      "  model = cd_fast.enet_coordinate_descent(\n",
      "/Users/macbook/anaconda3/envs/ameshousing-regression/lib/python3.10/site-packages/sklearn/linear_model/_coordinate_descent.py:695: ConvergenceWarning: Objective did not converge. You might want to increase the number of iterations, check the scale of the features or consider increasing regularisation. Duality gap: 4.349e+11, tolerance: 1.104e+09\n",
      "  model = cd_fast.enet_coordinate_descent(\n",
      "/Users/macbook/anaconda3/envs/ameshousing-regression/lib/python3.10/site-packages/sklearn/linear_model/_coordinate_descent.py:695: ConvergenceWarning: Objective did not converge. You might want to increase the number of iterations, check the scale of the features or consider increasing regularisation. Duality gap: 5.137e+11, tolerance: 1.132e+09\n",
      "  model = cd_fast.enet_coordinate_descent(\n",
      "/Users/macbook/anaconda3/envs/ameshousing-regression/lib/python3.10/site-packages/sklearn/linear_model/_coordinate_descent.py:695: ConvergenceWarning: Objective did not converge. You might want to increase the number of iterations, check the scale of the features or consider increasing regularisation. Duality gap: 5.052e+11, tolerance: 1.123e+09\n",
      "  model = cd_fast.enet_coordinate_descent(\n",
      "/Users/macbook/anaconda3/envs/ameshousing-regression/lib/python3.10/site-packages/sklearn/linear_model/_coordinate_descent.py:695: ConvergenceWarning: Objective did not converge. You might want to increase the number of iterations, check the scale of the features or consider increasing regularisation. Duality gap: 4.860e+11, tolerance: 1.134e+09\n",
      "  model = cd_fast.enet_coordinate_descent(\n",
      "/Users/macbook/anaconda3/envs/ameshousing-regression/lib/python3.10/site-packages/sklearn/linear_model/_coordinate_descent.py:695: ConvergenceWarning: Objective did not converge. You might want to increase the number of iterations, check the scale of the features or consider increasing regularisation. Duality gap: 5.010e+11, tolerance: 1.082e+09\n",
      "  model = cd_fast.enet_coordinate_descent(\n",
      "/Users/macbook/anaconda3/envs/ameshousing-regression/lib/python3.10/site-packages/sklearn/linear_model/_coordinate_descent.py:695: ConvergenceWarning: Objective did not converge. You might want to increase the number of iterations, check the scale of the features or consider increasing regularisation. Duality gap: 4.349e+11, tolerance: 1.104e+09\n",
      "  model = cd_fast.enet_coordinate_descent(\n",
      "/Users/macbook/anaconda3/envs/ameshousing-regression/lib/python3.10/site-packages/sklearn/linear_model/_coordinate_descent.py:695: ConvergenceWarning: Objective did not converge. You might want to increase the number of iterations, check the scale of the features or consider increasing regularisation. Duality gap: 6.431e+11, tolerance: 1.394e+09\n",
      "  model = cd_fast.enet_coordinate_descent(\n"
     ]
    },
    {
     "name": "stdout",
     "output_type": "stream",
     "text": [
      "Best params for Lasso: OrderedDict([('regressor__alpha', 0.009353808650485667)])\n",
      "BayesSearchCV for DecisionTree...\n"
     ]
    },
    {
     "name": "stderr",
     "output_type": "stream",
     "text": [
      "/Users/macbook/anaconda3/envs/ameshousing-regression/lib/python3.10/site-packages/skopt/optimizer/optimizer.py:517: UserWarning: The objective has been evaluated at point [np.int64(9), np.int64(10)] before, using random point [np.int64(6), np.int64(4)]\n",
      "  warnings.warn(\n",
      "/Users/macbook/anaconda3/envs/ameshousing-regression/lib/python3.10/site-packages/skopt/optimizer/optimizer.py:517: UserWarning: The objective has been evaluated at point [np.int64(8), np.int64(10)] before, using random point [np.int64(14), np.int64(8)]\n",
      "  warnings.warn(\n",
      "/Users/macbook/anaconda3/envs/ameshousing-regression/lib/python3.10/site-packages/skopt/optimizer/optimizer.py:517: UserWarning: The objective has been evaluated at point [np.int64(8), np.int64(10)] before, using random point [np.int64(6), np.int64(6)]\n",
      "  warnings.warn(\n",
      "/Users/macbook/anaconda3/envs/ameshousing-regression/lib/python3.10/site-packages/skopt/optimizer/optimizer.py:517: UserWarning: The objective has been evaluated at point [np.int64(7), np.int64(10)] before, using random point [np.int64(10), np.int64(10)]\n",
      "  warnings.warn(\n",
      "/Users/macbook/anaconda3/envs/ameshousing-regression/lib/python3.10/site-packages/skopt/optimizer/optimizer.py:517: UserWarning: The objective has been evaluated at point [np.int64(7), np.int64(10)] before, using random point [np.int64(8), np.int64(6)]\n",
      "  warnings.warn(\n",
      "/Users/macbook/anaconda3/envs/ameshousing-regression/lib/python3.10/site-packages/skopt/optimizer/optimizer.py:517: UserWarning: The objective has been evaluated at point [np.int64(7), np.int64(10)] before, using random point [np.int64(15), np.int64(5)]\n",
      "  warnings.warn(\n",
      "/Users/macbook/anaconda3/envs/ameshousing-regression/lib/python3.10/site-packages/skopt/optimizer/optimizer.py:517: UserWarning: The objective has been evaluated at point [np.int64(7), np.int64(10)] before, using random point [np.int64(17), np.int64(7)]\n",
      "  warnings.warn(\n"
     ]
    },
    {
     "name": "stdout",
     "output_type": "stream",
     "text": [
      "Best params for DecisionTree: OrderedDict([('regressor__max_depth', 8), ('regressor__min_samples_split', 9)])\n",
      "BayesSearchCV for RandomForest...\n"
     ]
    },
    {
     "name": "stderr",
     "output_type": "stream",
     "text": [
      "/Users/macbook/anaconda3/envs/ameshousing-regression/lib/python3.10/site-packages/skopt/optimizer/optimizer.py:517: UserWarning: The objective has been evaluated at point [np.int64(20), np.int64(100)] before, using random point [np.int64(6), np.int64(112)]\n",
      "  warnings.warn(\n",
      "/Users/macbook/anaconda3/envs/ameshousing-regression/lib/python3.10/site-packages/skopt/optimizer/optimizer.py:517: UserWarning: The objective has been evaluated at point [np.int64(20), np.int64(100)] before, using random point [np.int64(10), np.int64(144)]\n",
      "  warnings.warn(\n",
      "/Users/macbook/anaconda3/envs/ameshousing-regression/lib/python3.10/site-packages/skopt/optimizer/optimizer.py:517: UserWarning: The objective has been evaluated at point [np.int64(20), np.int64(100)] before, using random point [np.int64(10), np.int64(156)]\n",
      "  warnings.warn(\n",
      "/Users/macbook/anaconda3/envs/ameshousing-regression/lib/python3.10/site-packages/skopt/optimizer/optimizer.py:517: UserWarning: The objective has been evaluated at point [np.int64(20), np.int64(100)] before, using random point [np.int64(5), np.int64(110)]\n",
      "  warnings.warn(\n",
      "/Users/macbook/anaconda3/envs/ameshousing-regression/lib/python3.10/site-packages/skopt/optimizer/optimizer.py:517: UserWarning: The objective has been evaluated at point [np.int64(20), np.int64(100)] before, using random point [np.int64(17), np.int64(247)]\n",
      "  warnings.warn(\n",
      "/Users/macbook/anaconda3/envs/ameshousing-regression/lib/python3.10/site-packages/skopt/optimizer/optimizer.py:517: UserWarning: The objective has been evaluated at point [np.int64(20), np.int64(100)] before, using random point [np.int64(11), np.int64(115)]\n",
      "  warnings.warn(\n",
      "/Users/macbook/anaconda3/envs/ameshousing-regression/lib/python3.10/site-packages/skopt/optimizer/optimizer.py:517: UserWarning: The objective has been evaluated at point [np.int64(20), np.int64(100)] before, using random point [np.int64(17), np.int64(224)]\n",
      "  warnings.warn(\n",
      "/Users/macbook/anaconda3/envs/ameshousing-regression/lib/python3.10/site-packages/skopt/optimizer/optimizer.py:517: UserWarning: The objective has been evaluated at point [np.int64(20), np.int64(100)] before, using random point [np.int64(18), np.int64(104)]\n",
      "  warnings.warn(\n",
      "/Users/macbook/anaconda3/envs/ameshousing-regression/lib/python3.10/site-packages/skopt/optimizer/optimizer.py:517: UserWarning: The objective has been evaluated at point [np.int64(20), np.int64(300)] before, using random point [np.int64(11), np.int64(260)]\n",
      "  warnings.warn(\n",
      "/Users/macbook/anaconda3/envs/ameshousing-regression/lib/python3.10/site-packages/skopt/optimizer/optimizer.py:517: UserWarning: The objective has been evaluated at point [np.int64(20), np.int64(300)] before, using random point [np.int64(11), np.int64(162)]\n",
      "  warnings.warn(\n",
      "/Users/macbook/anaconda3/envs/ameshousing-regression/lib/python3.10/site-packages/skopt/optimizer/optimizer.py:517: UserWarning: The objective has been evaluated at point [np.int64(20), np.int64(300)] before, using random point [np.int64(12), np.int64(290)]\n",
      "  warnings.warn(\n",
      "/Users/macbook/anaconda3/envs/ameshousing-regression/lib/python3.10/site-packages/skopt/optimizer/optimizer.py:517: UserWarning: The objective has been evaluated at point [np.int64(20), np.int64(300)] before, using random point [np.int64(6), np.int64(221)]\n",
      "  warnings.warn(\n",
      "/Users/macbook/anaconda3/envs/ameshousing-regression/lib/python3.10/site-packages/skopt/optimizer/optimizer.py:517: UserWarning: The objective has been evaluated at point [np.int64(20), np.int64(300)] before, using random point [np.int64(5), np.int64(210)]\n",
      "  warnings.warn(\n",
      "/Users/macbook/anaconda3/envs/ameshousing-regression/lib/python3.10/site-packages/skopt/optimizer/optimizer.py:517: UserWarning: The objective has been evaluated at point [np.int64(20), np.int64(300)] before, using random point [np.int64(8), np.int64(129)]\n",
      "  warnings.warn(\n",
      "/Users/macbook/anaconda3/envs/ameshousing-regression/lib/python3.10/site-packages/skopt/optimizer/optimizer.py:517: UserWarning: The objective has been evaluated at point [np.int64(20), np.int64(300)] before, using random point [np.int64(7), np.int64(211)]\n",
      "  warnings.warn(\n",
      "/Users/macbook/anaconda3/envs/ameshousing-regression/lib/python3.10/site-packages/skopt/optimizer/optimizer.py:517: UserWarning: The objective has been evaluated at point [np.int64(20), np.int64(300)] before, using random point [np.int64(16), np.int64(234)]\n",
      "  warnings.warn(\n"
     ]
    },
    {
     "name": "stdout",
     "output_type": "stream",
     "text": [
      "Best params for RandomForest: OrderedDict([('regressor__max_depth', 17), ('regressor__n_estimators', 247)])\n",
      "BayesSearchCV for GradientBoosting...\n",
      "Best params for GradientBoosting: OrderedDict([('regressor__learning_rate', 0.09929625087254616), ('regressor__max_depth', 3), ('regressor__n_estimators', 300)])\n",
      "BayesSearchCV for XGBoost...\n",
      "Best params for XGBoost: OrderedDict([('regressor__learning_rate', 0.12444032536888422), ('regressor__max_depth', 3), ('regressor__n_estimators', 300)])\n",
      "BayesSearchCV for LightGBM...\n",
      "[LightGBM] [Info] Auto-choosing row-wise multi-threading, the overhead of testing was 0.012786 seconds.\n",
      "You can set `force_row_wise=true` to remove the overhead.\n",
      "And if memory is not enough, you can set `force_col_wise=true`.\n",
      "[LightGBM] [Info] Total Bins 3640\n",
      "[LightGBM] [Info] Number of data points in the train set: 1875, number of used features: 158\n",
      "[LightGBM] [Info] Auto-choosing row-wise multi-threading, the overhead of testing was 0.020323 seconds.\n",
      "You can set `force_row_wise=true` to remove the overhead.\n",
      "And if memory is not enough, you can set `force_col_wise=true`.\n",
      "[LightGBM] [Info] Total Bins 3627\n",
      "[LightGBM] [Info] Start training from score 179301.145067\n",
      "[LightGBM] [Info] Auto-choosing col-wise multi-threading, the overhead of testing was 0.012762 seconds.\n",
      "You can set `force_col_wise=true` to remove the overhead.\n",
      "[LightGBM] [Info] Total Bins 3630\n",
      "[LightGBM] [Info] Auto-choosing col-wise multi-threading, the overhead of testing was 0.014151 seconds.\n",
      "You can set `force_col_wise=true` to remove the overhead.\n",
      "[LightGBM] [Info] Number of data points in the train set: 1876, number of used features: 154\n",
      "[LightGBM] [Info] Total Bins 3619\n",
      "[LightGBM] [Info] Number of data points in the train set: 1875, number of used features: 154\n",
      "[LightGBM] [Info] Start training from score 178235.925373\n",
      "[LightGBM] [Info] Number of data points in the train set: 1875, number of used features: 156\n",
      "[LightGBM] [Info] Start training from score 178974.889600\n",
      "[LightGBM] [Info] Start training from score 178183.648000\n",
      "[LightGBM] [Info] Auto-choosing row-wise multi-threading, the overhead of testing was 0.013136 seconds.\n",
      "You can set `force_row_wise=true` to remove the overhead.\n",
      "And if memory is not enough, you can set `force_col_wise=true`.\n",
      "[LightGBM] [Info] Total Bins 3638\n",
      "[LightGBM] [Info] Number of data points in the train set: 1875, number of used features: 158\n",
      "[LightGBM] [Info] Start training from score 178215.615467\n"
     ]
    },
    {
     "name": "stderr",
     "output_type": "stream",
     "text": [
      "/Users/macbook/anaconda3/envs/ameshousing-regression/lib/python3.10/site-packages/sklearn/utils/validation.py:2739: UserWarning: X does not have valid feature names, but LGBMRegressor was fitted with feature names\n",
      "  warnings.warn(\n",
      "/Users/macbook/anaconda3/envs/ameshousing-regression/lib/python3.10/site-packages/sklearn/utils/validation.py:2739: UserWarning: X does not have valid feature names, but LGBMRegressor was fitted with feature names\n",
      "  warnings.warn(\n",
      "/Users/macbook/anaconda3/envs/ameshousing-regression/lib/python3.10/site-packages/sklearn/utils/validation.py:2739: UserWarning: X does not have valid feature names, but LGBMRegressor was fitted with feature names\n",
      "  warnings.warn(\n",
      "/Users/macbook/anaconda3/envs/ameshousing-regression/lib/python3.10/site-packages/sklearn/utils/validation.py:2739: UserWarning: X does not have valid feature names, but LGBMRegressor was fitted with feature names\n",
      "  warnings.warn(\n",
      "/Users/macbook/anaconda3/envs/ameshousing-regression/lib/python3.10/site-packages/sklearn/utils/validation.py:2739: UserWarning: X does not have valid feature names, but LGBMRegressor was fitted with feature names\n",
      "  warnings.warn(\n"
     ]
    },
    {
     "name": "stdout",
     "output_type": "stream",
     "text": [
      "[LightGBM] [Info] Auto-choosing row-wise multi-threading, the overhead of testing was 0.004903 seconds.\n",
      "You can set `force_row_wise=true` to remove the overhead.\n",
      "And if memory is not enough, you can set `force_col_wise=true`.\n",
      "[LightGBM] [Info] Total Bins 3619\n",
      "[LightGBM] [Info] Number of data points in the train set: 1875, number of used features: 156\n",
      "[LightGBM] [Info] Start training from score 178183.648000\n",
      "[LightGBM] [Info] Auto-choosing row-wise multi-threading, the overhead of testing was 0.007450 seconds.\n",
      "You can set `force_row_wise=true` to remove the overhead.\n",
      "And if memory is not enough, you can set `force_col_wise=true`.\n",
      "[LightGBM] [Info] Total Bins 3630\n",
      "[LightGBM] [Info] Number of data points in the train set: 1875, number of used features: 154\n",
      "[LightGBM] [Info] Start training from score 178974.889600\n",
      "[LightGBM] [Info] Auto-choosing row-wise multi-threading, the overhead of testing was 0.002175 seconds.\n",
      "You can set `force_row_wise=true` to remove the overhead.\n",
      "And if memory is not enough, you can set `force_col_wise=true`.\n",
      "[LightGBM] [Info] Total Bins 3638\n",
      "[LightGBM] [Info] Number of data points in the train set: 1875, number of used features: 158\n",
      "[LightGBM] [Info] Start training from score 178215.615467\n",
      "[LightGBM] [Info] Auto-choosing row-wise multi-threading, the overhead of testing was 0.004334 seconds.\n",
      "You can set `force_row_wise=true` to remove the overhead.\n",
      "And if memory is not enough, you can set `force_col_wise=true`.\n",
      "[LightGBM] [Info] Total Bins 3627\n",
      "[LightGBM] [Info] Number of data points in the train set: 1876, number of used features: 154\n",
      "[LightGBM] [Info] Start training from score 178235.925373\n",
      "[LightGBM] [Info] Auto-choosing row-wise multi-threading, the overhead of testing was 0.003334 seconds.\n",
      "You can set `force_row_wise=true` to remove the overhead.\n",
      "And if memory is not enough, you can set `force_col_wise=true`.\n",
      "[LightGBM] [Info] Total Bins 3640\n",
      "[LightGBM] [Info] Number of data points in the train set: 1875, number of used features: 158\n",
      "[LightGBM] [Info] Start training from score 179301.145067\n"
     ]
    },
    {
     "name": "stderr",
     "output_type": "stream",
     "text": [
      "/Users/macbook/anaconda3/envs/ameshousing-regression/lib/python3.10/site-packages/sklearn/utils/validation.py:2739: UserWarning: X does not have valid feature names, but LGBMRegressor was fitted with feature names\n",
      "  warnings.warn(\n",
      "/Users/macbook/anaconda3/envs/ameshousing-regression/lib/python3.10/site-packages/sklearn/utils/validation.py:2739: UserWarning: X does not have valid feature names, but LGBMRegressor was fitted with feature names\n",
      "  warnings.warn(\n",
      "/Users/macbook/anaconda3/envs/ameshousing-regression/lib/python3.10/site-packages/sklearn/utils/validation.py:2739: UserWarning: X does not have valid feature names, but LGBMRegressor was fitted with feature names\n",
      "  warnings.warn(\n",
      "/Users/macbook/anaconda3/envs/ameshousing-regression/lib/python3.10/site-packages/sklearn/utils/validation.py:2739: UserWarning: X does not have valid feature names, but LGBMRegressor was fitted with feature names\n",
      "  warnings.warn(\n",
      "/Users/macbook/anaconda3/envs/ameshousing-regression/lib/python3.10/site-packages/sklearn/utils/validation.py:2739: UserWarning: X does not have valid feature names, but LGBMRegressor was fitted with feature names\n",
      "  warnings.warn(\n"
     ]
    },
    {
     "name": "stdout",
     "output_type": "stream",
     "text": [
      "[LightGBM] [Info] Auto-choosing row-wise multi-threading, the overhead of testing was 0.004319 seconds.\n",
      "You can set `force_row_wise=true` to remove the overhead.\n",
      "And if memory is not enough, you can set `force_col_wise=true`.\n",
      "[LightGBM] [Info] Total Bins 3640\n",
      "[LightGBM] [Info] Number of data points in the train set: 1875, number of used features: 158\n",
      "[LightGBM] [Info] Start training from score 179301.145067\n",
      "[LightGBM] [Info] Auto-choosing col-wise multi-threading, the overhead of testing was 0.003223 seconds.\n",
      "You can set `force_col_wise=true` to remove the overhead.\n",
      "[LightGBM] [Info] Total Bins 3619\n",
      "[LightGBM] [Info] Number of data points in the train set: 1875, number of used features: 156\n",
      "[LightGBM] [Info] Start training from score 178183.648000\n",
      "[LightGBM] [Info] Auto-choosing row-wise multi-threading, the overhead of testing was 0.003363 seconds.\n",
      "You can set `force_row_wise=true` to remove the overhead.\n",
      "And if memory is not enough, you can set `force_col_wise=true`.\n",
      "[LightGBM] [Info] Total Bins 3627\n",
      "[LightGBM] [Info] Number of data points in the train set: 1876, number of used features: 154\n",
      "[LightGBM] [Info] Start training from score 178235.925373\n",
      "[LightGBM] [Info] Auto-choosing col-wise multi-threading, the overhead of testing was 0.007495 seconds.\n",
      "You can set `force_col_wise=true` to remove the overhead.\n",
      "[LightGBM] [Info] Total Bins 3630\n",
      "[LightGBM] [Info] Number of data points in the train set: 1875, number of used features: 154\n",
      "[LightGBM] [Info] Start training from score 178974.889600\n",
      "[LightGBM] [Info] Auto-choosing row-wise multi-threading, the overhead of testing was 0.008117 seconds.\n",
      "You can set `force_row_wise=true` to remove the overhead.\n",
      "And if memory is not enough, you can set `force_col_wise=true`.\n",
      "[LightGBM] [Info] Total Bins 3638\n",
      "[LightGBM] [Info] Number of data points in the train set: 1875, number of used features: 158\n",
      "[LightGBM] [Info] Start training from score 178215.615467\n"
     ]
    },
    {
     "name": "stderr",
     "output_type": "stream",
     "text": [
      "/Users/macbook/anaconda3/envs/ameshousing-regression/lib/python3.10/site-packages/sklearn/utils/validation.py:2739: UserWarning: X does not have valid feature names, but LGBMRegressor was fitted with feature names\n",
      "  warnings.warn(\n",
      "/Users/macbook/anaconda3/envs/ameshousing-regression/lib/python3.10/site-packages/sklearn/utils/validation.py:2739: UserWarning: X does not have valid feature names, but LGBMRegressor was fitted with feature names\n",
      "  warnings.warn(\n",
      "/Users/macbook/anaconda3/envs/ameshousing-regression/lib/python3.10/site-packages/sklearn/utils/validation.py:2739: UserWarning: X does not have valid feature names, but LGBMRegressor was fitted with feature names\n",
      "  warnings.warn(\n",
      "/Users/macbook/anaconda3/envs/ameshousing-regression/lib/python3.10/site-packages/sklearn/utils/validation.py:2739: UserWarning: X does not have valid feature names, but LGBMRegressor was fitted with feature names\n",
      "  warnings.warn(\n",
      "/Users/macbook/anaconda3/envs/ameshousing-regression/lib/python3.10/site-packages/sklearn/utils/validation.py:2739: UserWarning: X does not have valid feature names, but LGBMRegressor was fitted with feature names\n",
      "  warnings.warn(\n"
     ]
    },
    {
     "name": "stdout",
     "output_type": "stream",
     "text": [
      "[LightGBM] [Info] Auto-choosing row-wise multi-threading, the overhead of testing was 0.003925 seconds.\n",
      "You can set `force_row_wise=true` to remove the overhead.\n",
      "And if memory is not enough, you can set `force_col_wise=true`.\n",
      "[LightGBM] [Info] Total Bins 3619\n",
      "[LightGBM] [Info] Number of data points in the train set: 1875, number of used features: 156\n",
      "[LightGBM] [Info] Start training from score 178183.648000\n",
      "[LightGBM] [Info] Auto-choosing row-wise multi-threading, the overhead of testing was 0.006619 seconds.\n",
      "You can set `force_row_wise=true` to remove the overhead.\n",
      "And if memory is not enough, you can set `force_col_wise=true`.\n",
      "[LightGBM] [Info] Total Bins 3640\n",
      "[LightGBM] [Info] Number of data points in the train set: 1875, number of used features: 158\n",
      "[LightGBM] [Info] Start training from score 179301.145067\n",
      "[LightGBM] [Info] Auto-choosing col-wise multi-threading, the overhead of testing was 0.009839 seconds.\n",
      "You can set `force_col_wise=true` to remove the overhead.\n",
      "[LightGBM] [Info] Total Bins 3630\n",
      "[LightGBM] [Info] Number of data points in the train set: 1875, number of used features: 154\n",
      "[LightGBM] [Info] Start training from score 178974.889600\n",
      "[LightGBM] [Info] Auto-choosing row-wise multi-threading, the overhead of testing was 0.011080 seconds.\n",
      "You can set `force_row_wise=true` to remove the overhead.\n",
      "And if memory is not enough, you can set `force_col_wise=true`.\n",
      "[LightGBM] [Info] Total Bins 3638\n",
      "[LightGBM] [Info] Number of data points in the train set: 1875, number of used features: 158\n",
      "[LightGBM] [Info] Start training from score 178215.615467\n",
      "[LightGBM] [Info] Auto-choosing col-wise multi-threading, the overhead of testing was 0.008114 seconds.\n",
      "You can set `force_col_wise=true` to remove the overhead.\n",
      "[LightGBM] [Info] Total Bins 3627\n",
      "[LightGBM] [Info] Number of data points in the train set: 1876, number of used features: 154\n",
      "[LightGBM] [Info] Start training from score 178235.925373\n"
     ]
    },
    {
     "name": "stderr",
     "output_type": "stream",
     "text": [
      "/Users/macbook/anaconda3/envs/ameshousing-regression/lib/python3.10/site-packages/sklearn/utils/validation.py:2739: UserWarning: X does not have valid feature names, but LGBMRegressor was fitted with feature names\n",
      "  warnings.warn(\n",
      "/Users/macbook/anaconda3/envs/ameshousing-regression/lib/python3.10/site-packages/sklearn/utils/validation.py:2739: UserWarning: X does not have valid feature names, but LGBMRegressor was fitted with feature names\n",
      "  warnings.warn(\n",
      "/Users/macbook/anaconda3/envs/ameshousing-regression/lib/python3.10/site-packages/sklearn/utils/validation.py:2739: UserWarning: X does not have valid feature names, but LGBMRegressor was fitted with feature names\n",
      "  warnings.warn(\n",
      "/Users/macbook/anaconda3/envs/ameshousing-regression/lib/python3.10/site-packages/sklearn/utils/validation.py:2739: UserWarning: X does not have valid feature names, but LGBMRegressor was fitted with feature names\n",
      "  warnings.warn(\n",
      "/Users/macbook/anaconda3/envs/ameshousing-regression/lib/python3.10/site-packages/sklearn/utils/validation.py:2739: UserWarning: X does not have valid feature names, but LGBMRegressor was fitted with feature names\n",
      "  warnings.warn(\n"
     ]
    },
    {
     "name": "stdout",
     "output_type": "stream",
     "text": [
      "[LightGBM] [Info] Auto-choosing row-wise multi-threading, the overhead of testing was 0.006908 seconds.\n",
      "You can set `force_row_wise=true` to remove the overhead.\n",
      "And if memory is not enough, you can set `force_col_wise=true`.\n",
      "[LightGBM] [Info] Total Bins 3640\n",
      "[LightGBM] [Info] Number of data points in the train set: 1875, number of used features: 158\n",
      "[LightGBM] [Info] Start training from score 179301.145067\n",
      "[LightGBM] [Info] Auto-choosing row-wise multi-threading, the overhead of testing was 0.004989 seconds.\n",
      "You can set `force_row_wise=true` to remove the overhead.\n",
      "And if memory is not enough, you can set `force_col_wise=true`.\n",
      "[LightGBM] [Info] Total Bins 3619\n",
      "[LightGBM] [Info] Number of data points in the train set: 1875, number of used features: 156\n",
      "[LightGBM] [Info] Start training from score 178183.648000\n",
      "[LightGBM] [Info] Auto-choosing row-wise multi-threading, the overhead of testing was 0.002280 seconds.\n",
      "You can set `force_row_wise=true` to remove the overhead.\n",
      "And if memory is not enough, you can set `force_col_wise=true`.\n",
      "[LightGBM] [Info] Total Bins 3630\n",
      "[LightGBM] [Info] Number of data points in the train set: 1875, number of used features: 154\n",
      "[LightGBM] [Info] Start training from score 178974.889600\n",
      "[LightGBM] [Info] Auto-choosing row-wise multi-threading, the overhead of testing was 0.005148 seconds.\n",
      "You can set `force_row_wise=true` to remove the overhead.\n",
      "And if memory is not enough, you can set `force_col_wise=true`.\n",
      "[LightGBM] [Info] Total Bins 3638\n",
      "[LightGBM] [Info] Number of data points in the train set: 1875, number of used features: 158\n",
      "[LightGBM] [Info] Start training from score 178215.615467\n",
      "[LightGBM] [Info] Auto-choosing row-wise multi-threading, the overhead of testing was 0.005293 seconds.\n",
      "You can set `force_row_wise=true` to remove the overhead.\n",
      "And if memory is not enough, you can set `force_col_wise=true`.\n",
      "[LightGBM] [Info] Total Bins 3627\n",
      "[LightGBM] [Info] Number of data points in the train set: 1876, number of used features: 154\n",
      "[LightGBM] [Info] Start training from score 178235.925373\n"
     ]
    },
    {
     "name": "stderr",
     "output_type": "stream",
     "text": [
      "/Users/macbook/anaconda3/envs/ameshousing-regression/lib/python3.10/site-packages/sklearn/utils/validation.py:2739: UserWarning: X does not have valid feature names, but LGBMRegressor was fitted with feature names\n",
      "  warnings.warn(\n",
      "/Users/macbook/anaconda3/envs/ameshousing-regression/lib/python3.10/site-packages/sklearn/utils/validation.py:2739: UserWarning: X does not have valid feature names, but LGBMRegressor was fitted with feature names\n",
      "  warnings.warn(\n",
      "/Users/macbook/anaconda3/envs/ameshousing-regression/lib/python3.10/site-packages/sklearn/utils/validation.py:2739: UserWarning: X does not have valid feature names, but LGBMRegressor was fitted with feature names\n",
      "  warnings.warn(\n",
      "/Users/macbook/anaconda3/envs/ameshousing-regression/lib/python3.10/site-packages/sklearn/utils/validation.py:2739: UserWarning: X does not have valid feature names, but LGBMRegressor was fitted with feature names\n",
      "  warnings.warn(\n",
      "/Users/macbook/anaconda3/envs/ameshousing-regression/lib/python3.10/site-packages/sklearn/utils/validation.py:2739: UserWarning: X does not have valid feature names, but LGBMRegressor was fitted with feature names\n",
      "  warnings.warn(\n"
     ]
    },
    {
     "name": "stdout",
     "output_type": "stream",
     "text": [
      "[LightGBM] [Info] Auto-choosing col-wise multi-threading, the overhead of testing was 0.005113 seconds.\n",
      "You can set `force_col_wise=true` to remove the overhead.\n",
      "[LightGBM] [Info] Total Bins 3640\n",
      "[LightGBM] [Info] Number of data points in the train set: 1875, number of used features: 158\n",
      "[LightGBM] [Info] Start training from score 179301.145067\n",
      "[LightGBM] [Info] Auto-choosing row-wise multi-threading, the overhead of testing was 0.006843 seconds.\n",
      "You can set `force_row_wise=true` to remove the overhead.\n",
      "And if memory is not enough, you can set `force_col_wise=true`.\n",
      "[LightGBM] [Info] Total Bins 3619\n",
      "[LightGBM] [Info] Number of data points in the train set: 1875, number of used features: 156\n",
      "[LightGBM] [Info] Start training from score 178183.648000\n",
      "[LightGBM] [Info] Auto-choosing row-wise multi-threading, the overhead of testing was 0.004549 seconds.\n",
      "You can set `force_row_wise=true` to remove the overhead.\n",
      "And if memory is not enough, you can set `force_col_wise=true`.\n",
      "[LightGBM] [Info] Total Bins 3630\n",
      "[LightGBM] [Info] Number of data points in the train set: 1875, number of used features: 154\n",
      "[LightGBM] [Info] Start training from score 178974.889600\n",
      "[LightGBM] [Info] Auto-choosing row-wise multi-threading, the overhead of testing was 0.004468 seconds.\n",
      "You can set `force_row_wise=true` to remove the overhead.\n",
      "And if memory is not enough, you can set `force_col_wise=true`.\n",
      "[LightGBM] [Info] Total Bins 3638\n",
      "[LightGBM] [Info] Number of data points in the train set: 1875, number of used features: 158\n",
      "[LightGBM] [Info] Start training from score 178215.615467\n",
      "[LightGBM] [Info] Auto-choosing row-wise multi-threading, the overhead of testing was 0.004581 seconds.\n",
      "You can set `force_row_wise=true` to remove the overhead.\n",
      "And if memory is not enough, you can set `force_col_wise=true`.\n",
      "[LightGBM] [Info] Total Bins 3627\n",
      "[LightGBM] [Info] Number of data points in the train set: 1876, number of used features: 154\n",
      "[LightGBM] [Info] Start training from score 178235.925373\n"
     ]
    },
    {
     "name": "stderr",
     "output_type": "stream",
     "text": [
      "/Users/macbook/anaconda3/envs/ameshousing-regression/lib/python3.10/site-packages/sklearn/utils/validation.py:2739: UserWarning: X does not have valid feature names, but LGBMRegressor was fitted with feature names\n",
      "  warnings.warn(\n",
      "/Users/macbook/anaconda3/envs/ameshousing-regression/lib/python3.10/site-packages/sklearn/utils/validation.py:2739: UserWarning: X does not have valid feature names, but LGBMRegressor was fitted with feature names\n",
      "  warnings.warn(\n",
      "/Users/macbook/anaconda3/envs/ameshousing-regression/lib/python3.10/site-packages/sklearn/utils/validation.py:2739: UserWarning: X does not have valid feature names, but LGBMRegressor was fitted with feature names\n",
      "  warnings.warn(\n",
      "/Users/macbook/anaconda3/envs/ameshousing-regression/lib/python3.10/site-packages/sklearn/utils/validation.py:2739: UserWarning: X does not have valid feature names, but LGBMRegressor was fitted with feature names\n",
      "  warnings.warn(\n",
      "/Users/macbook/anaconda3/envs/ameshousing-regression/lib/python3.10/site-packages/sklearn/utils/validation.py:2739: UserWarning: X does not have valid feature names, but LGBMRegressor was fitted with feature names\n",
      "  warnings.warn(\n"
     ]
    },
    {
     "name": "stdout",
     "output_type": "stream",
     "text": [
      "[LightGBM] [Info] Auto-choosing row-wise multi-threading, the overhead of testing was 0.002266 seconds.\n",
      "You can set `force_row_wise=true` to remove the overhead.\n",
      "And if memory is not enough, you can set `force_col_wise=true`.\n",
      "[LightGBM] [Info] Total Bins 3640\n",
      "[LightGBM] [Info] Number of data points in the train set: 1875, number of used features: 158\n",
      "[LightGBM] [Info] Start training from score 179301.145067\n",
      "[LightGBM] [Info] Auto-choosing row-wise multi-threading, the overhead of testing was 0.004304 seconds.\n",
      "You can set `force_row_wise=true` to remove the overhead.\n",
      "And if memory is not enough, you can set `force_col_wise=true`.\n",
      "[LightGBM] [Info] Total Bins 3619\n",
      "[LightGBM] [Info] Number of data points in the train set: 1875, number of used features: 156\n",
      "[LightGBM] [Info] Start training from score 178183.648000\n",
      "[LightGBM] [Info] Auto-choosing row-wise multi-threading, the overhead of testing was 0.005349 seconds.\n",
      "You can set `force_row_wise=true` to remove the overhead.\n",
      "And if memory is not enough, you can set `force_col_wise=true`.\n",
      "[LightGBM] [Info] Total Bins 3630\n",
      "[LightGBM] [Info] Number of data points in the train set: 1875, number of used features: 154\n",
      "[LightGBM] [Info] Start training from score 178974.889600\n",
      "[LightGBM] [Info] Auto-choosing row-wise multi-threading, the overhead of testing was 0.010210 seconds.\n",
      "You can set `force_row_wise=true` to remove the overhead.\n",
      "And if memory is not enough, you can set `force_col_wise=true`.\n",
      "[LightGBM] [Info] Total Bins 3638\n",
      "[LightGBM] [Info] Number of data points in the train set: 1875, number of used features: 158\n",
      "[LightGBM] [Info] Start training from score 178215.615467\n",
      "[LightGBM] [Info] Auto-choosing row-wise multi-threading, the overhead of testing was 0.008389 seconds.\n",
      "You can set `force_row_wise=true` to remove the overhead.\n",
      "And if memory is not enough, you can set `force_col_wise=true`.\n",
      "[LightGBM] [Info] Total Bins 3627\n",
      "[LightGBM] [Info] Number of data points in the train set: 1876, number of used features: 154\n",
      "[LightGBM] [Info] Start training from score 178235.925373\n"
     ]
    },
    {
     "name": "stderr",
     "output_type": "stream",
     "text": [
      "/Users/macbook/anaconda3/envs/ameshousing-regression/lib/python3.10/site-packages/sklearn/utils/validation.py:2739: UserWarning: X does not have valid feature names, but LGBMRegressor was fitted with feature names\n",
      "  warnings.warn(\n",
      "/Users/macbook/anaconda3/envs/ameshousing-regression/lib/python3.10/site-packages/sklearn/utils/validation.py:2739: UserWarning: X does not have valid feature names, but LGBMRegressor was fitted with feature names\n",
      "  warnings.warn(\n",
      "/Users/macbook/anaconda3/envs/ameshousing-regression/lib/python3.10/site-packages/sklearn/utils/validation.py:2739: UserWarning: X does not have valid feature names, but LGBMRegressor was fitted with feature names\n",
      "  warnings.warn(\n",
      "/Users/macbook/anaconda3/envs/ameshousing-regression/lib/python3.10/site-packages/sklearn/utils/validation.py:2739: UserWarning: X does not have valid feature names, but LGBMRegressor was fitted with feature names\n",
      "  warnings.warn(\n",
      "/Users/macbook/anaconda3/envs/ameshousing-regression/lib/python3.10/site-packages/sklearn/utils/validation.py:2739: UserWarning: X does not have valid feature names, but LGBMRegressor was fitted with feature names\n",
      "  warnings.warn(\n"
     ]
    },
    {
     "name": "stdout",
     "output_type": "stream",
     "text": [
      "[LightGBM] [Info] Auto-choosing row-wise multi-threading, the overhead of testing was 0.012301 seconds.\n",
      "You can set `force_row_wise=true` to remove the overhead.\n",
      "And if memory is not enough, you can set `force_col_wise=true`.\n",
      "[LightGBM] [Info] Total Bins 3640\n",
      "[LightGBM] [Info] Number of data points in the train set: 1875, number of used features: 158\n",
      "[LightGBM] [Info] Start training from score 179301.145067\n",
      "[LightGBM] [Info] Auto-choosing col-wise multi-threading, the overhead of testing was 0.012433 seconds.\n",
      "You can set `force_col_wise=true` to remove the overhead.\n",
      "[LightGBM] [Info] Total Bins 3619\n",
      "[LightGBM] [Info] Number of data points in the train set: 1875, number of used features: 156\n",
      "[LightGBM] [Info] Start training from score 178183.648000\n",
      "[LightGBM] [Info] Auto-choosing row-wise multi-threading, the overhead of testing was 0.010651 seconds.\n",
      "You can set `force_row_wise=true` to remove the overhead.\n",
      "And if memory is not enough, you can set `force_col_wise=true`.\n",
      "[LightGBM] [Info] Total Bins 3630\n",
      "[LightGBM] [Info] Number of data points in the train set: 1875, number of used features: 154\n",
      "[LightGBM] [Info] Start training from score 178974.889600\n",
      "[LightGBM] [Info] Auto-choosing row-wise multi-threading, the overhead of testing was 0.005833 seconds.\n",
      "You can set `force_row_wise=true` to remove the overhead.\n",
      "And if memory is not enough, you can set `force_col_wise=true`.\n",
      "[LightGBM] [Info] Total Bins 3638\n",
      "[LightGBM] [Info] Number of data points in the train set: 1875, number of used features: 158\n",
      "[LightGBM] [Info] Start training from score 178215.615467\n",
      "[LightGBM] [Info] Auto-choosing row-wise multi-threading, the overhead of testing was 0.010582 seconds.\n",
      "You can set `force_row_wise=true` to remove the overhead.\n",
      "And if memory is not enough, you can set `force_col_wise=true`.\n",
      "[LightGBM] [Info] Total Bins 3627\n",
      "[LightGBM] [Info] Number of data points in the train set: 1876, number of used features: 154\n",
      "[LightGBM] [Info] Start training from score 178235.925373\n"
     ]
    },
    {
     "name": "stderr",
     "output_type": "stream",
     "text": [
      "/Users/macbook/anaconda3/envs/ameshousing-regression/lib/python3.10/site-packages/sklearn/utils/validation.py:2739: UserWarning: X does not have valid feature names, but LGBMRegressor was fitted with feature names\n",
      "  warnings.warn(\n",
      "/Users/macbook/anaconda3/envs/ameshousing-regression/lib/python3.10/site-packages/sklearn/utils/validation.py:2739: UserWarning: X does not have valid feature names, but LGBMRegressor was fitted with feature names\n",
      "  warnings.warn(\n",
      "/Users/macbook/anaconda3/envs/ameshousing-regression/lib/python3.10/site-packages/sklearn/utils/validation.py:2739: UserWarning: X does not have valid feature names, but LGBMRegressor was fitted with feature names\n",
      "  warnings.warn(\n",
      "/Users/macbook/anaconda3/envs/ameshousing-regression/lib/python3.10/site-packages/sklearn/utils/validation.py:2739: UserWarning: X does not have valid feature names, but LGBMRegressor was fitted with feature names\n",
      "  warnings.warn(\n",
      "/Users/macbook/anaconda3/envs/ameshousing-regression/lib/python3.10/site-packages/sklearn/utils/validation.py:2739: UserWarning: X does not have valid feature names, but LGBMRegressor was fitted with feature names\n",
      "  warnings.warn(\n"
     ]
    },
    {
     "name": "stdout",
     "output_type": "stream",
     "text": [
      "[LightGBM] [Info] Auto-choosing row-wise multi-threading, the overhead of testing was 0.002405 seconds.\n",
      "You can set `force_row_wise=true` to remove the overhead.\n",
      "And if memory is not enough, you can set `force_col_wise=true`.\n",
      "[LightGBM] [Info] Total Bins 3640\n",
      "[LightGBM] [Info] Number of data points in the train set: 1875, number of used features: 158\n",
      "[LightGBM] [Info] Start training from score 179301.145067\n",
      "[LightGBM] [Info] Auto-choosing row-wise multi-threading, the overhead of testing was 0.003126 seconds.\n",
      "You can set `force_row_wise=true` to remove the overhead.\n",
      "And if memory is not enough, you can set `force_col_wise=true`.\n",
      "[LightGBM] [Info] Total Bins 3619\n",
      "[LightGBM] [Info] Number of data points in the train set: 1875, number of used features: 156\n",
      "[LightGBM] [Info] Start training from score 178183.648000\n",
      "[LightGBM] [Info] Auto-choosing row-wise multi-threading, the overhead of testing was 0.005884 seconds.\n",
      "You can set `force_row_wise=true` to remove the overhead.\n",
      "And if memory is not enough, you can set `force_col_wise=true`.\n",
      "[LightGBM] [Info] Total Bins 3630\n",
      "[LightGBM] [Info] Number of data points in the train set: 1875, number of used features: 154\n",
      "[LightGBM] [Info] Start training from score 178974.889600\n",
      "[LightGBM] [Info] Auto-choosing row-wise multi-threading, the overhead of testing was 0.002054 seconds.\n",
      "You can set `force_row_wise=true` to remove the overhead.\n",
      "And if memory is not enough, you can set `force_col_wise=true`.\n",
      "[LightGBM] [Info] Total Bins 3638\n",
      "[LightGBM] [Info] Number of data points in the train set: 1875, number of used features: 158\n",
      "[LightGBM] [Info] Start training from score 178215.615467\n",
      "[LightGBM] [Info] Auto-choosing row-wise multi-threading, the overhead of testing was 0.007228 seconds.\n",
      "You can set `force_row_wise=true` to remove the overhead.\n",
      "And if memory is not enough, you can set `force_col_wise=true`.\n",
      "[LightGBM] [Info] Total Bins 3627\n",
      "[LightGBM] [Info] Number of data points in the train set: 1876, number of used features: 154\n",
      "[LightGBM] [Info] Start training from score 178235.925373\n"
     ]
    },
    {
     "name": "stderr",
     "output_type": "stream",
     "text": [
      "/Users/macbook/anaconda3/envs/ameshousing-regression/lib/python3.10/site-packages/sklearn/utils/validation.py:2739: UserWarning: X does not have valid feature names, but LGBMRegressor was fitted with feature names\n",
      "  warnings.warn(\n",
      "/Users/macbook/anaconda3/envs/ameshousing-regression/lib/python3.10/site-packages/sklearn/utils/validation.py:2739: UserWarning: X does not have valid feature names, but LGBMRegressor was fitted with feature names\n",
      "  warnings.warn(\n",
      "/Users/macbook/anaconda3/envs/ameshousing-regression/lib/python3.10/site-packages/sklearn/utils/validation.py:2739: UserWarning: X does not have valid feature names, but LGBMRegressor was fitted with feature names\n",
      "  warnings.warn(\n",
      "/Users/macbook/anaconda3/envs/ameshousing-regression/lib/python3.10/site-packages/sklearn/utils/validation.py:2739: UserWarning: X does not have valid feature names, but LGBMRegressor was fitted with feature names\n",
      "  warnings.warn(\n",
      "/Users/macbook/anaconda3/envs/ameshousing-regression/lib/python3.10/site-packages/sklearn/utils/validation.py:2739: UserWarning: X does not have valid feature names, but LGBMRegressor was fitted with feature names\n",
      "  warnings.warn(\n"
     ]
    },
    {
     "name": "stdout",
     "output_type": "stream",
     "text": [
      "[LightGBM] [Info] Auto-choosing row-wise multi-threading, the overhead of testing was 0.005564 seconds.\n",
      "You can set `force_row_wise=true` to remove the overhead.\n",
      "And if memory is not enough, you can set `force_col_wise=true`.\n",
      "[LightGBM] [Info] Total Bins 3640\n",
      "[LightGBM] [Info] Number of data points in the train set: 1875, number of used features: 158\n",
      "[LightGBM] [Info] Start training from score 179301.145067\n",
      "[LightGBM] [Info] Auto-choosing row-wise multi-threading, the overhead of testing was 0.002814 seconds.\n",
      "You can set `force_row_wise=true` to remove the overhead.\n",
      "And if memory is not enough, you can set `force_col_wise=true`.\n",
      "[LightGBM] [Info] Total Bins 3619\n",
      "[LightGBM] [Info] Number of data points in the train set: 1875, number of used features: 156\n",
      "[LightGBM] [Info] Start training from score 178183.648000\n",
      "[LightGBM] [Info] Auto-choosing row-wise multi-threading, the overhead of testing was 0.007851 seconds.\n",
      "You can set `force_row_wise=true` to remove the overhead.\n",
      "And if memory is not enough, you can set `force_col_wise=true`.\n",
      "[LightGBM] [Info] Total Bins 3630\n",
      "[LightGBM] [Info] Number of data points in the train set: 1875, number of used features: 154\n",
      "[LightGBM] [Info] Start training from score 178974.889600\n",
      "[LightGBM] [Info] Auto-choosing row-wise multi-threading, the overhead of testing was 0.005400 seconds.\n",
      "You can set `force_row_wise=true` to remove the overhead.\n",
      "And if memory is not enough, you can set `force_col_wise=true`.\n",
      "[LightGBM] [Info] Total Bins 3638\n",
      "[LightGBM] [Info] Number of data points in the train set: 1875, number of used features: 158\n",
      "[LightGBM] [Info] Start training from score 178215.615467\n",
      "[LightGBM] [Info] Auto-choosing row-wise multi-threading, the overhead of testing was 0.003660 seconds.\n",
      "You can set `force_row_wise=true` to remove the overhead.\n",
      "And if memory is not enough, you can set `force_col_wise=true`.\n",
      "[LightGBM] [Info] Total Bins 3627\n",
      "[LightGBM] [Info] Number of data points in the train set: 1876, number of used features: 154\n",
      "[LightGBM] [Info] Start training from score 178235.925373\n"
     ]
    },
    {
     "name": "stderr",
     "output_type": "stream",
     "text": [
      "/Users/macbook/anaconda3/envs/ameshousing-regression/lib/python3.10/site-packages/sklearn/utils/validation.py:2739: UserWarning: X does not have valid feature names, but LGBMRegressor was fitted with feature names\n",
      "  warnings.warn(\n",
      "/Users/macbook/anaconda3/envs/ameshousing-regression/lib/python3.10/site-packages/sklearn/utils/validation.py:2739: UserWarning: X does not have valid feature names, but LGBMRegressor was fitted with feature names\n",
      "  warnings.warn(\n",
      "/Users/macbook/anaconda3/envs/ameshousing-regression/lib/python3.10/site-packages/sklearn/utils/validation.py:2739: UserWarning: X does not have valid feature names, but LGBMRegressor was fitted with feature names\n",
      "  warnings.warn(\n",
      "/Users/macbook/anaconda3/envs/ameshousing-regression/lib/python3.10/site-packages/sklearn/utils/validation.py:2739: UserWarning: X does not have valid feature names, but LGBMRegressor was fitted with feature names\n",
      "  warnings.warn(\n",
      "/Users/macbook/anaconda3/envs/ameshousing-regression/lib/python3.10/site-packages/sklearn/utils/validation.py:2739: UserWarning: X does not have valid feature names, but LGBMRegressor was fitted with feature names\n",
      "  warnings.warn(\n"
     ]
    },
    {
     "name": "stdout",
     "output_type": "stream",
     "text": [
      "[LightGBM] [Info] Auto-choosing col-wise multi-threading, the overhead of testing was 0.005115 seconds.\n",
      "You can set `force_col_wise=true` to remove the overhead.\n",
      "[LightGBM] [Info] Total Bins 3619\n",
      "[LightGBM] [Info] Number of data points in the train set: 1875, number of used features: 156\n",
      "[LightGBM] [Info] Start training from score 178183.648000\n",
      "[LightGBM] [Info] Auto-choosing row-wise multi-threading, the overhead of testing was 0.015844 seconds.\n",
      "You can set `force_row_wise=true` to remove the overhead.\n",
      "And if memory is not enough, you can set `force_col_wise=true`.\n",
      "[LightGBM] [Info] Total Bins 3640\n",
      "[LightGBM] [Info] Number of data points in the train set: 1875, number of used features: 158\n",
      "[LightGBM] [Info] Start training from score 179301.145067\n",
      "[LightGBM] [Info] Auto-choosing row-wise multi-threading, the overhead of testing was 0.008367 seconds.\n",
      "You can set `force_row_wise=true` to remove the overhead.\n",
      "And if memory is not enough, you can set `force_col_wise=true`.\n",
      "[LightGBM] [Info] Total Bins 3630\n",
      "[LightGBM] [Info] Number of data points in the train set: 1875, number of used features: 154\n",
      "[LightGBM] [Info] Start training from score 178974.889600\n",
      "[LightGBM] [Info] Auto-choosing row-wise multi-threading, the overhead of testing was 0.005575 seconds.\n",
      "You can set `force_row_wise=true` to remove the overhead.\n",
      "And if memory is not enough, you can set `force_col_wise=true`.\n",
      "[LightGBM] [Info] Total Bins 3638\n",
      "[LightGBM] [Info] Number of data points in the train set: 1875, number of used features: 158\n",
      "[LightGBM] [Info] Start training from score 178215.615467\n",
      "[LightGBM] [Info] Auto-choosing row-wise multi-threading, the overhead of testing was 0.005937 seconds.\n",
      "You can set `force_row_wise=true` to remove the overhead.\n",
      "And if memory is not enough, you can set `force_col_wise=true`.\n",
      "[LightGBM] [Info] Total Bins 3627\n",
      "[LightGBM] [Info] Number of data points in the train set: 1876, number of used features: 154\n",
      "[LightGBM] [Info] Start training from score 178235.925373\n"
     ]
    },
    {
     "name": "stderr",
     "output_type": "stream",
     "text": [
      "/Users/macbook/anaconda3/envs/ameshousing-regression/lib/python3.10/site-packages/sklearn/utils/validation.py:2739: UserWarning: X does not have valid feature names, but LGBMRegressor was fitted with feature names\n",
      "  warnings.warn(\n",
      "/Users/macbook/anaconda3/envs/ameshousing-regression/lib/python3.10/site-packages/sklearn/utils/validation.py:2739: UserWarning: X does not have valid feature names, but LGBMRegressor was fitted with feature names\n",
      "  warnings.warn(\n",
      "/Users/macbook/anaconda3/envs/ameshousing-regression/lib/python3.10/site-packages/sklearn/utils/validation.py:2739: UserWarning: X does not have valid feature names, but LGBMRegressor was fitted with feature names\n",
      "  warnings.warn(\n",
      "/Users/macbook/anaconda3/envs/ameshousing-regression/lib/python3.10/site-packages/sklearn/utils/validation.py:2739: UserWarning: X does not have valid feature names, but LGBMRegressor was fitted with feature names\n",
      "  warnings.warn(\n",
      "/Users/macbook/anaconda3/envs/ameshousing-regression/lib/python3.10/site-packages/sklearn/utils/validation.py:2739: UserWarning: X does not have valid feature names, but LGBMRegressor was fitted with feature names\n",
      "  warnings.warn(\n"
     ]
    },
    {
     "name": "stdout",
     "output_type": "stream",
     "text": [
      "[LightGBM] [Info] Auto-choosing row-wise multi-threading, the overhead of testing was 0.002415 seconds.\n",
      "You can set `force_row_wise=true` to remove the overhead.\n",
      "And if memory is not enough, you can set `force_col_wise=true`.\n",
      "[LightGBM] [Info] Total Bins 3640\n",
      "[LightGBM] [Info] Number of data points in the train set: 1875, number of used features: 158\n",
      "[LightGBM] [Info] Start training from score 179301.145067\n",
      "[LightGBM] [Info] Auto-choosing row-wise multi-threading, the overhead of testing was 0.006524 seconds.\n",
      "You can set `force_row_wise=true` to remove the overhead.\n",
      "And if memory is not enough, you can set `force_col_wise=true`.\n",
      "[LightGBM] [Info] Total Bins 3619\n",
      "[LightGBM] [Info] Number of data points in the train set: 1875, number of used features: 156\n",
      "[LightGBM] [Info] Start training from score 178183.648000\n",
      "[LightGBM] [Info] Auto-choosing row-wise multi-threading, the overhead of testing was 0.002195 seconds.\n",
      "You can set `force_row_wise=true` to remove the overhead.\n",
      "And if memory is not enough, you can set `force_col_wise=true`.\n",
      "[LightGBM] [Info] Total Bins 3630\n",
      "[LightGBM] [Info] Number of data points in the train set: 1875, number of used features: 154\n",
      "[LightGBM] [Info] Start training from score 178974.889600\n",
      "[LightGBM] [Info] Auto-choosing row-wise multi-threading, the overhead of testing was 0.002784 seconds.\n",
      "You can set `force_row_wise=true` to remove the overhead.\n",
      "And if memory is not enough, you can set `force_col_wise=true`.\n",
      "[LightGBM] [Info] Total Bins 3638\n",
      "[LightGBM] [Info] Number of data points in the train set: 1875, number of used features: 158\n",
      "[LightGBM] [Info] Start training from score 178215.615467\n",
      "[LightGBM] [Info] Auto-choosing row-wise multi-threading, the overhead of testing was 0.002416 seconds.\n",
      "You can set `force_row_wise=true` to remove the overhead.\n",
      "And if memory is not enough, you can set `force_col_wise=true`.\n",
      "[LightGBM] [Info] Total Bins 3627\n",
      "[LightGBM] [Info] Number of data points in the train set: 1876, number of used features: 154\n",
      "[LightGBM] [Info] Start training from score 178235.925373\n"
     ]
    },
    {
     "name": "stderr",
     "output_type": "stream",
     "text": [
      "/Users/macbook/anaconda3/envs/ameshousing-regression/lib/python3.10/site-packages/sklearn/utils/validation.py:2739: UserWarning: X does not have valid feature names, but LGBMRegressor was fitted with feature names\n",
      "  warnings.warn(\n",
      "/Users/macbook/anaconda3/envs/ameshousing-regression/lib/python3.10/site-packages/sklearn/utils/validation.py:2739: UserWarning: X does not have valid feature names, but LGBMRegressor was fitted with feature names\n",
      "  warnings.warn(\n",
      "/Users/macbook/anaconda3/envs/ameshousing-regression/lib/python3.10/site-packages/sklearn/utils/validation.py:2739: UserWarning: X does not have valid feature names, but LGBMRegressor was fitted with feature names\n",
      "  warnings.warn(\n",
      "/Users/macbook/anaconda3/envs/ameshousing-regression/lib/python3.10/site-packages/sklearn/utils/validation.py:2739: UserWarning: X does not have valid feature names, but LGBMRegressor was fitted with feature names\n",
      "  warnings.warn(\n",
      "/Users/macbook/anaconda3/envs/ameshousing-regression/lib/python3.10/site-packages/sklearn/utils/validation.py:2739: UserWarning: X does not have valid feature names, but LGBMRegressor was fitted with feature names\n",
      "  warnings.warn(\n"
     ]
    },
    {
     "name": "stdout",
     "output_type": "stream",
     "text": [
      "[LightGBM] [Info] Auto-choosing row-wise multi-threading, the overhead of testing was 0.002725 seconds.\n",
      "You can set `force_row_wise=true` to remove the overhead.\n",
      "And if memory is not enough, you can set `force_col_wise=true`.\n",
      "[LightGBM] [Info] Total Bins 3640\n",
      "[LightGBM] [Info] Number of data points in the train set: 1875, number of used features: 158\n",
      "[LightGBM] [Info] Start training from score 179301.145067\n",
      "[LightGBM] [Info] Auto-choosing row-wise multi-threading, the overhead of testing was 0.003758 seconds.\n",
      "You can set `force_row_wise=true` to remove the overhead.\n",
      "And if memory is not enough, you can set `force_col_wise=true`.\n",
      "[LightGBM] [Info] Total Bins 3619\n",
      "[LightGBM] [Info] Number of data points in the train set: 1875, number of used features: 156\n",
      "[LightGBM] [Info] Start training from score 178183.648000\n",
      "[LightGBM] [Info] Auto-choosing row-wise multi-threading, the overhead of testing was 0.005966 seconds.\n",
      "You can set `force_row_wise=true` to remove the overhead.\n",
      "And if memory is not enough, you can set `force_col_wise=true`.\n",
      "[LightGBM] [Info] Total Bins 3630\n",
      "[LightGBM] [Info] Number of data points in the train set: 1875, number of used features: 154\n",
      "[LightGBM] [Info] Start training from score 178974.889600\n",
      "[LightGBM] [Info] Auto-choosing row-wise multi-threading, the overhead of testing was 0.013084 seconds.\n",
      "You can set `force_row_wise=true` to remove the overhead.\n",
      "And if memory is not enough, you can set `force_col_wise=true`.\n",
      "[LightGBM] [Info] Total Bins 3638\n",
      "[LightGBM] [Info] Number of data points in the train set: 1875, number of used features: 158\n",
      "[LightGBM] [Info] Start training from score 178215.615467\n",
      "[LightGBM] [Info] Auto-choosing col-wise multi-threading, the overhead of testing was 0.004923 seconds.\n",
      "You can set `force_col_wise=true` to remove the overhead.\n",
      "[LightGBM] [Info] Total Bins 3627\n",
      "[LightGBM] [Info] Number of data points in the train set: 1876, number of used features: 154\n",
      "[LightGBM] [Info] Start training from score 178235.925373\n"
     ]
    },
    {
     "name": "stderr",
     "output_type": "stream",
     "text": [
      "/Users/macbook/anaconda3/envs/ameshousing-regression/lib/python3.10/site-packages/sklearn/utils/validation.py:2739: UserWarning: X does not have valid feature names, but LGBMRegressor was fitted with feature names\n",
      "  warnings.warn(\n",
      "/Users/macbook/anaconda3/envs/ameshousing-regression/lib/python3.10/site-packages/sklearn/utils/validation.py:2739: UserWarning: X does not have valid feature names, but LGBMRegressor was fitted with feature names\n",
      "  warnings.warn(\n",
      "/Users/macbook/anaconda3/envs/ameshousing-regression/lib/python3.10/site-packages/sklearn/utils/validation.py:2739: UserWarning: X does not have valid feature names, but LGBMRegressor was fitted with feature names\n",
      "  warnings.warn(\n",
      "/Users/macbook/anaconda3/envs/ameshousing-regression/lib/python3.10/site-packages/sklearn/utils/validation.py:2739: UserWarning: X does not have valid feature names, but LGBMRegressor was fitted with feature names\n",
      "  warnings.warn(\n",
      "/Users/macbook/anaconda3/envs/ameshousing-regression/lib/python3.10/site-packages/sklearn/utils/validation.py:2739: UserWarning: X does not have valid feature names, but LGBMRegressor was fitted with feature names\n",
      "  warnings.warn(\n"
     ]
    },
    {
     "name": "stdout",
     "output_type": "stream",
     "text": [
      "[LightGBM] [Info] Auto-choosing row-wise multi-threading, the overhead of testing was 0.011840 seconds.\n",
      "You can set `force_row_wise=true` to remove the overhead.\n",
      "And if memory is not enough, you can set `force_col_wise=true`.\n",
      "[LightGBM] [Info] Total Bins 3640\n",
      "[LightGBM] [Info] Number of data points in the train set: 1875, number of used features: 158\n",
      "[LightGBM] [Info] Start training from score 179301.145067\n",
      "[LightGBM] [Info] Auto-choosing col-wise multi-threading, the overhead of testing was 0.029442 seconds.\n",
      "You can set `force_col_wise=true` to remove the overhead.\n",
      "[LightGBM] [Info] Total Bins 3630\n",
      "[LightGBM] [Info] Number of data points in the train set: 1875, number of used features: 154\n",
      "[LightGBM] [Info] Start training from score 178974.889600\n",
      "[LightGBM] [Info] Auto-choosing row-wise multi-threading, the overhead of testing was 0.027204 seconds.\n",
      "You can set `force_row_wise=true` to remove the overhead.\n",
      "And if memory is not enough, you can set `force_col_wise=true`.\n",
      "[LightGBM] [Info] Total Bins 3619\n",
      "[LightGBM] [Info] Number of data points in the train set: 1875, number of used features: 156\n",
      "[LightGBM] [Info] Start training from score 178183.648000\n",
      "[LightGBM] [Info] Auto-choosing row-wise multi-threading, the overhead of testing was 0.008046 seconds.\n",
      "You can set `force_row_wise=true` to remove the overhead.\n",
      "And if memory is not enough, you can set `force_col_wise=true`.\n",
      "[LightGBM] [Info] Total Bins 3638\n",
      "[LightGBM] [Info] Number of data points in the train set: 1875, number of used features: 158\n",
      "[LightGBM] [Info] Start training from score 178215.615467\n",
      "[LightGBM] [Info] Auto-choosing row-wise multi-threading, the overhead of testing was 0.014861 seconds.\n",
      "You can set `force_row_wise=true` to remove the overhead.\n",
      "And if memory is not enough, you can set `force_col_wise=true`.\n",
      "[LightGBM] [Info] Total Bins 3627\n",
      "[LightGBM] [Info] Number of data points in the train set: 1876, number of used features: 154\n",
      "[LightGBM] [Info] Start training from score 178235.925373\n"
     ]
    },
    {
     "name": "stderr",
     "output_type": "stream",
     "text": [
      "/Users/macbook/anaconda3/envs/ameshousing-regression/lib/python3.10/site-packages/sklearn/utils/validation.py:2739: UserWarning: X does not have valid feature names, but LGBMRegressor was fitted with feature names\n",
      "  warnings.warn(\n",
      "/Users/macbook/anaconda3/envs/ameshousing-regression/lib/python3.10/site-packages/sklearn/utils/validation.py:2739: UserWarning: X does not have valid feature names, but LGBMRegressor was fitted with feature names\n",
      "  warnings.warn(\n",
      "/Users/macbook/anaconda3/envs/ameshousing-regression/lib/python3.10/site-packages/sklearn/utils/validation.py:2739: UserWarning: X does not have valid feature names, but LGBMRegressor was fitted with feature names\n",
      "  warnings.warn(\n",
      "/Users/macbook/anaconda3/envs/ameshousing-regression/lib/python3.10/site-packages/sklearn/utils/validation.py:2739: UserWarning: X does not have valid feature names, but LGBMRegressor was fitted with feature names\n",
      "  warnings.warn(\n",
      "/Users/macbook/anaconda3/envs/ameshousing-regression/lib/python3.10/site-packages/sklearn/utils/validation.py:2739: UserWarning: X does not have valid feature names, but LGBMRegressor was fitted with feature names\n",
      "  warnings.warn(\n"
     ]
    },
    {
     "name": "stdout",
     "output_type": "stream",
     "text": [
      "[LightGBM] [Info] Auto-choosing row-wise multi-threading, the overhead of testing was 0.010749 seconds.\n",
      "You can set `force_row_wise=true` to remove the overhead.\n",
      "And if memory is not enough, you can set `force_col_wise=true`.\n",
      "[LightGBM] [Info] Total Bins 3640\n",
      "[LightGBM] [Info] Number of data points in the train set: 1875, number of used features: 158\n",
      "[LightGBM] [Info] Start training from score 179301.145067\n",
      "[LightGBM] [Info] Auto-choosing row-wise multi-threading, the overhead of testing was 0.007447 seconds.\n",
      "You can set `force_row_wise=true` to remove the overhead.\n",
      "And if memory is not enough, you can set `force_col_wise=true`.\n",
      "[LightGBM] [Info] Total Bins 3619\n",
      "[LightGBM] [Info] Number of data points in the train set: 1875, number of used features: 156\n",
      "[LightGBM] [Info] Start training from score 178183.648000\n",
      "[LightGBM] [Info] Auto-choosing row-wise multi-threading, the overhead of testing was 0.007033 seconds.\n",
      "You can set `force_row_wise=true` to remove the overhead.\n",
      "And if memory is not enough, you can set `force_col_wise=true`.\n",
      "[LightGBM] [Info] Total Bins 3630\n",
      "[LightGBM] [Info] Number of data points in the train set: 1875, number of used features: 154\n",
      "[LightGBM] [Info] Start training from score 178974.889600\n",
      "[LightGBM] [Info] Auto-choosing row-wise multi-threading, the overhead of testing was 0.011666 seconds.\n",
      "You can set `force_row_wise=true` to remove the overhead.\n",
      "And if memory is not enough, you can set `force_col_wise=true`.\n",
      "[LightGBM] [Info] Total Bins 3638\n",
      "[LightGBM] [Info] Number of data points in the train set: 1875, number of used features: 158\n",
      "[LightGBM] [Info] Start training from score 178215.615467\n",
      "[LightGBM] [Info] Auto-choosing row-wise multi-threading, the overhead of testing was 0.014397 seconds.\n",
      "You can set `force_row_wise=true` to remove the overhead.\n",
      "And if memory is not enough, you can set `force_col_wise=true`.\n",
      "[LightGBM] [Info] Total Bins 3627\n",
      "[LightGBM] [Info] Number of data points in the train set: 1876, number of used features: 154\n",
      "[LightGBM] [Info] Start training from score 178235.925373\n"
     ]
    },
    {
     "name": "stderr",
     "output_type": "stream",
     "text": [
      "/Users/macbook/anaconda3/envs/ameshousing-regression/lib/python3.10/site-packages/sklearn/utils/validation.py:2739: UserWarning: X does not have valid feature names, but LGBMRegressor was fitted with feature names\n",
      "  warnings.warn(\n",
      "/Users/macbook/anaconda3/envs/ameshousing-regression/lib/python3.10/site-packages/sklearn/utils/validation.py:2739: UserWarning: X does not have valid feature names, but LGBMRegressor was fitted with feature names\n",
      "  warnings.warn(\n",
      "/Users/macbook/anaconda3/envs/ameshousing-regression/lib/python3.10/site-packages/sklearn/utils/validation.py:2739: UserWarning: X does not have valid feature names, but LGBMRegressor was fitted with feature names\n",
      "  warnings.warn(\n",
      "/Users/macbook/anaconda3/envs/ameshousing-regression/lib/python3.10/site-packages/sklearn/utils/validation.py:2739: UserWarning: X does not have valid feature names, but LGBMRegressor was fitted with feature names\n",
      "  warnings.warn(\n",
      "/Users/macbook/anaconda3/envs/ameshousing-regression/lib/python3.10/site-packages/sklearn/utils/validation.py:2739: UserWarning: X does not have valid feature names, but LGBMRegressor was fitted with feature names\n",
      "  warnings.warn(\n"
     ]
    },
    {
     "name": "stdout",
     "output_type": "stream",
     "text": [
      "[LightGBM] [Info] Auto-choosing row-wise multi-threading, the overhead of testing was 0.011778 seconds.\n",
      "You can set `force_row_wise=true` to remove the overhead.\n",
      "And if memory is not enough, you can set `force_col_wise=true`.\n",
      "[LightGBM] [Info] Total Bins 3640\n",
      "[LightGBM] [Info] Number of data points in the train set: 1875, number of used features: 158\n",
      "[LightGBM] [Info] Start training from score 179301.145067\n",
      "[LightGBM] [Info] Auto-choosing row-wise multi-threading, the overhead of testing was 0.008074 seconds.\n",
      "You can set `force_row_wise=true` to remove the overhead.\n",
      "And if memory is not enough, you can set `force_col_wise=true`.\n",
      "[LightGBM] [Info] Total Bins 3619\n",
      "[LightGBM] [Info] Number of data points in the train set: 1875, number of used features: 156\n",
      "[LightGBM] [Info] Start training from score 178183.648000\n",
      "[LightGBM] [Info] Auto-choosing row-wise multi-threading, the overhead of testing was 0.011668 seconds.\n",
      "You can set `force_row_wise=true` to remove the overhead.\n",
      "And if memory is not enough, you can set `force_col_wise=true`.\n",
      "[LightGBM] [Info] Total Bins 3630\n",
      "[LightGBM] [Info] Number of data points in the train set: 1875, number of used features: 154\n",
      "[LightGBM] [Info] Start training from score 178974.889600\n",
      "[LightGBM] [Info] Auto-choosing row-wise multi-threading, the overhead of testing was 0.010141 seconds.\n",
      "You can set `force_row_wise=true` to remove the overhead.\n",
      "And if memory is not enough, you can set `force_col_wise=true`.\n",
      "[LightGBM] [Info] Total Bins 3638\n",
      "[LightGBM] [Info] Number of data points in the train set: 1875, number of used features: 158\n",
      "[LightGBM] [Info] Start training from score 178215.615467\n",
      "[LightGBM] [Info] Auto-choosing row-wise multi-threading, the overhead of testing was 0.011682 seconds.\n",
      "You can set `force_row_wise=true` to remove the overhead.\n",
      "And if memory is not enough, you can set `force_col_wise=true`.\n",
      "[LightGBM] [Info] Total Bins 3627\n",
      "[LightGBM] [Info] Number of data points in the train set: 1876, number of used features: 154\n",
      "[LightGBM] [Info] Start training from score 178235.925373\n"
     ]
    },
    {
     "name": "stderr",
     "output_type": "stream",
     "text": [
      "/Users/macbook/anaconda3/envs/ameshousing-regression/lib/python3.10/site-packages/sklearn/utils/validation.py:2739: UserWarning: X does not have valid feature names, but LGBMRegressor was fitted with feature names\n",
      "  warnings.warn(\n",
      "/Users/macbook/anaconda3/envs/ameshousing-regression/lib/python3.10/site-packages/sklearn/utils/validation.py:2739: UserWarning: X does not have valid feature names, but LGBMRegressor was fitted with feature names\n",
      "  warnings.warn(\n",
      "/Users/macbook/anaconda3/envs/ameshousing-regression/lib/python3.10/site-packages/sklearn/utils/validation.py:2739: UserWarning: X does not have valid feature names, but LGBMRegressor was fitted with feature names\n",
      "  warnings.warn(\n",
      "/Users/macbook/anaconda3/envs/ameshousing-regression/lib/python3.10/site-packages/sklearn/utils/validation.py:2739: UserWarning: X does not have valid feature names, but LGBMRegressor was fitted with feature names\n",
      "  warnings.warn(\n",
      "/Users/macbook/anaconda3/envs/ameshousing-regression/lib/python3.10/site-packages/sklearn/utils/validation.py:2739: UserWarning: X does not have valid feature names, but LGBMRegressor was fitted with feature names\n",
      "  warnings.warn(\n"
     ]
    },
    {
     "name": "stdout",
     "output_type": "stream",
     "text": [
      "[LightGBM] [Info] Auto-choosing row-wise multi-threading, the overhead of testing was 0.004090 seconds.\n",
      "You can set `force_row_wise=true` to remove the overhead.\n",
      "And if memory is not enough, you can set `force_col_wise=true`.\n",
      "[LightGBM] [Info] Total Bins 3640\n",
      "[LightGBM] [Info] Number of data points in the train set: 1875, number of used features: 158\n",
      "[LightGBM] [Info] Start training from score 179301.145067\n",
      "[LightGBM] [Info] Auto-choosing row-wise multi-threading, the overhead of testing was 0.004104 seconds.\n",
      "You can set `force_row_wise=true` to remove the overhead.\n",
      "And if memory is not enough, you can set `force_col_wise=true`.\n",
      "[LightGBM] [Info] Total Bins 3619\n",
      "[LightGBM] [Info] Number of data points in the train set: 1875, number of used features: 156\n",
      "[LightGBM] [Info] Start training from score 178183.648000\n",
      "[LightGBM] [Info] Auto-choosing row-wise multi-threading, the overhead of testing was 0.004409 seconds.\n",
      "You can set `force_row_wise=true` to remove the overhead.\n",
      "And if memory is not enough, you can set `force_col_wise=true`.\n",
      "[LightGBM] [Info] Total Bins 3630\n",
      "[LightGBM] [Info] Number of data points in the train set: 1875, number of used features: 154\n",
      "[LightGBM] [Info] Start training from score 178974.889600\n",
      "[LightGBM] [Info] Auto-choosing row-wise multi-threading, the overhead of testing was 0.002827 seconds.\n",
      "You can set `force_row_wise=true` to remove the overhead.\n",
      "And if memory is not enough, you can set `force_col_wise=true`.\n",
      "[LightGBM] [Info] Total Bins 3638\n",
      "[LightGBM] [Info] Number of data points in the train set: 1875, number of used features: 158\n",
      "[LightGBM] [Info] Start training from score 178215.615467\n",
      "[LightGBM] [Info] Auto-choosing row-wise multi-threading, the overhead of testing was 0.009544 seconds.\n",
      "You can set `force_row_wise=true` to remove the overhead.\n",
      "And if memory is not enough, you can set `force_col_wise=true`.\n",
      "[LightGBM] [Info] Total Bins 3627\n",
      "[LightGBM] [Info] Number of data points in the train set: 1876, number of used features: 154\n",
      "[LightGBM] [Info] Start training from score 178235.925373\n"
     ]
    },
    {
     "name": "stderr",
     "output_type": "stream",
     "text": [
      "/Users/macbook/anaconda3/envs/ameshousing-regression/lib/python3.10/site-packages/sklearn/utils/validation.py:2739: UserWarning: X does not have valid feature names, but LGBMRegressor was fitted with feature names\n",
      "  warnings.warn(\n",
      "/Users/macbook/anaconda3/envs/ameshousing-regression/lib/python3.10/site-packages/sklearn/utils/validation.py:2739: UserWarning: X does not have valid feature names, but LGBMRegressor was fitted with feature names\n",
      "  warnings.warn(\n",
      "/Users/macbook/anaconda3/envs/ameshousing-regression/lib/python3.10/site-packages/sklearn/utils/validation.py:2739: UserWarning: X does not have valid feature names, but LGBMRegressor was fitted with feature names\n",
      "  warnings.warn(\n",
      "/Users/macbook/anaconda3/envs/ameshousing-regression/lib/python3.10/site-packages/sklearn/utils/validation.py:2739: UserWarning: X does not have valid feature names, but LGBMRegressor was fitted with feature names\n",
      "  warnings.warn(\n",
      "/Users/macbook/anaconda3/envs/ameshousing-regression/lib/python3.10/site-packages/sklearn/utils/validation.py:2739: UserWarning: X does not have valid feature names, but LGBMRegressor was fitted with feature names\n",
      "  warnings.warn(\n"
     ]
    },
    {
     "name": "stdout",
     "output_type": "stream",
     "text": [
      "[LightGBM] [Info] Auto-choosing row-wise multi-threading, the overhead of testing was 0.019419 seconds.\n",
      "You can set `force_row_wise=true` to remove the overhead.\n",
      "And if memory is not enough, you can set `force_col_wise=true`.\n",
      "[LightGBM] [Info] Total Bins 3640\n",
      "[LightGBM] [Info] Number of data points in the train set: 1875, number of used features: 158\n",
      "[LightGBM] [Info] Start training from score 179301.145067\n",
      "[LightGBM] [Info] Auto-choosing row-wise multi-threading, the overhead of testing was 0.011443 seconds.\n",
      "You can set `force_row_wise=true` to remove the overhead.\n",
      "And if memory is not enough, you can set `force_col_wise=true`.\n",
      "[LightGBM] [Info] Total Bins 3619\n",
      "[LightGBM] [Info] Number of data points in the train set: 1875, number of used features: 156\n",
      "[LightGBM] [Info] Start training from score 178183.648000\n",
      "[LightGBM] [Info] Auto-choosing row-wise multi-threading, the overhead of testing was 0.016684 seconds.\n",
      "You can set `force_row_wise=true` to remove the overhead.\n",
      "And if memory is not enough, you can set `force_col_wise=true`.\n",
      "[LightGBM] [Info] Total Bins 3630\n",
      "[LightGBM] [Info] Number of data points in the train set: 1875, number of used features: 154\n",
      "[LightGBM] [Info] Start training from score 178974.889600\n",
      "[LightGBM] [Info] Auto-choosing col-wise multi-threading, the overhead of testing was 0.020889 seconds.\n",
      "You can set `force_col_wise=true` to remove the overhead.\n",
      "[LightGBM] [Info] Total Bins 3638\n",
      "[LightGBM] [Info] Number of data points in the train set: 1875, number of used features: 158\n",
      "[LightGBM] [Info] Start training from score 178215.615467\n",
      "[LightGBM] [Info] Auto-choosing row-wise multi-threading, the overhead of testing was 0.011952 seconds.\n",
      "You can set `force_row_wise=true` to remove the overhead.\n",
      "And if memory is not enough, you can set `force_col_wise=true`.\n",
      "[LightGBM] [Info] Total Bins 3627\n",
      "[LightGBM] [Info] Number of data points in the train set: 1876, number of used features: 154\n",
      "[LightGBM] [Info] Start training from score 178235.925373\n"
     ]
    },
    {
     "name": "stderr",
     "output_type": "stream",
     "text": [
      "/Users/macbook/anaconda3/envs/ameshousing-regression/lib/python3.10/site-packages/sklearn/utils/validation.py:2739: UserWarning: X does not have valid feature names, but LGBMRegressor was fitted with feature names\n",
      "  warnings.warn(\n",
      "/Users/macbook/anaconda3/envs/ameshousing-regression/lib/python3.10/site-packages/sklearn/utils/validation.py:2739: UserWarning: X does not have valid feature names, but LGBMRegressor was fitted with feature names\n",
      "  warnings.warn(\n",
      "/Users/macbook/anaconda3/envs/ameshousing-regression/lib/python3.10/site-packages/sklearn/utils/validation.py:2739: UserWarning: X does not have valid feature names, but LGBMRegressor was fitted with feature names\n",
      "  warnings.warn(\n",
      "/Users/macbook/anaconda3/envs/ameshousing-regression/lib/python3.10/site-packages/sklearn/utils/validation.py:2739: UserWarning: X does not have valid feature names, but LGBMRegressor was fitted with feature names\n",
      "  warnings.warn(\n",
      "/Users/macbook/anaconda3/envs/ameshousing-regression/lib/python3.10/site-packages/sklearn/utils/validation.py:2739: UserWarning: X does not have valid feature names, but LGBMRegressor was fitted with feature names\n",
      "  warnings.warn(\n"
     ]
    },
    {
     "name": "stdout",
     "output_type": "stream",
     "text": [
      "[LightGBM] [Info] Auto-choosing row-wise multi-threading, the overhead of testing was 0.003104 seconds.\n",
      "You can set `force_row_wise=true` to remove the overhead.\n",
      "And if memory is not enough, you can set `force_col_wise=true`.\n",
      "[LightGBM] [Info] Total Bins 3640\n",
      "[LightGBM] [Info] Number of data points in the train set: 1875, number of used features: 158\n",
      "[LightGBM] [Info] Start training from score 179301.145067\n",
      "[LightGBM] [Info] Auto-choosing row-wise multi-threading, the overhead of testing was 0.002083 seconds.\n",
      "You can set `force_row_wise=true` to remove the overhead.\n",
      "And if memory is not enough, you can set `force_col_wise=true`.\n",
      "[LightGBM] [Info] Total Bins 3619\n",
      "[LightGBM] [Info] Number of data points in the train set: 1875, number of used features: 156\n",
      "[LightGBM] [Info] Start training from score 178183.648000\n",
      "[LightGBM] [Info] Auto-choosing row-wise multi-threading, the overhead of testing was 0.003507 seconds.\n",
      "You can set `force_row_wise=true` to remove the overhead.\n",
      "And if memory is not enough, you can set `force_col_wise=true`.\n",
      "[LightGBM] [Info] Total Bins 3630\n",
      "[LightGBM] [Info] Number of data points in the train set: 1875, number of used features: 154\n",
      "[LightGBM] [Info] Start training from score 178974.889600\n",
      "[LightGBM] [Info] Auto-choosing row-wise multi-threading, the overhead of testing was 0.006262 seconds.\n",
      "You can set `force_row_wise=true` to remove the overhead.\n",
      "And if memory is not enough, you can set `force_col_wise=true`.\n",
      "[LightGBM] [Info] Total Bins 3638\n",
      "[LightGBM] [Info] Number of data points in the train set: 1875, number of used features: 158\n",
      "[LightGBM] [Info] Start training from score 178215.615467\n",
      "[LightGBM] [Info] Auto-choosing row-wise multi-threading, the overhead of testing was 0.002341 seconds.\n",
      "You can set `force_row_wise=true` to remove the overhead.\n",
      "And if memory is not enough, you can set `force_col_wise=true`.\n",
      "[LightGBM] [Info] Total Bins 3627\n",
      "[LightGBM] [Info] Number of data points in the train set: 1876, number of used features: 154\n",
      "[LightGBM] [Info] Start training from score 178235.925373\n"
     ]
    },
    {
     "name": "stderr",
     "output_type": "stream",
     "text": [
      "/Users/macbook/anaconda3/envs/ameshousing-regression/lib/python3.10/site-packages/sklearn/utils/validation.py:2739: UserWarning: X does not have valid feature names, but LGBMRegressor was fitted with feature names\n",
      "  warnings.warn(\n",
      "/Users/macbook/anaconda3/envs/ameshousing-regression/lib/python3.10/site-packages/sklearn/utils/validation.py:2739: UserWarning: X does not have valid feature names, but LGBMRegressor was fitted with feature names\n",
      "  warnings.warn(\n",
      "/Users/macbook/anaconda3/envs/ameshousing-regression/lib/python3.10/site-packages/sklearn/utils/validation.py:2739: UserWarning: X does not have valid feature names, but LGBMRegressor was fitted with feature names\n",
      "  warnings.warn(\n",
      "/Users/macbook/anaconda3/envs/ameshousing-regression/lib/python3.10/site-packages/sklearn/utils/validation.py:2739: UserWarning: X does not have valid feature names, but LGBMRegressor was fitted with feature names\n",
      "  warnings.warn(\n",
      "/Users/macbook/anaconda3/envs/ameshousing-regression/lib/python3.10/site-packages/sklearn/utils/validation.py:2739: UserWarning: X does not have valid feature names, but LGBMRegressor was fitted with feature names\n",
      "  warnings.warn(\n"
     ]
    },
    {
     "name": "stdout",
     "output_type": "stream",
     "text": [
      "[LightGBM] [Info] Auto-choosing row-wise multi-threading, the overhead of testing was 0.008324 seconds.\n",
      "You can set `force_row_wise=true` to remove the overhead.\n",
      "And if memory is not enough, you can set `force_col_wise=true`.\n",
      "[LightGBM] [Info] Total Bins 3640\n",
      "[LightGBM] [Info] Number of data points in the train set: 1875, number of used features: 158\n",
      "[LightGBM] [Info] Start training from score 179301.145067\n",
      "[LightGBM] [Info] Auto-choosing row-wise multi-threading, the overhead of testing was 0.003766 seconds.\n",
      "You can set `force_row_wise=true` to remove the overhead.\n",
      "And if memory is not enough, you can set `force_col_wise=true`.\n",
      "[LightGBM] [Info] Total Bins 3619\n",
      "[LightGBM] [Info] Number of data points in the train set: 1875, number of used features: 156\n",
      "[LightGBM] [Info] Start training from score 178183.648000\n",
      "[LightGBM] [Info] Auto-choosing row-wise multi-threading, the overhead of testing was 0.002221 seconds.\n",
      "You can set `force_row_wise=true` to remove the overhead.\n",
      "And if memory is not enough, you can set `force_col_wise=true`.\n",
      "[LightGBM] [Info] Total Bins 3630\n",
      "[LightGBM] [Info] Number of data points in the train set: 1875, number of used features: 154\n",
      "[LightGBM] [Info] Start training from score 178974.889600\n",
      "[LightGBM] [Info] Auto-choosing row-wise multi-threading, the overhead of testing was 0.003722 seconds.\n",
      "You can set `force_row_wise=true` to remove the overhead.\n",
      "And if memory is not enough, you can set `force_col_wise=true`.\n",
      "[LightGBM] [Info] Total Bins 3638\n",
      "[LightGBM] [Info] Number of data points in the train set: 1875, number of used features: 158\n",
      "[LightGBM] [Info] Start training from score 178215.615467\n",
      "[LightGBM] [Info] Auto-choosing row-wise multi-threading, the overhead of testing was 0.007085 seconds.\n",
      "You can set `force_row_wise=true` to remove the overhead.\n",
      "And if memory is not enough, you can set `force_col_wise=true`.\n",
      "[LightGBM] [Info] Total Bins 3627\n",
      "[LightGBM] [Info] Number of data points in the train set: 1876, number of used features: 154\n",
      "[LightGBM] [Info] Start training from score 178235.925373\n"
     ]
    },
    {
     "name": "stderr",
     "output_type": "stream",
     "text": [
      "/Users/macbook/anaconda3/envs/ameshousing-regression/lib/python3.10/site-packages/sklearn/utils/validation.py:2739: UserWarning: X does not have valid feature names, but LGBMRegressor was fitted with feature names\n",
      "  warnings.warn(\n",
      "/Users/macbook/anaconda3/envs/ameshousing-regression/lib/python3.10/site-packages/sklearn/utils/validation.py:2739: UserWarning: X does not have valid feature names, but LGBMRegressor was fitted with feature names\n",
      "  warnings.warn(\n",
      "/Users/macbook/anaconda3/envs/ameshousing-regression/lib/python3.10/site-packages/sklearn/utils/validation.py:2739: UserWarning: X does not have valid feature names, but LGBMRegressor was fitted with feature names\n",
      "  warnings.warn(\n",
      "/Users/macbook/anaconda3/envs/ameshousing-regression/lib/python3.10/site-packages/sklearn/utils/validation.py:2739: UserWarning: X does not have valid feature names, but LGBMRegressor was fitted with feature names\n",
      "  warnings.warn(\n",
      "/Users/macbook/anaconda3/envs/ameshousing-regression/lib/python3.10/site-packages/sklearn/utils/validation.py:2739: UserWarning: X does not have valid feature names, but LGBMRegressor was fitted with feature names\n",
      "  warnings.warn(\n"
     ]
    },
    {
     "name": "stdout",
     "output_type": "stream",
     "text": [
      "[LightGBM] [Info] Auto-choosing row-wise multi-threading, the overhead of testing was 0.016314 seconds.\n",
      "You can set `force_row_wise=true` to remove the overhead.\n",
      "And if memory is not enough, you can set `force_col_wise=true`.\n",
      "[LightGBM] [Info] Total Bins 3640\n",
      "[LightGBM] [Info] Number of data points in the train set: 1875, number of used features: 158\n",
      "[LightGBM] [Info] Start training from score 179301.145067\n",
      "[LightGBM] [Info] Auto-choosing row-wise multi-threading, the overhead of testing was 0.017322 seconds.\n",
      "You can set `force_row_wise=true` to remove the overhead.\n",
      "And if memory is not enough, you can set `force_col_wise=true`.\n",
      "[LightGBM] [Info] Total Bins 3619\n",
      "[LightGBM] [Info] Number of data points in the train set: 1875, number of used features: 156\n",
      "[LightGBM] [Info] Start training from score 178183.648000\n",
      "[LightGBM] [Info] Auto-choosing row-wise multi-threading, the overhead of testing was 0.017426 seconds.\n",
      "You can set `force_row_wise=true` to remove the overhead.\n",
      "And if memory is not enough, you can set `force_col_wise=true`.\n",
      "[LightGBM] [Info] Total Bins 3630\n",
      "[LightGBM] [Info] Number of data points in the train set: 1875, number of used features: 154\n",
      "[LightGBM] [Info] Start training from score 178974.889600\n",
      "[LightGBM] [Info] Auto-choosing col-wise multi-threading, the overhead of testing was 0.017937 seconds.\n",
      "You can set `force_col_wise=true` to remove the overhead.\n",
      "[LightGBM] [Info] Total Bins 3638\n",
      "[LightGBM] [Info] Number of data points in the train set: 1875, number of used features: 158\n",
      "[LightGBM] [Info] Auto-choosing row-wise multi-threading, the overhead of testing was 0.003721 seconds.\n",
      "You can set `force_row_wise=true` to remove the overhead.\n",
      "And if memory is not enough, you can set `force_col_wise=true`.\n",
      "[LightGBM] [Info] Start training from score 178215.615467\n",
      "[LightGBM] [Info] Total Bins 3627\n",
      "[LightGBM] [Info] Number of data points in the train set: 1876, number of used features: 154\n",
      "[LightGBM] [Info] Start training from score 178235.925373\n"
     ]
    },
    {
     "name": "stderr",
     "output_type": "stream",
     "text": [
      "/Users/macbook/anaconda3/envs/ameshousing-regression/lib/python3.10/site-packages/sklearn/utils/validation.py:2739: UserWarning: X does not have valid feature names, but LGBMRegressor was fitted with feature names\n",
      "  warnings.warn(\n",
      "/Users/macbook/anaconda3/envs/ameshousing-regression/lib/python3.10/site-packages/sklearn/utils/validation.py:2739: UserWarning: X does not have valid feature names, but LGBMRegressor was fitted with feature names\n",
      "  warnings.warn(\n",
      "/Users/macbook/anaconda3/envs/ameshousing-regression/lib/python3.10/site-packages/sklearn/utils/validation.py:2739: UserWarning: X does not have valid feature names, but LGBMRegressor was fitted with feature names\n",
      "  warnings.warn(\n",
      "/Users/macbook/anaconda3/envs/ameshousing-regression/lib/python3.10/site-packages/sklearn/utils/validation.py:2739: UserWarning: X does not have valid feature names, but LGBMRegressor was fitted with feature names\n",
      "  warnings.warn(\n",
      "/Users/macbook/anaconda3/envs/ameshousing-regression/lib/python3.10/site-packages/sklearn/utils/validation.py:2739: UserWarning: X does not have valid feature names, but LGBMRegressor was fitted with feature names\n",
      "  warnings.warn(\n"
     ]
    },
    {
     "name": "stdout",
     "output_type": "stream",
     "text": [
      "[LightGBM] [Info] Auto-choosing row-wise multi-threading, the overhead of testing was 0.014211 seconds.\n",
      "You can set `force_row_wise=true` to remove the overhead.\n",
      "And if memory is not enough, you can set `force_col_wise=true`.\n",
      "[LightGBM] [Info] Total Bins 3640\n",
      "[LightGBM] [Info] Number of data points in the train set: 1875, number of used features: 158\n",
      "[LightGBM] [Info] Start training from score 179301.145067\n",
      "[LightGBM] [Info] Auto-choosing row-wise multi-threading, the overhead of testing was 0.017586 seconds.\n",
      "You can set `force_row_wise=true` to remove the overhead.\n",
      "And if memory is not enough, you can set `force_col_wise=true`.\n",
      "[LightGBM] [Info] Total Bins 3619\n",
      "[LightGBM] [Info] Number of data points in the train set: 1875, number of used features: 156\n",
      "[LightGBM] [Info] Start training from score 178183.648000\n",
      "[LightGBM] [Info] Auto-choosing row-wise multi-threading, the overhead of testing was 0.006041 seconds.\n",
      "You can set `force_row_wise=true` to remove the overhead.\n",
      "And if memory is not enough, you can set `force_col_wise=true`.\n",
      "[LightGBM] [Info] Total Bins 3630\n",
      "[LightGBM] [Info] Number of data points in the train set: 1875, number of used features: 154\n",
      "[LightGBM] [Info] Start training from score 178974.889600\n",
      "[LightGBM] [Info] Auto-choosing row-wise multi-threading, the overhead of testing was 0.004407 seconds.\n",
      "You can set `force_row_wise=true` to remove the overhead.\n",
      "And if memory is not enough, you can set `force_col_wise=true`.\n",
      "[LightGBM] [Info] Total Bins 3638\n",
      "[LightGBM] [Info] Number of data points in the train set: 1875, number of used features: 158\n",
      "[LightGBM] [Info] Start training from score 178215.615467\n",
      "[LightGBM] [Info] Auto-choosing row-wise multi-threading, the overhead of testing was 0.003144 seconds.\n",
      "You can set `force_row_wise=true` to remove the overhead.\n",
      "And if memory is not enough, you can set `force_col_wise=true`.\n",
      "[LightGBM] [Info] Total Bins 3627\n",
      "[LightGBM] [Info] Number of data points in the train set: 1876, number of used features: 154\n",
      "[LightGBM] [Info] Start training from score 178235.925373\n"
     ]
    },
    {
     "name": "stderr",
     "output_type": "stream",
     "text": [
      "/Users/macbook/anaconda3/envs/ameshousing-regression/lib/python3.10/site-packages/sklearn/utils/validation.py:2739: UserWarning: X does not have valid feature names, but LGBMRegressor was fitted with feature names\n",
      "  warnings.warn(\n",
      "/Users/macbook/anaconda3/envs/ameshousing-regression/lib/python3.10/site-packages/sklearn/utils/validation.py:2739: UserWarning: X does not have valid feature names, but LGBMRegressor was fitted with feature names\n",
      "  warnings.warn(\n",
      "/Users/macbook/anaconda3/envs/ameshousing-regression/lib/python3.10/site-packages/sklearn/utils/validation.py:2739: UserWarning: X does not have valid feature names, but LGBMRegressor was fitted with feature names\n",
      "  warnings.warn(\n",
      "/Users/macbook/anaconda3/envs/ameshousing-regression/lib/python3.10/site-packages/sklearn/utils/validation.py:2739: UserWarning: X does not have valid feature names, but LGBMRegressor was fitted with feature names\n",
      "  warnings.warn(\n",
      "/Users/macbook/anaconda3/envs/ameshousing-regression/lib/python3.10/site-packages/sklearn/utils/validation.py:2739: UserWarning: X does not have valid feature names, but LGBMRegressor was fitted with feature names\n",
      "  warnings.warn(\n"
     ]
    },
    {
     "name": "stdout",
     "output_type": "stream",
     "text": [
      "[LightGBM] [Info] Auto-choosing row-wise multi-threading, the overhead of testing was 0.006337 seconds.\n",
      "You can set `force_row_wise=true` to remove the overhead.\n",
      "And if memory is not enough, you can set `force_col_wise=true`.\n",
      "[LightGBM] [Info] Total Bins 3640\n",
      "[LightGBM] [Info] Number of data points in the train set: 1875, number of used features: 158\n",
      "[LightGBM] [Info] Start training from score 179301.145067\n",
      "[LightGBM] [Info] Auto-choosing row-wise multi-threading, the overhead of testing was 0.007877 seconds.\n",
      "You can set `force_row_wise=true` to remove the overhead.\n",
      "And if memory is not enough, you can set `force_col_wise=true`.\n",
      "[LightGBM] [Info] Total Bins 3619\n",
      "[LightGBM] [Info] Number of data points in the train set: 1875, number of used features: 156\n",
      "[LightGBM] [Info] Start training from score 178183.648000\n",
      "[LightGBM] [Info] Auto-choosing row-wise multi-threading, the overhead of testing was 0.002703 seconds.\n",
      "You can set `force_row_wise=true` to remove the overhead.\n",
      "And if memory is not enough, you can set `force_col_wise=true`.\n",
      "[LightGBM] [Info] Total Bins 3630\n",
      "[LightGBM] [Info] Number of data points in the train set: 1875, number of used features: 154\n",
      "[LightGBM] [Info] Start training from score 178974.889600\n",
      "[LightGBM] [Info] Auto-choosing row-wise multi-threading, the overhead of testing was 0.003498 seconds.\n",
      "You can set `force_row_wise=true` to remove the overhead.\n",
      "And if memory is not enough, you can set `force_col_wise=true`.\n",
      "[LightGBM] [Info] Total Bins 3638\n",
      "[LightGBM] [Info] Number of data points in the train set: 1875, number of used features: 158\n",
      "[LightGBM] [Info] Start training from score 178215.615467\n",
      "[LightGBM] [Info] Auto-choosing row-wise multi-threading, the overhead of testing was 0.005966 seconds.\n",
      "You can set `force_row_wise=true` to remove the overhead.\n",
      "And if memory is not enough, you can set `force_col_wise=true`.\n",
      "[LightGBM] [Info] Total Bins 3627\n",
      "[LightGBM] [Info] Number of data points in the train set: 1876, number of used features: 154\n",
      "[LightGBM] [Info] Start training from score 178235.925373\n"
     ]
    },
    {
     "name": "stderr",
     "output_type": "stream",
     "text": [
      "/Users/macbook/anaconda3/envs/ameshousing-regression/lib/python3.10/site-packages/sklearn/utils/validation.py:2739: UserWarning: X does not have valid feature names, but LGBMRegressor was fitted with feature names\n",
      "  warnings.warn(\n",
      "/Users/macbook/anaconda3/envs/ameshousing-regression/lib/python3.10/site-packages/sklearn/utils/validation.py:2739: UserWarning: X does not have valid feature names, but LGBMRegressor was fitted with feature names\n",
      "  warnings.warn(\n",
      "/Users/macbook/anaconda3/envs/ameshousing-regression/lib/python3.10/site-packages/sklearn/utils/validation.py:2739: UserWarning: X does not have valid feature names, but LGBMRegressor was fitted with feature names\n",
      "  warnings.warn(\n",
      "/Users/macbook/anaconda3/envs/ameshousing-regression/lib/python3.10/site-packages/sklearn/utils/validation.py:2739: UserWarning: X does not have valid feature names, but LGBMRegressor was fitted with feature names\n",
      "  warnings.warn(\n",
      "/Users/macbook/anaconda3/envs/ameshousing-regression/lib/python3.10/site-packages/sklearn/utils/validation.py:2739: UserWarning: X does not have valid feature names, but LGBMRegressor was fitted with feature names\n",
      "  warnings.warn(\n"
     ]
    },
    {
     "name": "stdout",
     "output_type": "stream",
     "text": [
      "[LightGBM] [Info] Auto-choosing row-wise multi-threading, the overhead of testing was 0.004803 seconds.\n",
      "You can set `force_row_wise=true` to remove the overhead.\n",
      "And if memory is not enough, you can set `force_col_wise=true`.\n",
      "[LightGBM] [Info] Total Bins 3640\n",
      "[LightGBM] [Info] Number of data points in the train set: 1875, number of used features: 158\n",
      "[LightGBM] [Info] Start training from score 179301.145067\n",
      "[LightGBM] [Info] Auto-choosing row-wise multi-threading, the overhead of testing was 0.006766 seconds.\n",
      "You can set `force_row_wise=true` to remove the overhead.\n",
      "And if memory is not enough, you can set `force_col_wise=true`.\n",
      "[LightGBM] [Info] Total Bins 3619\n",
      "[LightGBM] [Info] Number of data points in the train set: 1875, number of used features: 156\n",
      "[LightGBM] [Info] Start training from score 178183.648000\n",
      "[LightGBM] [Info] Auto-choosing row-wise multi-threading, the overhead of testing was 0.004291 seconds.\n",
      "You can set `force_row_wise=true` to remove the overhead.\n",
      "And if memory is not enough, you can set `force_col_wise=true`.\n",
      "[LightGBM] [Info] Total Bins 3630\n",
      "[LightGBM] [Info] Number of data points in the train set: 1875, number of used features: 154\n",
      "[LightGBM] [Info] Start training from score 178974.889600\n",
      "[LightGBM] [Info] Auto-choosing row-wise multi-threading, the overhead of testing was 0.002908 seconds.\n",
      "You can set `force_row_wise=true` to remove the overhead.\n",
      "And if memory is not enough, you can set `force_col_wise=true`.\n",
      "[LightGBM] [Info] Auto-choosing row-wise multi-threading, the overhead of testing was 0.008527 seconds.\n",
      "You can set `force_row_wise=true` to remove the overhead.\n",
      "And if memory is not enough, you can set `force_col_wise=true`.\n",
      "[LightGBM] [Info] Total Bins 3627\n",
      "[LightGBM] [Info] Total Bins 3638\n",
      "[LightGBM] [Info] Number of data points in the train set: 1875, number of used features: 158\n",
      "[LightGBM] [Info] Number of data points in the train set: 1876, number of used features: 154\n",
      "[LightGBM] [Info] Start training from score 178215.615467[LightGBM] [Info] Start training from score 178235.925373\n",
      "\n"
     ]
    },
    {
     "name": "stderr",
     "output_type": "stream",
     "text": [
      "/Users/macbook/anaconda3/envs/ameshousing-regression/lib/python3.10/site-packages/sklearn/utils/validation.py:2739: UserWarning: X does not have valid feature names, but LGBMRegressor was fitted with feature names\n",
      "  warnings.warn(\n",
      "/Users/macbook/anaconda3/envs/ameshousing-regression/lib/python3.10/site-packages/sklearn/utils/validation.py:2739: UserWarning: X does not have valid feature names, but LGBMRegressor was fitted with feature names\n",
      "  warnings.warn(\n",
      "/Users/macbook/anaconda3/envs/ameshousing-regression/lib/python3.10/site-packages/sklearn/utils/validation.py:2739: UserWarning: X does not have valid feature names, but LGBMRegressor was fitted with feature names\n",
      "  warnings.warn(\n",
      "/Users/macbook/anaconda3/envs/ameshousing-regression/lib/python3.10/site-packages/sklearn/utils/validation.py:2739: UserWarning: X does not have valid feature names, but LGBMRegressor was fitted with feature names\n",
      "  warnings.warn(\n",
      "/Users/macbook/anaconda3/envs/ameshousing-regression/lib/python3.10/site-packages/sklearn/utils/validation.py:2739: UserWarning: X does not have valid feature names, but LGBMRegressor was fitted with feature names\n",
      "  warnings.warn(\n"
     ]
    },
    {
     "name": "stdout",
     "output_type": "stream",
     "text": [
      "[LightGBM] [Info] Auto-choosing row-wise multi-threading, the overhead of testing was 0.002383 seconds.\n",
      "You can set `force_row_wise=true` to remove the overhead.\n",
      "And if memory is not enough, you can set `force_col_wise=true`.\n",
      "[LightGBM] [Info] Total Bins 3640\n",
      "[LightGBM] [Info] Number of data points in the train set: 1875, number of used features: 158\n",
      "[LightGBM] [Info] Start training from score 179301.145067\n",
      "[LightGBM] [Info] Auto-choosing row-wise multi-threading, the overhead of testing was 0.007882 seconds.\n",
      "You can set `force_row_wise=true` to remove the overhead.\n",
      "And if memory is not enough, you can set `force_col_wise=true`.\n",
      "[LightGBM] [Info] Total Bins 3619\n",
      "[LightGBM] [Info] Number of data points in the train set: 1875, number of used features: 156\n",
      "[LightGBM] [Info] Start training from score 178183.648000\n",
      "[LightGBM] [Info] Auto-choosing row-wise multi-threading, the overhead of testing was 0.003973 seconds.\n",
      "You can set `force_row_wise=true` to remove the overhead.\n",
      "And if memory is not enough, you can set `force_col_wise=true`.\n",
      "[LightGBM] [Info] Total Bins 3630\n",
      "[LightGBM] [Info] Number of data points in the train set: 1875, number of used features: 154\n",
      "[LightGBM] [Info] Start training from score 178974.889600\n",
      "[LightGBM] [Info] Auto-choosing row-wise multi-threading, the overhead of testing was 0.004172 seconds.\n",
      "You can set `force_row_wise=true` to remove the overhead.\n",
      "And if memory is not enough, you can set `force_col_wise=true`.\n",
      "[LightGBM] [Info] Total Bins 3638\n",
      "[LightGBM] [Info] Number of data points in the train set: 1875, number of used features: 158\n",
      "[LightGBM] [Info] Start training from score 178215.615467\n",
      "[LightGBM] [Info] Auto-choosing row-wise multi-threading, the overhead of testing was 0.003130 seconds.\n",
      "You can set `force_row_wise=true` to remove the overhead.\n",
      "And if memory is not enough, you can set `force_col_wise=true`.\n",
      "[LightGBM] [Info] Total Bins 3627\n",
      "[LightGBM] [Info] Number of data points in the train set: 1876, number of used features: 154\n",
      "[LightGBM] [Info] Start training from score 178235.925373\n"
     ]
    },
    {
     "name": "stderr",
     "output_type": "stream",
     "text": [
      "/Users/macbook/anaconda3/envs/ameshousing-regression/lib/python3.10/site-packages/sklearn/utils/validation.py:2739: UserWarning: X does not have valid feature names, but LGBMRegressor was fitted with feature names\n",
      "  warnings.warn(\n",
      "/Users/macbook/anaconda3/envs/ameshousing-regression/lib/python3.10/site-packages/sklearn/utils/validation.py:2739: UserWarning: X does not have valid feature names, but LGBMRegressor was fitted with feature names\n",
      "  warnings.warn(\n",
      "/Users/macbook/anaconda3/envs/ameshousing-regression/lib/python3.10/site-packages/sklearn/utils/validation.py:2739: UserWarning: X does not have valid feature names, but LGBMRegressor was fitted with feature names\n",
      "  warnings.warn(\n",
      "/Users/macbook/anaconda3/envs/ameshousing-regression/lib/python3.10/site-packages/sklearn/utils/validation.py:2739: UserWarning: X does not have valid feature names, but LGBMRegressor was fitted with feature names\n",
      "  warnings.warn(\n",
      "/Users/macbook/anaconda3/envs/ameshousing-regression/lib/python3.10/site-packages/sklearn/utils/validation.py:2739: UserWarning: X does not have valid feature names, but LGBMRegressor was fitted with feature names\n",
      "  warnings.warn(\n"
     ]
    },
    {
     "name": "stdout",
     "output_type": "stream",
     "text": [
      "[LightGBM] [Info] Auto-choosing row-wise multi-threading, the overhead of testing was 0.006249 seconds.\n",
      "You can set `force_row_wise=true` to remove the overhead.\n",
      "And if memory is not enough, you can set `force_col_wise=true`.\n",
      "[LightGBM] [Info] Total Bins 3640\n",
      "[LightGBM] [Info] Number of data points in the train set: 1875, number of used features: 158\n",
      "[LightGBM] [Info] Start training from score 179301.145067\n",
      "[LightGBM] [Info] Auto-choosing col-wise multi-threading, the overhead of testing was 0.020840 seconds.\n",
      "You can set `force_col_wise=true` to remove the overhead.\n",
      "[LightGBM] [Info] Total Bins 3619\n",
      "[LightGBM] [Info] Number of data points in the train set: 1875, number of used features: 156\n",
      "[LightGBM] [Info] Start training from score 178183.648000\n",
      "[LightGBM] [Info] Auto-choosing col-wise multi-threading, the overhead of testing was 0.013444 seconds.\n",
      "You can set `force_col_wise=true` to remove the overhead.\n",
      "[LightGBM] [Info] Total Bins 3630\n",
      "[LightGBM] [Info] Number of data points in the train set: 1875, number of used features: 154\n",
      "[LightGBM] [Info] Start training from score 178974.889600\n",
      "[LightGBM] [Info] Auto-choosing row-wise multi-threading, the overhead of testing was 0.003728 seconds.\n",
      "You can set `force_row_wise=true` to remove the overhead.\n",
      "And if memory is not enough, you can set `force_col_wise=true`.\n",
      "[LightGBM] [Info] Total Bins 3638\n",
      "[LightGBM] [Info] Number of data points in the train set: 1875, number of used features: 158\n",
      "[LightGBM] [Info] Start training from score 178215.615467\n",
      "[LightGBM] [Info] Auto-choosing row-wise multi-threading, the overhead of testing was 0.004265 seconds.\n",
      "You can set `force_row_wise=true` to remove the overhead.\n",
      "And if memory is not enough, you can set `force_col_wise=true`.\n",
      "[LightGBM] [Info] Total Bins 3627\n",
      "[LightGBM] [Info] Number of data points in the train set: 1876, number of used features: 154\n",
      "[LightGBM] [Info] Start training from score 178235.925373\n"
     ]
    },
    {
     "name": "stderr",
     "output_type": "stream",
     "text": [
      "/Users/macbook/anaconda3/envs/ameshousing-regression/lib/python3.10/site-packages/sklearn/utils/validation.py:2739: UserWarning: X does not have valid feature names, but LGBMRegressor was fitted with feature names\n",
      "  warnings.warn(\n",
      "/Users/macbook/anaconda3/envs/ameshousing-regression/lib/python3.10/site-packages/sklearn/utils/validation.py:2739: UserWarning: X does not have valid feature names, but LGBMRegressor was fitted with feature names\n",
      "  warnings.warn(\n",
      "/Users/macbook/anaconda3/envs/ameshousing-regression/lib/python3.10/site-packages/sklearn/utils/validation.py:2739: UserWarning: X does not have valid feature names, but LGBMRegressor was fitted with feature names\n",
      "  warnings.warn(\n",
      "/Users/macbook/anaconda3/envs/ameshousing-regression/lib/python3.10/site-packages/sklearn/utils/validation.py:2739: UserWarning: X does not have valid feature names, but LGBMRegressor was fitted with feature names\n",
      "  warnings.warn(\n",
      "/Users/macbook/anaconda3/envs/ameshousing-regression/lib/python3.10/site-packages/sklearn/utils/validation.py:2739: UserWarning: X does not have valid feature names, but LGBMRegressor was fitted with feature names\n",
      "  warnings.warn(\n"
     ]
    },
    {
     "name": "stdout",
     "output_type": "stream",
     "text": [
      "[LightGBM] [Info] Auto-choosing row-wise multi-threading, the overhead of testing was 0.013860 seconds.\n",
      "You can set `force_row_wise=true` to remove the overhead.\n",
      "And if memory is not enough, you can set `force_col_wise=true`.\n",
      "[LightGBM] [Info] Total Bins 3640\n",
      "[LightGBM] [Info] Number of data points in the train set: 1875, number of used features: 158\n",
      "[LightGBM] [Info] Start training from score 179301.145067\n",
      "[LightGBM] [Info] Auto-choosing row-wise multi-threading, the overhead of testing was 0.003510 seconds.\n",
      "You can set `force_row_wise=true` to remove the overhead.\n",
      "And if memory is not enough, you can set `force_col_wise=true`.\n",
      "[LightGBM] [Info] Total Bins 3619\n",
      "[LightGBM] [Info] Number of data points in the train set: 1875, number of used features: 156\n",
      "[LightGBM] [Info] Start training from score 178183.648000\n",
      "[LightGBM] [Info] Auto-choosing row-wise multi-threading, the overhead of testing was 0.014778 seconds.\n",
      "You can set `force_row_wise=true` to remove the overhead.\n",
      "And if memory is not enough, you can set `force_col_wise=true`.\n",
      "[LightGBM] [Info] Total Bins 3630\n",
      "[LightGBM] [Info] Number of data points in the train set: 1875, number of used features: 154\n",
      "[LightGBM] [Info] Start training from score 178974.889600\n",
      "[LightGBM] [Info] Auto-choosing col-wise multi-threading, the overhead of testing was 0.009300 seconds.\n",
      "You can set `force_col_wise=true` to remove the overhead.\n",
      "[LightGBM] [Info] Total Bins 3638\n",
      "[LightGBM] [Info] Number of data points in the train set: 1875, number of used features: 158\n",
      "[LightGBM] [Info] Start training from score 178215.615467\n",
      "[LightGBM] [Info] Auto-choosing col-wise multi-threading, the overhead of testing was 0.005731 seconds.\n",
      "You can set `force_col_wise=true` to remove the overhead.\n",
      "[LightGBM] [Info] Total Bins 3627\n",
      "[LightGBM] [Info] Number of data points in the train set: 1876, number of used features: 154\n",
      "[LightGBM] [Info] Start training from score 178235.925373\n"
     ]
    },
    {
     "name": "stderr",
     "output_type": "stream",
     "text": [
      "/Users/macbook/anaconda3/envs/ameshousing-regression/lib/python3.10/site-packages/sklearn/utils/validation.py:2739: UserWarning: X does not have valid feature names, but LGBMRegressor was fitted with feature names\n",
      "  warnings.warn(\n",
      "/Users/macbook/anaconda3/envs/ameshousing-regression/lib/python3.10/site-packages/sklearn/utils/validation.py:2739: UserWarning: X does not have valid feature names, but LGBMRegressor was fitted with feature names\n",
      "  warnings.warn(\n",
      "/Users/macbook/anaconda3/envs/ameshousing-regression/lib/python3.10/site-packages/sklearn/utils/validation.py:2739: UserWarning: X does not have valid feature names, but LGBMRegressor was fitted with feature names\n",
      "  warnings.warn(\n",
      "/Users/macbook/anaconda3/envs/ameshousing-regression/lib/python3.10/site-packages/sklearn/utils/validation.py:2739: UserWarning: X does not have valid feature names, but LGBMRegressor was fitted with feature names\n",
      "  warnings.warn(\n",
      "/Users/macbook/anaconda3/envs/ameshousing-regression/lib/python3.10/site-packages/sklearn/utils/validation.py:2739: UserWarning: X does not have valid feature names, but LGBMRegressor was fitted with feature names\n",
      "  warnings.warn(\n"
     ]
    },
    {
     "name": "stdout",
     "output_type": "stream",
     "text": [
      "[LightGBM] [Info] Auto-choosing row-wise multi-threading, the overhead of testing was 0.019246 seconds.\n",
      "You can set `force_row_wise=true` to remove the overhead.\n",
      "And if memory is not enough, you can set `force_col_wise=true`.\n",
      "[LightGBM] [Info] Total Bins 3640\n",
      "[LightGBM] [Info] Number of data points in the train set: 1875, number of used features: 158\n",
      "[LightGBM] [Info] Start training from score 179301.145067\n",
      "[LightGBM] [Info] Auto-choosing row-wise multi-threading, the overhead of testing was 0.005569 seconds.\n",
      "You can set `force_row_wise=true` to remove the overhead.\n",
      "And if memory is not enough, you can set `force_col_wise=true`.\n",
      "[LightGBM] [Info] Total Bins 3619\n",
      "[LightGBM] [Info] Number of data points in the train set: 1875, number of used features: 156\n",
      "[LightGBM] [Info] Start training from score 178183.648000\n",
      "[LightGBM] [Info] Auto-choosing row-wise multi-threading, the overhead of testing was 0.008758 seconds.\n",
      "You can set `force_row_wise=true` to remove the overhead.\n",
      "And if memory is not enough, you can set `force_col_wise=true`.\n",
      "[LightGBM] [Info] Total Bins 3630\n",
      "[LightGBM] [Info] Number of data points in the train set: 1875, number of used features: 154\n",
      "[LightGBM] [Info] Auto-choosing col-wise multi-threading, the overhead of testing was 0.004587 seconds.\n",
      "You can set `force_col_wise=true` to remove the overhead.\n",
      "[LightGBM] [Info] Start training from score 178974.889600\n",
      "[LightGBM] [Info] Total Bins 3638\n",
      "[LightGBM] [Info] Number of data points in the train set: 1875, number of used features: 158\n",
      "[LightGBM] [Info] Start training from score 178215.615467\n",
      "[LightGBM] [Info] Auto-choosing row-wise multi-threading, the overhead of testing was 0.005359 seconds.\n",
      "You can set `force_row_wise=true` to remove the overhead.\n",
      "And if memory is not enough, you can set `force_col_wise=true`.\n",
      "[LightGBM] [Info] Total Bins 3627\n",
      "[LightGBM] [Info] Number of data points in the train set: 1876, number of used features: 154\n",
      "[LightGBM] [Info] Start training from score 178235.925373\n"
     ]
    },
    {
     "name": "stderr",
     "output_type": "stream",
     "text": [
      "/Users/macbook/anaconda3/envs/ameshousing-regression/lib/python3.10/site-packages/sklearn/utils/validation.py:2739: UserWarning: X does not have valid feature names, but LGBMRegressor was fitted with feature names\n",
      "  warnings.warn(\n",
      "/Users/macbook/anaconda3/envs/ameshousing-regression/lib/python3.10/site-packages/sklearn/utils/validation.py:2739: UserWarning: X does not have valid feature names, but LGBMRegressor was fitted with feature names\n",
      "  warnings.warn(\n",
      "/Users/macbook/anaconda3/envs/ameshousing-regression/lib/python3.10/site-packages/sklearn/utils/validation.py:2739: UserWarning: X does not have valid feature names, but LGBMRegressor was fitted with feature names\n",
      "  warnings.warn(\n",
      "/Users/macbook/anaconda3/envs/ameshousing-regression/lib/python3.10/site-packages/sklearn/utils/validation.py:2739: UserWarning: X does not have valid feature names, but LGBMRegressor was fitted with feature names\n",
      "  warnings.warn(\n",
      "/Users/macbook/anaconda3/envs/ameshousing-regression/lib/python3.10/site-packages/sklearn/utils/validation.py:2739: UserWarning: X does not have valid feature names, but LGBMRegressor was fitted with feature names\n",
      "  warnings.warn(\n"
     ]
    },
    {
     "name": "stdout",
     "output_type": "stream",
     "text": [
      "[LightGBM] [Info] Auto-choosing row-wise multi-threading, the overhead of testing was 0.036779 seconds.\n",
      "You can set `force_row_wise=true` to remove the overhead.\n",
      "And if memory is not enough, you can set `force_col_wise=true`.\n",
      "[LightGBM] [Info] Total Bins 3640\n",
      "[LightGBM] [Info] Number of data points in the train set: 1875, number of used features: 158\n",
      "[LightGBM] [Info] Start training from score 179301.145067\n",
      "[LightGBM] [Info] Auto-choosing row-wise multi-threading, the overhead of testing was 0.023978 seconds.\n",
      "You can set `force_row_wise=true` to remove the overhead.\n",
      "And if memory is not enough, you can set `force_col_wise=true`.\n",
      "[LightGBM] [Info] Total Bins 3619\n",
      "[LightGBM] [Info] Number of data points in the train set: 1875, number of used features: 156\n",
      "[LightGBM] [Info] Start training from score 178183.648000\n",
      "[LightGBM] [Info] Auto-choosing row-wise multi-threading, the overhead of testing was 0.019487 seconds.\n",
      "You can set `force_row_wise=true` to remove the overhead.\n",
      "And if memory is not enough, you can set `force_col_wise=true`.\n",
      "[LightGBM] [Info] Total Bins 3630\n",
      "[LightGBM] [Info] Number of data points in the train set: 1875, number of used features: 154\n",
      "[LightGBM] [Info] Start training from score 178974.889600\n",
      "[LightGBM] [Info] Auto-choosing row-wise multi-threading, the overhead of testing was 0.003393 seconds.\n",
      "You can set `force_row_wise=true` to remove the overhead.\n",
      "And if memory is not enough, you can set `force_col_wise=true`.\n",
      "[LightGBM] [Info] Total Bins 3638\n",
      "[LightGBM] [Info] Number of data points in the train set: 1875, number of used features: 158\n",
      "[LightGBM] [Info] Start training from score 178215.615467\n",
      "[LightGBM] [Info] Auto-choosing row-wise multi-threading, the overhead of testing was 0.011500 seconds.\n",
      "You can set `force_row_wise=true` to remove the overhead.\n",
      "And if memory is not enough, you can set `force_col_wise=true`.\n",
      "[LightGBM] [Info] Total Bins 3627\n",
      "[LightGBM] [Info] Number of data points in the train set: 1876, number of used features: 154\n",
      "[LightGBM] [Info] Start training from score 178235.925373\n"
     ]
    },
    {
     "name": "stderr",
     "output_type": "stream",
     "text": [
      "/Users/macbook/anaconda3/envs/ameshousing-regression/lib/python3.10/site-packages/sklearn/utils/validation.py:2739: UserWarning: X does not have valid feature names, but LGBMRegressor was fitted with feature names\n",
      "  warnings.warn(\n",
      "/Users/macbook/anaconda3/envs/ameshousing-regression/lib/python3.10/site-packages/sklearn/utils/validation.py:2739: UserWarning: X does not have valid feature names, but LGBMRegressor was fitted with feature names\n",
      "  warnings.warn(\n",
      "/Users/macbook/anaconda3/envs/ameshousing-regression/lib/python3.10/site-packages/sklearn/utils/validation.py:2739: UserWarning: X does not have valid feature names, but LGBMRegressor was fitted with feature names\n",
      "  warnings.warn(\n",
      "/Users/macbook/anaconda3/envs/ameshousing-regression/lib/python3.10/site-packages/sklearn/utils/validation.py:2739: UserWarning: X does not have valid feature names, but LGBMRegressor was fitted with feature names\n",
      "  warnings.warn(\n",
      "/Users/macbook/anaconda3/envs/ameshousing-regression/lib/python3.10/site-packages/sklearn/utils/validation.py:2739: UserWarning: X does not have valid feature names, but LGBMRegressor was fitted with feature names\n",
      "  warnings.warn(\n"
     ]
    },
    {
     "name": "stdout",
     "output_type": "stream",
     "text": [
      "[LightGBM] [Info] Auto-choosing col-wise multi-threading, the overhead of testing was 0.023302 seconds.\n",
      "You can set `force_col_wise=true` to remove the overhead.\n",
      "[LightGBM] [Info] Total Bins 3630\n",
      "[LightGBM] [Info] Auto-choosing row-wise multi-threading, the overhead of testing was 0.043483 seconds.\n",
      "You can set `force_row_wise=true` to remove the overhead.\n",
      "And if memory is not enough, you can set `force_col_wise=true`.\n",
      "[LightGBM] [Info] Number of data points in the train set: 1875, number of used features: 154\n",
      "[LightGBM] [Info] Total Bins 3619\n",
      "[LightGBM] [Info] Start training from score 178974.889600\n",
      "[LightGBM] [Info] Number of data points in the train set: 1875, number of used features: 156\n",
      "[LightGBM] [Info] Start training from score 178183.648000\n",
      "[LightGBM] [Info] Auto-choosing row-wise multi-threading, the overhead of testing was 0.057467 seconds.\n",
      "You can set `force_row_wise=true` to remove the overhead.\n",
      "And if memory is not enough, you can set `force_col_wise=true`.\n",
      "[LightGBM] [Info] Total Bins 3640\n",
      "[LightGBM] [Info] Number of data points in the train set: 1875, number of used features: 158\n",
      "[LightGBM] [Info] Auto-choosing row-wise multi-threading, the overhead of testing was 0.041766 seconds.\n",
      "You can set `force_row_wise=true` to remove the overhead.\n",
      "And if memory is not enough, you can set `force_col_wise=true`.\n",
      "[LightGBM] [Info] Start training from score 179301.145067\n",
      "[LightGBM] [Info] Total Bins 3638\n",
      "[LightGBM] [Info] Number of data points in the train set: 1875, number of used features: 158\n",
      "[LightGBM] [Info] Start training from score 178215.615467\n",
      "[LightGBM] [Info] Auto-choosing row-wise multi-threading, the overhead of testing was 0.016179 seconds.\n",
      "You can set `force_row_wise=true` to remove the overhead.\n",
      "And if memory is not enough, you can set `force_col_wise=true`.\n",
      "[LightGBM] [Info] Total Bins 3627\n",
      "[LightGBM] [Info] Number of data points in the train set: 1876, number of used features: 154\n",
      "[LightGBM] [Info] Start training from score 178235.925373\n"
     ]
    },
    {
     "name": "stderr",
     "output_type": "stream",
     "text": [
      "/Users/macbook/anaconda3/envs/ameshousing-regression/lib/python3.10/site-packages/sklearn/utils/validation.py:2739: UserWarning: X does not have valid feature names, but LGBMRegressor was fitted with feature names\n",
      "  warnings.warn(\n",
      "/Users/macbook/anaconda3/envs/ameshousing-regression/lib/python3.10/site-packages/sklearn/utils/validation.py:2739: UserWarning: X does not have valid feature names, but LGBMRegressor was fitted with feature names\n",
      "  warnings.warn(\n",
      "/Users/macbook/anaconda3/envs/ameshousing-regression/lib/python3.10/site-packages/sklearn/utils/validation.py:2739: UserWarning: X does not have valid feature names, but LGBMRegressor was fitted with feature names\n",
      "  warnings.warn(\n",
      "/Users/macbook/anaconda3/envs/ameshousing-regression/lib/python3.10/site-packages/sklearn/utils/validation.py:2739: UserWarning: X does not have valid feature names, but LGBMRegressor was fitted with feature names\n",
      "  warnings.warn(\n",
      "/Users/macbook/anaconda3/envs/ameshousing-regression/lib/python3.10/site-packages/sklearn/utils/validation.py:2739: UserWarning: X does not have valid feature names, but LGBMRegressor was fitted with feature names\n",
      "  warnings.warn(\n"
     ]
    },
    {
     "name": "stdout",
     "output_type": "stream",
     "text": [
      "[LightGBM] [Info] Auto-choosing row-wise multi-threading, the overhead of testing was 0.001383 seconds.\n",
      "You can set `force_row_wise=true` to remove the overhead.\n",
      "And if memory is not enough, you can set `force_col_wise=true`.\n",
      "[LightGBM] [Info] Total Bins 3735\n",
      "[LightGBM] [Info] Number of data points in the train set: 2344, number of used features: 168\n",
      "[LightGBM] [Info] Start training from score 178582.207765\n",
      "Best params for LightGBM: OrderedDict([('regressor__learning_rate', 0.08029777314562332), ('regressor__n_estimators', 300), ('regressor__num_leaves', 20)])\n",
      "BayesSearchCV for CatBoost...\n",
      "Best params for CatBoost: OrderedDict([('regressor__depth', 6), ('regressor__iterations', 938), ('regressor__learning_rate', 0.05341596230414008)])\n"
     ]
    }
   ],
   "source": [
    "# --- 3. BayesSearchCV ---\n",
    "\n",
    "search_spaces = {\n",
    "    \"Ridge\": {\"regressor__alpha\": Real(0.01, 100, prior='log-uniform')},\n",
    "    \"Lasso\": {\"regressor__alpha\": Real(0.0001, 0.1, prior='log-uniform')},\n",
    "    \"DecisionTree\": {\n",
    "        \"regressor__max_depth\": Integer(3, 20),\n",
    "        \"regressor__min_samples_split\": Integer(2, 10)\n",
    "    },\n",
    "    \"RandomForest\": {\n",
    "        \"regressor__n_estimators\": Integer(100, 300),\n",
    "        \"regressor__max_depth\": Integer(5, 20)\n",
    "    },\n",
    "    \"GradientBoosting\": {\n",
    "        \"regressor__n_estimators\": Integer(100, 300),\n",
    "        \"regressor__learning_rate\": Real(0.01, 0.2, prior='log-uniform'),\n",
    "        \"regressor__max_depth\": Integer(3, 6)\n",
    "    },\n",
    "    \"XGBoost\": {\n",
    "        \"regressor__n_estimators\": Integer(100, 300),\n",
    "        \"regressor__learning_rate\": Real(0.01, 0.2, prior='log-uniform'),\n",
    "        \"regressor__max_depth\": Integer(3, 6)\n",
    "    },\n",
    "    \"LightGBM\": {\n",
    "        \"regressor__n_estimators\": Integer(100, 300),\n",
    "        \"regressor__learning_rate\": Real(0.01, 0.2, prior='log-uniform'),\n",
    "        \"regressor__num_leaves\": Integer(20, 50)\n",
    "    },\n",
    "    \"CatBoost\": {\n",
    "        \"regressor__iterations\": Integer(500, 1000),\n",
    "        \"regressor__learning_rate\": Real(0.03, 0.1, prior='log-uniform'),\n",
    "        \"regressor__depth\": Integer(4, 8)\n",
    "    }\n",
    "}\n",
    "\n",
    "tuned_models_bayes = {}\n",
    "for name, pipeline in pipelines.items():\n",
    "    if name in search_spaces:\n",
    "        print(f\"BayesSearchCV for {name}...\")\n",
    "        bayes = BayesSearchCV(pipeline, search_spaces[name], n_iter=30, cv=5,\n",
    "                              scoring='neg_root_mean_squared_error', n_jobs=-1, random_state=42)\n",
    "        bayes.fit(X_train, y_train)\n",
    "        tuned_models_bayes[name] = bayes.best_estimator_\n",
    "        print(f\"Best params for {name}: {bayes.best_params_}\")\n"
   ]
  },
  {
   "cell_type": "markdown",
   "metadata": {},
   "source": [
    "#### Evaluasi"
   ]
  },
  {
   "cell_type": "code",
   "execution_count": 48,
   "metadata": {},
   "outputs": [
    {
     "name": "stdout",
     "output_type": "stream",
     "text": [
      "Evaluating Ridge (GridSearchCV)...\n",
      "Evaluating Lasso (GridSearchCV)...\n",
      "Evaluating DecisionTree (GridSearchCV)...\n",
      "Evaluating RandomForest (GridSearchCV)...\n",
      "Evaluating GradientBoosting (GridSearchCV)...\n",
      "Evaluating XGBoost (GridSearchCV)...\n",
      "Evaluating LightGBM (GridSearchCV)...\n",
      "Evaluating CatBoost (GridSearchCV)...\n"
     ]
    },
    {
     "name": "stderr",
     "output_type": "stream",
     "text": [
      "/Users/macbook/anaconda3/envs/ameshousing-regression/lib/python3.10/site-packages/sklearn/utils/validation.py:2739: UserWarning: X does not have valid feature names, but LGBMRegressor was fitted with feature names\n",
      "  warnings.warn(\n"
     ]
    },
    {
     "name": "stdout",
     "output_type": "stream",
     "text": [
      "Evaluating Ridge (RandomizedSearchCV)...\n",
      "Evaluating Lasso (RandomizedSearchCV)...\n",
      "Evaluating DecisionTree (RandomizedSearchCV)...\n",
      "Evaluating RandomForest (RandomizedSearchCV)...\n",
      "Evaluating GradientBoosting (RandomizedSearchCV)...\n",
      "Evaluating XGBoost (RandomizedSearchCV)...\n",
      "Evaluating LightGBM (RandomizedSearchCV)...\n",
      "Evaluating CatBoost (RandomizedSearchCV)...\n"
     ]
    },
    {
     "name": "stderr",
     "output_type": "stream",
     "text": [
      "/Users/macbook/anaconda3/envs/ameshousing-regression/lib/python3.10/site-packages/sklearn/utils/validation.py:2739: UserWarning: X does not have valid feature names, but LGBMRegressor was fitted with feature names\n",
      "  warnings.warn(\n"
     ]
    },
    {
     "name": "stdout",
     "output_type": "stream",
     "text": [
      "Evaluating Ridge (BayesSearchCV)...\n",
      "Evaluating Lasso (BayesSearchCV)...\n",
      "Evaluating DecisionTree (BayesSearchCV)...\n",
      "Evaluating RandomForest (BayesSearchCV)...\n",
      "Evaluating GradientBoosting (BayesSearchCV)...\n",
      "Evaluating XGBoost (BayesSearchCV)...\n",
      "Evaluating LightGBM (BayesSearchCV)...\n",
      "Evaluating CatBoost (BayesSearchCV)...\n"
     ]
    },
    {
     "name": "stderr",
     "output_type": "stream",
     "text": [
      "/Users/macbook/anaconda3/envs/ameshousing-regression/lib/python3.10/site-packages/sklearn/utils/validation.py:2739: UserWarning: X does not have valid feature names, but LGBMRegressor was fitted with feature names\n",
      "  warnings.warn(\n"
     ]
    },
    {
     "name": "stdout",
     "output_type": "stream",
     "text": [
      "         Tuning Method             Model      MAE     RMSE   R2\n",
      "0   RandomizedSearchCV          CatBoost 13684.86 23111.24 0.93\n",
      "1         GridSearchCV          CatBoost 13427.96 23161.90 0.93\n",
      "2        BayesSearchCV          CatBoost 13692.51 23294.07 0.93\n",
      "3        BayesSearchCV           XGBoost 14256.74 23414.36 0.93\n",
      "4         GridSearchCV           XGBoost 14515.83 24257.77 0.93\n",
      "5   RandomizedSearchCV           XGBoost 15059.42 24411.67 0.93\n",
      "6         GridSearchCV  GradientBoosting 14402.58 24556.71 0.92\n",
      "7   RandomizedSearchCV  GradientBoosting 14470.43 25082.11 0.92\n",
      "8        BayesSearchCV  GradientBoosting 14198.76 25440.63 0.92\n",
      "9   RandomizedSearchCV      RandomForest 15586.13 26371.09 0.91\n",
      "10        GridSearchCV      RandomForest 15587.31 26484.75 0.91\n",
      "11  RandomizedSearchCV          LightGBM 14736.39 26564.54 0.91\n",
      "12       BayesSearchCV      RandomForest 15638.91 27285.11 0.91\n",
      "13       BayesSearchCV          LightGBM 15036.25 27358.84 0.91\n",
      "14        GridSearchCV          LightGBM 15076.84 27425.40 0.91\n",
      "15  RandomizedSearchCV             Ridge 18902.16 30998.78 0.88\n",
      "16       BayesSearchCV             Ridge 18890.27 31017.60 0.88\n",
      "17        GridSearchCV             Ridge 18881.65 31033.80 0.88\n",
      "18        GridSearchCV             Lasso 18405.47 31056.57 0.88\n",
      "19       BayesSearchCV             Lasso 18405.49 31056.63 0.88\n",
      "20  RandomizedSearchCV             Lasso 18405.61 31056.94 0.88\n",
      "21        GridSearchCV      DecisionTree 22388.87 32980.43 0.86\n",
      "22  RandomizedSearchCV      DecisionTree 22969.55 33906.40 0.86\n",
      "23       BayesSearchCV      DecisionTree 23291.68 34471.46 0.85\n"
     ]
    }
   ],
   "source": [
    "def evaluate_tuned_models(tuned_models_dict, name):\n",
    "    evaluation_results = []\n",
    "\n",
    "    for model_name, model in tuned_models_dict.items():\n",
    "        print(f\"Evaluating {model_name} ({name})...\")\n",
    "        y_pred = model.predict(X_test)\n",
    "        mae = mean_absolute_error(y_test, y_pred)\n",
    "        rmse = np.sqrt(mean_squared_error(y_test, y_pred))\n",
    "        r2 = r2_score(y_test, y_pred)\n",
    "\n",
    "        evaluation_results.append({\n",
    "            \"Tuning Method\": name,\n",
    "            \"Model\": model_name,\n",
    "            \"MAE\": mae,\n",
    "            \"RMSE\": rmse,\n",
    "            \"R2\": r2\n",
    "        })\n",
    "\n",
    "    return pd.DataFrame(evaluation_results)\n",
    "\n",
    "# Evaluasi semua hasil tuning\n",
    "results_grid = evaluate_tuned_models(tuned_models_grid, \"GridSearchCV\")\n",
    "results_random = evaluate_tuned_models(tuned_models_random, \"RandomizedSearchCV\")\n",
    "results_bayes = evaluate_tuned_models(tuned_models_bayes, \"BayesSearchCV\")\n",
    "\n",
    "# Gabungkan semua hasil evaluasi\n",
    "final_results = pd.concat([results_grid, results_random, results_bayes])\n",
    "final_results_sorted = final_results.sort_values(by=\"RMSE\")\n",
    "\n",
    "# Tampilkan\n",
    "print(final_results_sorted.reset_index(drop=True))\n"
   ]
  },
  {
   "cell_type": "code",
   "execution_count": 49,
   "metadata": {},
   "outputs": [
    {
     "name": "stdout",
     "output_type": "stream",
     "text": [
      "\n",
      "=== Evaluation Results: GridSearchCV ===\n",
      "Evaluating Ridge (GridSearchCV)...\n",
      "Evaluating Lasso (GridSearchCV)...\n",
      "Evaluating DecisionTree (GridSearchCV)...\n",
      "Evaluating RandomForest (GridSearchCV)...\n",
      "Evaluating GradientBoosting (GridSearchCV)...\n",
      "Evaluating XGBoost (GridSearchCV)...\n",
      "Evaluating LightGBM (GridSearchCV)...\n",
      "Evaluating CatBoost (GridSearchCV)...\n"
     ]
    },
    {
     "name": "stderr",
     "output_type": "stream",
     "text": [
      "/Users/macbook/anaconda3/envs/ameshousing-regression/lib/python3.10/site-packages/sklearn/utils/validation.py:2739: UserWarning: X does not have valid feature names, but LGBMRegressor was fitted with feature names\n",
      "  warnings.warn(\n"
     ]
    },
    {
     "name": "stdout",
     "output_type": "stream",
     "text": [
      "  Tuning Method             Model      MAE     RMSE   R2\n",
      "0  GridSearchCV          CatBoost 13427.96 23161.90 0.93\n",
      "1  GridSearchCV           XGBoost 14515.83 24257.77 0.93\n",
      "2  GridSearchCV  GradientBoosting 14402.58 24556.71 0.92\n",
      "3  GridSearchCV      RandomForest 15587.31 26484.75 0.91\n",
      "4  GridSearchCV          LightGBM 15076.84 27425.40 0.91\n",
      "5  GridSearchCV             Ridge 18881.65 31033.80 0.88\n",
      "6  GridSearchCV             Lasso 18405.47 31056.57 0.88\n",
      "7  GridSearchCV      DecisionTree 22388.87 32980.43 0.86\n",
      "\n",
      "=== Evaluation Results: RandomizedSearchCV ===\n",
      "Evaluating Ridge (RandomizedSearchCV)...\n",
      "Evaluating Lasso (RandomizedSearchCV)...\n",
      "Evaluating DecisionTree (RandomizedSearchCV)...\n",
      "Evaluating RandomForest (RandomizedSearchCV)...\n",
      "Evaluating GradientBoosting (RandomizedSearchCV)...\n",
      "Evaluating XGBoost (RandomizedSearchCV)...\n",
      "Evaluating LightGBM (RandomizedSearchCV)...\n",
      "Evaluating CatBoost (RandomizedSearchCV)...\n"
     ]
    },
    {
     "name": "stderr",
     "output_type": "stream",
     "text": [
      "/Users/macbook/anaconda3/envs/ameshousing-regression/lib/python3.10/site-packages/sklearn/utils/validation.py:2739: UserWarning: X does not have valid feature names, but LGBMRegressor was fitted with feature names\n",
      "  warnings.warn(\n"
     ]
    },
    {
     "name": "stdout",
     "output_type": "stream",
     "text": [
      "        Tuning Method             Model      MAE     RMSE   R2\n",
      "0  RandomizedSearchCV          CatBoost 13684.86 23111.24 0.93\n",
      "1  RandomizedSearchCV           XGBoost 15059.42 24411.67 0.93\n",
      "2  RandomizedSearchCV  GradientBoosting 14470.43 25082.11 0.92\n",
      "3  RandomizedSearchCV      RandomForest 15586.13 26371.09 0.91\n",
      "4  RandomizedSearchCV          LightGBM 14736.39 26564.54 0.91\n",
      "5  RandomizedSearchCV             Ridge 18902.16 30998.78 0.88\n",
      "6  RandomizedSearchCV             Lasso 18405.61 31056.94 0.88\n",
      "7  RandomizedSearchCV      DecisionTree 22969.55 33906.40 0.86\n",
      "\n",
      "=== Evaluation Results: BayesSearchCV ===\n",
      "Evaluating Ridge (BayesSearchCV)...\n",
      "Evaluating Lasso (BayesSearchCV)...\n",
      "Evaluating DecisionTree (BayesSearchCV)...\n",
      "Evaluating RandomForest (BayesSearchCV)...\n",
      "Evaluating GradientBoosting (BayesSearchCV)...\n",
      "Evaluating XGBoost (BayesSearchCV)...\n",
      "Evaluating LightGBM (BayesSearchCV)...\n",
      "Evaluating CatBoost (BayesSearchCV)...\n",
      "   Tuning Method             Model      MAE     RMSE   R2\n",
      "0  BayesSearchCV          CatBoost 13692.51 23294.07 0.93\n",
      "1  BayesSearchCV           XGBoost 14256.74 23414.36 0.93\n",
      "2  BayesSearchCV  GradientBoosting 14198.76 25440.63 0.92\n",
      "3  BayesSearchCV      RandomForest 15638.91 27285.11 0.91\n",
      "4  BayesSearchCV          LightGBM 15036.25 27358.84 0.91\n",
      "5  BayesSearchCV             Ridge 18890.27 31017.60 0.88\n",
      "6  BayesSearchCV             Lasso 18405.49 31056.63 0.88\n",
      "7  BayesSearchCV      DecisionTree 23291.68 34471.46 0.85\n",
      "\n",
      "=== Final Combined Evaluation Results (Sorted by RMSE) ===\n",
      "         Tuning Method             Model      MAE     RMSE   R2\n",
      "0   RandomizedSearchCV          CatBoost 13684.86 23111.24 0.93\n",
      "1         GridSearchCV          CatBoost 13427.96 23161.90 0.93\n",
      "2        BayesSearchCV          CatBoost 13692.51 23294.07 0.93\n",
      "3        BayesSearchCV           XGBoost 14256.74 23414.36 0.93\n",
      "4         GridSearchCV           XGBoost 14515.83 24257.77 0.93\n",
      "5   RandomizedSearchCV           XGBoost 15059.42 24411.67 0.93\n",
      "6         GridSearchCV  GradientBoosting 14402.58 24556.71 0.92\n",
      "7   RandomizedSearchCV  GradientBoosting 14470.43 25082.11 0.92\n",
      "8        BayesSearchCV  GradientBoosting 14198.76 25440.63 0.92\n",
      "9   RandomizedSearchCV      RandomForest 15586.13 26371.09 0.91\n",
      "10        GridSearchCV      RandomForest 15587.31 26484.75 0.91\n",
      "11  RandomizedSearchCV          LightGBM 14736.39 26564.54 0.91\n",
      "12       BayesSearchCV      RandomForest 15638.91 27285.11 0.91\n",
      "13       BayesSearchCV          LightGBM 15036.25 27358.84 0.91\n",
      "14        GridSearchCV          LightGBM 15076.84 27425.40 0.91\n",
      "15  RandomizedSearchCV             Ridge 18902.16 30998.78 0.88\n",
      "16       BayesSearchCV             Ridge 18890.27 31017.60 0.88\n",
      "17        GridSearchCV             Ridge 18881.65 31033.80 0.88\n",
      "18        GridSearchCV             Lasso 18405.47 31056.57 0.88\n",
      "19       BayesSearchCV             Lasso 18405.49 31056.63 0.88\n",
      "20  RandomizedSearchCV             Lasso 18405.61 31056.94 0.88\n",
      "21        GridSearchCV      DecisionTree 22388.87 32980.43 0.86\n",
      "22  RandomizedSearchCV      DecisionTree 22969.55 33906.40 0.86\n",
      "23       BayesSearchCV      DecisionTree 23291.68 34471.46 0.85\n"
     ]
    },
    {
     "name": "stderr",
     "output_type": "stream",
     "text": [
      "/Users/macbook/anaconda3/envs/ameshousing-regression/lib/python3.10/site-packages/sklearn/utils/validation.py:2739: UserWarning: X does not have valid feature names, but LGBMRegressor was fitted with feature names\n",
      "  warnings.warn(\n"
     ]
    }
   ],
   "source": [
    "# Evaluasi model hasil GridSearchCV\n",
    "print(\"\\n=== Evaluation Results: GridSearchCV ===\")\n",
    "results_grid = evaluate_tuned_models(tuned_models_grid, \"GridSearchCV\")\n",
    "print(results_grid.sort_values(by=\"RMSE\").reset_index(drop=True))\n",
    "\n",
    "# Evaluasi model hasil RandomizedSearchCV\n",
    "print(\"\\n=== Evaluation Results: RandomizedSearchCV ===\")\n",
    "results_random = evaluate_tuned_models(tuned_models_random, \"RandomizedSearchCV\")\n",
    "print(results_random.sort_values(by=\"RMSE\").reset_index(drop=True))\n",
    "\n",
    "# Evaluasi model hasil BayesSearchCV\n",
    "print(\"\\n=== Evaluation Results: BayesSearchCV ===\")\n",
    "results_bayes = evaluate_tuned_models(tuned_models_bayes, \"BayesSearchCV\")\n",
    "print(results_bayes.sort_values(by=\"RMSE\").reset_index(drop=True))\n",
    "\n",
    "# Gabungkan semua hasil\n",
    "final_results = pd.concat([results_grid, results_random, results_bayes])\n",
    "final_results_sorted = final_results.sort_values(by=\"RMSE\").reset_index(drop=True)\n",
    "\n",
    "# Print hasil gabungan\n",
    "print(\"\\n=== Final Combined Evaluation Results (Sorted by RMSE) ===\")\n",
    "print(final_results_sorted)\n"
   ]
  },
  {
   "cell_type": "markdown",
   "metadata": {},
   "source": [
    "## 4.4 Residual Analysis (model terbaik)"
   ]
  },
  {
   "cell_type": "code",
   "execution_count": 36,
   "metadata": {},
   "outputs": [
    {
     "data": {
      "image/png": "[encoded data removed]",
      "text/plain": [
       "<Figure size 1000x500 with 1 Axes>"
      ]
     },
     "metadata": {},
     "output_type": "display_data"
    }
   ],
   "source": [
    "# Residual Analysis untuk model terbaik\n",
    "best_model_name = results_df.iloc[0][\"Model\"]  # otomatis ambil model terbaik dari tabel RMSE\n",
    "residuals = y_test - predictions[best_model_name][\"test\"]\n",
    "\n",
    "plt.figure(figsize=(10, 5))\n",
    "sns.histplot(residuals, kde=True, bins=30, color='darkred')\n",
    "plt.title(f\"Distribusi Residual (Error) - {best_model_name}\")\n",
    "plt.xlabel(\"Residual\")\n",
    "plt.ylabel(\"Frekuensi\")\n",
    "plt.show()"
   ]
  },
  {
   "cell_type": "code",
   "execution_count": 37,
   "metadata": {},
   "outputs": [
    {
     "data": {
      "image/png": "[encoded data removed]",
      "text/plain": [
       "<Figure size 1000x500 with 1 Axes>"
      ]
     },
     "metadata": {},
     "output_type": "display_data"
    }
   ],
   "source": [
    "# Residual Analysis untuk model terbaik\n",
    "best_model_name = results_df.iloc[1][\"Model\"]  # otomatis ambil model terbaik kedua dari tabel RMSE\n",
    "residuals = y_test - predictions[best_model_name][\"test\"]\n",
    "\n",
    "plt.figure(figsize=(10, 5))\n",
    "sns.histplot(residuals, kde=True, bins=30, color='darkred')\n",
    "plt.title(f\"Distribusi Residual (Error) - {best_model_name}\")\n",
    "plt.xlabel(\"Residual\")\n",
    "plt.ylabel(\"Frekuensi\")\n",
    "plt.show()"
   ]
  },
  {
   "cell_type": "markdown",
   "metadata": {},
   "source": [
    "## 4.6 Model Saving"
   ]
  },
  {
   "cell_type": "markdown",
   "metadata": {},
   "source": [
    "### Sebelum Tuning"
   ]
  },
  {
   "cell_type": "code",
   "execution_count": 38,
   "metadata": {},
   "outputs": [
    {
     "name": "stdout",
     "output_type": "stream",
     "text": [
      "✅ Model CatBoost telah disimpan.\n"
     ]
    }
   ],
   "source": [
    "best_model_name = results_df.iloc[0][\"Model\"]\n",
    "best_pipeline = pipelines[best_model_name]\n",
    "joblib.dump(best_pipeline, f\"best_model_{best_model_name.lower()}.pkl\")\n",
    "\n",
    "print(f\"✅ Model {best_model_name} telah disimpan.\")\n"
   ]
  },
  {
   "cell_type": "markdown",
   "metadata": {},
   "source": [
    "### Setelah Tuning"
   ]
  },
  {
   "cell_type": "code",
   "execution_count": 50,
   "metadata": {},
   "outputs": [
    {
     "name": "stdout",
     "output_type": "stream",
     "text": [
      "✅ Model terbaik (CatBoost dari RandomizedSearchCV) telah disimpan sebagai best_model_randomizedsearchcv_catboost.pkl.\n"
     ]
    }
   ],
   "source": [
    "# Tambahkan kolom sumber tuning\n",
    "results_grid[\"Tuning\"] = \"GridSearchCV\"\n",
    "results_random[\"Tuning\"] = \"RandomizedSearchCV\"\n",
    "results_bayes[\"Tuning\"] = \"BayesSearchCV\"\n",
    "\n",
    "# Gabungkan semua hasil tuning\n",
    "all_tuning_results = pd.concat([results_grid, results_random, results_bayes], ignore_index=True)\n",
    "\n",
    "# Ambil model terbaik secara keseluruhan\n",
    "best_row = all_tuning_results.sort_values(by=\"RMSE\").iloc[0]\n",
    "best_model_name = best_row[\"Model\"]\n",
    "tuning_source = best_row[\"Tuning\"]\n",
    "\n",
    "# Ambil pipeline-nya dari dict sesuai sumber tuning\n",
    "tuned_dict_map = {\n",
    "    \"GridSearchCV\": tuned_models_grid,\n",
    "    \"RandomizedSearchCV\": tuned_models_random,\n",
    "    \"BayesSearchCV\": tuned_models_bayes\n",
    "}\n",
    "best_pipeline = tuned_dict_map[tuning_source][best_model_name]\n",
    "\n",
    "# Simpan\n",
    "filename = f\"best_model_{tuning_source.lower()}_{best_model_name.lower()}.pkl\"\n",
    "joblib.dump(best_pipeline, filename)\n",
    "print(f\"✅ Model terbaik ({best_model_name} dari {tuning_source}) telah disimpan sebagai {filename}.\")\n"
   ]
  }
 ],
 "metadata": {
  "kernelspec": {
   "display_name": "ameshousing-regression",
   "language": "python",
   "name": "python3"
  },
  "language_info": {
   "codemirror_mode": {
    "name": "ipython",
    "version": 3
   },
   "file_extension": ".py",
   "mimetype": "text/x-python",
   "name": "python",
   "nbconvert_exporter": "python",
   "pygments_lexer": "ipython3",
   "version": "3.10.17"
  }
 },
 "nbformat": 4,
 "nbformat_minor": 2
}
