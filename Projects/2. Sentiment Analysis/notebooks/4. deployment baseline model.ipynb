{
 "cells": [
  {
   "cell_type": "code",
   "execution_count": 1,
   "metadata": {},
   "outputs": [],
   "source": [
    "import pickle\n",
    "import pandas as pd\n",
    "\n",
    "# ---------------------------\n",
    "# Load TF-IDF Vectorizer & Models\n",
    "# ---------------------------\n",
    "with open(\"../models/baseline model/tfidf_vectorizer.pkl\", \"rb\") as f_vec:\n",
    "    vectorizer = pickle.load(f_vec)\n",
    "\n",
    "with open(\"../models/baseline model/naive_bayes_model.pkl\", \"rb\") as f_nb:\n",
    "    model_nb = pickle.load(f_nb)\n",
    "\n",
    "with open(\"../models/baseline model/logistic_regression_model.pkl\", \"rb\") as f_lr:\n",
    "    model_lr = pickle.load(f_lr)\n"
   ]
  },
  {
   "cell_type": "code",
   "execution_count": 2,
   "metadata": {},
   "outputs": [],
   "source": [
    "# ---------------------------\n",
    "# Label mapping (0 = negatif, 1 = netral, 2 = positif)\n",
    "# ---------------------------\n",
    "label_map = {0: \"negatif\", 1: \"netral\", 2: \"positif\"}\n",
    "\n",
    "# ---------------------------\n",
    "# Function for Prediction\n",
    "# ---------------------------\n",
    "def predict_sentiment(texts, model, vectorizer):\n",
    "    if isinstance(texts, str):\n",
    "        texts = [texts]\n",
    "    texts_vec = vectorizer.transform(texts)\n",
    "    preds = model.predict(texts_vec)\n",
    "    return [label_map[p] for p in preds]"
   ]
  },
  {
   "cell_type": "code",
   "execution_count": 3,
   "metadata": {},
   "outputs": [
    {
     "name": "stdout",
     "output_type": "stream",
     "text": [
      "📌 Prediksi oleh Naive Bayes:\n",
      "- \"Saya sangat kecewa dengan janji politik.\" → netral\n",
      "- \"Debat tadi malam cukup menarik dan informatif.\" → negatif\n",
      "- \"Saya kagum dengan pembangunan infrastruktur yang masif.\" → positif\n",
      "\n",
      "📌 Prediksi oleh Logistic Regression:\n",
      "- \"Saya sangat kecewa dengan janji politik.\" → netral\n",
      "- \"Debat tadi malam cukup menarik dan informatif.\" → negatif\n",
      "- \"Saya kagum dengan pembangunan infrastruktur yang masif.\" → positif\n"
     ]
    }
   ],
   "source": [
    "# ---------------------------\n",
    "# Contoh Penggunaan\n",
    "# ---------------------------\n",
    "contoh_tweet = [\n",
    "    \"Saya sangat kecewa dengan janji politik.\",\n",
    "    \"Debat tadi malam cukup menarik dan informatif.\",\n",
    "    \"Saya kagum dengan pembangunan infrastruktur yang masif.\"\n",
    "]\n",
    "\n",
    "print(\"📌 Prediksi oleh Naive Bayes:\")\n",
    "for txt, pred in zip(contoh_tweet, predict_sentiment(contoh_tweet, model_nb, vectorizer)):\n",
    "    print(f\"- \\\"{txt}\\\" → {pred}\")\n",
    "\n",
    "print(\"\\n📌 Prediksi oleh Logistic Regression:\")\n",
    "for txt, pred in zip(contoh_tweet, predict_sentiment(contoh_tweet, model_lr, vectorizer)):\n",
    "    print(f\"- \\\"{txt}\\\" → {pred}\")\n"
   ]
  }
 ],
 "metadata": {
  "kernelspec": {
   "display_name": "sentiment-analysis-nlp",
   "language": "python",
   "name": "python3"
  },
  "language_info": {
   "codemirror_mode": {
    "name": "ipython",
    "version": 3
   },
   "file_extension": ".py",
   "mimetype": "text/x-python",
   "name": "python",
   "nbconvert_exporter": "python",
   "pygments_lexer": "ipython3",
   "version": "3.10.17"
  }
 },
 "nbformat": 4,
 "nbformat_minor": 2
}
