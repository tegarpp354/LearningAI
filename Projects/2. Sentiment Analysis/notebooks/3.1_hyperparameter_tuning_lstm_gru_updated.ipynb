{
 "cells": [
  {
   "cell_type": "markdown",
   "id": "ce80a2fb",
   "metadata": {},
   "source": [
    "\n",
    "# 🧠 Hyperparameter Tuning & Evaluation — LSTM vs GRU\n",
    "\n",
    "📅 Generated on 2025-05-31 14:04:11\n",
    "\n",
    "This notebook performs:\n",
    "- Grid tuning over LSTM & GRU\n",
    "- Saves the best model for each\n",
    "- Displays side-by-side confusion matrix and classification report\n"
   ]
  },
  {
   "cell_type": "code",
   "execution_count": 1,
   "id": "66e2a11e",
   "metadata": {},
   "outputs": [
    {
     "name": "stderr",
     "output_type": "stream",
     "text": [
      "2025-05-31 21:21:57.592569: I tensorflow/core/platform/cpu_feature_guard.cc:210] This TensorFlow binary is optimized to use available CPU instructions in performance-critical operations.\n",
      "To enable the following instructions: AVX2 FMA, in other operations, rebuild TensorFlow with the appropriate compiler flags.\n"
     ]
    }
   ],
   "source": [
    "import numpy as np\n",
    "import pickle\n",
    "from sklearn.metrics import f1_score, confusion_matrix, classification_report\n",
    "import seaborn as sns\n",
    "import matplotlib.pyplot as plt\n",
    "from tensorflow.keras.models import Sequential\n",
    "from tensorflow.keras.layers import Embedding, LSTM, GRU, Dropout, Dense\n",
    "from tensorflow.keras.callbacks import EarlyStopping\n",
    "\n",
    "# Load tokenized data\n",
    "X_train = np.load(\"../models/lstm gru/initial/X_train.npy\")\n",
    "X_test = np.load(\"../models/lstm gru/initial/X_test.npy\")\n",
    "y_train = np.load(\"../models/lstm gru/initial/y_train.npy\")\n",
    "y_test = np.load(\"../models/lstm gru/initial/y_test.npy\")\n",
    "\n",
    "vocab_size = 10000\n",
    "max_len = 50\n",
    "num_classes = 3\n"
   ]
  },
  {
   "cell_type": "code",
   "execution_count": 2,
   "id": "3669bcac",
   "metadata": {},
   "outputs": [],
   "source": [
    "results = []\n",
    "best_score_lstm = 0\n",
    "best_score_gru = 0\n",
    "model_lstm_best = None\n",
    "model_gru_best = None\n",
    "\n",
    "model_types = [\"lstm\", \"gru\"]\n",
    "units_list = [64, 128]\n",
    "dropouts = [0.3, 0.5]\n",
    "embedding_dims = [64, 128]\n",
    "batch_sizes = [32]\n"
   ]
  },
  {
   "cell_type": "code",
   "execution_count": 3,
   "id": "3d401720",
   "metadata": {},
   "outputs": [
    {
     "name": "stdout",
     "output_type": "stream",
     "text": [
      "🔄 LSTM | Units=64 | Dropout=0.3 | Emb=64 | Batch=32\n",
      "\u001b[1m12/12\u001b[0m \u001b[32m━━━━━━━━━━━━━━━━━━━━\u001b[0m\u001b[37m\u001b[0m \u001b[1m0s\u001b[0m 23ms/step\n",
      "🎯 F1 Score: 0.5100\n",
      "🔄 LSTM | Units=64 | Dropout=0.3 | Emb=128 | Batch=32\n",
      "\u001b[1m12/12\u001b[0m \u001b[32m━━━━━━━━━━━━━━━━━━━━\u001b[0m\u001b[37m\u001b[0m \u001b[1m0s\u001b[0m 25ms/step\n",
      "🎯 F1 Score: 0.5336\n",
      "🔄 LSTM | Units=64 | Dropout=0.5 | Emb=64 | Batch=32\n",
      "\u001b[1m12/12\u001b[0m \u001b[32m━━━━━━━━━━━━━━━━━━━━\u001b[0m\u001b[37m\u001b[0m \u001b[1m0s\u001b[0m 24ms/step\n",
      "🎯 F1 Score: 0.5353\n",
      "🔄 LSTM | Units=64 | Dropout=0.5 | Emb=128 | Batch=32\n",
      "\u001b[1m12/12\u001b[0m \u001b[32m━━━━━━━━━━━━━━━━━━━━\u001b[0m\u001b[37m\u001b[0m \u001b[1m0s\u001b[0m 26ms/step\n",
      "🎯 F1 Score: 0.5526\n",
      "🔄 LSTM | Units=128 | Dropout=0.3 | Emb=64 | Batch=32\n",
      "\u001b[1m12/12\u001b[0m \u001b[32m━━━━━━━━━━━━━━━━━━━━\u001b[0m\u001b[37m\u001b[0m \u001b[1m1s\u001b[0m 30ms/step\n",
      "🎯 F1 Score: 0.4777\n",
      "🔄 LSTM | Units=128 | Dropout=0.3 | Emb=128 | Batch=32\n",
      "\u001b[1m12/12\u001b[0m \u001b[32m━━━━━━━━━━━━━━━━━━━━\u001b[0m\u001b[37m\u001b[0m \u001b[1m1s\u001b[0m 33ms/step\n",
      "🎯 F1 Score: 0.5388\n",
      "🔄 LSTM | Units=128 | Dropout=0.5 | Emb=64 | Batch=32\n",
      "\u001b[1m12/12\u001b[0m \u001b[32m━━━━━━━━━━━━━━━━━━━━\u001b[0m\u001b[37m\u001b[0m \u001b[1m1s\u001b[0m 31ms/step\n",
      "🎯 F1 Score: 0.5010\n",
      "🔄 LSTM | Units=128 | Dropout=0.5 | Emb=128 | Batch=32\n",
      "\u001b[1m12/12\u001b[0m \u001b[32m━━━━━━━━━━━━━━━━━━━━\u001b[0m\u001b[37m\u001b[0m \u001b[1m1s\u001b[0m 34ms/step\n",
      "🎯 F1 Score: 0.5544\n",
      "🔄 GRU | Units=64 | Dropout=0.3 | Emb=64 | Batch=32\n",
      "\u001b[1m12/12\u001b[0m \u001b[32m━━━━━━━━━━━━━━━━━━━━\u001b[0m\u001b[37m\u001b[0m \u001b[1m1s\u001b[0m 37ms/step\n",
      "🎯 F1 Score: 0.5456\n",
      "🔄 GRU | Units=64 | Dropout=0.3 | Emb=128 | Batch=32\n",
      "\u001b[1m12/12\u001b[0m \u001b[32m━━━━━━━━━━━━━━━━━━━━\u001b[0m\u001b[37m\u001b[0m \u001b[1m1s\u001b[0m 26ms/step\n",
      "🎯 F1 Score: 0.5476\n",
      "🔄 GRU | Units=64 | Dropout=0.5 | Emb=64 | Batch=32\n",
      "\u001b[1m12/12\u001b[0m \u001b[32m━━━━━━━━━━━━━━━━━━━━\u001b[0m\u001b[37m\u001b[0m \u001b[1m0s\u001b[0m 26ms/step\n",
      "🎯 F1 Score: 0.5357\n",
      "🔄 GRU | Units=64 | Dropout=0.5 | Emb=128 | Batch=32\n",
      "\u001b[1m12/12\u001b[0m \u001b[32m━━━━━━━━━━━━━━━━━━━━\u001b[0m\u001b[37m\u001b[0m \u001b[1m1s\u001b[0m 27ms/step\n",
      "🎯 F1 Score: 0.5332\n",
      "🔄 GRU | Units=128 | Dropout=0.3 | Emb=64 | Batch=32\n",
      "\u001b[1m12/12\u001b[0m \u001b[32m━━━━━━━━━━━━━━━━━━━━\u001b[0m\u001b[37m\u001b[0m \u001b[1m1s\u001b[0m 33ms/step\n",
      "🎯 F1 Score: 0.5245\n",
      "🔄 GRU | Units=128 | Dropout=0.3 | Emb=128 | Batch=32\n",
      "\u001b[1m12/12\u001b[0m \u001b[32m━━━━━━━━━━━━━━━━━━━━\u001b[0m\u001b[37m\u001b[0m \u001b[1m1s\u001b[0m 30ms/step\n",
      "🎯 F1 Score: 0.5685\n",
      "🔄 GRU | Units=128 | Dropout=0.5 | Emb=64 | Batch=32\n",
      "\u001b[1m12/12\u001b[0m \u001b[32m━━━━━━━━━━━━━━━━━━━━\u001b[0m\u001b[37m\u001b[0m \u001b[1m1s\u001b[0m 30ms/step\n",
      "🎯 F1 Score: 0.5549\n",
      "🔄 GRU | Units=128 | Dropout=0.5 | Emb=128 | Batch=32\n",
      "\u001b[1m12/12\u001b[0m \u001b[32m━━━━━━━━━━━━━━━━━━━━\u001b[0m\u001b[37m\u001b[0m \u001b[1m1s\u001b[0m 30ms/step\n",
      "🎯 F1 Score: 0.5356\n"
     ]
    }
   ],
   "source": [
    "for model_type in model_types:\n",
    "    for units in units_list:\n",
    "        for dropout in dropouts:\n",
    "            for emb_dim in embedding_dims:\n",
    "                for batch_size in batch_sizes:\n",
    "                    print(f\"🔄 {model_type.upper()} | Units={units} | Dropout={dropout} | Emb={emb_dim} | Batch={batch_size}\")\n",
    "\n",
    "                    model = Sequential()\n",
    "                    model.add(Embedding(input_dim=vocab_size, output_dim=emb_dim))\n",
    "                    if model_type == \"lstm\":\n",
    "                        model.add(LSTM(units))\n",
    "                    else:\n",
    "                        model.add(GRU(units))\n",
    "                    model.add(Dropout(dropout))\n",
    "                    model.add(Dense(num_classes, activation='softmax'))\n",
    "                    model.compile(loss='sparse_categorical_crossentropy', optimizer='adam', metrics=['accuracy'])\n",
    "\n",
    "                    callbacks = [EarlyStopping(monitor='val_loss', patience=3, restore_best_weights=True)]\n",
    "\n",
    "                    history = model.fit(\n",
    "                        X_train, y_train,\n",
    "                        validation_data=(X_test, y_test),\n",
    "                        epochs=15,\n",
    "                        batch_size=batch_size,\n",
    "                        callbacks=callbacks,\n",
    "                        verbose=0\n",
    "                    )\n",
    "\n",
    "                    y_pred = np.argmax(model.predict(X_test), axis=1)\n",
    "                    f1 = f1_score(y_test, y_pred, average='macro')\n",
    "                    print(f\"🎯 F1 Score: {f1:.4f}\")\n",
    "\n",
    "                    results.append({\n",
    "                        \"model\": model_type,\n",
    "                        \"units\": units,\n",
    "                        \"dropout\": dropout,\n",
    "                        \"embedding\": emb_dim,\n",
    "                        \"batch_size\": batch_size,\n",
    "                        \"f1_macro\": f1\n",
    "                    })\n",
    "\n",
    "                    if model_type == \"lstm\" and f1 > best_score_lstm:\n",
    "                        best_score_lstm = f1\n",
    "                        model_lstm_best = model\n",
    "                    elif model_type == \"gru\" and f1 > best_score_gru:\n",
    "                        best_score_gru = f1\n",
    "                        model_gru_best = model"
   ]
  },
  {
   "cell_type": "code",
   "execution_count": 5,
   "id": "f9aa31d1",
   "metadata": {},
   "outputs": [
    {
     "name": "stdout",
     "output_type": "stream",
     "text": [
      "\u001b[1m12/12\u001b[0m \u001b[32m━━━━━━━━━━━━━━━━━━━━\u001b[0m\u001b[37m\u001b[0m \u001b[1m0s\u001b[0m 18ms/step\n",
      "\u001b[1m12/12\u001b[0m \u001b[32m━━━━━━━━━━━━━━━━━━━━\u001b[0m\u001b[37m\u001b[0m \u001b[1m0s\u001b[0m 12ms/step\n"
     ]
    },
    {
     "name": "stderr",
     "output_type": "stream",
     "text": [
      "/Users/macbook/anaconda3/envs/sentiment-analysis-nlp/lib/python3.10/site-packages/seaborn/utils.py:61: UserWarning: Glyph 128216 (\\N{BLUE BOOK}) missing from font(s) DejaVu Sans.\n",
      "  fig.canvas.draw()\n",
      "/var/folders/kb/msyd5l4n7xj0yh064xpqdg400000gn/T/ipykernel_24915/242725591.py:22: UserWarning: Glyph 128215 (\\N{GREEN BOOK}) missing from font(s) DejaVu Sans.\n",
      "  plt.tight_layout()\n",
      "/Users/macbook/anaconda3/envs/sentiment-analysis-nlp/lib/python3.10/site-packages/IPython/core/pylabtools.py:170: UserWarning: Glyph 128216 (\\N{BLUE BOOK}) missing from font(s) DejaVu Sans.\n",
      "  fig.canvas.print_figure(bytes_io, **kw)\n",
      "/Users/macbook/anaconda3/envs/sentiment-analysis-nlp/lib/python3.10/site-packages/IPython/core/pylabtools.py:170: UserWarning: Glyph 128215 (\\N{GREEN BOOK}) missing from font(s) DejaVu Sans.\n",
      "  fig.canvas.print_figure(bytes_io, **kw)\n"
     ]
    },
    {
     "data": {
      "image/png": "[encoded data removed]",
      "text/plain": [
       "<Figure size 1200x500 with 4 Axes>"
      ]
     },
     "metadata": {},
     "output_type": "display_data"
    },
    {
     "name": "stdout",
     "output_type": "stream",
     "text": [
      "📋 Classification Report - LSTM\n",
      "              precision    recall  f1-score   support\n",
      "\n",
      "     negatif       0.60      0.65      0.62       119\n",
      "      netral       0.56      0.64      0.60       121\n",
      "     positif       0.51      0.40      0.45       123\n",
      "\n",
      "    accuracy                           0.56       363\n",
      "   macro avg       0.55      0.56      0.55       363\n",
      "weighted avg       0.55      0.56      0.55       363\n",
      "\n",
      "📋 Classification Report - GRU\n",
      "              precision    recall  f1-score   support\n",
      "\n",
      "     negatif       0.60      0.58      0.59       119\n",
      "      netral       0.58      0.66      0.62       121\n",
      "     positif       0.53      0.47      0.50       123\n",
      "\n",
      "    accuracy                           0.57       363\n",
      "   macro avg       0.57      0.57      0.57       363\n",
      "weighted avg       0.57      0.57      0.57       363\n",
      "\n"
     ]
    }
   ],
   "source": [
    "# Evaluate models\n",
    "y_pred_lstm = np.argmax(model_lstm_best.predict(X_test), axis=1)\n",
    "y_pred_gru = np.argmax(model_gru_best.predict(X_test), axis=1)\n",
    "\n",
    "cm_lstm = confusion_matrix(y_test, y_pred_lstm)\n",
    "cm_gru = confusion_matrix(y_test, y_pred_gru)\n",
    "labels = ['negatif', 'netral', 'positif']\n",
    "\n",
    "plt.figure(figsize=(12, 5))\n",
    "plt.subplot(1, 2, 1)\n",
    "sns.heatmap(cm_lstm, annot=True, fmt='d', cmap='Blues', xticklabels=labels, yticklabels=labels)\n",
    "plt.title(\"📘 Confusion Matrix - Best LSTM\")\n",
    "plt.xlabel(\"Predicted\")\n",
    "plt.ylabel(\"Actual\")\n",
    "\n",
    "plt.subplot(1, 2, 2)\n",
    "sns.heatmap(cm_gru, annot=True, fmt='d', cmap='Greens', xticklabels=labels, yticklabels=labels)\n",
    "plt.title(\"📗 Confusion Matrix - Best GRU\")\n",
    "plt.xlabel(\"Predicted\")\n",
    "plt.ylabel(\"Actual\")\n",
    "\n",
    "plt.tight_layout()\n",
    "plt.show()\n",
    "\n",
    "print(\"📋 Classification Report - LSTM\")\n",
    "print(classification_report(y_test, y_pred_lstm, target_names=labels))\n",
    "\n",
    "print(\"📋 Classification Report - GRU\")\n",
    "print(classification_report(y_test, y_pred_gru, target_names=labels))\n"
   ]
  },
  {
   "cell_type": "code",
   "execution_count": 6,
   "id": "e16668d1",
   "metadata": {},
   "outputs": [
    {
     "name": "stderr",
     "output_type": "stream",
     "text": [
      "WARNING:absl:You are saving your model as an HDF5 file via `model.save()` or `keras.saving.save_model(model)`. This file format is considered legacy. We recommend using instead the native Keras format, e.g. `model.save('my_model.keras')` or `keras.saving.save_model(model, 'my_model.keras')`. \n",
      "WARNING:absl:You are saving your model as an HDF5 file via `model.save()` or `keras.saving.save_model(model)`. This file format is considered legacy. We recommend using instead the native Keras format, e.g. `model.save('my_model.keras')` or `keras.saving.save_model(model, 'my_model.keras')`. \n"
     ]
    },
    {
     "name": "stdout",
     "output_type": "stream",
     "text": [
      "✅ Best models saved.\n"
     ]
    }
   ],
   "source": [
    "model_lstm_best.save(\"../models/lstm gru/hyperparameter tuning/best_model_lstm.h5\")\n",
    "model_gru_best.save(\"../models/lstm gru/hyperparameter tuning/best_model_gru.h5\")\n",
    "print(\"✅ Best models saved.\")\n"
   ]
  },
  {
   "cell_type": "code",
   "execution_count": 7,
   "id": "07152883",
   "metadata": {},
   "outputs": [
    {
     "name": "stderr",
     "output_type": "stream",
     "text": [
      "WARNING:absl:Compiled the loaded model, but the compiled metrics have yet to be built. `model.compile_metrics` will be empty until you train or evaluate the model.\n",
      "WARNING:absl:Compiled the loaded model, but the compiled metrics have yet to be built. `model.compile_metrics` will be empty until you train or evaluate the model.\n"
     ]
    }
   ],
   "source": [
    "import tensorflow as tf\n",
    "import pickle\n",
    "\n",
    "# Load model dari .h5\n",
    "model_lstm = tf.keras.models.load_model(\"../models/lstm gru/hyperparameter tuning/best_model_lstm.h5\")\n",
    "model_gru = tf.keras.models.load_model(\"../models/lstm gru/hyperparameter tuning/best_model_gru.h5\")\n",
    "\n",
    "# Simpan sebagai .pkl\n",
    "with open(\"../models/lstm gru/hyperparameter tuning/best_model_lstm.pkl\", \"wb\") as f:\n",
    "    pickle.dump(model_lstm, f)\n",
    "\n",
    "with open(\"../models/lstm gru/hyperparameter tuning/best_model_gru.pkl\", \"wb\") as f:\n",
    "    pickle.dump(model_gru, f)"
   ]
  }
 ],
 "metadata": {
  "kernelspec": {
   "display_name": "sentiment-analysis-nlp",
   "language": "python",
   "name": "python3"
  },
  "language_info": {
   "codemirror_mode": {
    "name": "ipython",
    "version": 3
   },
   "file_extension": ".py",
   "mimetype": "text/x-python",
   "name": "python",
   "nbconvert_exporter": "python",
   "pygments_lexer": "ipython3",
   "version": "3.10.17"
  }
 },
 "nbformat": 4,
 "nbformat_minor": 5
}
