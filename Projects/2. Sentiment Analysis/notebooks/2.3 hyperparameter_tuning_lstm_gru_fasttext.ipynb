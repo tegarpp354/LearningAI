{
 "cells": [
  {
   "cell_type": "markdown",
   "id": "0af5009a",
   "metadata": {},
   "source": [
    "\n",
    "# 📦 Sentiment Classification with LSTM & GRU + FastText (Bahasa Indonesia)\n",
    "\n",
    "📅 Generated with Drax\n",
    "\n",
    "### 🔍 Tujuan\n",
    "- Menggunakan FastText (cc.id.300.vec) pretrained untuk Bahasa Indonesia\n",
    "- Melatih dan mengevaluasi LSTM dan GRU berbasis representasi kata pretrained\n",
    "- Membandingkan performanya\n"
   ]
  },
  {
   "cell_type": "code",
   "execution_count": 1,
   "id": "fc8e7cf8",
   "metadata": {},
   "outputs": [
    {
     "name": "stderr",
     "output_type": "stream",
     "text": [
      "2025-05-31 21:46:39.332320: I tensorflow/core/platform/cpu_feature_guard.cc:210] This TensorFlow binary is optimized to use available CPU instructions in performance-critical operations.\n",
      "To enable the following instructions: AVX2 FMA, in other operations, rebuild TensorFlow with the appropriate compiler flags.\n"
     ]
    }
   ],
   "source": [
    "\n",
    "import numpy as np\n",
    "import pickle\n",
    "from gensim.models import KeyedVectors\n",
    "from sklearn.metrics import classification_report, confusion_matrix\n",
    "from tensorflow.keras.models import Sequential\n",
    "from tensorflow.keras.layers import Embedding, LSTM, GRU, Dropout, Dense\n",
    "from tensorflow.keras.callbacks import EarlyStopping\n",
    "import matplotlib.pyplot as plt\n",
    "import seaborn as sns\n"
   ]
  },
  {
   "cell_type": "code",
   "execution_count": 2,
   "id": "9b5ff92f",
   "metadata": {},
   "outputs": [],
   "source": [
    "# Load preprocessed data & tokenizer\n",
    "X_train = np.load(\"../models/lstm gru/initial/X_train.npy\")\n",
    "X_test = np.load(\"../models/lstm gru/initial/X_test.npy\")\n",
    "y_train = np.load(\"../models/lstm gru/initial/y_train.npy\")\n",
    "y_test = np.load(\"../models/lstm gru/initial/y_test.npy\")\n",
    "\n",
    "with open(\"../models/lstm gru/initial/tokenizer_lstm.pkl\", \"rb\") as f_tok:\n",
    "    tokenizer = pickle.load(f_tok)\n",
    "\n",
    "with open(\"../models/lstm gru/initial/label_encoder_lstm.pkl\", \"rb\") as f_lbl:\n",
    "    label_encoder = pickle.load(f_lbl)\n",
    "\n",
    "word_index = tokenizer.word_index"
   ]
  },
  {
   "cell_type": "code",
   "execution_count": 3,
   "id": "06ea0c2a",
   "metadata": {},
   "outputs": [
    {
     "name": "stdout",
     "output_type": "stream",
     "text": [
      "⏳ Loading FastText vector...\n"
     ]
    }
   ],
   "source": [
    "print(\"⏳ Loading FastText vector...\")\n",
    "fasttext = KeyedVectors.load_word2vec_format(\"../pretrained/cc.id.300.vec\")\n",
    "\n",
    "embedding_dim = 300\n",
    "embedding_matrix = np.zeros((len(word_index) + 1, embedding_dim))\n",
    "\n",
    "for word, i in word_index.items():\n",
    "    if word in fasttext:\n",
    "        embedding_matrix[i] = fasttext[word]\n"
   ]
  },
  {
   "cell_type": "code",
   "execution_count": 5,
   "id": "5c983ed0",
   "metadata": {},
   "outputs": [],
   "source": [
    "def build_model(model_type=\"lstm\", units=64, dropout=0.5):\n",
    "    model = Sequential()\n",
    "    model.add(Embedding(\n",
    "        input_dim=len(word_index) + 1,\n",
    "        output_dim=embedding_dim,\n",
    "        weights=[embedding_matrix],\n",
    "        trainable=False\n",
    "    ))\n",
    "    if model_type == \"lstm\":\n",
    "        model.add(LSTM(units))\n",
    "    else:\n",
    "        model.add(GRU(units))\n",
    "    model.add(Dropout(dropout))\n",
    "    model.add(Dense(3, activation='softmax'))\n",
    "    model.compile(loss='sparse_categorical_crossentropy', optimizer='adam', metrics=['accuracy'])\n",
    "    return model"
   ]
  },
  {
   "cell_type": "code",
   "execution_count": 6,
   "id": "f41bc86b",
   "metadata": {},
   "outputs": [],
   "source": [
    "early_stop = EarlyStopping(monitor='val_loss', patience=3, restore_best_weights=True)"
   ]
  },
  {
   "cell_type": "code",
   "execution_count": 7,
   "id": "0d5599a7",
   "metadata": {},
   "outputs": [
    {
     "name": "stdout",
     "output_type": "stream",
     "text": [
      "Epoch 1/15\n",
      "\u001b[1m46/46\u001b[0m \u001b[32m━━━━━━━━━━━━━━━━━━━━\u001b[0m\u001b[37m\u001b[0m \u001b[1m4s\u001b[0m 38ms/step - accuracy: 0.4188 - loss: 1.0628 - val_accuracy: 0.5482 - val_loss: 0.9546\n",
      "Epoch 2/15\n",
      "\u001b[1m46/46\u001b[0m \u001b[32m━━━━━━━━━━━━━━━━━━━━\u001b[0m\u001b[37m\u001b[0m \u001b[1m2s\u001b[0m 32ms/step - accuracy: 0.5346 - loss: 0.9724 - val_accuracy: 0.5813 - val_loss: 0.8978\n",
      "Epoch 3/15\n",
      "\u001b[1m46/46\u001b[0m \u001b[32m━━━━━━━━━━━━━━━━━━━━\u001b[0m\u001b[37m\u001b[0m \u001b[1m2s\u001b[0m 34ms/step - accuracy: 0.5732 - loss: 0.9059 - val_accuracy: 0.5675 - val_loss: 0.9252\n",
      "Epoch 4/15\n",
      "\u001b[1m46/46\u001b[0m \u001b[32m━━━━━━━━━━━━━━━━━━━━\u001b[0m\u001b[37m\u001b[0m \u001b[1m2s\u001b[0m 34ms/step - accuracy: 0.6218 - loss: 0.8885 - val_accuracy: 0.5978 - val_loss: 0.8694\n",
      "Epoch 5/15\n",
      "\u001b[1m46/46\u001b[0m \u001b[32m━━━━━━━━━━━━━━━━━━━━\u001b[0m\u001b[37m\u001b[0m \u001b[1m2s\u001b[0m 37ms/step - accuracy: 0.6100 - loss: 0.8395 - val_accuracy: 0.5978 - val_loss: 0.8782\n",
      "Epoch 6/15\n",
      "\u001b[1m46/46\u001b[0m \u001b[32m━━━━━━━━━━━━━━━━━━━━\u001b[0m\u001b[37m\u001b[0m \u001b[1m2s\u001b[0m 38ms/step - accuracy: 0.6550 - loss: 0.8131 - val_accuracy: 0.5978 - val_loss: 0.8616\n",
      "Epoch 7/15\n",
      "\u001b[1m46/46\u001b[0m \u001b[32m━━━━━━━━━━━━━━━━━━━━\u001b[0m\u001b[37m\u001b[0m \u001b[1m2s\u001b[0m 37ms/step - accuracy: 0.6731 - loss: 0.7895 - val_accuracy: 0.6198 - val_loss: 0.8572\n",
      "Epoch 8/15\n",
      "\u001b[1m46/46\u001b[0m \u001b[32m━━━━━━━━━━━━━━━━━━━━\u001b[0m\u001b[37m\u001b[0m \u001b[1m2s\u001b[0m 37ms/step - accuracy: 0.6716 - loss: 0.7756 - val_accuracy: 0.5950 - val_loss: 0.8529\n",
      "Epoch 9/15\n",
      "\u001b[1m46/46\u001b[0m \u001b[32m━━━━━━━━━━━━━━━━━━━━\u001b[0m\u001b[37m\u001b[0m \u001b[1m2s\u001b[0m 37ms/step - accuracy: 0.6785 - loss: 0.7561 - val_accuracy: 0.6198 - val_loss: 0.8451\n",
      "Epoch 10/15\n",
      "\u001b[1m46/46\u001b[0m \u001b[32m━━━━━━━━━━━━━━━━━━━━\u001b[0m\u001b[37m\u001b[0m \u001b[1m2s\u001b[0m 42ms/step - accuracy: 0.6903 - loss: 0.7390 - val_accuracy: 0.6171 - val_loss: 0.8677\n",
      "Epoch 11/15\n",
      "\u001b[1m46/46\u001b[0m \u001b[32m━━━━━━━━━━━━━━━━━━━━\u001b[0m\u001b[37m\u001b[0m \u001b[1m2s\u001b[0m 37ms/step - accuracy: 0.6823 - loss: 0.7338 - val_accuracy: 0.6281 - val_loss: 0.8400\n",
      "Epoch 12/15\n",
      "\u001b[1m46/46\u001b[0m \u001b[32m━━━━━━━━━━━━━━━━━━━━\u001b[0m\u001b[37m\u001b[0m \u001b[1m2s\u001b[0m 39ms/step - accuracy: 0.7014 - loss: 0.7085 - val_accuracy: 0.6088 - val_loss: 0.8610\n",
      "Epoch 13/15\n",
      "\u001b[1m46/46\u001b[0m \u001b[32m━━━━━━━━━━━━━━━━━━━━\u001b[0m\u001b[37m\u001b[0m \u001b[1m2s\u001b[0m 49ms/step - accuracy: 0.7044 - loss: 0.7126 - val_accuracy: 0.6171 - val_loss: 0.8773\n",
      "Epoch 14/15\n",
      "\u001b[1m46/46\u001b[0m \u001b[32m━━━━━━━━━━━━━━━━━━━━\u001b[0m\u001b[37m\u001b[0m \u001b[1m2s\u001b[0m 47ms/step - accuracy: 0.7391 - loss: 0.6401 - val_accuracy: 0.6088 - val_loss: 0.8470\n"
     ]
    }
   ],
   "source": [
    "# Train LSTM\n",
    "model_lstm = build_model(\"lstm\", 64, 0.5)\n",
    "history_lstm = model_lstm.fit(X_train, y_train, validation_data=(X_test, y_test),\n",
    "                              epochs=15, batch_size=32, callbacks=[early_stop], verbose=1)"
   ]
  },
  {
   "cell_type": "code",
   "execution_count": 8,
   "id": "63be3821",
   "metadata": {},
   "outputs": [
    {
     "name": "stdout",
     "output_type": "stream",
     "text": [
      "Epoch 1/15\n",
      "\u001b[1m46/46\u001b[0m \u001b[32m━━━━━━━━━━━━━━━━━━━━\u001b[0m\u001b[37m\u001b[0m \u001b[1m4s\u001b[0m 42ms/step - accuracy: 0.4289 - loss: 1.0775 - val_accuracy: 0.5014 - val_loss: 1.0163\n",
      "Epoch 2/15\n",
      "\u001b[1m46/46\u001b[0m \u001b[32m━━━━━━━━━━━━━━━━━━━━\u001b[0m\u001b[37m\u001b[0m \u001b[1m2s\u001b[0m 34ms/step - accuracy: 0.4974 - loss: 1.0211 - val_accuracy: 0.4986 - val_loss: 0.9583\n",
      "Epoch 3/15\n",
      "\u001b[1m46/46\u001b[0m \u001b[32m━━━━━━━━━━━━━━━━━━━━\u001b[0m\u001b[37m\u001b[0m \u001b[1m2s\u001b[0m 40ms/step - accuracy: 0.5730 - loss: 0.9378 - val_accuracy: 0.5592 - val_loss: 0.9470\n",
      "Epoch 4/15\n",
      "\u001b[1m46/46\u001b[0m \u001b[32m━━━━━━━━━━━━━━━━━━━━\u001b[0m\u001b[37m\u001b[0m \u001b[1m2s\u001b[0m 36ms/step - accuracy: 0.5961 - loss: 0.9089 - val_accuracy: 0.5620 - val_loss: 0.9307\n",
      "Epoch 5/15\n",
      "\u001b[1m46/46\u001b[0m \u001b[32m━━━━━━━━━━━━━━━━━━━━\u001b[0m\u001b[37m\u001b[0m \u001b[1m2s\u001b[0m 35ms/step - accuracy: 0.6086 - loss: 0.8727 - val_accuracy: 0.5785 - val_loss: 0.9047\n",
      "Epoch 6/15\n",
      "\u001b[1m46/46\u001b[0m \u001b[32m━━━━━━━━━━━━━━━━━━━━\u001b[0m\u001b[37m\u001b[0m \u001b[1m2s\u001b[0m 36ms/step - accuracy: 0.6293 - loss: 0.8081 - val_accuracy: 0.5840 - val_loss: 0.8997\n",
      "Epoch 7/15\n",
      "\u001b[1m46/46\u001b[0m \u001b[32m━━━━━━━━━━━━━━━━━━━━\u001b[0m\u001b[37m\u001b[0m \u001b[1m2s\u001b[0m 50ms/step - accuracy: 0.6534 - loss: 0.7937 - val_accuracy: 0.5923 - val_loss: 0.8944\n",
      "Epoch 8/15\n",
      "\u001b[1m46/46\u001b[0m \u001b[32m━━━━━━━━━━━━━━━━━━━━\u001b[0m\u001b[37m\u001b[0m \u001b[1m2s\u001b[0m 43ms/step - accuracy: 0.6444 - loss: 0.7700 - val_accuracy: 0.6006 - val_loss: 0.8942\n",
      "Epoch 9/15\n",
      "\u001b[1m46/46\u001b[0m \u001b[32m━━━━━━━━━━━━━━━━━━━━\u001b[0m\u001b[37m\u001b[0m \u001b[1m2s\u001b[0m 35ms/step - accuracy: 0.6518 - loss: 0.7875 - val_accuracy: 0.5427 - val_loss: 0.9659\n",
      "Epoch 10/15\n",
      "\u001b[1m46/46\u001b[0m \u001b[32m━━━━━━━━━━━━━━━━━━━━\u001b[0m\u001b[37m\u001b[0m \u001b[1m2s\u001b[0m 36ms/step - accuracy: 0.6774 - loss: 0.7503 - val_accuracy: 0.6033 - val_loss: 0.8783\n",
      "Epoch 11/15\n",
      "\u001b[1m46/46\u001b[0m \u001b[32m━━━━━━━━━━━━━━━━━━━━\u001b[0m\u001b[37m\u001b[0m \u001b[1m2s\u001b[0m 35ms/step - accuracy: 0.6820 - loss: 0.7195 - val_accuracy: 0.5978 - val_loss: 0.8862\n",
      "Epoch 12/15\n",
      "\u001b[1m46/46\u001b[0m \u001b[32m━━━━━━━━━━━━━━━━━━━━\u001b[0m\u001b[37m\u001b[0m \u001b[1m2s\u001b[0m 48ms/step - accuracy: 0.6970 - loss: 0.6747 - val_accuracy: 0.5868 - val_loss: 0.8988\n",
      "Epoch 13/15\n",
      "\u001b[1m46/46\u001b[0m \u001b[32m━━━━━━━━━━━━━━━━━━━━\u001b[0m\u001b[37m\u001b[0m \u001b[1m2s\u001b[0m 36ms/step - accuracy: 0.7033 - loss: 0.6829 - val_accuracy: 0.6006 - val_loss: 0.9068\n"
     ]
    }
   ],
   "source": [
    "# Train GRU\n",
    "model_gru = build_model(\"gru\", 64, 0.5)\n",
    "history_gru = model_gru.fit(X_train, y_train, validation_data=(X_test, y_test),\n",
    "                            epochs=15, batch_size=32, callbacks=[early_stop], verbose=1)"
   ]
  },
  {
   "cell_type": "code",
   "execution_count": 9,
   "id": "31a0c02d",
   "metadata": {},
   "outputs": [
    {
     "name": "stdout",
     "output_type": "stream",
     "text": [
      "\u001b[1m12/12\u001b[0m \u001b[32m━━━━━━━━━━━━━━━━━━━━\u001b[0m\u001b[37m\u001b[0m \u001b[1m1s\u001b[0m 30ms/step\n",
      "\u001b[1m12/12\u001b[0m \u001b[32m━━━━━━━━━━━━━━━━━━━━\u001b[0m\u001b[37m\u001b[0m \u001b[1m1s\u001b[0m 33ms/step\n"
     ]
    },
    {
     "data": {
      "image/png": "[encoded data removed]",
      "text/plain": [
       "<Figure size 1200x500 with 4 Axes>"
      ]
     },
     "metadata": {},
     "output_type": "display_data"
    },
    {
     "name": "stdout",
     "output_type": "stream",
     "text": [
      "📋 Classification Report - LSTM\n",
      "              precision    recall  f1-score   support\n",
      "\n",
      "     negatif       0.60      0.71      0.65       119\n",
      "      netral       0.66      0.73      0.69       121\n",
      "     positif       0.62      0.45      0.52       123\n",
      "\n",
      "    accuracy                           0.63       363\n",
      "   macro avg       0.63      0.63      0.62       363\n",
      "weighted avg       0.63      0.63      0.62       363\n",
      "\n",
      "📋 Classification Report - GRU\n",
      "              precision    recall  f1-score   support\n",
      "\n",
      "     negatif       0.59      0.76      0.66       119\n",
      "      netral       0.70      0.56      0.62       121\n",
      "     positif       0.54      0.50      0.51       123\n",
      "\n",
      "    accuracy                           0.60       363\n",
      "   macro avg       0.61      0.60      0.60       363\n",
      "weighted avg       0.61      0.60      0.60       363\n",
      "\n"
     ]
    }
   ],
   "source": [
    "\n",
    "# Evaluate models\n",
    "y_pred_lstm = np.argmax(model_lstm.predict(X_test), axis=1)\n",
    "y_pred_gru = np.argmax(model_gru.predict(X_test), axis=1)\n",
    "labels = ['negatif', 'netral', 'positif']\n",
    "\n",
    "# Confusion Matrix\n",
    "cm_lstm = confusion_matrix(y_test, y_pred_lstm)\n",
    "cm_gru = confusion_matrix(y_test, y_pred_gru)\n",
    "\n",
    "plt.figure(figsize=(12, 5))\n",
    "plt.subplot(1, 2, 1)\n",
    "sns.heatmap(cm_lstm, annot=True, fmt='d', cmap='Blues', xticklabels=labels, yticklabels=labels)\n",
    "plt.title(\"Confusion Matrix - LSTM + FastText\")\n",
    "plt.xlabel(\"Predicted\")\n",
    "plt.ylabel(\"Actual\")\n",
    "\n",
    "plt.subplot(1, 2, 2)\n",
    "sns.heatmap(cm_gru, annot=True, fmt='d', cmap='Greens', xticklabels=labels, yticklabels=labels)\n",
    "plt.title(\"Confusion Matrix - GRU + FastText\")\n",
    "plt.xlabel(\"Predicted\")\n",
    "plt.ylabel(\"Actual\")\n",
    "plt.tight_layout()\n",
    "plt.show()\n",
    "\n",
    "print(\"📋 Classification Report - LSTM\")\n",
    "print(classification_report(y_test, y_pred_lstm, target_names=labels))\n",
    "\n",
    "print(\"📋 Classification Report - GRU\")\n",
    "print(classification_report(y_test, y_pred_gru, target_names=labels))\n"
   ]
  },
  {
   "cell_type": "code",
   "execution_count": 10,
   "id": "a211931b",
   "metadata": {},
   "outputs": [
    {
     "name": "stderr",
     "output_type": "stream",
     "text": [
      "WARNING:absl:You are saving your model as an HDF5 file via `model.save()` or `keras.saving.save_model(model)`. This file format is considered legacy. We recommend using instead the native Keras format, e.g. `model.save('my_model.keras')` or `keras.saving.save_model(model, 'my_model.keras')`. \n",
      "WARNING:absl:You are saving your model as an HDF5 file via `model.save()` or `keras.saving.save_model(model)`. This file format is considered legacy. We recommend using instead the native Keras format, e.g. `model.save('my_model.keras')` or `keras.saving.save_model(model, 'my_model.keras')`. \n"
     ]
    }
   ],
   "source": [
    "import pickle\n",
    "\n",
    "# Setelah training selesai:\n",
    "model_lstm.save(\"../models/lstm gru/hyperparameter tuning fasttext/lstm_fasttext_model.h5\")\n",
    "model_gru.save(\"../models/lstm gru/hyperparameter tuning fasttext/gru_fasttext_model.h5\")\n",
    "\n",
    "# Simpan tokenizer dan label encoder\n",
    "with open(\"../models/lstm gru/hyperparameter tuning fasttext/tokenizer_fasttext.pkl\", \"wb\") as f_tok:\n",
    "    pickle.dump(tokenizer, f_tok)\n",
    "\n",
    "with open(\"../models/lstm gru/hyperparameter tuning fasttext/label_encoder_fasttext.pkl\", \"wb\") as f_lbl:\n",
    "    pickle.dump(label_encoder, f_lbl)\n"
   ]
  },
  {
   "cell_type": "code",
   "execution_count": null,
   "id": "8c17feb6",
   "metadata": {},
   "outputs": [],
   "source": []
  }
 ],
 "metadata": {
  "kernelspec": {
   "display_name": "sentiment-analysis-nlp",
   "language": "python",
   "name": "python3"
  },
  "language_info": {
   "codemirror_mode": {
    "name": "ipython",
    "version": 3
   },
   "file_extension": ".py",
   "mimetype": "text/x-python",
   "name": "python",
   "nbconvert_exporter": "python",
   "pygments_lexer": "ipython3",
   "version": "3.10.17"
  }
 },
 "nbformat": 4,
 "nbformat_minor": 5
}
